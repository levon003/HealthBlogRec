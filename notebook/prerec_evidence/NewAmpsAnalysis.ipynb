{
 "cells": [
  {
   "cell_type": "markdown",
   "metadata": {},
   "source": [
    "New Amps Analysis\n",
    "===\n",
    "\n"
   ]
  },
  {
   "cell_type": "code",
   "execution_count": null,
   "metadata": {},
   "outputs": [],
   "source": [
    "%reload_ext autoreload\n",
    "%autoreload 2\n",
    "%matplotlib inline"
   ]
  },
  {
   "cell_type": "code",
   "execution_count": null,
   "metadata": {},
   "outputs": [],
   "source": [
    "import os\n",
    "import re\n",
    "import pandas as pd\n",
    "import numpy as np\n",
    "\n",
    "from collections import Counter, defaultdict\n",
    "import sqlite3\n",
    "from nltk import word_tokenize\n",
    "from tqdm import tqdm\n",
    "import random\n",
    "import pickle\n",
    "import json\n",
    "\n",
    "from datetime import datetime\n",
    "from dateutil.relativedelta import relativedelta\n",
    "import pytz\n",
    "from pprint import pprint\n",
    "\n",
    "import matplotlib.pyplot as plt\n",
    "import matplotlib.dates as md\n",
    "import matplotlib\n",
    "matplotlib.rcParams['figure.dpi'] = 120\n",
    "matplotlib.rcParams['font.family'] = \"serif\"\n",
    "\n",
    "import pylab as pl\n",
    "from IPython.core.display import display, HTML"
   ]
  },
  {
   "cell_type": "code",
   "execution_count": null,
   "metadata": {},
   "outputs": [],
   "source": [
    "from pathlib import Path\n",
    "git_root_dir = !git rev-parse --show-toplevel\n",
    "git_root_dir = Path(git_root_dir[0].strip())\n",
    "git_root_dir"
   ]
  },
  {
   "cell_type": "code",
   "execution_count": null,
   "metadata": {},
   "outputs": [],
   "source": [
    "import sys\n",
    "caringbridge_core_path = \"/home/lana/levon003/repos/caringbridge_core\"\n",
    "sys.path.append(caringbridge_core_path)"
   ]
  },
  {
   "cell_type": "code",
   "execution_count": null,
   "metadata": {},
   "outputs": [],
   "source": [
    "import cbcore.data.paths as paths\n",
    "import cbcore.data.dates as dates\n",
    "import cbcore.data.utils as utils"
   ]
  },
  {
   "cell_type": "code",
   "execution_count": null,
   "metadata": {},
   "outputs": [],
   "source": [
    "raw_data_dir = paths.raw_data_filepath\n",
    "raw_data_dir"
   ]
  },
  {
   "cell_type": "code",
   "execution_count": null,
   "metadata": {},
   "outputs": [],
   "source": [
    "interactions_dir = os.path.join(paths.derived_data_filepath, 'interactions')\n",
    "interactions_dir"
   ]
  },
  {
   "cell_type": "code",
   "execution_count": null,
   "metadata": {},
   "outputs": [],
   "source": [
    "working_dir = \"/home/lana/shared/caringbridge/data/projects/recsys-peer-match/prerec_evidence\"\n",
    "assert os.path.exists(working_dir)\n",
    "working_dir"
   ]
  },
  {
   "cell_type": "code",
   "execution_count": null,
   "metadata": {},
   "outputs": [],
   "source": []
  },
  {
   "cell_type": "code",
   "execution_count": null,
   "metadata": {},
   "outputs": [],
   "source": [
    "# load the site data\n",
    "s = datetime.now()\n",
    "site_metadata_dir = \"/home/lana/shared/caringbridge/data/derived/site_metadata\"\n",
    "site_metadata_filepath = os.path.join(site_metadata_dir, \"site_metadata.feather\")\n",
    "site_df = pd.read_feather(site_metadata_filepath)\n",
    "print(f\"Read {len(site_df)} site_df rows in {datetime.now() - s}.\")\n",
    "site_df.head()"
   ]
  },
  {
   "cell_type": "code",
   "execution_count": null,
   "metadata": {},
   "outputs": [],
   "source": [
    "site_df = site_df[~site_df.isDeactivated]\n",
    "len(site_df)"
   ]
  },
  {
   "cell_type": "code",
   "execution_count": null,
   "metadata": {},
   "outputs": [],
   "source": [
    "valid_site_ids = set(site_df.site_id)\n",
    "len(valid_site_ids)"
   ]
  },
  {
   "cell_type": "code",
   "execution_count": null,
   "metadata": {},
   "outputs": [],
   "source": [
    "start_date = datetime.strptime('2020-11-01', '%Y-%m-%d').replace(tzinfo=pytz.UTC)\n",
    "start_timestamp = int(start_date.timestamp() * 1000)\n",
    "analysis_start_date = start_date\n",
    "analysis_start_date.isoformat()"
   ]
  },
  {
   "cell_type": "code",
   "execution_count": null,
   "metadata": {},
   "outputs": [],
   "source": [
    "\n",
    "old_amps = []\n",
    "\n",
    "input_filepath = os.path.join(interactions_dir, 'amps.csv')\n",
    "with open(input_filepath, 'r') as infile:\n",
    "    for line in tqdm(infile, desc='Amps', total=89954413):\n",
    "        # columns: user_id, site_id, interaction_type, interaction_oid, parent_type, parent_id, ancestor_type, ancestor_id, created_at, updated_at\n",
    "        tokens = line.strip().split(\",\")\n",
    "        created_at = int(tokens[8])\n",
    "        if created_at >= start_timestamp:\n",
    "            site_id = int(tokens[1])\n",
    "            if site_id in valid_site_ids:\n",
    "                old_amps.append(tokens)\n",
    "len(old_amps)"
   ]
  },
  {
   "cell_type": "code",
   "execution_count": null,
   "metadata": {},
   "outputs": [],
   "source": [
    "input_filepath = os.path.join(interactions_dir, 'comment.csv')\n",
    "with open(input_filepath, 'r') as infile:\n",
    "    for line in tqdm(infile, desc='Comment amps', total=74327682):\n",
    "        # columns: user_id, site_id, interaction_type, interaction_oid, parent_type, parent_id, ancestor_type, ancestor_id, created_at, updated_at\n",
    "        if ',amp,' not in line:\n",
    "            continue\n",
    "        tokens = line.strip().split(\",\")\n",
    "        #interaction_type = tokens[2]\n",
    "        #if interaction_type != 'amp':\n",
    "        #    continue\n",
    "        #user_id = int(tokens[0])\n",
    "        created_at = int(tokens[8])\n",
    "        if created_at >= start_timestamp:\n",
    "            site_id = int(tokens[1])\n",
    "            if site_id in valid_site_ids:\n",
    "                old_amps.append(tokens)\n",
    "len(old_amps)"
   ]
  },
  {
   "cell_type": "code",
   "execution_count": null,
   "metadata": {},
   "outputs": [],
   "source": [
    "input_filepath = os.path.join(interactions_dir, 'guestbook.csv')\n",
    "with open(input_filepath, 'r') as infile:\n",
    "    for line in tqdm(infile, desc='Guestbook amps', total=92910238):\n",
    "        # columns: user_id, site_id, interaction_type, interaction_oid, parent_type, parent_id, ancestor_type, ancestor_id, created_at, updated_at\n",
    "        if ',amp,' not in line:\n",
    "            continue\n",
    "        tokens = line.strip().split(\",\")\n",
    "        #interaction_type = tokens[2]\n",
    "        #if interaction_type != 'amp':\n",
    "        #    continue\n",
    "        #user_id = int(tokens[0])\n",
    "        created_at = int(tokens[8])\n",
    "        if created_at >= start_timestamp:\n",
    "            site_id = int(tokens[1])\n",
    "            if site_id in valid_site_ids:\n",
    "                old_amps.append(tokens)\n",
    "len(old_amps)"
   ]
  },
  {
   "cell_type": "code",
   "execution_count": null,
   "metadata": {},
   "outputs": [],
   "source": [
    "cols = ['user_id', 'site_id', 'interaction_type', 'interaction_oid', 'parent_type', 'parent_oid', 'ancestor_type', 'ancestor_oid', 'created_at', 'updated_at']\n",
    "amps_df = pd.DataFrame(old_amps, columns=cols)\n",
    "len(amps_df)"
   ]
  },
  {
   "cell_type": "code",
   "execution_count": null,
   "metadata": {},
   "outputs": [],
   "source": [
    "del old_amps"
   ]
  },
  {
   "cell_type": "code",
   "execution_count": null,
   "metadata": {},
   "outputs": [],
   "source": [
    "amps_df.head()"
   ]
  },
  {
   "cell_type": "code",
   "execution_count": null,
   "metadata": {},
   "outputs": [],
   "source": [
    "amps_df.dtypes"
   ]
  },
  {
   "cell_type": "code",
   "execution_count": null,
   "metadata": {},
   "outputs": [],
   "source": [
    "amps_df['created_at'] = amps_df.created_at.astype(int)"
   ]
  },
  {
   "cell_type": "code",
   "execution_count": null,
   "metadata": {},
   "outputs": [],
   "source": [
    "s = datetime.now()\n",
    "amps_df = amps_df.sort_values(by='created_at')\n",
    "print(datetime.now() - s)"
   ]
  },
  {
   "cell_type": "code",
   "execution_count": null,
   "metadata": {},
   "outputs": [],
   "source": [
    "pd.DataFrame(amps_df.parent_type.value_counts(dropna=False).rename('parent_type_total'))"
   ]
  },
  {
   "cell_type": "code",
   "execution_count": null,
   "metadata": {},
   "outputs": [],
   "source": [
    "fig, ax = plt.subplots(1, 1, figsize=(10,4))\n",
    "\n",
    "start_time = start_date\n",
    "curr_time = start_time\n",
    "end_time = datetime.strptime('2021-09-01', '%Y-%m-%d').replace(tzinfo=pytz.UTC)\n",
    "bins = []\n",
    "while curr_time < end_time:\n",
    "    bins.append(int(curr_time.timestamp() * 1000))\n",
    "    curr_time += relativedelta(months=1)\n",
    "bins.append(int(curr_time.timestamp() * 1000))\n",
    "print(f'{len(bins)} bins from {start_time} to {end_time}')\n",
    "\n",
    "total_counts, bin_edges = np.histogram(amps_df[amps_df.parent_type == 'journal'].created_at, bins=bins)\n",
    "plt.plot(bin_edges[:-1], total_counts, linestyle='-', linewidth=2, label=f'Journal Amps (M={np.mean(total_counts[total_counts > 0][:-1]):,.0f})')\n",
    "total_counts, bin_edges = np.histogram(amps_df[amps_df.parent_type == 'comment'].created_at, bins=bins)\n",
    "plt.plot(bin_edges[:-1], total_counts, linestyle='-', linewidth=2, label=f'Comment Amps (M={np.mean(total_counts[total_counts > 0][:-1]):,.0f})')\n",
    "total_counts, bin_edges = np.histogram(amps_df[amps_df.parent_type == 'guestbook'].created_at, bins=bins)\n",
    "plt.plot(bin_edges[:-1], total_counts, linestyle='-', linewidth=2, label=f'Guestbook Amps (M={np.mean(total_counts[total_counts > 0][:-1]):,.0f})')\n",
    "ax.set_yscale('log')\n",
    "\n",
    "plt.legend()\n",
    "\n",
    "plt.ylabel(\"Amps per month\")\n",
    "plt.title(f\"{len(amps_df):,} amps from {len(set(amps_df.user_id)):,} unique users on {len(set(amps_df.site_id)):,} unique sites\")\n",
    "\n",
    "ax.set_xticks(bins)\n",
    "ax.set_xticklabels([datetime.utcfromtimestamp(d / 1000).replace(tzinfo=pytz.UTC).strftime('%b %d') for i, d in enumerate(bins)])\n",
    "          \n",
    "plt.show()"
   ]
  },
  {
   "cell_type": "code",
   "execution_count": null,
   "metadata": {},
   "outputs": [],
   "source": [
    "new_amps = []\n",
    "\n",
    "input_filepath = os.path.join(interactions_dir, 'reaction.csv')\n",
    "with open(input_filepath, 'r') as infile:\n",
    "    for line in tqdm(infile, desc='Reactions'):\n",
    "        # columns: user_id, site_id, interaction_type, interaction_oid, parent_type, parent_id, ancestor_type, ancestor_id, created_at, updated_at\n",
    "        tokens = line.strip().split(\",\")\n",
    "        created_at = int(tokens[8])\n",
    "        if created_at >= start_timestamp:\n",
    "            site_id = int(tokens[1])\n",
    "            if site_id in valid_site_ids:\n",
    "                new_amps.append(tokens)\n",
    "len(new_amps)\n",
    "cols = ['user_id', 'site_id', 'interaction_type', 'interaction_oid', 'parent_type', 'parent_oid', 'ancestor_type', 'ancestor_oid', 'created_at', 'updated_at']\n",
    "reactions_df = pd.DataFrame(new_amps, columns=cols)\n",
    "len(reactions_df)"
   ]
  },
  {
   "cell_type": "code",
   "execution_count": null,
   "metadata": {},
   "outputs": [],
   "source": [
    "reactions_df['created_at'] = reactions_df.created_at.astype(int)"
   ]
  },
  {
   "cell_type": "code",
   "execution_count": null,
   "metadata": {},
   "outputs": [],
   "source": [
    "reactions_df.interaction_type.value_counts()"
   ]
  },
  {
   "cell_type": "code",
   "execution_count": null,
   "metadata": {},
   "outputs": [],
   "source": [
    "pd.crosstab(reactions_df.interaction_type, reactions_df.parent_type)"
   ]
  },
  {
   "cell_type": "code",
   "execution_count": null,
   "metadata": {},
   "outputs": [],
   "source": [
    "fig, ax = plt.subplots(1, 1, figsize=(10,4))\n",
    "\n",
    "start_time = start_date\n",
    "curr_time = start_time\n",
    "end_time = datetime.strptime('2021-09-01', '%Y-%m-%d').replace(tzinfo=pytz.UTC)\n",
    "bins = []\n",
    "while curr_time < end_time:\n",
    "    bins.append(int(curr_time.timestamp() * 1000))\n",
    "    curr_time += relativedelta(months=1)\n",
    "bins.append(int(curr_time.timestamp() * 1000))\n",
    "print(f'{len(bins)} bins from {start_time} to {end_time}')\n",
    "\n",
    "total_counts, bin_edges = np.histogram(reactions_df[(reactions_df.interaction_type == 'amp_folded_hands')&(reactions_df.parent_type == 'journal')].created_at, bins=bins)\n",
    "plt.plot(bin_edges[:-1], total_counts, linestyle='-', linewidth=2, label=f'Folded Hands (M={np.mean(total_counts[total_counts > 0][:-1]):,.0f})')\n",
    "total_counts, bin_edges = np.histogram(reactions_df[(reactions_df.interaction_type == 'amp_happy')&(reactions_df.parent_type == 'journal')].created_at, bins=bins)\n",
    "plt.plot(bin_edges[:-1], total_counts, linestyle='-', linewidth=2, label=f'Happy Face (M={np.mean(total_counts[total_counts > 0][:-1]):,.0f})')\n",
    "total_counts, bin_edges = np.histogram(reactions_df[(reactions_df.interaction_type == 'amp_sad')&(reactions_df.parent_type == 'journal')].created_at, bins=bins)\n",
    "plt.plot(bin_edges[:-1], total_counts, linestyle='-', linewidth=2, label=f'Sad Face (M={np.mean(total_counts[total_counts > 0][:-1]):,.0f})')\n",
    "ax.set_yscale('log')\n",
    "\n",
    "plt.legend()\n",
    "\n",
    "plt.ylabel(\"Amps per month\")\n",
    "plt.title(f\"{len(reactions_df):,} journal reactions from {len(set(reactions_df[reactions_df.parent_type == 'journal'].user_id)):,} unique users on {len(set(reactions_df[reactions_df.parent_type == 'journal'].site_id)):,} unique sites\")\n",
    "\n",
    "ax.set_xticks(bins)\n",
    "ax.set_xticklabels([datetime.utcfromtimestamp(d / 1000).replace(tzinfo=pytz.UTC).strftime('%b %d') for i, d in enumerate(bins)])\n",
    "          \n",
    "plt.show()"
   ]
  },
  {
   "cell_type": "code",
   "execution_count": null,
   "metadata": {},
   "outputs": [],
   "source": [
    "amps_df['is_old'] = True\n",
    "reactions_df['is_old'] = False\n",
    "ints_df = pd.concat([amps_df, reactions_df], axis=0)\n",
    "ints_df['site_id'] = ints_df.site_id.astype(int)\n",
    "len(ints_df), len(amps_df), len(reactions_df)"
   ]
  },
  {
   "cell_type": "code",
   "execution_count": null,
   "metadata": {},
   "outputs": [],
   "source": [
    "ints_df.is_old.value_counts()"
   ]
  },
  {
   "cell_type": "code",
   "execution_count": null,
   "metadata": {},
   "outputs": [],
   "source": [
    "real_reactions_launch_date = datetime.utcfromtimestamp(np.min(ints_df[ints_df.interaction_type != 'amp'].created_at) / 1000).replace(tzinfo=pytz.UTC)\n",
    "str(real_reactions_launch_date)"
   ]
  },
  {
   "cell_type": "code",
   "execution_count": null,
   "metadata": {},
   "outputs": [],
   "source": [
    "fig, ax = plt.subplots(1, 1, figsize=(10,4))\n",
    "\n",
    "start_time = analysis_start_date\n",
    "curr_time = start_time\n",
    "end_time = datetime.strptime('2021-09-01', '%Y-%m-%d').replace(tzinfo=pytz.UTC)\n",
    "bins = []\n",
    "while curr_time < end_time:\n",
    "    bins.append(int(curr_time.timestamp() * 1000))\n",
    "    curr_time += relativedelta(months=1)\n",
    "bins.append(int(curr_time.timestamp() * 1000))\n",
    "print(f'{len(bins)} bins from {start_time} to {end_time}')\n",
    "\n",
    "total_counts, bin_edges = np.histogram(ints_df[ints_df.parent_type == 'journal'].created_at, bins=bins)\n",
    "plt.plot(bin_edges[:-1], total_counts, linestyle='-', linewidth=2, label=f'Journal Amps (M={np.mean(total_counts[total_counts > 0][:-1]):,.0f})')\n",
    "total_counts, bin_edges = np.histogram(ints_df[ints_df.parent_type == 'comment'].created_at, bins=bins)\n",
    "plt.plot(bin_edges[:-1], total_counts, linestyle='-', linewidth=2, label=f'Comment Amps (M={np.mean(total_counts[total_counts > 0][:-1]):,.0f})')\n",
    "total_counts, bin_edges = np.histogram(ints_df[ints_df.parent_type == 'guestbook'].created_at, bins=bins)\n",
    "plt.plot(bin_edges[:-1], total_counts, linestyle='-', linewidth=2, label=f'Guestbook Amps (M={np.mean(total_counts[total_counts > 0][:-1]):,.0f})')\n",
    "total_counts, bin_edges = np.histogram(ints_df[ints_df.parent_type == 'photo'].created_at, bins=bins)\n",
    "plt.plot(bin_edges[:-1], total_counts, linestyle='-', linewidth=2, label=f'Photo Amps (M={np.mean(total_counts[total_counts > 0][:-1]):,.0f})')\n",
    "ax.set_yscale('log')\n",
    "\n",
    "plt.legend()\n",
    "\n",
    "ax.axvline(\n",
    "    real_reactions_launch_date.timestamp() * 1000,\n",
    "    linestyle='--', color='gray', alpha=0.8, label='New Reactions Launch'\n",
    ")\n",
    "\n",
    "plt.ylabel(\"Amps per month\")\n",
    "plt.title(f\"{len(ints_df):,} amps from {len(set(ints_df.user_id)):,} unique users on {len(set(ints_df.site_id)):,} unique sites\")\n",
    "\n",
    "ax.set_xticks(bins)\n",
    "ax.set_xticklabels([datetime.utcfromtimestamp(d / 1000).replace(tzinfo=pytz.UTC).strftime('%b %d\\n%Y') for i, d in enumerate(bins)])\n",
    "          \n",
    "plt.show()"
   ]
  },
  {
   "cell_type": "code",
   "execution_count": null,
   "metadata": {},
   "outputs": [],
   "source": [
    "def amp_types_repr(is_old):\n",
    "    n_old = np.sum(is_old)\n",
    "    n_total = len(is_old)\n",
    "    if n_old == n_total:\n",
    "        return 'all_heart'\n",
    "    elif n_old > 0:\n",
    "        return 'both_types'\n",
    "    else: \n",
    "        return 'all_non_heart'\n",
    "s = datetime.now()\n",
    "journal_amp_df = ints_df[(ints_df.parent_type == 'journal')&(ints_df.created_at >= real_reactions_launch_date.timestamp() * 1000)].groupby('parent_oid').agg({\n",
    "    'is_old': amp_types_repr,\n",
    "    'interaction_oid': len,\n",
    "})\n",
    "len(journal_amp_df)"
   ]
  },
  {
   "cell_type": "code",
   "execution_count": null,
   "metadata": {},
   "outputs": [],
   "source": [
    "journal_amp_df.is_old.value_counts()"
   ]
  },
  {
   "cell_type": "code",
   "execution_count": null,
   "metadata": {},
   "outputs": [],
   "source": [
    "journal_amp_df.head()"
   ]
  },
  {
   "cell_type": "code",
   "execution_count": null,
   "metadata": {},
   "outputs": [],
   "source": []
  },
  {
   "cell_type": "code",
   "execution_count": null,
   "metadata": {},
   "outputs": [],
   "source": [
    "# load the journal metadata\n",
    "s = datetime.now()\n",
    "journal_metadata_dir = \"/home/lana/shared/caringbridge/data/derived/journal_metadata\"\n",
    "journal_metadata_filepath = os.path.join(journal_metadata_dir, \"journal_metadata.feather\")\n",
    "journal_df = pd.read_feather(journal_metadata_filepath)\n",
    "print(datetime.now() - s)\n",
    "len(journal_df)"
   ]
  },
  {
   "cell_type": "code",
   "execution_count": null,
   "metadata": {},
   "outputs": [],
   "source": [
    "start_time = datetime.strptime('2020-01-01', '%Y-%m-%d').replace(tzinfo=pytz.UTC)\n",
    "s = datetime.now()\n",
    "site_ids = set(site_df[site_df.created_at > start_time.timestamp() * 1000].site_id)\n",
    "site_ids &= set(journal_df[journal_df.created_at >= real_reactions_launch_date.timestamp() * 1000].site_id)\n",
    "print(len(site_ids))\n",
    "site_amp_df = ints_df[(ints_df.site_id.isin(site_ids))&(ints_df.created_at >= real_reactions_launch_date.timestamp() * 1000)].groupby('site_id').agg({\n",
    "    'is_old': lambda is_old: True if np.sum(is_old) > 0 else False,\n",
    "    'interaction_oid': len,\n",
    "}).rename(columns={\n",
    "    'is_old': 'uses_new',\n",
    "    'interaction_oid': 'n_amps'\n",
    "})\n",
    "print(f\"Computed {len(site_amp_df)} site groups in {datetime.now() - s}\")\n",
    "site_amp_df.head()"
   ]
  },
  {
   "cell_type": "code",
   "execution_count": null,
   "metadata": {},
   "outputs": [],
   "source": [
    "curr_time = start_time\n",
    "end_time = datetime.strptime('2021-08-01', '%Y-%m-%d').replace(tzinfo=pytz.UTC)\n",
    "bins = []\n",
    "while curr_time < end_time:\n",
    "    bins.append(int(curr_time.timestamp() * 1000))\n",
    "    curr_time += relativedelta(days=1)\n",
    "bins.append(int(curr_time.timestamp() * 1000))\n",
    "bins = np.array(bins)\n",
    "print(f'{len(bins)} bins from {start_time} to {end_time}')\n",
    "\n",
    "\n",
    "fig, ax = plt.subplots(1, 1, figsize=(10,4))\n",
    "\n",
    "total_counts, bin_edges = np.histogram(site_df[site_df.created_at > start_time.timestamp() * 1000].created_at, bins=bins)\n",
    "site_ids = set(site_amp_df[site_amp_df.uses_new].index)\n",
    "counts, bin_edges = np.histogram(site_df[(site_df.created_at > start_time.timestamp() * 1000)&(site_df.site_id.isin(site_ids))].created_at, bins=bins)\n",
    "pcts = counts / total_counts\n",
    "plt.plot(bin_edges[:-1], pcts, linestyle='-', linewidth=1)\n",
    "print(f'% using new (M={np.mean(pcts)*100:.1f}%)')\n",
    "print(f'Pre-launch % using new (M={np.mean(pcts[bin_edges[:-1] < real_reactions_launch_date.timestamp() * 1000])*100:.1f}%)')\n",
    "print(f'Post-launch % using new (M={np.mean(pcts[bin_edges[:-1] >= real_reactions_launch_date.timestamp() * 1000])*100:.1f}%)')\n",
    "\n",
    "ax.axvline(\n",
    "    real_reactions_launch_date.timestamp() * 1000,\n",
    "    linestyle='--', color='gray', alpha=0.8, label='Emoji Reactions Launch'\n",
    ")\n",
    "ax.legend()\n",
    "\n",
    "ax.set_ylabel(\"% of sites with non-Heart reactions\")\n",
    "ax.set_xlabel(\"Site creation date\")\n",
    "plt.title(f\"Greater adoption of non-Heart emoji reactions for sites created post-launch\\n(among {len(site_amp_df):,} sites with post-launch journal & amp activity)\")\n",
    "#plt.title(f\"{len(ints_df):,} amps from {len(set(ints_df.user_id)):,} unique users on {len(set(ints_df.site_id)):,} unique sites\")\n",
    "\n",
    "#xticks = bins[::50]\n",
    "xticks = []\n",
    "curr_time = start_time\n",
    "while curr_time < end_time:\n",
    "    xticks.append(int(curr_time.timestamp() * 1000))\n",
    "    curr_time += relativedelta(months=1)\n",
    "xticks.append(int(curr_time.timestamp() * 1000))\n",
    "\n",
    "ax.set_ylim((0, 1))\n",
    "\n",
    "ax.set_xticks(xticks)\n",
    "ax.set_xticklabels([datetime.utcfromtimestamp(d / 1000).replace(tzinfo=pytz.UTC).strftime('%b\\n%Y').replace('2020', '\\'20').replace('2021', '\\'21') for i, d in enumerate(xticks)])\n",
    "ax.yaxis.set_major_formatter(matplotlib.ticker.FuncFormatter(lambda x, y: f\"{x*100:.0f}%\"))\n",
    "\n",
    "plt.tight_layout()\n",
    "plt.show()"
   ]
  },
  {
   "cell_type": "markdown",
   "metadata": {},
   "source": [
    "Why do we observe this trend?\n",
    "\n",
    " - H1: Later journals on a site are more likely to receive hearts than earlier journals on a site. (For example, due to the specific content of the journal, or due to visitor ease of use.)\n",
    " - H2: Confounded by number of journal updates and number of amps. (Older sites have fewer updates and fewer amps, which may be associated with less use of alternative reactions for some reason, which causes the observed trend.)\n",
    " - H3: Public interactions follow implicit site-specific norms. (Norms are set by observing amp behavior on previous updates; thus there's a \"no-emoji\" inertia on older sites started before the reactions launch.)"
   ]
  },
  {
   "cell_type": "code",
   "execution_count": null,
   "metadata": {},
   "outputs": [],
   "source": [
    "# plot query_df queries over time\n",
    "fig, axes = plt.subplots(1, 2, figsize=(12, 6))\n",
    "\n",
    "ax = axes[0]\n",
    "start_time = datetime.strptime('2020-11-01', '%Y-%m-%d').replace(tzinfo=pytz.UTC)\n",
    "curr_time = start_time\n",
    "end_time = datetime.strptime('2021-08-18', '%Y-%m-%d').replace(tzinfo=pytz.UTC)\n",
    "bins = []\n",
    "while curr_time < end_time:\n",
    "    bins.append(int(curr_time.timestamp() * 1000))\n",
    "    curr_time += relativedelta(days=1)\n",
    "bins.append(int(curr_time.timestamp() * 1000))\n",
    "print(f'{len(bins)} bins from {start_time} to {end_time}')\n",
    "\n",
    "counts, bin_edges = np.histogram(ints_df.created_at, bins=bins)\n",
    "ax.plot(bin_edges[:-1], counts, label=\"All reactions\")\n",
    "day_totals = counts\n",
    "\n",
    "counts, bin_edges = np.histogram(ints_df[ints_df.interaction_type != 'amp'].created_at, bins=bins)\n",
    "ax.plot(bin_edges[:-1], counts, label=\"New reactions\")\n",
    "\n",
    "#ax.axvline(\n",
    "#    may12.timestamp() * 1000,\n",
    "#    linestyle='--', color='gray', alpha=0.8, label='May 12, 2021'\n",
    "#)\n",
    "\n",
    "ax.axvline(\n",
    "    real_reactions_launch_date.timestamp() * 1000,\n",
    "    linestyle='--', color='gray', alpha=0.8, label='New Reactions Launch'\n",
    ")\n",
    "\n",
    "#ax.hlines(median_daily_pre, start_time.timestamp() * 1000, may12.timestamp() * 1000, linestyle='dotted', color='black', label=f'Pre-May-12th median ({median_daily_pre} per day)', zorder=100)\n",
    "#ax.hlines(median_daily_post, may12.timestamp() * 1000, end_time.timestamp() * 1000, linestyle='dashdot', color='black', label=f'Post-May-12th median ({median_daily_post} per day)', zorder=100)\n",
    "\n",
    "ax.set_ylabel(f\"Reactions per day\")\n",
    "ax.set_xlabel(\"Date\")\n",
    "ax.set_title(f\"Reactions since feature launch\\n{np.sum(ints_df.interaction_type != 'amp'):,} non-Heart of {len(ints_df):,} total ({np.sum(ints_df.interaction_type != 'amp') / len(ints_df) * 100:.1f}%)\")\n",
    "\n",
    "#ax.xaxis.set_major_formatter(matplotlib.ticker.FuncFormatter(lambda x, y: datetime.utcfromtimestamp(x / 1000).replace(tzinfo=pytz.timezone('US/Central')).strftime(\"%Y\\n%m %d\").replace(\" 0\", \" \")))\n",
    "#start = datetime.strptime('2005-01-01', '%Y-%m-%d').replace(tzinfo=pytz.UTC)\n",
    "#x_dates = [start + relativedelta(years=i) for i in range(18)]\n",
    "#ax.set_xticks([d.timestamp() * 1000 for d in x_dates])\n",
    "#nl = '\\n'\n",
    "#ax.set_xticklabels([f\"{nl if i % 2 == 1 else ''}'\" + d.strftime('%Y')[2:] for i, d in enumerate(x_dates)])\n",
    "ax.xaxis.set_major_formatter(matplotlib.ticker.FuncFormatter(lambda x, y: datetime.utcfromtimestamp(x / 1000).replace(tzinfo=pytz.timezone('US/Central')).strftime(\"%h %d\\n%Y\").replace(\" 0\", \" \")))\n",
    "ax.legend()  #loc='lower right'\n",
    "\n",
    "ax = axes[1]\n",
    "\n",
    "for interaction_type, type_repr in zip(['amp', 'amp_folded_hands', 'amp_happy', 'amp_sad'], ['Heart', 'Folded Hands', 'Happy Face', 'Sad Face']):\n",
    "    counts, bin_edges = np.histogram(ints_df[ints_df.interaction_type == interaction_type].created_at, bins=bins)\n",
    "    pcts = counts / day_totals\n",
    "    if interaction_type == 'amp':\n",
    "        continue\n",
    "    ax.plot(bin_edges[:-1], pcts, label=f\"{type_repr}\")\n",
    "\n",
    "#ax.axvline(\n",
    "#    may12.timestamp() * 1000,\n",
    "#    linestyle='--', color='gray', alpha=0.8, label='May 12, 2021'\n",
    "#)\n",
    "\n",
    "ax.axvline(\n",
    "    real_reactions_launch_date.timestamp() * 1000,\n",
    "    linestyle='--', color='gray', alpha=0.8, label='New Reactions Launch'\n",
    ")\n",
    "\n",
    "ax.yaxis.set_major_formatter(matplotlib.ticker.FuncFormatter(lambda x, y: f\"{x*100:.0f}%\"))\n",
    "ax.xaxis.set_major_formatter(matplotlib.ticker.FuncFormatter(lambda x, y: datetime.utcfromtimestamp(x / 1000).replace(tzinfo=pytz.timezone('US/Central')).strftime(\"%h %d\\n%Y\").replace(\" 0\", \" \")))\n",
    "ax.legend()\n",
    "ax.set_ylabel(f\"% of total daily reactions\")\n",
    "ax.set_xlabel(\"Date\")\n",
    "ax.set_title(f\"New reactions by type\\n(Folded Hands {np.sum(ints_df.interaction_type == 'amp_folded_hands') / np.sum(ints_df.interaction_type != 'amp') * 100:.1f}% of new usage)\")\n",
    "\n",
    "plt.show()"
   ]
  },
  {
   "cell_type": "code",
   "execution_count": null,
   "metadata": {},
   "outputs": [],
   "source": []
  },
  {
   "cell_type": "code",
   "execution_count": null,
   "metadata": {},
   "outputs": [],
   "source": []
  },
  {
   "cell_type": "code",
   "execution_count": null,
   "metadata": {},
   "outputs": [],
   "source": []
  },
  {
   "cell_type": "code",
   "execution_count": null,
   "metadata": {},
   "outputs": [],
   "source": []
  },
  {
   "cell_type": "code",
   "execution_count": null,
   "metadata": {},
   "outputs": [],
   "source": []
  },
  {
   "cell_type": "code",
   "execution_count": null,
   "metadata": {},
   "outputs": [],
   "source": []
  },
  {
   "cell_type": "code",
   "execution_count": null,
   "metadata": {},
   "outputs": [],
   "source": []
  }
 ],
 "metadata": {
  "kernelspec": {
   "display_name": "Python 3",
   "language": "python",
   "name": "python3"
  },
  "language_info": {
   "codemirror_mode": {
    "name": "ipython",
    "version": 3
   },
   "file_extension": ".py",
   "mimetype": "text/x-python",
   "name": "python",
   "nbconvert_exporter": "python",
   "pygments_lexer": "ipython3",
   "version": "3.8.5"
  }
 },
 "nbformat": 4,
 "nbformat_minor": 4
}
