{
 "cells": [
  {
   "cell_type": "markdown",
   "metadata": {},
   "source": [
    "Site Description Analysis\n",
    "===\n",
    "\n",
    "Key question: how many sites change their description to something other than the default?\n",
    "\n",
    "Analysis conducted responsive to a request made by Dennis Still in July 2021.\n"
   ]
  },
  {
   "cell_type": "code",
   "execution_count": null,
   "metadata": {},
   "outputs": [],
   "source": [
    "%reload_ext autoreload\n",
    "%autoreload 2\n",
    "%matplotlib inline"
   ]
  },
  {
   "cell_type": "code",
   "execution_count": null,
   "metadata": {},
   "outputs": [],
   "source": [
    "import os\n",
    "import re\n",
    "import pandas as pd\n",
    "import numpy as np\n",
    "import editdistance\n",
    "\n",
    "from collections import Counter, defaultdict\n",
    "import sqlite3\n",
    "from nltk import word_tokenize\n",
    "from tqdm import tqdm\n",
    "import random\n",
    "import pickle\n",
    "import json\n",
    "import gzip\n",
    "\n",
    "from datetime import datetime\n",
    "from dateutil.relativedelta import relativedelta\n",
    "import pytz\n",
    "from pprint import pprint\n",
    "\n",
    "import matplotlib.pyplot as plt\n",
    "import matplotlib.dates as md\n",
    "import matplotlib\n",
    "import pylab as pl\n",
    "from IPython.core.display import display, HTML"
   ]
  },
  {
   "cell_type": "code",
   "execution_count": null,
   "metadata": {},
   "outputs": [],
   "source": [
    "matplotlib.rcParams['figure.dpi'] = 120\n",
    "matplotlib.rcParams['font.family'] = \"serif\"\n",
    "#matplotlib.rcParams['figure.figsize'] = [8, 8]\n",
    "#matplotlib.rcParams['font.size'] = 8"
   ]
  },
  {
   "cell_type": "code",
   "execution_count": null,
   "metadata": {},
   "outputs": [],
   "source": [
    "import sys\n",
    "caringbridge_core_path = \"/home/lana/levon003/repos/caringbridge_core\"\n",
    "sys.path.append(caringbridge_core_path)\n",
    "import cbcore.data.paths as paths\n",
    "import cbcore.data.dates as dates\n",
    "import cbcore.data.utils as utils"
   ]
  },
  {
   "cell_type": "code",
   "execution_count": null,
   "metadata": {},
   "outputs": [],
   "source": [
    "from pathlib import Path\n",
    "git_root_dir = !git rev-parse --show-toplevel\n",
    "git_root_dir = Path(git_root_dir[0].strip())\n",
    "figures_dir = os.path.join(git_root_dir, 'figures')\n",
    "os.makedirs(figures_dir, exist_ok=True)\n",
    "git_root_dir"
   ]
  },
  {
   "cell_type": "code",
   "execution_count": null,
   "metadata": {},
   "outputs": [],
   "source": [
    "# load site metadata\n",
    "s = datetime.now()\n",
    "site_df_filepath = os.path.join(paths.derived_data_filepath, 'site_metadata', 'site_metadata_with_text.feather')\n",
    "site_df = pd.read_feather(site_df_filepath)\n",
    "print(f\"Loaded {len(site_df)} rows in {datetime.now() - s}.\")\n",
    "site_df.head()"
   ]
  },
  {
   "cell_type": "code",
   "execution_count": null,
   "metadata": {},
   "outputs": [],
   "source": [
    "site_df.isSpam.value_counts(dropna=False)"
   ]
  },
  {
   "cell_type": "code",
   "execution_count": null,
   "metadata": {},
   "outputs": [],
   "source": [
    "site_df.isDeleted.value_counts(dropna=False)"
   ]
  },
  {
   "cell_type": "code",
   "execution_count": null,
   "metadata": {},
   "outputs": [],
   "source": [
    "site_df['isDeactivated'] = (site_df.isDeleted == '1')|(site_df.isSpam == 1)\n",
    "site_df.isDeactivated.value_counts()"
   ]
  },
  {
   "cell_type": "code",
   "execution_count": null,
   "metadata": {},
   "outputs": [],
   "source": [
    "pd.crosstab(site_df.privacy, site_df.isDeactivated, margins=True)"
   ]
  },
  {
   "cell_type": "code",
   "execution_count": null,
   "metadata": {},
   "outputs": [],
   "source": [
    "pd.crosstab(site_df.privacy, site_df.hasAllowlist, margins=True)"
   ]
  },
  {
   "cell_type": "code",
   "execution_count": null,
   "metadata": {},
   "outputs": [],
   "source": [
    "# a few records with invalid dates, which all look like test sites to me\n",
    "invalid_start_date = datetime.strptime('2005-01-01', '%Y-%m-%d').replace(tzinfo=pytz.UTC)\n",
    "(site_df.created_at < invalid_start_date.timestamp() * 1000).value_counts()"
   ]
  },
  {
   "cell_type": "code",
   "execution_count": null,
   "metadata": {},
   "outputs": [],
   "source": [
    "# no times in the future\n",
    "invalid_end_date = datetime.strptime('2021-07-16', '%Y-%m-%d').replace(tzinfo=pytz.UTC)\n",
    "(site_df.created_at > invalid_end_date.timestamp() * 1000).value_counts()"
   ]
  },
  {
   "cell_type": "code",
   "execution_count": null,
   "metadata": {},
   "outputs": [],
   "source": [
    "sdf = site_df[site_df.created_at >= invalid_start_date.timestamp() * 1000]\n",
    "len(sdf)"
   ]
  },
  {
   "cell_type": "code",
   "execution_count": null,
   "metadata": {},
   "outputs": [],
   "source": [
    "# plot query_df queries over time\n",
    "fig, axes = plt.subplots(1, 2, figsize=(12, 6))\n",
    "\n",
    "ax = axes[0]\n",
    "start_time = datetime.utcfromtimestamp(np.min(sdf.created_at / 1000)).replace(tzinfo=pytz.UTC)\n",
    "curr_time = start_time\n",
    "end_time = datetime.utcfromtimestamp(np.max(sdf.created_at / 1000)).replace(tzinfo=pytz.UTC)\n",
    "bins = []\n",
    "while curr_time < end_time:\n",
    "    bins.append(curr_time.timestamp() * 1000)\n",
    "    curr_time += relativedelta(months=1)\n",
    "print(f'{len(bins)} bins from {start_time} to {end_time}')\n",
    "\n",
    "counts, bin_edges = np.histogram(sdf.created_at, bins=bins)\n",
    "ax.plot(bin_edges[:-1], counts, label=\"All sites\")\n",
    "\n",
    "counts, bin_edges = np.histogram(sdf[~sdf.isDeactivated].created_at, bins=bins)\n",
    "ax.plot(bin_edges[:-1], counts, label=\"All non-deactivated sites\")\n",
    "\n",
    "bin_width_s = bin_edges[1] - bin_edges[0]\n",
    "ax.set_ylabel(f\"New sites per {bin_width_s / 1000 / 60 / 60 / 24:.1f} days\")\n",
    "ax.set_xlabel(\"Date (Central Time)\")\n",
    "ax.set_title(\"All site creations in dump\")\n",
    "\n",
    "#ax.xaxis.set_major_formatter(matplotlib.ticker.FuncFormatter(lambda x, y: datetime.utcfromtimestamp(x / 1000).replace(tzinfo=pytz.timezone('US/Central')).strftime(\"%Y\\n%m %d\").replace(\" 0\", \" \")))\n",
    "start = datetime.strptime('2005-01-01', '%Y-%m-%d').replace(tzinfo=pytz.UTC)\n",
    "x_dates = [start + relativedelta(years=i) for i in range(18)]\n",
    "ax.set_xticks([d.timestamp() * 1000 for d in x_dates])\n",
    "nl = '\\n'\n",
    "ax.set_xticklabels([f\"{nl if i % 2 == 1 else ''}'\" + d.strftime('%Y')[2:] for i, d in enumerate(x_dates)])\n",
    "#ax.xaxis.set_major_formatter(matplotlib.ticker.FuncFormatter(lambda x, y: datetime.utcfromtimestamp(x / 1000).replace(tzinfo=pytz.timezone('US/Central')).strftime(\"%Y\\n%m %d\").replace(\" 0\", \" \")))\n",
    "ax.legend()\n",
    "\n",
    "\n",
    "#### zoomed in figure\n",
    "ax = axes[1]\n",
    "start_time = datetime.strptime('2016-01-01', '%Y-%m-%d').replace(tzinfo=pytz.UTC)\n",
    "curr_time = start_time\n",
    "end_time = datetime.utcfromtimestamp(np.max(sdf.created_at / 1000)).replace(tzinfo=pytz.UTC)\n",
    "bins = []\n",
    "while curr_time < end_time:\n",
    "    bins.append(curr_time.timestamp() * 1000)\n",
    "    curr_time += relativedelta(days=7)\n",
    "print(f'{len(bins)} bins from {start_time} to {end_time}')\n",
    "\n",
    "counts, bin_edges = np.histogram(sdf.created_at, bins=bins)\n",
    "ax.plot(bin_edges[:-1], counts, label=\"All sites\")\n",
    "\n",
    "counts, bin_edges = np.histogram(sdf[~sdf.isDeactivated].created_at, bins=bins)\n",
    "ax.plot(bin_edges[:-1], counts, label=\"All non-deactivated sites\")\n",
    "\n",
    "ax.axvline(\n",
    "    datetime.strptime('2019-01-01', '%Y-%m-%d').replace(tzinfo=pytz.UTC).timestamp() * 1000,\n",
    "    linestyle='--', color='gray', alpha=0.8, label='Jan 2019'\n",
    ")\n",
    "\n",
    "bin_width_s = bin_edges[1] - bin_edges[0]\n",
    "ax.set_ylabel(f\"New sites per {bin_width_s / 1000 / 60 / 60 / 24:.1f} days\")\n",
    "ax.set_xlabel(\"Date (Central Time)\")\n",
    "ax.set_title(\"Site creations from Jan 2016 to July 2021\")\n",
    "\n",
    "#ax.xaxis.set_major_formatter(matplotlib.ticker.FuncFormatter(lambda x, y: datetime.utcfromtimestamp(x / 1000).replace(tzinfo=pytz.timezone('US/Central')).strftime(\"%Y\\n%m/%d\").replace(\" 0\", \" \")))\n",
    "x_dates = [start_time + relativedelta(years=i) for i in range(7)]\n",
    "ax.set_xticks([d.timestamp() * 1000 for d in x_dates])\n",
    "ax.set_xticklabels([f\"Jan 1\\n\" + d.strftime('%Y') for i, d in enumerate(x_dates)])\n",
    "ax.legend()\n",
    "\n",
    "\n",
    "plt.show()"
   ]
  },
  {
   "cell_type": "code",
   "execution_count": null,
   "metadata": {},
   "outputs": [],
   "source": []
  },
  {
   "cell_type": "code",
   "execution_count": null,
   "metadata": {},
   "outputs": [],
   "source": []
  },
  {
   "cell_type": "markdown",
   "metadata": {},
   "source": [
    "## Description analysis"
   ]
  },
  {
   "cell_type": "code",
   "execution_count": null,
   "metadata": {},
   "outputs": [],
   "source": [
    "site_df.description.notna().value_counts()"
   ]
  },
  {
   "cell_type": "code",
   "execution_count": null,
   "metadata": {},
   "outputs": [],
   "source": [
    "fig, axes = plt.subplots(1, 2, figsize=(12, 6))\n",
    "\n",
    "ax = axes[0]\n",
    "start_time = datetime.strptime('2014-01-01', '%Y-%m-%d').replace(tzinfo=pytz.UTC)\n",
    "curr_time = start_time\n",
    "end_time = datetime.utcfromtimestamp(np.max(sdf.created_at / 1000)).replace(tzinfo=pytz.UTC)\n",
    "bins = []\n",
    "while curr_time < end_time:\n",
    "    bins.append(curr_time.timestamp() * 1000)\n",
    "    curr_time += relativedelta(days=7)\n",
    "print(f'{len(bins)} bins from {start_time} to {end_time}')\n",
    "\n",
    "counts, bin_edges = np.histogram(sdf[~sdf.isDeactivated].created_at, bins=bins)\n",
    "ax.plot(bin_edges[:-1], counts, label=\"All non-deactivated sites\")\n",
    "\n",
    "nodesc_counts, bin_edges = np.histogram(sdf[(~sdf.isDeactivated)&(sdf.description.isna())].created_at, bins=bins)\n",
    "ax.plot(bin_edges[:-1], nodesc_counts, label=\"Sites with no description set\")\n",
    "\n",
    "ax.axvline(\n",
    "    datetime.strptime('2019-01-01', '%Y-%m-%d').replace(tzinfo=pytz.UTC).timestamp() * 1000,\n",
    "    linestyle='--', color='gray', alpha=0.8, label='Jan 2019'\n",
    ")\n",
    "\n",
    "bin_width_s = bin_edges[1] - bin_edges[0]\n",
    "ax.set_ylabel(f\"New sites per {bin_width_s / 1000 / 60 / 60 / 24:.1f} days\")\n",
    "ax.set_xlabel(\"Date (Central Time)\")\n",
    "ax.set_title(\"Site creations from Jan 2016 to July 2021\")\n",
    "\n",
    "#ax.xaxis.set_major_formatter(matplotlib.ticker.FuncFormatter(lambda x, y: datetime.utcfromtimestamp(x / 1000).replace(tzinfo=pytz.timezone('US/Central')).strftime(\"%Y\\n%m/%d\").replace(\" 0\", \" \")))\n",
    "x_dates = [start_time + relativedelta(years=i) for i in range(9)]\n",
    "ax.set_xticks([d.timestamp() * 1000 for d in x_dates])\n",
    "ax.set_xticklabels([f\"Jan 1\\n\" + d.strftime('%Y') for i, d in enumerate(x_dates)])\n",
    "ax.legend()\n",
    "\n",
    "ax = axes[1]\n",
    "\n",
    "pcts = nodesc_counts / counts\n",
    "ax.plot(range(len(pcts)), pcts)\n",
    "ax.axhline(\n",
    "    np.mean(pcts),\n",
    "    linestyle='--', color='black', alpha=0.6, label=f'Mean ({np.mean(pcts)*100:.2f}%)'\n",
    "\n",
    ")\n",
    "ax.legend()\n",
    "ax.set_title(\"Proportion of new sites with no site description\")\n",
    "\n",
    "plt.show()"
   ]
  },
  {
   "cell_type": "code",
   "execution_count": null,
   "metadata": {},
   "outputs": [],
   "source": [
    "start_date = datetime.strptime('2019-01-01', '%Y-%m-%d').replace(tzinfo=pytz.UTC)\n",
    "end_date = datetime.strptime('2021-01-01', '%Y-%m-%d').replace(tzinfo=pytz.UTC)\n",
    "sdf = site_df[(site_df.created_at >= start_date.timestamp() * 1000)&((site_df.created_at <= end_date.timestamp() * 1000))&(~site_df.isDeactivated)]\n",
    "len(sdf)"
   ]
  },
  {
   "cell_type": "code",
   "execution_count": null,
   "metadata": {},
   "outputs": [],
   "source": [
    "sdf.description.value_counts(dropna=False).head(20)"
   ]
  },
  {
   "cell_type": "code",
   "execution_count": null,
   "metadata": {},
   "outputs": [],
   "source": []
  },
  {
   "cell_type": "code",
   "execution_count": null,
   "metadata": {},
   "outputs": [],
   "source": [
    "DEFAULT = 'Welcome to our CaringBridge website.  We are using it to keep family and friends updated in one place.  We appreciate your support and words of hope and encouragement.  Thank you for visiting.'\n",
    "DEFAULT_STRIPPED = re.sub('\\W+', ' ', DEFAULT).strip()\n",
    "DEFAULT_STRIPPED_WORDS = DEFAULT_STRIPPED.split()\n",
    "ONEP_DEFAULT= 'Welcome to my CaringBridge website. I am using it to keep family and friends updated in one place. I appreciate your support and words of hope and encouragement. Thank you for visiting.'\n",
    "all_unicode_custom = sdf[sdf.name == 'kallanswain'].description.iloc[0]\n",
    "\n",
    "\n",
    "def categorize_description(desc):\n",
    "    if desc is None:\n",
    "        return 'undefined'\n",
    "    if desc == DEFAULT:\n",
    "        return 'default'\n",
    "    if desc == all_unicode_custom:\n",
    "        return 'all_unicode_custom'\n",
    "    desc = desc.replace('&nbsp;', ' ')\n",
    "    desc = re.sub('\\W+', ' ', desc).strip()\n",
    "    if desc == '':\n",
    "        return 'empty'\n",
    "    if desc == DEFAULT_STRIPPED:\n",
    "        return 'default_strip'\n",
    "    if desc == re.sub('\\W+', ' ', ONEP_DEFAULT).strip():\n",
    "        return '1st_person_default_strip'\n",
    "    if re.match('^[^A-Za-z]*$', desc):\n",
    "        return 'non_english'\n",
    "    \n",
    "    desc_words = desc.split()\n",
    "    distance_to_default = editdistance.eval(DEFAULT_STRIPPED_WORDS, desc_words)\n",
    "    if distance_to_default <= 1:\n",
    "        if desc.startswith(DEFAULT_STRIPPED):\n",
    "            return 'default_add_1word'\n",
    "        return 'default_edited_1word'\n",
    "    if distance_to_default <= 5:\n",
    "        if desc.startswith(DEFAULT_STRIPPED):\n",
    "            return 'default_add_5word'\n",
    "        return 'default_edited_5word'\n",
    "    \n",
    "    #if len(desc_words) >= 500:\n",
    "    #    return 'ultralong'\n",
    "    \n",
    "    if desc.startswith(DEFAULT_STRIPPED):\n",
    "        return 'added_to_default'\n",
    "    \n",
    "    return 'uncategorized'\n",
    "\n",
    "cat = sdf.description.map(categorize_description)\n",
    "cat.value_counts()"
   ]
  },
  {
   "cell_type": "code",
   "execution_count": null,
   "metadata": {},
   "outputs": [],
   "source": [
    "for row in sdf.loc[cat == 'uncategorized', ['name', 'description']].sample(n=3).itertuples():\n",
    "    print(row.description.replace('\\n', '\\\\n') + \"\\n\")"
   ]
  },
  {
   "cell_type": "code",
   "execution_count": null,
   "metadata": {},
   "outputs": [],
   "source": [
    "sdf['description_category'] = cat"
   ]
  },
  {
   "cell_type": "code",
   "execution_count": null,
   "metadata": {},
   "outputs": [],
   "source": [
    "fig, ax = plt.subplots(1, 1, figsize=(6, 6))\n",
    "\n",
    "start_time = datetime.strptime('2019-01-01', '%Y-%m-%d').replace(tzinfo=pytz.UTC)\n",
    "curr_time = start_time\n",
    "end_time = datetime.utcfromtimestamp(np.max(sdf.created_at / 1000)).replace(tzinfo=pytz.UTC)\n",
    "bins = []\n",
    "while curr_time < end_time:\n",
    "    bins.append(curr_time.timestamp() * 1000)\n",
    "    curr_time += relativedelta(days=7)\n",
    "print(f'{len(bins)} bins from {start_time} to {end_time}')\n",
    "\n",
    "totals, _ = np.histogram(sdf.created_at, bins=bins)\n",
    "\n",
    "counts, bin_edges = np.histogram(sdf[sdf.description_category == 'undefined'].created_at, bins=bins)\n",
    "pcts = counts / totals\n",
    "ax.plot(bin_edges[:-1], pcts, label=f\"Not set (M={np.mean(pcts)*100:.2f}%)\")\n",
    "\n",
    "counts, bin_edges = np.histogram(sdf[sdf.description_category == 'uncategorized'].created_at, bins=bins)\n",
    "pcts = counts / totals\n",
    "ax.plot(bin_edges[:-1], pcts, label=f\"Customized (M={np.mean(pcts)*100:.2f}%)\")\n",
    "\n",
    "counts, bin_edges = np.histogram(sdf[sdf.description_category == 'added_to_default'].created_at, bins=bins)\n",
    "pcts = counts / totals\n",
    "ax.plot(bin_edges[:-1], pcts, label=f\"Added to default (M={np.mean(pcts)*100:.2f}%)\")\n",
    "\n",
    "counts, bin_edges = np.histogram(sdf[sdf.description_category.isin(['default', 'default_strip'])].created_at, bins=bins)\n",
    "pcts = counts / totals\n",
    "ax.plot(bin_edges[:-1], pcts, label=f\"Default (M={np.mean(pcts)*100:.2f}%)\")\n",
    "\n",
    "counts, bin_edges = np.histogram(sdf[sdf.description_category.isin(['default_edited_1word', 'default_add_1word', 'default_edited_5word', 'default_add_5word'])].created_at, bins=bins)\n",
    "pcts = counts / totals\n",
    "ax.plot(bin_edges[:-1], pcts, label=f\"Almost Default (M={np.mean(pcts)*100:.2f}%)\")\n",
    "\n",
    "counts, bin_edges = np.histogram(sdf[sdf.description_category.isin(['all_unicode_custom', 'non_english', 'empty'])].created_at, bins=bins)\n",
    "pcts = counts / totals\n",
    "ax.plot(bin_edges[:-1], pcts, label=f\"Other (M={np.mean(pcts)*100:.2f}%)\")\n",
    "\n",
    "bin_width_s = bin_edges[1] - bin_edges[0]\n",
    "ax.set_ylabel(f\"New sites per {bin_width_s / 1000 / 60 / 60 / 24:.0f} days\")\n",
    "ax.set_xlabel(\"Date of site creation\")\n",
    "ax.set_title(f\"My Story / site descriptions\\nfor {len(sdf):,} sites created in 2019 and 2020\")\n",
    "\n",
    "#ax.xaxis.set_major_formatter(matplotlib.ticker.FuncFormatter(lambda x, y: datetime.utcfromtimestamp(x / 1000).replace(tzinfo=pytz.timezone('US/Central')).strftime(\"%Y\\n%m/%d\").replace(\" 0\", \" \")))\n",
    "x_dates = [start_time + relativedelta(years=i) for i in range(3)]\n",
    "ax.set_xticks([d.timestamp() * 1000 for d in x_dates])\n",
    "ax.set_xticklabels([f\"Jan 1\\n\" + d.strftime('%Y') for i, d in enumerate(x_dates)])\n",
    "ax.legend()\n",
    "\n",
    "plt.show()"
   ]
  },
  {
   "cell_type": "code",
   "execution_count": null,
   "metadata": {},
   "outputs": [],
   "source": [
    "fig, ax = plt.subplots(1, 1, figsize=(6, 6))\n",
    "\n",
    "start_time = datetime.strptime('2019-01-01', '%Y-%m-%d').replace(tzinfo=pytz.UTC)\n",
    "curr_time = start_time\n",
    "end_time = datetime.utcfromtimestamp(np.max(sdf.created_at / 1000)).replace(tzinfo=pytz.UTC)\n",
    "bins = []\n",
    "while curr_time < end_time:\n",
    "    bins.append(curr_time.timestamp() * 1000)\n",
    "    curr_time += relativedelta(days=7)\n",
    "print(f'{len(bins)} bins from {start_time} to {end_time}')\n",
    "\n",
    "totals, _ = np.histogram(sdf.created_at, bins=bins)\n",
    "\n",
    "counts, bin_edges = np.histogram(sdf[sdf.description_category.isin(['undefined', 'default', 'default_strip', 'default_add_1word', 'default_edited_1word'])].created_at, bins=bins)\n",
    "pcts = counts / totals\n",
    "ax.plot(bin_edges[:-1], pcts, label=f\"Default or Similar (M={np.mean(pcts)*100:.2f}%)\")\n",
    "\n",
    "counts, bin_edges = np.histogram(sdf[~sdf.description_category.isin(['undefined', 'default', 'default_strip', 'default_add_1word', 'default_edited_1word'])].created_at, bins=bins)\n",
    "pcts = counts / totals\n",
    "ax.plot(bin_edges[:-1], pcts, label=f\"Customized (M={np.mean(pcts)*100:.2f}%)\")\n",
    "\n",
    "bin_width_s = bin_edges[1] - bin_edges[0]\n",
    "ax.set_ylabel(f\"New sites per {bin_width_s / 1000 / 60 / 60 / 24:.0f} days\")\n",
    "ax.set_xlabel(\"Date of site creation\")\n",
    "ax.set_title(f\"My Story / site descriptions\\nfor {len(sdf):,} sites created in 2019 and 2020\")\n",
    "\n",
    "#ax.xaxis.set_major_formatter(matplotlib.ticker.FuncFormatter(lambda x, y: datetime.utcfromtimestamp(x / 1000).replace(tzinfo=pytz.timezone('US/Central')).strftime(\"%Y\\n%m/%d\").replace(\" 0\", \" \")))\n",
    "x_dates = [start_time + relativedelta(years=i) for i in range(3)]\n",
    "ax.set_xticks([d.timestamp() * 1000 for d in x_dates])\n",
    "ax.set_xticklabels([f\"Jan 1\\n\" + d.strftime('%Y') for i, d in enumerate(x_dates)])\n",
    "ax.legend()\n",
    "\n",
    "plt.show()"
   ]
  },
  {
   "cell_type": "code",
   "execution_count": null,
   "metadata": {},
   "outputs": [],
   "source": [
    "# we consider a description to be customized if it is never set, is set to the default text modulo whitespace, or they have added or removed 1 word.\n",
    "sdf['isDescriptionCustomized'] = ~sdf.description_category.isin(['undefined', 'default', 'default_strip', 'default_add_1word', 'default_edited_1word'])\n",
    "# sites with lower privacy are more likely to set a description: 33% for low-privacy sites vs 25% for high-privacy sites (with medium in the middle at 29%)\n",
    "pd.crosstab(sdf.isDescriptionCustomized, sdf.privacy, normalize='columns')"
   ]
  },
  {
   "cell_type": "code",
   "execution_count": null,
   "metadata": {},
   "outputs": [],
   "source": [
    "\n",
    "fig, ax = plt.subplots(1, 1, figsize=(6, 6))\n",
    "\n",
    "xs = sdf.numJournals.map(lambda v: np.log10(v) + 0.0001 if v > 0 else 0)\n",
    "assert np.sum(xs > 0) == np.sum(sdf.numJournals > 0)\n",
    "\n",
    "g1 = xs[sdf.isDescriptionCustomized]\n",
    "g2 = xs[~sdf.isDescriptionCustomized]\n",
    "ax.violinplot([g1, g2])\n",
    "ax.yaxis.set_major_formatter(matplotlib.ticker.StrMethodFormatter(\"$10^{{{x:.0f}}}$\"))\n",
    "\n",
    "ax.set_ylabel(f\"Number of published Journal updates\")\n",
    "ax.set_xlabel(\"Was the site's description customized?\")\n",
    "ax.set_xticks([1, 2])\n",
    "ax.set_xticklabels([f'Customized (n={len(g1):,})', f'Default (n={len(g2):,})'])\n",
    "ax.set_title(f\"My Story / site descriptions\\nfor {len(sdf):,} sites created in 2019 and 2020\")\n",
    "print(f\"% zero: {np.sum(g1 == 0) / len(g1)*100:.2f}% \\t {np.sum(g2 == 0) / len(g2)*100:.2f}%\")\n",
    "print(f\"Median: {np.median(g1):.2f} \\t {np.median(g2):.2f}\")\n",
    "print(f\"Median non-zero: {np.median(g1[g1 > 0]):.2f} \\t {np.median(g2[g2 > 0]):.2f}\")\n",
    "print(f\"Mean non-zero: {np.mean(g1[g1 > 0]):.2f} \\t {np.mean(g2[g2 > 0]):.2f}\")\n",
    "\n",
    "\n",
    "plt.show()"
   ]
  },
  {
   "cell_type": "code",
   "execution_count": null,
   "metadata": {},
   "outputs": [],
   "source": [
    "# 43% of sites with a Journal update have customized the site's description, compared to 6% of sites without a Journal update\n",
    "pd.crosstab(sdf.isDescriptionCustomized.rename(\"Has customized description\"), (sdf.numJournals > 0).rename('1+ Journal updates'), normalize='columns')"
   ]
  },
  {
   "cell_type": "code",
   "execution_count": null,
   "metadata": {},
   "outputs": [],
   "source": [
    "# 92% of sites with a customized site description have published a Journal update \n",
    "pd.crosstab(sdf.isDescriptionCustomized.rename(\"Has customized description\"), (sdf.numJournals > 0).rename('1+ Journal updates'), normalize='index')"
   ]
  },
  {
   "cell_type": "code",
   "execution_count": null,
   "metadata": {},
   "outputs": [],
   "source": []
  },
  {
   "cell_type": "code",
   "execution_count": null,
   "metadata": {},
   "outputs": [],
   "source": []
  },
  {
   "cell_type": "code",
   "execution_count": null,
   "metadata": {},
   "outputs": [],
   "source": []
  },
  {
   "cell_type": "code",
   "execution_count": null,
   "metadata": {},
   "outputs": [],
   "source": []
  }
 ],
 "metadata": {
  "kernelspec": {
   "display_name": "Python (shared-conda)",
   "language": "python",
   "name": "shared-conda"
  },
  "language_info": {
   "codemirror_mode": {
    "name": "ipython",
    "version": 3
   },
   "file_extension": ".py",
   "mimetype": "text/x-python",
   "name": "python",
   "nbconvert_exporter": "python",
   "pygments_lexer": "ipython3",
   "version": "3.8.5"
  }
 },
 "nbformat": 4,
 "nbformat_minor": 4
}
