{
 "cells": [
  {
   "cell_type": "markdown",
   "metadata": {},
   "source": [
    "Qual Feedback Emails\n",
    "===\n",
    "\n",
    "This notebook was used to generate and send the final round of qualitative feedback emails."
   ]
  },
  {
   "cell_type": "code",
   "execution_count": null,
   "metadata": {},
   "outputs": [],
   "source": [
    "%reload_ext autoreload\n",
    "%autoreload 2\n",
    "%matplotlib inline"
   ]
  },
  {
   "cell_type": "code",
   "execution_count": null,
   "metadata": {},
   "outputs": [],
   "source": [
    "import numpy as np\n",
    "import pandas as pd\n",
    "import matplotlib.pyplot as plt\n",
    "import matplotlib\n",
    "matplotlib.rcParams['figure.dpi'] = 120\n",
    "matplotlib.rcParams['font.family'] = \"serif\""
   ]
  },
  {
   "cell_type": "code",
   "execution_count": null,
   "metadata": {},
   "outputs": [],
   "source": [
    "import json\n",
    "import bson\n",
    "from bson.codec_options import CodecOptions\n",
    "from bson.raw_bson import RawBSONDocument\n",
    "from bson import ObjectId\n",
    "import gzip\n",
    "\n",
    "import os\n",
    "from tqdm import tqdm\n",
    "import pickle\n",
    "from glob import glob\n",
    "\n",
    "from datetime import datetime\n",
    "from dateutil.relativedelta import relativedelta\n",
    "import dateutil\n",
    "import pytz\n",
    "\n",
    "from pprint import pprint"
   ]
  },
  {
   "cell_type": "code",
   "execution_count": null,
   "metadata": {},
   "outputs": [],
   "source": [
    "from pathlib import Path\n",
    "git_root_dir = !git rev-parse --show-toplevel\n",
    "git_root_dir = Path(git_root_dir[0].strip())\n",
    "git_root_dir"
   ]
  },
  {
   "cell_type": "code",
   "execution_count": null,
   "metadata": {},
   "outputs": [],
   "source": [
    "import sys\n",
    "caringbridge_core_path = \"/home/lana/levon003/repos/caringbridge_core\"\n",
    "sys.path.append(caringbridge_core_path)"
   ]
  },
  {
   "cell_type": "code",
   "execution_count": null,
   "metadata": {},
   "outputs": [],
   "source": [
    "import cbcore.data.paths"
   ]
  },
  {
   "cell_type": "code",
   "execution_count": null,
   "metadata": {},
   "outputs": [],
   "source": [
    "assert os.path.exists(cbcore.data.paths.raw_data_filepath)"
   ]
  },
  {
   "cell_type": "code",
   "execution_count": null,
   "metadata": {},
   "outputs": [],
   "source": [
    "caringbridge_core_path = \"/home/lana/levon003/repos/recsys-peer-match/src\"\n",
    "sys.path.append(caringbridge_core_path)"
   ]
  },
  {
   "cell_type": "code",
   "execution_count": null,
   "metadata": {},
   "outputs": [],
   "source": [
    "import cbrec.data"
   ]
  },
  {
   "cell_type": "markdown",
   "metadata": {},
   "source": [
    "### Loading previous batch recommendations"
   ]
  },
  {
   "cell_type": "code",
   "execution_count": null,
   "metadata": {},
   "outputs": [],
   "source": [
    "participant_data_dir = os.path.join(cbcore.data.paths.projects_data_dir, 'recsys-peer-match', 'participant')\n",
    "!ls {participant_data_dir}/*.ndjson"
   ]
  },
  {
   "cell_type": "code",
   "execution_count": null,
   "metadata": {},
   "outputs": [],
   "source": [
    "# load in recommendations from previous rounds\n",
    "d = []\n",
    "for batch_id in [0, 1, 2, 3, 4, 5, 6, 7, 8, 9, 10]:\n",
    "    participant_data_filepath = os.path.join(participant_data_dir, f'participant_rec_data_b{batch_id}.ndjson')\n",
    "    with open(participant_data_filepath, 'r') as infile:\n",
    "        for line in infile:\n",
    "            participant = json.loads(line)\n",
    "            del participant['site_scores']\n",
    "            participant['batch_id'] = batch_id\n",
    "            d.append(participant)\n",
    "\n",
    "len(d)"
   ]
  },
  {
   "cell_type": "code",
   "execution_count": null,
   "metadata": {},
   "outputs": [],
   "source": [
    "batch_df = pd.DataFrame(d)\n",
    "batch_df.head()"
   ]
  },
  {
   "cell_type": "code",
   "execution_count": null,
   "metadata": {},
   "outputs": [],
   "source": [
    "batch_df.sse_site_list.iloc[0][0]"
   ]
  },
  {
   "cell_type": "code",
   "execution_count": null,
   "metadata": {},
   "outputs": [],
   "source": [
    "participant_recced_site_map = {}\n",
    "for participant_id, group in batch_df.groupby('participant_id'):\n",
    "    recced_site_ids = []\n",
    "    for sse_site_list in group.sse_site_list:\n",
    "        recced_site_ids.extend([site['site_id'] for site in sse_site_list])\n",
    "    assert len(recced_site_ids) == len(set(recced_site_ids)), \"Duplicate rec was given.\"\n",
    "    recced_site_ids = list(set(recced_site_ids))\n",
    "    participant_recced_site_map[participant_id] = recced_site_ids\n",
    "len(participant_recced_site_map)"
   ]
  },
  {
   "cell_type": "code",
   "execution_count": null,
   "metadata": {},
   "outputs": [],
   "source": [
    "participant_recced_site_map[54217]"
   ]
  },
  {
   "cell_type": "code",
   "execution_count": null,
   "metadata": {},
   "outputs": [],
   "source": [
    "recced_usps = [(row.participant_id, site['site_id']) for row in batch_df.itertuples() for site in row.sse_site_list]\n",
    "len(recced_usps)"
   ]
  },
  {
   "cell_type": "code",
   "execution_count": null,
   "metadata": {},
   "outputs": [],
   "source": [
    "assert len(set(recced_usps)) == len(recced_usps), \"Duplicate rec given.\""
   ]
  },
  {
   "cell_type": "code",
   "execution_count": null,
   "metadata": {},
   "outputs": [],
   "source": []
  },
  {
   "cell_type": "markdown",
   "metadata": {},
   "source": [
    "## Participant data"
   ]
  },
  {
   "cell_type": "code",
   "execution_count": null,
   "metadata": {},
   "outputs": [],
   "source": [
    "# get participant data\n",
    "participant_id_filepath = os.path.join(git_root_dir, 'data/email/participant_ids.tsv')\n",
    "participant_df = pd.read_csv(participant_id_filepath, sep='\\t', header=0)\n",
    "print(len(participant_df))\n",
    "participant_df.head()"
   ]
  },
  {
   "cell_type": "code",
   "execution_count": null,
   "metadata": {},
   "outputs": [],
   "source": [
    "participant_batch_count_map = batch_df.groupby('participant_id').batch_id.nunique().to_dict()\n",
    "participant_df['n_total_recs'] = participant_df.user_id.map(lambda user_id: participant_batch_count_map[user_id] * 5 if user_id in participant_batch_count_map else 0)\n",
    "participant_df.n_total_recs.value_counts()"
   ]
  },
  {
   "cell_type": "code",
   "execution_count": null,
   "metadata": {},
   "outputs": [],
   "source": [
    "participant_first_sse_map = batch_df.groupby('participant_id').sse_sent_timestamp.min()\n",
    "participant_df['first_sse_timestamp'] = participant_df.user_id.map(lambda user_id: participant_first_sse_map[user_id] if user_id in participant_first_sse_map else -1)\n",
    "participant_df.first_sse_timestamp.value_counts()"
   ]
  },
  {
   "cell_type": "markdown",
   "metadata": {},
   "source": [
    "## Cloudfront logs"
   ]
  },
  {
   "cell_type": "code",
   "execution_count": null,
   "metadata": {},
   "outputs": [],
   "source": [
    "# load the logs as a dataframe\n",
    "s = datetime.now()\n",
    "cloudfront_filepath = os.path.join(git_root_dir, 'data/cloudfront/cloudfront_sse_visits_20211101.csv')\n",
    "cf_df1 = pd.read_csv(cloudfront_filepath, header=0, sep=',')\n",
    "print(f\"Loaded {len(cf_df1)} rows in {datetime.now() - s}.\")\n",
    "\n",
    "s = datetime.now()\n",
    "cloudfront_filepath = os.path.join(git_root_dir, 'data/cloudfront/cloudfront_sse_visits_20211202.csv')\n",
    "cf_df2 = pd.read_csv(cloudfront_filepath, header=0, sep=',')\n",
    "print(f\"Loaded {len(cf_df2)} rows in {datetime.now() - s}.\")"
   ]
  },
  {
   "cell_type": "code",
   "execution_count": null,
   "metadata": {},
   "outputs": [],
   "source": [
    "for cf_df in [cf_df1, cf_df2]:\n",
    "    timestamps = []\n",
    "    for date, time in tqdm(zip(cf_df.date, cf_df.time), total=len(cf_df)):\n",
    "        d = datetime.strptime(date + \" \" + time, '%Y-%m-%d %H:%M:%S').replace(tzinfo=pytz.UTC)\n",
    "        timestamp = int(d.timestamp())\n",
    "        timestamps.append(timestamp)\n",
    "    cf_df['timestamp'] = timestamps"
   ]
  },
  {
   "cell_type": "code",
   "execution_count": null,
   "metadata": {},
   "outputs": [],
   "source": [
    "# confirming that every request in the first dataframe is also present in the second\n",
    "requests1 = set([(row.request_ip, row.timestamp) for row in cf_df1.itertuples()])\n",
    "requests2 = set([(row.request_ip, row.timestamp) for row in cf_df2.itertuples()])\n",
    "assert len(requests1 - requests2) == 0"
   ]
  },
  {
   "cell_type": "code",
   "execution_count": null,
   "metadata": {},
   "outputs": [],
   "source": []
  },
  {
   "cell_type": "code",
   "execution_count": null,
   "metadata": {},
   "outputs": [],
   "source": [
    "# load the logs as a dataframe\n",
    "s = datetime.now()\n",
    "cloudfront_filepath = os.path.join(git_root_dir, 'data/cloudfront/cloudfront_sse_visits_20211202.csv')\n",
    "cf_df = pd.read_csv(cloudfront_filepath, header=0, sep=',')\n",
    "print(f\"Loaded {len(cf_df)} rows in {datetime.now() - s}.\")\n",
    "cf_df.sample(n=10)"
   ]
  },
  {
   "cell_type": "code",
   "execution_count": null,
   "metadata": {},
   "outputs": [],
   "source": [
    "timestamps = []\n",
    "for date, time in tqdm(zip(cf_df.date, cf_df.time), total=len(cf_df)):\n",
    "    d = datetime.strptime(date + \" \" + time, '%Y-%m-%d %H:%M:%S').replace(tzinfo=pytz.UTC)\n",
    "    timestamp = int(d.timestamp())\n",
    "    timestamps.append(timestamp)\n",
    "cf_df['timestamp'] = timestamps"
   ]
  },
  {
   "cell_type": "code",
   "execution_count": null,
   "metadata": {},
   "outputs": [],
   "source": [
    "cf_df.method.value_counts()"
   ]
  },
  {
   "cell_type": "code",
   "execution_count": null,
   "metadata": {},
   "outputs": [],
   "source": [
    "scf_df = cf_df[cf_df.method == 'GET'].copy()\n",
    "len(scf_df)"
   ]
  },
  {
   "cell_type": "code",
   "execution_count": null,
   "metadata": {},
   "outputs": [],
   "source": [
    "def get_utm_info(query_string):\n",
    "    tokens = query_string.split(\"&\")\n",
    "    return {token.split(\"=\")[0]: token.split(\"=\")[1] for token in tokens}\n",
    "new_cols = pd.DataFrame(list(scf_df.query_string.map(get_utm_info)), index=scf_df.index)\n",
    "#pd.concat([scf_df, new_cols], axis=1)\n",
    "# add the columns\n",
    "scf_df = scf_df.merge(new_cols, left_index=True, right_index=True)\n",
    "scf_df['participant_id'] = scf_df.participant_id.astype(int)\n",
    "len(scf_df)"
   ]
  },
  {
   "cell_type": "code",
   "execution_count": null,
   "metadata": {},
   "outputs": [],
   "source": [
    "def get_batch_num(utm_campaign):\n",
    "    tokens = utm_campaign.split(\"+\")\n",
    "    if len(tokens) == 2:\n",
    "        return 0\n",
    "    else:\n",
    "        return int(tokens[-1])\n",
    "\n",
    "scf_df['batch_id'] = scf_df.utm_campaign.map(get_batch_num)\n",
    "scf_df.batch_id.value_counts()"
   ]
  },
  {
   "cell_type": "code",
   "execution_count": null,
   "metadata": {},
   "outputs": [],
   "source": [
    "def get_site_name(uri):\n",
    "    assert uri.startswith('/visit/')\n",
    "    return uri.split(\"/\")[2]\n",
    "scf_df['site_name'] = scf_df.uri.map(get_site_name)\n",
    "scf_df.site_name.nunique()"
   ]
  },
  {
   "cell_type": "code",
   "execution_count": null,
   "metadata": {},
   "outputs": [],
   "source": [
    "scf_df.head()"
   ]
  },
  {
   "cell_type": "code",
   "execution_count": null,
   "metadata": {},
   "outputs": [],
   "source": [
    "scf_df.utm_campaign.value_counts()"
   ]
  },
  {
   "cell_type": "code",
   "execution_count": null,
   "metadata": {},
   "outputs": [],
   "source": [
    "scf_df.groupby('participant_id').batch_id.value_counts().rename('click_count').reset_index().head()"
   ]
  },
  {
   "cell_type": "code",
   "execution_count": null,
   "metadata": {},
   "outputs": [],
   "source": [
    "# in how many batches has a participant participated?\n",
    "scf_df.groupby('participant_id').batch_id.nunique().rename(\"batch_participation_count\").sort_values(ascending=False).reset_index()"
   ]
  },
  {
   "cell_type": "code",
   "execution_count": null,
   "metadata": {},
   "outputs": [],
   "source": [
    "scf_df.groupby('participant_id').site_name.nunique().rename(\"unique_site_visit_count\").reset_index().sort_values(by='unique_site_visit_count', ascending=False)"
   ]
  },
  {
   "cell_type": "code",
   "execution_count": null,
   "metadata": {},
   "outputs": [],
   "source": [
    "scf_df.groupby('participant_id').site_name.nunique().sum()"
   ]
  },
  {
   "cell_type": "code",
   "execution_count": null,
   "metadata": {},
   "outputs": [],
   "source": []
  },
  {
   "cell_type": "code",
   "execution_count": null,
   "metadata": {},
   "outputs": [],
   "source": [
    "# merge in participant data\n",
    "scf_df = scf_df.merge(participant_df, how='left', left_on='participant_id', right_on='user_id', validate='many_to_one')\n",
    "len(scf_df)"
   ]
  },
  {
   "cell_type": "code",
   "execution_count": null,
   "metadata": {},
   "outputs": [],
   "source": [
    "scf_df.head()"
   ]
  },
  {
   "cell_type": "code",
   "execution_count": null,
   "metadata": {},
   "outputs": [],
   "source": [
    "# identify time_to_click in seconds\n",
    "time_to_click = scf_df.timestamp - (scf_df.first_sse_timestamp / 1000)\n",
    "print(f\"{np.sum(time_to_click < 0) / len(time_to_click) * 100:.2f}% ({np.sum(time_to_click < 0)}) of clicks happened before the email was sent (due to Zach's testing); median time {np.median(time_to_click[time_to_click < 0]) / 60:.2f}mins\")\n",
    "#time_to_click = np.maximum(time_to_click, 0)\n",
    "scf_df['time_to_click'] = time_to_click\n",
    "scf_df[['participant_id', 'time_to_click']].sort_values('time_to_click')"
   ]
  },
  {
   "cell_type": "code",
   "execution_count": null,
   "metadata": {},
   "outputs": [],
   "source": [
    "scf_df = scf_df[scf_df.time_to_click > 0]\n",
    "len(scf_df)"
   ]
  },
  {
   "cell_type": "code",
   "execution_count": null,
   "metadata": {},
   "outputs": [],
   "source": [
    "# manual exclusion finding\n",
    "sdf = scf_df[(scf_df.participant_id == 0)&(scf_df.batch_id == 1)].copy()\n",
    "sdf['iso'] = sdf.timestamp.map(lambda ts: datetime.utcfromtimestamp(ts).isoformat())\n",
    "sdf[['timestamp', 'iso']]"
   ]
  },
  {
   "cell_type": "code",
   "execution_count": null,
   "metadata": {},
   "outputs": [],
   "source": [
    "scf_df = scf_df[~((scf_df.participant_id == 0)&(scf_df.batch_id == 1)&(scf_df.timestamp == 1633621589))]\n",
    "len(scf_df)"
   ]
  },
  {
   "cell_type": "code",
   "execution_count": null,
   "metadata": {},
   "outputs": [],
   "source": [
    "scf_df.groupby('user_id').time_to_click.count().sort_values(ascending=False).rename(\"total_rec_clicks\")"
   ]
  },
  {
   "cell_type": "code",
   "execution_count": null,
   "metadata": {},
   "outputs": [],
   "source": [
    "total_rec_clicks = scf_df.groupby('user_id').time_to_click.count().rename(\"total_rec_clicks\")\n",
    "total_rec_clicks.sum(), total_rec_clicks.count()"
   ]
  },
  {
   "cell_type": "code",
   "execution_count": null,
   "metadata": {},
   "outputs": [],
   "source": []
  },
  {
   "cell_type": "code",
   "execution_count": null,
   "metadata": {},
   "outputs": [],
   "source": [
    "fig, ax = plt.subplots(1, 1, figsize=(6, 6))\n",
    "\n",
    "bins = 100\n",
    "counts, bin_edges = np.histogram(scf_df.timestamp, bins=bins)\n",
    "ax.plot(bin_edges[:-1], counts, label=\"All visits\")\n",
    "\n",
    "bin_width_s = bin_edges[1] - bin_edges[0]\n",
    "ax.set_ylabel(f\"Requests per {bin_width_s / 60:.1f} minutes\")\n",
    "ax.set_xlabel(\"Date (central time)\")\n",
    "ax.set_title(\"Cloudfront site visits from site suggestion emails\")\n",
    "\n",
    "# note this is when the FIRST email was sent in batch 0\n",
    "ax.axvline(1630612646, linestyle='--', color='black', label='batch')\n",
    "print(datetime.utcfromtimestamp(1630612646))\n",
    "\n",
    "ax.xaxis.set_major_formatter(matplotlib.ticker.FuncFormatter(lambda x, y: datetime.utcfromtimestamp(x).replace(tzinfo=pytz.timezone('US/Central')).strftime(\"%m/%d\\n%H:%M\")))\n",
    "\n",
    "plt.show()"
   ]
  },
  {
   "cell_type": "code",
   "execution_count": null,
   "metadata": {},
   "outputs": [],
   "source": [
    "fig, ax = plt.subplots(1, 1, figsize=(6, 6))\n",
    "\n",
    "xs = scf_df.time_to_click / 60 / 60\n",
    "bins = np.arange(xs.min(), xs.max(), 1)\n",
    "counts, bin_edges = np.histogram(xs, bins=bins)\n",
    "ax.plot(bin_edges[:-1], counts, label=\"All visits\", linewidth=1)\n",
    "\n",
    "bin_width_s = bin_edges[1] - bin_edges[0]\n",
    "ax.set_ylabel(f\"Visits per {bin_width_s:.1f} hours\")\n",
    "ax.set_xlabel(\"Time to click (hours)\")\n",
    "ax.set_title(\"Cloudfront site visits from site suggestion emails\")\n",
    "\n",
    "plt.show()"
   ]
  },
  {
   "cell_type": "code",
   "execution_count": null,
   "metadata": {},
   "outputs": [],
   "source": [
    "scf_df.utm_content.value_counts()"
   ]
  },
  {
   "cell_type": "code",
   "execution_count": null,
   "metadata": {},
   "outputs": [],
   "source": [
    "scf_df.participant_id.value_counts()"
   ]
  },
  {
   "cell_type": "code",
   "execution_count": null,
   "metadata": {},
   "outputs": [],
   "source": [
    "# total number of participants who clicked a link\n",
    "len(scf_df.participant_id.value_counts())"
   ]
  },
  {
   "cell_type": "code",
   "execution_count": null,
   "metadata": {},
   "outputs": [],
   "source": [
    "scf_df.site_name.value_counts().head()"
   ]
  },
  {
   "cell_type": "code",
   "execution_count": null,
   "metadata": {},
   "outputs": [],
   "source": [
    "# number of unique (participant -> site) visit pairs\n",
    "np.sum(pd.crosstab(scf_df.participant_id, scf_df.site_name).to_numpy() > 0)"
   ]
  },
  {
   "cell_type": "code",
   "execution_count": null,
   "metadata": {},
   "outputs": [],
   "source": [
    "# number of times a site was visited 2 or more times by a participant\n",
    "np.sum(pd.crosstab(scf_df.participant_id, scf_df.site_name).to_numpy() >= 2)"
   ]
  },
  {
   "cell_type": "code",
   "execution_count": null,
   "metadata": {},
   "outputs": [],
   "source": [
    "pd.crosstab(scf_df.site_name, scf_df.utm_content, margins=True).sort_values('All', ascending=False).head(n=10)"
   ]
  },
  {
   "cell_type": "code",
   "execution_count": null,
   "metadata": {},
   "outputs": [],
   "source": [
    "scf_df.request_ip.value_counts().head()"
   ]
  },
  {
   "cell_type": "code",
   "execution_count": null,
   "metadata": {},
   "outputs": [],
   "source": []
  },
  {
   "cell_type": "markdown",
   "metadata": {},
   "source": [
    "### Visits and Follows\n",
    "\n",
    "From the site_profile diffs, look for:\n",
    " - Visits to the site\n",
    " - Follows of the site\n",
    " - Role changes (specifically to \"Removed\", but anything involving Organizer's is interesting too)"
   ]
  },
  {
   "cell_type": "code",
   "execution_count": null,
   "metadata": {},
   "outputs": [],
   "source": [
    "participant_user_ids = set(participant_df[participant_df.n_total_recs > 0].user_id)\n",
    "len(participant_user_ids)"
   ]
  },
  {
   "cell_type": "code",
   "execution_count": null,
   "metadata": {},
   "outputs": [],
   "source": [
    "from cbcore.script.computeCollectionCounts import iterate_collection\n",
    "# identify site_profiles for participants\n",
    "site_profiles = []\n",
    "input_filepath = os.path.join(cbcore.data.paths.raw_data_filepath, 'site_profile.bson.gz')\n",
    "for doc in tqdm(iterate_collection(input_filepath), desc='Processing documents', total=83000000):\n",
    "    user_id = int(doc['userId']) if 'userId' in doc else -1\n",
    "    if user_id in participant_user_ids:\n",
    "        site_profiles.append(doc)\n",
    "len(site_profiles)"
   ]
  },
  {
   "cell_type": "code",
   "execution_count": null,
   "metadata": {},
   "outputs": [],
   "source": [
    "output_dir = os.path.join(cbcore.data.paths.projects_data_dir, 'recsys-peer-match', 'participant')\n",
    "os.makedirs(output_dir, exist_ok=True)\n",
    "with open(os.path.join(output_dir, 'site_profile.pkl'), 'wb') as outfile:\n",
    "    pickle.dump(site_profiles, outfile)"
   ]
  },
  {
   "cell_type": "code",
   "execution_count": null,
   "metadata": {},
   "outputs": [],
   "source": [
    "# load the site profiles\n",
    "with open(os.path.join(participant_data_dir, 'site_profile.pkl'), 'rb') as infile:\n",
    "    site_profiles = pickle.load(infile)\n",
    "print(len(site_profiles))\n",
    "\n",
    "# create a dataframe from the site profile entires\n",
    "ds = []\n",
    "for sp in site_profiles:\n",
    "    user_id = int(sp['userId'])\n",
    "    site_id = int(sp['siteId']) if 'siteId' in sp else -1\n",
    "    # not capturing: n, nl\n",
    "    d = {\n",
    "        'user_id': user_id,\n",
    "        'site_id': site_id,\n",
    "        'is_creator': sp['isCreator'] if 'isCreator' in sp else None,\n",
    "        'is_primary': sp['isPrimary'] if 'isPrimary' in sp else None,\n",
    "        'role': sp['role'],\n",
    "        'is_profile_deleted': sp['isProfileDeleted'] if 'isProfileDeleted' in sp else None,\n",
    "        'is_site_deleted': sp['isSiteDeleted'] if 'isSiteDeleted' in sp else None,\n",
    "        'is_stub': sp['isStub'] if 'isStub' in sp else None,\n",
    "        'created_at': sp['createdAt'].timestamp() * 1000 if 'createdAt' in sp else 0,\n",
    "        'updated_at': sp['updatedAt'].timestamp() * 1000 if 'updatedAt' in sp else 0,\n",
    "        'n': dict(sp['n']) if 'n' in sp and sp['n'] is not None else {},\n",
    "    }\n",
    "    ds.append(d)\n",
    "\n",
    "ssite_profile_df = pd.DataFrame(ds)\n",
    "ssite_profile_df.sample(n=10, random_state=0)"
   ]
  },
  {
   "cell_type": "code",
   "execution_count": null,
   "metadata": {},
   "outputs": [],
   "source": [
    "dict(site_profiles[0])"
   ]
  },
  {
   "cell_type": "code",
   "execution_count": null,
   "metadata": {},
   "outputs": [],
   "source": [
    "# TODO parse the notification logs as well to get specific info\n",
    "for sp in site_profiles[::-1]:\n",
    "    n = dict(sp['n']) if 'n' in sp and sp['n'] is not None else {}\n",
    "    if len(n) > 0:\n",
    "        print(dict(sp))\n",
    "        break"
   ]
  },
  {
   "cell_type": "code",
   "execution_count": null,
   "metadata": {},
   "outputs": [],
   "source": [
    "rsite_profile_df = ssite_profile_df.set_index(['user_id', 'site_id']).sort_index()\n",
    "rsite_profile_df = rsite_profile_df.loc[rsite_profile_df.index.intersection(recced_usps)].reset_index()\n",
    "len(rsite_profile_df)"
   ]
  },
  {
   "cell_type": "code",
   "execution_count": null,
   "metadata": {},
   "outputs": [],
   "source": [
    "rsite_profile_df.head()"
   ]
  },
  {
   "cell_type": "code",
   "execution_count": null,
   "metadata": {},
   "outputs": [],
   "source": [
    "# load the site metadata dataframe\n",
    "# this is created in caringbridge_core from the new data\n",
    "site_metadata_working_dir = \"/home/lana/shared/caringbridge/data/derived/site_metadata\"\n",
    "s = datetime.now()\n",
    "site_metadata_filepath = os.path.join(site_metadata_working_dir, \"site_metadata.feather\")\n",
    "site_info_df = pd.read_feather(site_metadata_filepath)\n",
    "print(datetime.now() - s)\n",
    "len(site_info_df)"
   ]
  },
  {
   "cell_type": "code",
   "execution_count": null,
   "metadata": {},
   "outputs": [],
   "source": [
    "assert np.sum(site_info_df.site_id.value_counts() > 1) == 0, \"Site ids are not globally unique.\""
   ]
  },
  {
   "cell_type": "code",
   "execution_count": null,
   "metadata": {},
   "outputs": [],
   "source": [
    "n_duplicate_names = np.sum(site_info_df.name.value_counts() > 1)\n",
    "n_duplicate_names, n_duplicate_names / len(site_info_df)"
   ]
  },
  {
   "cell_type": "code",
   "execution_count": null,
   "metadata": {},
   "outputs": [],
   "source": [
    "# remove duplicate site names from the site_info_df\n",
    "print(len(site_info_df))\n",
    "site_info_df = site_info_df.drop_duplicates(subset='name', keep='last', ignore_index=True)\n",
    "print(len(site_info_df))"
   ]
  },
  {
   "cell_type": "code",
   "execution_count": null,
   "metadata": {},
   "outputs": [],
   "source": [
    "# add site_id to the cloudfront data\n",
    "scf_df = pd.merge(scf_df, site_info_df[['site_id', 'name']], how='left', left_on='site_name', right_on='name', validate='many_to_one')"
   ]
  },
  {
   "cell_type": "code",
   "execution_count": null,
   "metadata": {},
   "outputs": [],
   "source": [
    "len(scf_df)"
   ]
  },
  {
   "cell_type": "code",
   "execution_count": null,
   "metadata": {},
   "outputs": [],
   "source": []
  },
  {
   "cell_type": "code",
   "execution_count": null,
   "metadata": {},
   "outputs": [],
   "source": [
    "first_clicks = scf_df.sort_values(by='timestamp').drop_duplicates(subset=['user_id', 'site_id'], keep='first')\n",
    "len(first_clicks)"
   ]
  },
  {
   "cell_type": "code",
   "execution_count": null,
   "metadata": {},
   "outputs": [],
   "source": [
    "first_clicks_map = {(row.user_id, row.site_id): row.timestamp for row in first_clicks.itertuples()}\n",
    "first_visits_map = {(row.user_id, row.site_id): row.created_at / 1000 for row in rsite_profile_df.itertuples()}\n",
    "len(first_clicks_map), len(first_visits_map)"
   ]
  },
  {
   "cell_type": "code",
   "execution_count": null,
   "metadata": {},
   "outputs": [],
   "source": [
    "# the sets are not the same...\n",
    "set(first_clicks_map.keys()) == set(first_visits_map.keys())"
   ]
  },
  {
   "cell_type": "code",
   "execution_count": null,
   "metadata": {},
   "outputs": [],
   "source": [
    "all_first_click_or_visit_pairs = set(first_clicks_map.keys()) | set(first_visits_map.keys())\n",
    "len(all_first_click_or_visit_pairs)"
   ]
  },
  {
   "cell_type": "code",
   "execution_count": null,
   "metadata": {},
   "outputs": [],
   "source": [
    "participant_rec_map = {}\n",
    "for user_id, group in batch_df.groupby('participant_id'):\n",
    "    participant_rec_map[user_id] = []\n",
    "    for sse in group.itertuples():\n",
    "        for site in sse.sse_site_list:\n",
    "            participant_rec_map[user_id].append(site['site_id'])\n",
    "len(participant_rec_map)"
   ]
  },
  {
   "cell_type": "code",
   "execution_count": null,
   "metadata": {},
   "outputs": [],
   "source": [
    "participant_rec_time_map = {}\n",
    "for user_id, group in batch_df.groupby('participant_id'):\n",
    "    participant_rec_time_map[user_id] = {}\n",
    "    for sse in group.itertuples():\n",
    "        for site in sse.sse_site_list:\n",
    "            participant_rec_time_map[user_id][site['site_id']] = sse.sse_sent_timestamp\n",
    "len(participant_rec_time_map)"
   ]
  },
  {
   "cell_type": "code",
   "execution_count": null,
   "metadata": {},
   "outputs": [],
   "source": [
    "n_total = 0\n",
    "n_visit_only = 0\n",
    "n_click_only = 0\n",
    "n_both = 0\n",
    "n_visit_unrelated_to_rec = 0\n",
    "n_visit_pre_rec = 0\n",
    "rec_to_visit_time_diffs = []\n",
    "click_to_visit_time_diffs = []\n",
    "\n",
    "for usp in all_first_click_or_visit_pairs:\n",
    "    if usp in first_clicks_map:\n",
    "        first_click_ts = first_clicks_map[usp]\n",
    "    else:\n",
    "        first_click_ts = None\n",
    "    if usp in first_visits_map:\n",
    "        first_visit_ts = first_visits_map[usp]\n",
    "    else:\n",
    "        first_visit_ts = None\n",
    "    \n",
    "    n_total += 1\n",
    "    if first_visit_ts and first_click_ts:\n",
    "        n_both += 1\n",
    "        click_to_visit_time_diffs.append(first_visit_ts - first_click_ts)\n",
    "    elif first_visit_ts and not first_click_ts:\n",
    "        # didn't register click OR visited pre-study\n",
    "        n_visit_only += 1\n",
    "        \n",
    "        user_id, site_id = usp\n",
    "        # was this site actually recommended?\n",
    "        was_recced = site_id in participant_rec_map[user_id]\n",
    "        if not was_recced:\n",
    "            n_visit_unrelated_to_rec += 1\n",
    "            continue\n",
    "        # did this visit occur before the associated recommendation?\n",
    "        recced_time = participant_rec_time_map[user_id][site_id] / 1000\n",
    "        rec_to_visit_time_diffs.append(first_visit_ts - recced_time)\n",
    "        if first_visit_ts < recced_time:\n",
    "            n_visit_pre_rec += 1\n",
    "        print(datetime.utcfromtimestamp(recced_time).isoformat())\n",
    "        \n",
    "    elif not first_visit_ts and first_click_ts:\n",
    "        # visit while not logged in\n",
    "        n_click_only += 1\n",
    "    elif not first_visit_ts and not first_click_ts:\n",
    "        raise ValueError(\"what?\")\n",
    "    else:\n",
    "        raise ValueError(\"big what.\")\n",
    "n_total, n_visit_only, n_click_only, n_both, n_visit_unrelated_to_rec, n_visit_pre_rec"
   ]
  },
  {
   "cell_type": "code",
   "execution_count": null,
   "metadata": {},
   "outputs": [],
   "source": [
    "22 / len(scf_df)"
   ]
  },
  {
   "cell_type": "code",
   "execution_count": null,
   "metadata": {},
   "outputs": [],
   "source": [
    "# time in hours between rec email sent time and the visit\n",
    "# no obvious patterns... seems to approximately mirror the distribution of time_to_click\n",
    "np.array(rec_to_visit_time_diffs) / 60 / 60"
   ]
  },
  {
   "cell_type": "code",
   "execution_count": null,
   "metadata": {},
   "outputs": [],
   "source": [
    "click_to_visit_time_diffs = np.array(click_to_visit_time_diffs)\n",
    "len(click_to_visit_time_diffs)"
   ]
  },
  {
   "cell_type": "code",
   "execution_count": null,
   "metadata": {},
   "outputs": [],
   "source": [
    "plt.hist(click_to_visit_time_diffs, log=True, bins=50)\n",
    "plt.axvline(np.mean(click_to_visit_time_diffs), label=f\"mean={np.mean(click_to_visit_time_diffs):.2f}s\", color='black', linestyle='--')\n",
    "plt.legend()\n",
    "plt.title(\"Distribution of time between Cloudfront click and site_profile visit\")\n",
    "plt.xlabel(\"Time difference in seconds\")\n",
    "plt.ylabel(\"Number of first clicks\")\n",
    "plt.show()"
   ]
  },
  {
   "cell_type": "code",
   "execution_count": null,
   "metadata": {},
   "outputs": [],
   "source": [
    "first_clicks = scf_df.sort_values(by='timestamp').drop_duplicates(subset=['user_id', 'site_id'], keep='first')\n",
    "first_clicks_set = set([(row.user_id, row.site_id) for row in first_clicks.itertuples()])\n",
    "for row in rsite_profile_df.itertuples():\n",
    "    first_clicks_set.add((row.user_id, row.site_id))\n",
    "len(first_clicks_set)"
   ]
  },
  {
   "cell_type": "code",
   "execution_count": null,
   "metadata": {},
   "outputs": [],
   "source": [
    "click_rec_timestamp_map = {}\n",
    "for user_id, group in batch_df.groupby('participant_id'):\n",
    "    for sse in group.sort_values(by='batch_id', ascending=False).itertuples():\n",
    "        for site in sse.sse_site_list:\n",
    "            site_id = site['site_id']\n",
    "            if (user_id, site_id) in first_clicks_set:\n",
    "                click_rec_timestamp_map[(user_id, site_id)] = sse.sse_sent_timestamp\n",
    "len(click_rec_timestamp_map)"
   ]
  },
  {
   "cell_type": "code",
   "execution_count": null,
   "metadata": {},
   "outputs": [],
   "source": [
    "first_click_df = pd.DataFrame([(key[0], key[1], value) for key, value in click_rec_timestamp_map.items()], \n",
    "             columns=['user_id', 'site_id', 'sse_sent_timestamp'])\n",
    "len(first_click_df)"
   ]
  },
  {
   "cell_type": "code",
   "execution_count": null,
   "metadata": {},
   "outputs": [],
   "source": [
    "first_click_df.head()"
   ]
  },
  {
   "cell_type": "code",
   "execution_count": null,
   "metadata": {},
   "outputs": [],
   "source": [
    "first_click_df.user_id.value_counts().map(lambda t: t if t < 3 else '3+').value_counts()"
   ]
  },
  {
   "cell_type": "code",
   "execution_count": null,
   "metadata": {},
   "outputs": [],
   "source": [
    "unsubscribed_participant_ids = [46968058, 41287667, 46797384, 45938249, 27972265, 25245959]"
   ]
  },
  {
   "cell_type": "code",
   "execution_count": null,
   "metadata": {},
   "outputs": [],
   "source": [
    "user_samples = {}\n",
    "for user_id, group in first_click_df.groupby('user_id'):\n",
    "    if len(group) <= 3:\n",
    "        user_samples[user_id] = [(row.site_id, row.sse_sent_timestamp) for row in group.itertuples()]\n",
    "    else:\n",
    "        user_samples[user_id] = []\n",
    "        group = group.sort_values(by='sse_sent_timestamp', ascending=False)\n",
    "        user_samples[user_id] = [(row.site_id, row.sse_sent_timestamp) for row in group.iloc[1:].sample(n=2).sort_values(by='sse_sent_timestamp', ascending=False).itertuples()]\n",
    "        user_samples[user_id].insert(0, (group.iloc[0].site_id, group.iloc[0].sse_sent_timestamp))\n",
    "len(user_samples)"
   ]
  },
  {
   "cell_type": "code",
   "execution_count": null,
   "metadata": {},
   "outputs": [],
   "source": [
    "site_name_map = {row.site_id: row.name for row in site_info_df.itertuples()}\n",
    "site_title_map = {row.site_id: row.title for row in site_info_df.itertuples()}"
   ]
  },
  {
   "cell_type": "code",
   "execution_count": null,
   "metadata": {},
   "outputs": [],
   "source": [
    "first_name_map = {row.user_id: row.first_name for row in participant_df.itertuples()}\n",
    "participant_email_address_map = {row.user_id: row.real_email_address for row in participant_df.itertuples()}"
   ]
  },
  {
   "cell_type": "code",
   "execution_count": null,
   "metadata": {},
   "outputs": [],
   "source": [
    "from email.mime.multipart import MIMEMultipart\n",
    "from email.mime.text import MIMEText"
   ]
  },
  {
   "cell_type": "code",
   "execution_count": null,
   "metadata": {},
   "outputs": [],
   "source": [
    "html_master_text_preamble = \"\"\"<html>\n",
    "<head>\n",
    "  <meta charset=\"utf-8\">\n",
    "  <meta name=\"generator\" content=\"Google Web Designer 12.0.0.0719\">\n",
    "  <style type=\"text/css\" id=\"gwd-text-style\">\n",
    "    p {{\n",
    "      margin: 0px;\n",
    "    }}\n",
    "    h1 {{\n",
    "      margin: 0px;\n",
    "    }}\n",
    "    h2 {{\n",
    "      margin: 0px;\n",
    "    }}\n",
    "    h3 {{\n",
    "      margin: 0px;\n",
    "    }}\n",
    "  </style>\n",
    "  <style type=\"text/css\">\n",
    "    html, body {{\n",
    "      width: 100%;\n",
    "      height: 100%;\n",
    "      margin: 0px;\n",
    "    }}\n",
    "    body {{\n",
    "      background-color: transparent;\n",
    "      transform: perspective(1400px) matrix3d(1, 0, 0, 0, 0, 1, 0, 0, 0, 0, 1, 0, 0, 0, 0, 1);\n",
    "      transform-style: preserve-3d;\n",
    "    }}\n",
    "    .gwd-p-1rxr {{\n",
    "      height: auto;\n",
    "      left: 0px;\n",
    "      position: absolute;\n",
    "      top: 0px;\n",
    "      width: auto;\n",
    "    }}\n",
    "    .gwd-table-1bb4 {{\n",
    "      left: 0px;\n",
    "      top: 326px;\n",
    "    }}\n",
    "  </style>\n",
    "</head>\n",
    "\n",
    "<body class=\"htmlNoPages\">\n",
    "  <table width=\"100%\" bgcolor=\"#efe9e5\" cellpadding=\"0\" cellspacing=\"0\" border=\"0\">\n",
    "    <tbody>\n",
    "      <tr>\n",
    "        <td>\n",
    "          <table width=\"600\" cellpadding=\"0\" cellspacing=\"0\" border=\"0\" align=\"center\">\n",
    "            <tbody>\n",
    "              <tr>\n",
    "                <td width=\"100%\" height=\"10\"></td>\n",
    "              </tr>\n",
    "              <tr>\n",
    "                <td>\n",
    "                  <table width=\"100%\" align=\"center\" border=\"0\" cellpadding=\"0\" cellspacing=\"0\">\n",
    "                    <tbody>\n",
    "                      <tr>\n",
    "                        <td align=\"left\" valign=\"middle\" style=\"font-family: Arial, Helvetica, Verdana, sans-serif; font-size: 16px; color: rgb(43, 41, 39);\">\n",
    "                        </td>\n",
    "                      </tr>\n",
    "                    </tbody>\n",
    "                  </table>\n",
    "                </td>\n",
    "              </tr>\n",
    "              <tr>\n",
    "                <td width=\"100%\" height=\"20\"></td>\n",
    "              </tr>\n",
    "              <tr>\n",
    "                <td style=\"font-family: Arial, Helvetica, Verdana, sans-serif; font-size: 16px; color: rgb(43, 41, 39);\">\n",
    "                  <a target=\"_blank\" href=\"https://www.caringbridge.org\" style=\"color: rgb(162, 25, 132); font-size: 30px;\">\n",
    "                    <img src=\"https://university-relations.umn.edu/sites/university-relations.umn.edu/files/styles/no_re-size/public/example_wdmk-example.png\" border=\"0\" width=\"387\" style=\"display: block; border: none; outline: none; text-decoration: none; width: 100%; height: auto; max-width: 387px;\" alt=\"University of Minnesota\">\n",
    "                  </a>\n",
    "                </td>\n",
    "              </tr>\n",
    "              <tr>\n",
    "                <td width=\"100%\" height=\"20\"></td>\n",
    "              </tr>\n",
    "            </tbody>\n",
    "          </table>\n",
    "        </td>\n",
    "      </tr>\n",
    "    </tbody>\n",
    "  </table>\n",
    "  <table width=\"100%\" bgcolor=\"#f7f4f2\" cellpadding=\"0\" cellspacing=\"0\" border=\"0\">\n",
    "    <tbody>\n",
    "      <tr>\n",
    "        <td style=\"font-family: Arial, Helvetica, Verdana, sans-serif; font-size: 16px; color: rgb(43, 41, 39); text-align: left; line-height: 24px;\">\n",
    "          <table width=\"600\" cellpadding=\"0\" cellspacing=\"0\" border=\"0\" align=\"center\">\n",
    "            <tbody>\n",
    "              <tr>\n",
    "                <td align=\"center\" height=\"20\" style=\"font-size: 1px; line-height: 1px;\">&nbsp;</td>\n",
    "              </tr>\n",
    "              <tr>\n",
    "                <td style=\"font-family: Arial, Helvetica, Verdana, sans-serif; font-size: 18px; color: rgb(43, 41, 39); text-align: left; line-height: 24px;\">\n",
    "                  <span style=\"color: rgb(43, 41, 39);\">\"\"\"\n",
    "\n",
    "html_master_text_postamble = \"\"\"<i>--<br>\n",
    "                    Zachary Levonian<br>\n",
    "                    PhD Candidate<br>\n",
    "                    GroupLens Research<br>\n",
    "                    University of Minnesota<br>\n",
    "                    https://z.umn.edu/zlevonian\n",
    "                    </i><br>\n",
    "                </td>\n",
    "              </tr>\n",
    "              <tr>\n",
    "                <td align=\"center\" height=\"30\" style=\"font-size: 1px; line-height: 1px;\">&nbsp;</td>\n",
    "              </tr>\n",
    "            </tbody>\n",
    "          </table>\n",
    "        </td>\n",
    "      </tr>\n",
    "    </tbody>\n",
    "  </table>\n",
    "  <table width=\"100%\" bgcolor=\"#efe9e5\" cellpadding=\"0\" cellspacing=\"0\" border=\"0\" class=\"gwd-table-1bb4\">\n",
    "    <tbody>\n",
    "      <tr>\n",
    "        <td>\n",
    "          <table width=\"600\" cellpadding=\"0\" cellspacing=\"0\" border=\"0\" align=\"center\">\n",
    "            <tbody>\n",
    "              <tr>\n",
    "                <td width=\"100%\" height=\"20\"></td>\n",
    "              </tr>\n",
    "              <tr>\n",
    "                <td align=\"left\" valign=\"middle\" style=\"font-family: Arial, Helvetica, Verdana, sans-serif; font-size: 16px; color: rgb(43, 41, 39); line-height: 24px;\">\n",
    "                  <a href=\"https://z.umn.edu/cbSuggestionsFaq\" style=\"color: rgb(122, 110, 102);\" target=\"_blank\">Frequently Asked Questions</a> &nbsp;&nbsp;&nbsp;&nbsp;\n",
    "                </td>\n",
    "              </tr>\n",
    "              <tr>\n",
    "                <td width=\"100%\" height=\"20\"></td>\n",
    "              </tr>\n",
    "              <tr>\n",
    "                <td align=\"left\" valign=\"middle\" style=\"font-family: Arial, Helvetica, Verdana, sans-serif; font-size: 16px; color: rgb(43, 41, 39); line-height: 24px;\">\n",
    "                  This is the last email you'll get from me; thank you again for participating in our study! &nbsp;&nbsp;&nbsp;&nbsp;\n",
    "                </td>\n",
    "              </tr>\n",
    "              <tr>\n",
    "                <td width=\"100%\" height=\"20\"></td>\n",
    "              </tr>\n",
    "              <tr>\n",
    "                <td align=\"left\" valign=\"middle\" style=\"font-family: Arial, Helvetica, Verdana, sans-serif; font-size: 16px; color: rgb(43, 41, 39); line-height: 24px;\">\n",
    "                  <a href=\"https://www.caringbridge.org\" style=\"color: rgb(122, 110, 102);\" target=\"_blank\">Your CaringBridge Home</a> &nbsp;&nbsp;&nbsp;&nbsp;\n",
    "                </td>\n",
    "              </tr>\n",
    "              <tr>\n",
    "                <td width=\"100%\" height=\"20\"></td>\n",
    "              </tr>\n",
    "              <tr>\n",
    "                <td align=\"left\" valign=\"middle\" style=\"font-family: Arial, Helvetica, Verdana, sans-serif; font-size: 16px; color: rgb(43, 41, 39); line-height: 24px;\">\n",
    "                  <a href=\"https://caringbridgeorg.force.com/s\" style=\"color: rgb(122, 110, 102);\" target=\"_blank\">CaringBridge Help Center</a> &nbsp;&nbsp;&nbsp;&nbsp;\n",
    "                </td>\n",
    "              </tr>\n",
    "              <tr>\n",
    "                <td width=\"100%\" height=\"20\"></td>\n",
    "              </tr>\n",
    "            </tbody>\n",
    "          </table>\n",
    "        </td>\n",
    "      </tr>\n",
    "    </tbody>\n",
    "  </table>\n",
    "</body>\n",
    "</html>\"\"\"\n",
    "\n",
    "single_click_plain_text_template = \"\"\"Hi {first_name},\n",
    "\n",
    "Thanks for participating in our research study. \n",
    "I noticed that you clicked on one of the suggested CaringBridge sites we sent to you: {clicked_sites}.\n",
    "In order to improve our suggestions in the future, we’d love to know if you found this site interesting.  \n",
    "What made the site interesting or not interesting, and why did you choose to follow or not follow the site?\n",
    "\n",
    "Any feedback is useful: just reply to this email with any thoughts you want to share!\n",
    "\n",
    "Thanks,\n",
    "-Zach\n",
    "\n",
    "Useful links:\n",
    "-Frequently Asked Questions: https://z.umn.edu/cbSuggestionsFaq \n",
    "-Your CaringBridge Home: https://www.caringbridge.org \n",
    "-CaringBridge Help Center: https://caringbridgeorg.force.com/s\n",
    "-This is the last email you'll get from me; thank you again for participating in our study!\n",
    "\n",
    "-- \n",
    "Zachary Levonian\n",
    "PhD Candidate\n",
    "GroupLens Research\n",
    "University of Minnesota\n",
    "https://z.umn.edu/zlevonian\n",
    "\"\"\"\n",
    "\n",
    "click_plain_text_template = \"\"\"Hi {first_name},\n",
    "\n",
    "Thanks for participating in our research study. \n",
    "I noticed that you clicked on some of the suggested CaringBridge sites we sent to you.  \n",
    "For example, you clicked on these {count} sites: {clicked_sites}.\n",
    "In order to improve our suggestions in the future, we’d love to know if you found those sites interesting.  \n",
    "Of those {count} sites, which was most interesting?  \n",
    "What made the site interesting, and why did you choose to follow or not follow the site?\n",
    "\n",
    "Any feedback is useful: just reply to this email with any thoughts you want to share!\n",
    "\n",
    "Thanks,\n",
    "-Zach\n",
    "\n",
    "Useful links:\n",
    "-Frequently Asked Questions: https://z.umn.edu/cbSuggestionsFaq \n",
    "-Your CaringBridge Home: https://www.caringbridge.org \n",
    "-CaringBridge Help Center: https://caringbridgeorg.force.com/s \n",
    "-This is the last email you'll get from me; thank you again for participating in our study!\n",
    "\n",
    "-- \n",
    "Zachary Levonian\n",
    "PhD Candidate\n",
    "GroupLens Research\n",
    "University of Minnesota\n",
    "https://z.umn.edu/zlevonian\n",
    "\"\"\"\n",
    "\n",
    "click_html_text_template = html_master_text_preamble + \"\"\"Hi {first_name},<br><br>\n",
    "\n",
    "Thanks for participating in our research study. \n",
    "I noticed that you clicked on some of the suggested CaringBridge sites we sent to you.  \n",
    "For example, you clicked on these {count} sites: {clicked_sites}.<br><br>\n",
    "In order to improve our suggestions in the future, we’d love to know if you found those sites interesting.  \n",
    "Of those {count} sites, which was most interesting?  \n",
    "What made the site interesting, and why did you choose to follow or not follow the site?<br><br>\n",
    "\n",
    "Any feedback is useful: just reply to this email with any thoughts you want to share!<br><br>\n",
    "\n",
    "Thanks,<br>\n",
    "-Zach<br><br>\"\"\" + html_master_text_postamble\n",
    "\n",
    "single_click_html_text_template = html_master_text_preamble + \"\"\"Hi {first_name},<br><br>\n",
    "\n",
    "Thanks for participating in our research study. \n",
    "I noticed that you clicked on one of the suggested CaringBridge sites we sent to you: {clicked_sites}.\n",
    "In order to improve our suggestions in the future, we’d love to know if you found this site interesting.  \n",
    "What made the site interesting or not interesting, and why did you choose to follow or not follow the site?<br><br>\n",
    "\n",
    "Any feedback is useful: just reply to this email with any thoughts you want to share!<br><br>\n",
    "\n",
    "Thanks,<br>\n",
    "-Zach<br><br>\"\"\" + html_master_text_postamble\n",
    "\n",
    "def create_click_email_message(to_email_address, first_name, site_list):\n",
    "    from_email_address = 'cb-suggestions@umn.edu'    \n",
    "    msg = MIMEMultipart('alternative')\n",
    "    msg['Subject'] = 'CaringBridge site suggestions feedback'\n",
    "    msg['From'] = f\"CaringBridge Suggestions Study <{from_email_address}>\"\n",
    "    msg['To'] = to_email_address\n",
    "    msg['Cc'] = 'Zachary Levonian <levon003@umn.edu>'\n",
    "\n",
    "    if len(site_list) == 1:\n",
    "        clicked_sites = site_list[0]\n",
    "        plain_text = single_click_plain_text_template.format(first_name=first_name, clicked_sites=clicked_sites)\n",
    "        html_text = single_click_html_text_template.format(first_name=first_name, clicked_sites=clicked_sites)\n",
    "    else:\n",
    "        if len(site_list) == 2:\n",
    "            count = 'two'\n",
    "        else:\n",
    "            count = 'three'\n",
    "        clicked_sites = ', '.join(site_list)\n",
    "        plain_text = click_plain_text_template.format(first_name=first_name, count=count, clicked_sites=clicked_sites)\n",
    "        html_text = click_html_text_template.format(first_name=first_name, count=count, clicked_sites=clicked_sites)\n",
    "    \n",
    "    part1 = MIMEText(plain_text, 'plain')\n",
    "    part2 = MIMEText(html_text, 'html')\n",
    "\n",
    "    msg.attach(part1)\n",
    "    msg.attach(part2)\n",
    "    \n",
    "    return msg"
   ]
  },
  {
   "cell_type": "code",
   "execution_count": null,
   "metadata": {},
   "outputs": [],
   "source": [
    "def get_site_url(site_name, participant_id, batch_id):\n",
    "    return f\"https://www.caringbridge.org/visit/{site_name}?utm_source=SSE&utm_medium=email&utm_campaign=SSE+email+{batch_id}&utm_content=visitsite&participant_id={participant_id}\"\n",
    "\n",
    "def make_link(site_title, site_url):\n",
    "    return f'<a href=\"{site_url}\" style=\"color: rgb(122, 110, 102);\">{site_title}</a>'\n",
    "\n",
    "messages = []\n",
    "for user_id, values in user_samples.items():\n",
    "    if user_id in unsubscribed_participant_ids:\n",
    "        continue\n",
    "    site_strings = []\n",
    "    for row in values:\n",
    "        date = datetime.fromtimestamp(row[1] / 1000)\n",
    "        date_rep = date.strftime('%b') + '. ' + date.strftime('%d').lstrip('0')\n",
    "        if date_rep.endswith('1'):\n",
    "            date_rep += 'st'\n",
    "        elif date_rep.endswith('2'):\n",
    "            date_rep += 'nd'\n",
    "        elif date_rep.endswith(' 3'):\n",
    "            date_rep += 'rd'\n",
    "        else:\n",
    "            date_rep += 'th'\n",
    "        url = get_site_url(site_name_map[row[0]], user_id, 11)\n",
    "        site_string = f\"{make_link(site_title_map[row[0]], url)} (suggested on {date_rep})\"\n",
    "        site_strings.append(site_string)\n",
    "    #print(first_name_map[user_id], site_strings)\n",
    "    to_email_address = participant_email_address_map[user_id]  # 'zwlevonian@gmail.com'\n",
    "    first_name = first_name_map[user_id]\n",
    "    msg = create_click_email_message(to_email_address, first_name, site_strings)\n",
    "    messages.append((user_id, to_email_address, msg))\n",
    "len(messages)"
   ]
  },
  {
   "cell_type": "code",
   "execution_count": null,
   "metadata": {},
   "outputs": [],
   "source": [
    "import cbsend.compose"
   ]
  },
  {
   "cell_type": "code",
   "execution_count": null,
   "metadata": {},
   "outputs": [],
   "source": [
    "participant_sent_time_map = {}\n",
    "for participant_id, to_email_address, msg in messages:\n",
    "    participant_sent_time_map[participant_id] = int(datetime.now().timestamp() * 1000)\n",
    "    result = cbsend.compose.send_email(to_email_address, msg)\n",
    "    if not result:\n",
    "        print(participant_id)\n",
    "len(participant_sent_time_map)"
   ]
  },
  {
   "cell_type": "code",
   "execution_count": null,
   "metadata": {},
   "outputs": [],
   "source": [
    "len(participant_sent_time_map)"
   ]
  },
  {
   "cell_type": "code",
   "execution_count": null,
   "metadata": {},
   "outputs": [],
   "source": []
  },
  {
   "cell_type": "code",
   "execution_count": null,
   "metadata": {},
   "outputs": [],
   "source": [
    "noclick_plain_text_template = \"\"\"Hi {first_name},\n",
    "\n",
    "Thanks for participating in our research study. \n",
    "I noticed that you didn’t explore any of the CaringBridge site suggestions we sent out, and we’d like to understand why in order to improve our suggestions in the future. \n",
    "If you read any of the suggestion emails, can you tell me why the suggestions weren’t interesting to you? \n",
    "\n",
    "If you weren’t in the right place to read or engage with any of the suggestion emails, I’d love to know why (any insight here really helps us improve our approach for future CaringBridge users).\n",
    "\n",
    "Any thoughts are useful: just reply to this email!\n",
    "\n",
    "Thanks,\n",
    "-Zach\n",
    "\n",
    "Useful links:\n",
    "-Frequently Asked Questions: https://z.umn.edu/cbSuggestionsFaq \n",
    "-Your CaringBridge Home: https://www.caringbridge.org \n",
    "-CaringBridge Help Center: https://caringbridgeorg.force.com/s \n",
    "-This is the last email you'll get from me; thank you again for participating in our study!\n",
    "\n",
    "-- \n",
    "Zachary Levonian\n",
    "PhD Candidate\n",
    "GroupLens Research\n",
    "University of Minnesota\n",
    "https://z.umn.edu/zlevonian\n",
    "\"\"\"\n",
    "\n",
    "noclick_html_text_template = html_master_text_preamble + \"\"\"Hi {first_name},<br><br>\n",
    "\n",
    "Thanks for participating in our research study. \n",
    "I noticed that you didn’t explore any of the CaringBridge site suggestions we sent out, and we’d like to understand why in order to improve our suggestions in the future. \n",
    "If you read any of the suggestion emails, can you tell me why the suggestions weren’t interesting to you?<br><br>\n",
    "\n",
    "If you weren’t in the right place to read or engage with any of the suggestion emails, I’d love to know why (any insight here really helps us improve our approach for future CaringBridge users).<br><br>\n",
    "\n",
    "Any thoughts are useful: just reply to this email!<br><br>\n",
    "\n",
    "Thanks,<br>\n",
    "-Zach<br><br>\"\"\" + html_master_text_postamble\n",
    "\n",
    "def create_noclick_email_message(to_email_address, first_name):\n",
    "    from_email_address = 'cb-suggestions@umn.edu'    \n",
    "    msg = MIMEMultipart('alternative')\n",
    "    msg['Subject'] = 'CaringBridge site suggestions feedback'\n",
    "    msg['From'] = f\"CaringBridge Suggestions Study <{from_email_address}>\"\n",
    "    msg['To'] = to_email_address\n",
    "    msg['Cc'] = 'Zachary Levonian <levon003@umn.edu>'\n",
    "    \n",
    "    plain_text = noclick_plain_text_template.format(first_name=first_name)\n",
    "    html_text = noclick_html_text_template.format(first_name=first_name)\n",
    "    \n",
    "    part1 = MIMEText(plain_text, 'plain')\n",
    "    part2 = MIMEText(html_text, 'html')\n",
    "\n",
    "    msg.attach(part1)\n",
    "    msg.attach(part2)\n",
    "    \n",
    "    return msg"
   ]
  },
  {
   "cell_type": "code",
   "execution_count": null,
   "metadata": {},
   "outputs": [],
   "source": [
    "noclick_participant_ids = set()\n",
    "for user_id, group in batch_df.groupby('participant_id'):\n",
    "    if user_id in unsubscribed_participant_ids:\n",
    "        continue\n",
    "    if user_id in participant_sent_time_map:\n",
    "        continue\n",
    "    noclick_participant_ids.add(user_id)\n",
    "len(noclick_participant_ids)"
   ]
  },
  {
   "cell_type": "code",
   "execution_count": null,
   "metadata": {},
   "outputs": [],
   "source": [
    "messages = []\n",
    "for user_id in noclick_participant_ids:\n",
    "    if user_id in unsubscribed_participant_ids:\n",
    "        continue\n",
    "    to_email_address = participant_email_address_map[user_id]  # 'zwlevonian@gmail.com'\n",
    "    first_name = first_name_map[user_id]\n",
    "    msg = create_noclick_email_message(to_email_address, first_name)\n",
    "    messages.append((user_id, to_email_address, msg))\n",
    "len(messages)"
   ]
  },
  {
   "cell_type": "code",
   "execution_count": null,
   "metadata": {},
   "outputs": [],
   "source": [
    "noclick_participant_sent_time_map = {}\n",
    "for participant_id, to_email_address, msg in messages:\n",
    "    noclick_participant_sent_time_map[participant_id] = int(datetime.now().timestamp() * 1000)\n",
    "    to_email_addresses = [to_email_address, 'levon003@umn.edu']\n",
    "    result = cbsend.compose.send_email(to_email_addresses, msg)\n",
    "    if not result:\n",
    "        print(participant_id)\n",
    "len(noclick_participant_sent_time_map)"
   ]
  },
  {
   "cell_type": "code",
   "execution_count": null,
   "metadata": {},
   "outputs": [],
   "source": []
  },
  {
   "cell_type": "code",
   "execution_count": null,
   "metadata": {},
   "outputs": [],
   "source": [
    "# columns: participant_id, click vs noclick email, timestamp of sent email, \n",
    "participant_data_filepath = os.path.join(cbcore.data.paths.projects_data_dir, \n",
    "                                         'recsys-peer-match', 'participant', \n",
    "                                         f'participant_qual_followup_b11.tsv')\n",
    "with open(participant_data_filepath, 'w') as outfile:\n",
    "    for participant_id, timestamp in participant_sent_time_map.items():\n",
    "        sampled_sites = user_samples[participant_id][::]\n",
    "        while len(sampled_sites) < 3:\n",
    "            sampled_sites.append(\"\")\n",
    "        res = '\\t'.join([str(s) for s in sampled_sites])\n",
    "        outfile.write(f\"{participant_id}\\tclick\\t{timestamp}\\t{res}\\n\")\n",
    "    for participant_id, timestamp in noclick_participant_sent_time_map.items():\n",
    "        outfile.write(f\"{participant_id}\\tnoclick\\t{timestamp}\\t\\t\\t\\n\")\n",
    "print(f\"Finished writing {participant_data_filepath}.\")"
   ]
  },
  {
   "cell_type": "code",
   "execution_count": null,
   "metadata": {},
   "outputs": [],
   "source": []
  },
  {
   "cell_type": "code",
   "execution_count": null,
   "metadata": {},
   "outputs": [],
   "source": []
  },
  {
   "cell_type": "code",
   "execution_count": null,
   "metadata": {},
   "outputs": [],
   "source": []
  },
  {
   "cell_type": "code",
   "execution_count": null,
   "metadata": {},
   "outputs": [],
   "source": []
  },
  {
   "cell_type": "code",
   "execution_count": null,
   "metadata": {},
   "outputs": [],
   "source": []
  },
  {
   "cell_type": "code",
   "execution_count": null,
   "metadata": {},
   "outputs": [],
   "source": []
  },
  {
   "cell_type": "code",
   "execution_count": null,
   "metadata": {},
   "outputs": [],
   "source": [
    "# load the site profile diff\n",
    "s = datetime.now()\n",
    "site_profile_diff_filepath = os.path.join(cbcore.data.paths.projects_data_dir, 'caringbridge_core', 'site_profile_diff', 'site_profile_diff.tsv')\n",
    "site_profile_diff_df = pd.read_csv(site_profile_diff_filepath, sep='\\t', header=0)\n",
    "print(f\"Read {len(site_profile_diff_df)} rows in {datetime.now() - s}.\")\n",
    "site_profile_diff_df.head()"
   ]
  },
  {
   "cell_type": "code",
   "execution_count": null,
   "metadata": {},
   "outputs": [],
   "source": [
    "daily_counts = site_profile_diff_df.snapshot_date.value_counts().sort_index()\n",
    "\n",
    "fig, ax = plt.subplots(1, 1, figsize=(12, 3))\n",
    "\n",
    "xs = np.arange(len(daily_counts))\n",
    "ax.plot(xs, daily_counts)\n",
    "nl = '\\n'\n",
    "for x, count in zip(xs, daily_counts):\n",
    "    ax.text(x, count, f\"{count / 1000:,.0f}K\", ha='center', va='bottom' if x % 2 == 0 else 'top')  # {nl if x % 2 == 0 else ''}\n",
    "\n",
    "ax.set_xticks(xs)\n",
    "ax.set_xticklabels([f\"{str(i)[4:6]}\\n{str(i)[6:]}\" for i in daily_counts.index])\n",
    "\n",
    "ax.set_title(\"Daily updates to the site_profile collection, captured via snapshot\")\n",
    "ax.set_xlabel(\"Snapshot date\")\n",
    "ax.set_ylabel(\"Number of updates\")\n",
    "\n",
    "plt.tight_layout()\n",
    "plt.show()\n",
    "\n",
    "np.median(daily_counts)"
   ]
  },
  {
   "cell_type": "code",
   "execution_count": null,
   "metadata": {},
   "outputs": [],
   "source": [
    "site_profile_diff_df.key.value_counts()"
   ]
  },
  {
   "cell_type": "code",
   "execution_count": null,
   "metadata": {},
   "outputs": [],
   "source": [
    "rsite_profile_diff_df = site_profile_diff_df.set_index(['user_id', 'site_id']).sort_index()\n",
    "rsite_profile_diff_df = rsite_profile_diff_df.loc[rsite_profile_diff_df.index.intersection(recced_usps)].reset_index()\n",
    "len(rsite_profile_diff_df)"
   ]
  },
  {
   "cell_type": "code",
   "execution_count": null,
   "metadata": {},
   "outputs": [],
   "source": [
    "rsite_profile_diff_df.head()"
   ]
  },
  {
   "cell_type": "code",
   "execution_count": null,
   "metadata": {},
   "outputs": [],
   "source": [
    "# how many unique user->site updates did we observe?\n",
    "rsite_profile_diff_df.groupby(['user_id', 'site_id']).ngroups"
   ]
  },
  {
   "cell_type": "code",
   "execution_count": null,
   "metadata": {},
   "outputs": [],
   "source": [
    "sp_df = rsite_profile_diff_df.merge(rsite_profile_df, how='outer', on=['user_id', 'site_id'])\n",
    "len(sp_df)"
   ]
  },
  {
   "cell_type": "code",
   "execution_count": null,
   "metadata": {},
   "outputs": [],
   "source": [
    "sp_df.head()"
   ]
  },
  {
   "cell_type": "code",
   "execution_count": null,
   "metadata": {},
   "outputs": [],
   "source": [
    "sp_df.key.value_counts()"
   ]
  },
  {
   "cell_type": "code",
   "execution_count": null,
   "metadata": {},
   "outputs": [],
   "source": [
    "# visit actions\n",
    "#sdf = sp_df[sp_df.key == 'updatedAt']\n",
    "ds = []\n",
    "for usp, group in sp_df.groupby(['user_id', 'site_id']):\n",
    "    n_potential_missed_visits = 0\n",
    "    prev_visit_timestamp = int(group.iloc[0].created_at)\n",
    "    visit_timestamps = [prev_visit_timestamp,]\n",
    "    for row in group[group.key == 'updatedAt'].sort_values(by='new_value').itertuples():\n",
    "        new_value = int(row.new_value) * 1000\n",
    "        old_value = int(row.old_value) * 1000\n",
    "        assert new_value > old_value\n",
    "        assert new_value > prev_visit_timestamp, f\"{new_value} {prev_visit_timestamp}\"\n",
    "        if old_value != prev_visit_timestamp:\n",
    "            assert old_value > prev_visit_timestamp\n",
    "            n_potential_missed_visits += 1\n",
    "            visit_timestamps.append(old_value)\n",
    "        visit_timestamps.append(new_value)\n",
    "        prev_visit_timestamp = new_value\n",
    "    n_visits = len(visit_timestamps)\n",
    "    ds.append({\n",
    "        'user_id': usp[0],\n",
    "        'site_id': usp[1],\n",
    "        'n_visits': n_visits,\n",
    "        'n_potential_missed_visits': n_potential_missed_visits,\n",
    "        'visit_timestamps': visit_timestamps,\n",
    "    })\n",
    "visit_df = pd.DataFrame(ds)\n",
    "len(visit_df)"
   ]
  },
  {
   "cell_type": "code",
   "execution_count": null,
   "metadata": {},
   "outputs": [],
   "source": [
    "visit_df.sort_values(by='n_visits', ascending=False).head(10)"
   ]
  },
  {
   "cell_type": "code",
   "execution_count": null,
   "metadata": {},
   "outputs": [],
   "source": [
    "visit_df.groupby('user_id').n_visits.sum().sort_values(ascending=False)"
   ]
  },
  {
   "cell_type": "code",
   "execution_count": null,
   "metadata": {},
   "outputs": [],
   "source": [
    "visit_df.groupby('user_id').n_visits.sum().sum()"
   ]
  },
  {
   "cell_type": "code",
   "execution_count": null,
   "metadata": {},
   "outputs": [],
   "source": [
    "# how many \"return visits\" are there?\n",
    "def count_return_visits(visit_timestamps):\n",
    "    if len(visit_timestamps) <= 1:\n",
    "        return 0\n",
    "    return_visit_threshold = 1000 * 60 * 60 * 6  # 6 hours\n",
    "    \n",
    "    n_return_visits = 0\n",
    "    first_timestamp = visit_timestamps[0]\n",
    "    for timestamp in visit_timestamps[1:]:\n",
    "        if timestamp > first_timestamp + return_visit_threshold:\n",
    "            n_return_visits += 1\n",
    "    return n_return_visits\n",
    "visit_df['n_return_visits'] = visit_df.visit_timestamps.map(count_return_visits)\n",
    "visit_df.n_return_visits.value_counts()"
   ]
  },
  {
   "cell_type": "code",
   "execution_count": null,
   "metadata": {},
   "outputs": [],
   "source": [
    "visit_df.n_return_visits.sum(), np.sum(visit_df.n_return_visits > 0)"
   ]
  },
  {
   "cell_type": "code",
   "execution_count": null,
   "metadata": {},
   "outputs": [],
   "source": [
    "len(visit_df.groupby('user_id').n_return_visits.count())"
   ]
  },
  {
   "cell_type": "code",
   "execution_count": null,
   "metadata": {},
   "outputs": [],
   "source": [
    "# TODO create a visit_df with all of the participants visits, and then compute pre/post comparison?"
   ]
  },
  {
   "cell_type": "code",
   "execution_count": null,
   "metadata": {},
   "outputs": [],
   "source": []
  },
  {
   "cell_type": "code",
   "execution_count": null,
   "metadata": {},
   "outputs": [],
   "source": [
    "# follow actions\n",
    "sp_df[sp_df.key == 'n']"
   ]
  },
  {
   "cell_type": "code",
   "execution_count": null,
   "metadata": {},
   "outputs": [],
   "source": [
    "# currently, this is a reasonable estimate of number of follow actions\n",
    "sp_df[sp_df.n.map(lambda n: len(n) > 0)].groupby(['user_id', 'site_id']).updated_at.nunique()"
   ]
  },
  {
   "cell_type": "code",
   "execution_count": null,
   "metadata": {},
   "outputs": [],
   "source": [
    "sp_df.n.map(lambda n: len(n)).value_counts()"
   ]
  },
  {
   "cell_type": "code",
   "execution_count": null,
   "metadata": {},
   "outputs": [],
   "source": [
    "pd.crosstab(sp_df.key, sp_df.n.map(lambda n: len(n)), dropna=False)"
   ]
  },
  {
   "cell_type": "code",
   "execution_count": null,
   "metadata": {},
   "outputs": [],
   "source": []
  },
  {
   "cell_type": "code",
   "execution_count": null,
   "metadata": {},
   "outputs": [],
   "source": []
  },
  {
   "cell_type": "markdown",
   "metadata": {},
   "source": [
    "## Interactions and journals"
   ]
  },
  {
   "cell_type": "code",
   "execution_count": null,
   "metadata": {},
   "outputs": [],
   "source": [
    "# load the journal dataframe with the index\n",
    "s = datetime.now()\n",
    "journal_metadata_dir = \"/home/lana/shared/caringbridge/data/derived/journal_metadata\"\n",
    "journal_metadata_filepath = os.path.join(journal_metadata_dir, \"journal_metadata.feather\")\n",
    "journal_df = pd.read_feather(journal_metadata_filepath)\n",
    "print(datetime.now() - s)\n",
    "len(journal_df)"
   ]
  },
  {
   "cell_type": "code",
   "execution_count": null,
   "metadata": {},
   "outputs": [],
   "source": [
    "# read interactions dataframe\n",
    "s = datetime.now()\n",
    "model_data_dir = '/home/lana/shared/caringbridge/data/projects/recsys-peer-match/model_data'\n",
    "ints_df = pd.read_feather(os.path.join(model_data_dir, 'ints_df.feather'))\n",
    "print(f\"Read {len(ints_df)} rows ({len(set(ints_df.user_id))} unique users) in {datetime.now() - s}.\")\n",
    "ints_df.head()"
   ]
  },
  {
   "cell_type": "code",
   "execution_count": null,
   "metadata": {},
   "outputs": [],
   "source": [
    "participant_user_ids = set(participant_df[participant_df.n_total_recs > 0].user_id)\n",
    "len(participant_user_ids)"
   ]
  },
  {
   "cell_type": "code",
   "execution_count": null,
   "metadata": {},
   "outputs": [],
   "source": [
    "participant_ints_df = ints_df[ints_df.user_id.isin(participant_user_ids)]\n",
    "participant_ints_df = participant_ints_df.set_index(['user_id', 'site_id']).sort_index()\n",
    "print(len(participant_ints_df))\n",
    "participant_ints_df.head()"
   ]
  },
  {
   "cell_type": "code",
   "execution_count": null,
   "metadata": {},
   "outputs": [],
   "source": [
    "total_int_count = participant_ints_df.groupby('user_id').created_at.count().rename('total_int_count').sort_values(ascending=False)\n",
    "plt.plot(range(len(total_int_count)), total_int_count)\n",
    "plt.ylabel(\"Total number of interactions\")\n",
    "plt.xlabel(\"Participant rank\")\n",
    "plt.show()"
   ]
  },
  {
   "cell_type": "code",
   "execution_count": null,
   "metadata": {},
   "outputs": [],
   "source": [
    "rec_ints_df = participant_ints_df.loc[participant_ints_df.index.intersection(recced_usps)].reset_index()\n",
    "len(rec_ints_df)"
   ]
  },
  {
   "cell_type": "code",
   "execution_count": null,
   "metadata": {},
   "outputs": [],
   "source": [
    "rec_ints_df.groupby('user_id').site_id.count().sort_values(ascending=False)"
   ]
  },
  {
   "cell_type": "code",
   "execution_count": null,
   "metadata": {},
   "outputs": [],
   "source": [
    "participant_df[participant_df.user_id == 0]"
   ]
  },
  {
   "cell_type": "code",
   "execution_count": null,
   "metadata": {},
   "outputs": [],
   "source": [
    "pd.crosstab(rec_ints_df.user_id, rec_ints_df.interaction_type)"
   ]
  },
  {
   "cell_type": "code",
   "execution_count": null,
   "metadata": {},
   "outputs": [],
   "source": [
    "participant_df.head()"
   ]
  },
  {
   "cell_type": "code",
   "execution_count": null,
   "metadata": {},
   "outputs": [],
   "source": [
    "days30 = 1000 * 60 * 60 * 24 * 30\n",
    "first_sse_timestamp_map = participant_df.set_index('user_id').first_sse_timestamp.to_dict()\n",
    "\n",
    "ds = []\n",
    "for user_id, group in participant_ints_df.groupby('user_id'):\n",
    "    if user_id not in first_sse_timestamp_map:\n",
    "        print(\"PANIC\")\n",
    "        continue\n",
    "    first_sse_timestamp = first_sse_timestamp_map[user_id]\n",
    "    if first_sse_timestamp == -1:\n",
    "        continue\n",
    "    n_total = len(group)\n",
    "    n_post = np.sum(group.created_at >= first_sse_timestamp)\n",
    "    n_pre = n_total - n_post\n",
    "    \n",
    "    \n",
    "    n_post_30 = np.sum((group.created_at >= first_sse_timestamp)&(group.created_at <= first_sse_timestamp + days30))\n",
    "    n_pre_30 = np.sum((group.created_at <= first_sse_timestamp)&(group.created_at >= first_sse_timestamp - days30))\n",
    "    d = {\n",
    "        'user_id': user_id,\n",
    "        'n_pre_30': n_pre_30, \n",
    "        'n_post_30': n_post_30,\n",
    "    }\n",
    "    ds.append(d)\n",
    "    \n",
    "int_count_df = pd.DataFrame(ds)\n",
    "len(int_count_df)"
   ]
  },
  {
   "cell_type": "code",
   "execution_count": null,
   "metadata": {},
   "outputs": [],
   "source": [
    "xs = int_count_df.n_post_30 - int_count_df.n_pre_30\n",
    "print(f\"{np.sum(xs > 0) / len(xs):.2%} greater, {np.sum(xs == 0) / len(xs):.2%} equal, {np.sum(xs < 0) / len(xs):.2%} less interactions, when comparing 30 days post-study-start and 30 days pre-study-start\")\n",
    "plt.hist(xs, bins=20)\n",
    "plt.title(\"Difference in number of interactions post vs pre study\")\n",
    "plt.show()"
   ]
  },
  {
   "cell_type": "code",
   "execution_count": null,
   "metadata": {},
   "outputs": [],
   "source": []
  },
  {
   "cell_type": "code",
   "execution_count": null,
   "metadata": {},
   "outputs": [],
   "source": []
  },
  {
   "cell_type": "code",
   "execution_count": null,
   "metadata": {},
   "outputs": [],
   "source": []
  }
 ],
 "metadata": {
  "kernelspec": {
   "display_name": "Python 3 (ipykernel)",
   "language": "python",
   "name": "python3"
  },
  "language_info": {
   "codemirror_mode": {
    "name": "ipython",
    "version": 3
   },
   "file_extension": ".py",
   "mimetype": "text/x-python",
   "name": "python",
   "nbconvert_exporter": "python",
   "pygments_lexer": "ipython3",
   "version": "3.9.7"
  }
 },
 "nbformat": 4,
 "nbformat_minor": 4
}
