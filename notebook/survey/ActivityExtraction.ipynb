{
 "cells": [
  {
   "cell_type": "markdown",
   "metadata": {},
   "source": [
    "Activity Extraction\n",
    "===\n",
    "\n",
    "Edit: I don't think this notebook ended up being for any of the things described below. We did use it to generate the qualitative data for analysis in the associated [spreadsheet](https://docs.google.com/spreadsheets/d/1i5YQZliK07ocOp0sQ2fBfYrEAj1js6xmjPJ3HKrU_IE/edit?usp=sharing).  My vague recollection is that I was planning to create data files with the appropriate subsets, and ended up deciding against it.\n",
    "\n",
    "Original comment:\n",
    "\n",
    "The goal of this notebook is to pull into intermediary data files all of the data that might be used for subsequent analyses.\n",
    "\n",
    " - Comment\n",
    " - Amp\n",
    " - Guestbook\n",
    " - Site_profile\n",
    " \n",
    "Note we can extract Reactions on the fly (since the data is small), although we should probably do so anyway.\n",
    "\n",
    "We also don't need to extract Journal data, since we have the metadata in the dataframe, database, etc.\n"
   ]
  },
  {
   "cell_type": "code",
   "execution_count": 1,
   "metadata": {},
   "outputs": [],
   "source": [
    "%reload_ext autoreload\n",
    "%autoreload 2\n",
    "%matplotlib inline"
   ]
  },
  {
   "cell_type": "code",
   "execution_count": 2,
   "metadata": {},
   "outputs": [],
   "source": [
    "import numpy as np\n",
    "import pandas as pd\n",
    "import matplotlib.pyplot as plt\n",
    "import matplotlib\n",
    "matplotlib.rcParams['figure.dpi'] = 120\n",
    "matplotlib.rcParams['font.family'] = \"serif\""
   ]
  },
  {
   "cell_type": "code",
   "execution_count": 3,
   "metadata": {},
   "outputs": [],
   "source": [
    "import csv\n",
    "import json\n",
    "import bson\n",
    "from bson.codec_options import CodecOptions\n",
    "from bson.raw_bson import RawBSONDocument\n",
    "from bson import ObjectId\n",
    "import gzip\n",
    "\n",
    "import os\n",
    "from tqdm import tqdm\n",
    "import pickle\n",
    "from glob import glob\n",
    "from copy import copy, deepcopy\n",
    "\n",
    "from datetime import datetime\n",
    "from dateutil.relativedelta import relativedelta\n",
    "import dateutil\n",
    "import pytz\n",
    "\n",
    "from pprint import pprint"
   ]
  },
  {
   "cell_type": "code",
   "execution_count": 4,
   "metadata": {},
   "outputs": [
    {
     "data": {
      "text/plain": [
       "PosixPath('/panfs/roc/groups/1/lana/levon003/repos/recsys-peer-match')"
      ]
     },
     "execution_count": 4,
     "metadata": {},
     "output_type": "execute_result"
    }
   ],
   "source": [
    "from pathlib import Path\n",
    "git_root_dir = !git rev-parse --show-toplevel\n",
    "git_root_dir = Path(git_root_dir[0].strip())\n",
    "git_root_dir"
   ]
  },
  {
   "cell_type": "code",
   "execution_count": 5,
   "metadata": {},
   "outputs": [],
   "source": [
    "import sys\n",
    "caringbridge_core_path = \"/home/lana/levon003/repos/caringbridge_core\"\n",
    "sys.path.append(caringbridge_core_path)"
   ]
  },
  {
   "cell_type": "code",
   "execution_count": 6,
   "metadata": {},
   "outputs": [],
   "source": [
    "import cbcore.data.paths\n",
    "import cbcore.data.dates\n",
    "from cbcore.data.utils import extract_long"
   ]
  },
  {
   "cell_type": "code",
   "execution_count": 7,
   "metadata": {},
   "outputs": [],
   "source": [
    "assert os.path.exists(cbcore.data.paths.raw_data_filepath)"
   ]
  },
  {
   "cell_type": "code",
   "execution_count": 8,
   "metadata": {},
   "outputs": [],
   "source": [
    "caringbridge_core_path = \"/home/lana/levon003/repos/recsys-peer-match/src\"\n",
    "sys.path.append(caringbridge_core_path)"
   ]
  },
  {
   "cell_type": "code",
   "execution_count": 9,
   "metadata": {},
   "outputs": [],
   "source": [
    "import cbrec.data"
   ]
  },
  {
   "cell_type": "code",
   "execution_count": 10,
   "metadata": {},
   "outputs": [],
   "source": [
    "import cbrec.genconfig\n",
    "import cbrec.text.textdb"
   ]
  },
  {
   "cell_type": "markdown",
   "metadata": {},
   "source": [
    "### Loading previous batch recommendations"
   ]
  },
  {
   "cell_type": "code",
   "execution_count": 11,
   "metadata": {},
   "outputs": [
    {
     "name": "stdout",
     "output_type": "stream",
     "text": [
      "/home/lana/shared/caringbridge/data/projects/recsys-peer-match/participant/all_author_visits.ndjson\n",
      "/home/lana/shared/caringbridge/data/projects/recsys-peer-match/participant/participant_rec_data_b0.ndjson\n",
      "/home/lana/shared/caringbridge/data/projects/recsys-peer-match/participant/participant_rec_data_b10.ndjson\n",
      "/home/lana/shared/caringbridge/data/projects/recsys-peer-match/participant/participant_rec_data_b1.ndjson\n",
      "/home/lana/shared/caringbridge/data/projects/recsys-peer-match/participant/participant_rec_data_b2.ndjson\n",
      "/home/lana/shared/caringbridge/data/projects/recsys-peer-match/participant/participant_rec_data_b3.ndjson\n",
      "/home/lana/shared/caringbridge/data/projects/recsys-peer-match/participant/participant_rec_data_b4.ndjson\n",
      "/home/lana/shared/caringbridge/data/projects/recsys-peer-match/participant/participant_rec_data_b5.ndjson\n",
      "/home/lana/shared/caringbridge/data/projects/recsys-peer-match/participant/participant_rec_data_b6.ndjson\n",
      "/home/lana/shared/caringbridge/data/projects/recsys-peer-match/participant/participant_rec_data_b7.ndjson\n",
      "/home/lana/shared/caringbridge/data/projects/recsys-peer-match/participant/participant_rec_data_b8.ndjson\n",
      "/home/lana/shared/caringbridge/data/projects/recsys-peer-match/participant/participant_rec_data_b9.ndjson\n"
     ]
    }
   ],
   "source": [
    "participant_data_dir = os.path.join(cbcore.data.paths.projects_data_dir, 'recsys-peer-match', 'participant')\n",
    "!ls {participant_data_dir}/*.ndjson"
   ]
  },
  {
   "cell_type": "code",
   "execution_count": 12,
   "metadata": {},
   "outputs": [
    {
     "data": {
      "text/plain": [
       "838"
      ]
     },
     "execution_count": 12,
     "metadata": {},
     "output_type": "execute_result"
    }
   ],
   "source": [
    "# load in recommendations from previous rounds\n",
    "d = []\n",
    "for batch_id in [0, 1, 2, 3, 4, 5, 6, 7, 8, 9, 10]:\n",
    "    participant_data_filepath = os.path.join(participant_data_dir, f'participant_rec_data_b{batch_id}.ndjson')\n",
    "    with open(participant_data_filepath, 'r') as infile:\n",
    "        for line in infile:\n",
    "            participant = json.loads(line)\n",
    "            del participant['site_scores']\n",
    "            participant['batch_id'] = batch_id\n",
    "            d.append(participant)\n",
    "\n",
    "len(d)"
   ]
  },
  {
   "cell_type": "code",
   "execution_count": null,
   "metadata": {},
   "outputs": [],
   "source": [
    "batch_df = pd.DataFrame(d)\n",
    "batch_df.head()"
   ]
  },
  {
   "cell_type": "code",
   "execution_count": null,
   "metadata": {},
   "outputs": [],
   "source": [
    "batch_df.sse_site_list.iloc[0][0]"
   ]
  },
  {
   "cell_type": "code",
   "execution_count": 15,
   "metadata": {},
   "outputs": [
    {
     "data": {
      "text/plain": [
       "79"
      ]
     },
     "execution_count": 15,
     "metadata": {},
     "output_type": "execute_result"
    }
   ],
   "source": [
    "participant_recced_site_map = {}\n",
    "for participant_id, group in batch_df.groupby('participant_id'):\n",
    "    recced_site_ids = []\n",
    "    for sse_site_list in group.sse_site_list:\n",
    "        recced_site_ids.extend([site['site_id'] for site in sse_site_list])\n",
    "    assert len(recced_site_ids) == len(set(recced_site_ids)), \"Duplicate rec was given.\"\n",
    "    recced_site_ids = list(set(recced_site_ids))\n",
    "    participant_recced_site_map[participant_id] = recced_site_ids\n",
    "len(participant_recced_site_map)"
   ]
  },
  {
   "cell_type": "code",
   "execution_count": 16,
   "metadata": {},
   "outputs": [
    {
     "data": {
      "text/plain": [
       "4190"
      ]
     },
     "execution_count": 16,
     "metadata": {},
     "output_type": "execute_result"
    }
   ],
   "source": [
    "recced_usps = [(row.participant_id, site['site_id']) for row in batch_df.itertuples() for site in row.sse_site_list]\n",
    "len(recced_usps)"
   ]
  },
  {
   "cell_type": "code",
   "execution_count": 17,
   "metadata": {},
   "outputs": [],
   "source": [
    "assert len(set(recced_usps)) == len(recced_usps), \"Duplicate rec given.\""
   ]
  },
  {
   "cell_type": "code",
   "execution_count": 18,
   "metadata": {},
   "outputs": [
    {
     "data": {
      "text/plain": [
       "4190"
      ]
     },
     "execution_count": 18,
     "metadata": {},
     "output_type": "execute_result"
    }
   ],
   "source": [
    "# create rec_df\n",
    "rec_df = []\n",
    "for row in batch_df.itertuples(index=False):\n",
    "    for i, site in enumerate(row.sse_site_list):\n",
    "        rec = row._asdict()\n",
    "        del rec['sse_site_list']\n",
    "        if 'journal_body' in site:\n",
    "            # some of the data were written with different key names for cleaned_journal_{body,title}\n",
    "            # this code normalizes the key names\n",
    "            site = dict(site)\n",
    "            site['cleaned_journal_body'] = site['journal_body']\n",
    "            del site['journal_body']\n",
    "            site['cleaned_journal_title'] = site['journal_title']\n",
    "            del site['journal_title']\n",
    "        rec.update(site)\n",
    "        rec['rank'] = i\n",
    "        rec_df.append(rec)\n",
    "rec_df = pd.DataFrame(rec_df)\n",
    "len(rec_df)"
   ]
  },
  {
   "cell_type": "code",
   "execution_count": 19,
   "metadata": {},
   "outputs": [],
   "source": [
    "# add alias for participant_id\n",
    "rec_df['user_id'] = rec_df['participant_id']"
   ]
  },
  {
   "cell_type": "code",
   "execution_count": null,
   "metadata": {},
   "outputs": [],
   "source": [
    "rec_df.sample(n=3)"
   ]
  },
  {
   "cell_type": "code",
   "execution_count": null,
   "metadata": {},
   "outputs": [],
   "source": []
  },
  {
   "cell_type": "markdown",
   "metadata": {},
   "source": [
    "## Participant data"
   ]
  },
  {
   "cell_type": "code",
   "execution_count": null,
   "metadata": {},
   "outputs": [],
   "source": [
    "# get participant data\n",
    "participant_id_filepath = os.path.join(git_root_dir, 'data/email/participant_ids.tsv')\n",
    "participant_df = pd.read_csv(participant_id_filepath, sep='\\t', header=0)\n",
    "print(len(participant_df))\n",
    "participant_df.head()"
   ]
  },
  {
   "cell_type": "code",
   "execution_count": 22,
   "metadata": {},
   "outputs": [
    {
     "data": {
      "text/plain": [
       "55    68\n",
       "0     13\n",
       "50     5\n",
       "40     3\n",
       "45     1\n",
       "20     1\n",
       "15     1\n",
       "Name: n_total_recs, dtype: int64"
      ]
     },
     "execution_count": 22,
     "metadata": {},
     "output_type": "execute_result"
    }
   ],
   "source": [
    "participant_batch_count_map = batch_df.groupby('participant_id').batch_id.nunique().to_dict()\n",
    "participant_df['n_total_recs'] = participant_df.user_id.map(lambda user_id: participant_batch_count_map[user_id] * 5 if user_id in participant_batch_count_map else 0)\n",
    "participant_df.n_total_recs.value_counts()"
   ]
  },
  {
   "cell_type": "code",
   "execution_count": 23,
   "metadata": {},
   "outputs": [
    {
     "data": {
      "text/plain": [
       " 1630612646000    73\n",
       "-1                13\n",
       " 1631917513158     1\n",
       " 1631917455307     1\n",
       " 1631917496143     1\n",
       " 1631917519053     1\n",
       " 1631917494995     1\n",
       " 1631917489049     1\n",
       "Name: first_sse_timestamp, dtype: int64"
      ]
     },
     "execution_count": 23,
     "metadata": {},
     "output_type": "execute_result"
    }
   ],
   "source": [
    "participant_first_sse_map = batch_df.groupby('participant_id').sse_sent_timestamp.min()\n",
    "participant_df['first_sse_timestamp'] = participant_df.user_id.map(lambda user_id: participant_first_sse_map[user_id] if user_id in participant_first_sse_map else -1)\n",
    "participant_df.first_sse_timestamp.value_counts()"
   ]
  },
  {
   "cell_type": "markdown",
   "metadata": {},
   "source": [
    "## Journal data"
   ]
  },
  {
   "cell_type": "code",
   "execution_count": 24,
   "metadata": {},
   "outputs": [
    {
     "name": "stdout",
     "output_type": "stream",
     "text": [
      "0:00:23.103643\n"
     ]
    },
    {
     "data": {
      "text/plain": [
       "21074912"
      ]
     },
     "execution_count": 24,
     "metadata": {},
     "output_type": "execute_result"
    }
   ],
   "source": [
    "# load the journal dataframe with the index\n",
    "# this is all the new journal data\n",
    "s = datetime.now()\n",
    "journal_metadata_dir = \"/home/lana/shared/caringbridge/data/derived/journal_metadata\"\n",
    "journal_metadata_filepath = os.path.join(journal_metadata_dir, \"journal_metadata.feather\")\n",
    "journal_df = pd.read_feather(journal_metadata_filepath)\n",
    "print(datetime.now() - s)\n",
    "len(journal_df)"
   ]
  },
  {
   "cell_type": "code",
   "execution_count": null,
   "metadata": {},
   "outputs": [],
   "source": [
    "journal_df.head()"
   ]
  },
  {
   "cell_type": "code",
   "execution_count": null,
   "metadata": {},
   "outputs": [],
   "source": []
  },
  {
   "cell_type": "markdown",
   "metadata": {},
   "source": [
    "## Identify users and sites we care about"
   ]
  },
  {
   "cell_type": "code",
   "execution_count": 26,
   "metadata": {},
   "outputs": [
    {
     "data": {
      "text/plain": [
       "(1090, 624)"
      ]
     },
     "execution_count": 26,
     "metadata": {},
     "output_type": "execute_result"
    }
   ],
   "source": [
    "valid_user_ids = set(participant_df.user_id)\n",
    "# valid sites is every recced site and every site on which a participant authored\n",
    "valid_site_ids = set(rec_df.site_id) | set(journal_df[journal_df.user_id.isin(valid_user_ids)].site_id)\n",
    "\n",
    "# add as valid any author on one of the valid sites\n",
    "valid_user_ids |= set(journal_df[journal_df.site_id.isin(valid_site_ids)].user_id)\n",
    "\n",
    "len(valid_user_ids), len(valid_site_ids)"
   ]
  },
  {
   "cell_type": "code",
   "execution_count": 27,
   "metadata": {},
   "outputs": [
    {
     "data": {
      "text/plain": [
       "(False, False, True, False)"
      ]
     },
     "execution_count": 27,
     "metadata": {},
     "output_type": "execute_result"
    }
   ],
   "source": [
    "-1 in valid_user_ids, -1 in valid_site_ids, 0 in valid_user_ids, 0 in valid_site_ids"
   ]
  },
  {
   "cell_type": "code",
   "execution_count": 28,
   "metadata": {},
   "outputs": [
    {
     "data": {
      "text/plain": [
       "(1089, 624)"
      ]
     },
     "execution_count": 28,
     "metadata": {},
     "output_type": "execute_result"
    }
   ],
   "source": [
    "valid_user_ids.remove(0)\n",
    "len(valid_user_ids), len(valid_site_ids)"
   ]
  },
  {
   "cell_type": "code",
   "execution_count": 29,
   "metadata": {},
   "outputs": [],
   "source": [
    "# save the valid ids\n",
    "activity_dir = os.path.join(cbcore.data.paths.projects_data_filepath, 'recsys-peer-match', 'activity')\n",
    "for fname, id_set in zip(('valid_user_ids.txt', 'valid_site_ids.txt'), (valid_user_ids, valid_site_ids)):\n",
    "    with open(os.path.join(activity_dir, fname), 'w') as outfile:\n",
    "        for int_id in id_set:\n",
    "            outfile.write(str(int_id) + \"\\n\")"
   ]
  },
  {
   "cell_type": "code",
   "execution_count": null,
   "metadata": {},
   "outputs": [],
   "source": []
  },
  {
   "cell_type": "markdown",
   "metadata": {},
   "source": [
    "## Interaction data\n",
    "\n",
    "For each source user -> recced target site, want to build a dataset of:\n",
    " - Timestamp\n",
    " - Source user_id\n",
    " - Target site_id\n",
    " \n",
    " \n",
    "Things we're looking for:\n",
    " - Source initiation\n",
    " - Target reply\n",
    " - Non-target reply (not an author of the site)\n",
    " - Target reciprocation (comment or guestbook only)\n",
    " \n",
    " \n",
    "We need to construct a dataframe that contains:\n",
    " - Journals\n",
    " - Comment replies to those journals\n",
    " - Guestbooks\n",
    " \n",
    "We include a journal if it was:\n",
    " - Written by a rec, and replied to by a participant\n",
    " - Written by a participant, and replied to by a rec\n",
    "\n",
    "We include a guestbook if it was:\n",
    " - Written by a rec on a participant's site\n",
    " - Written by a participant on a rec's site\n",
    "\n",
    "For photos, we only include comments from participants or recs, not every comment.\n",
    "\n",
    "Globally, we need to sort them by interaction behavior between sources and targets.\n",
    " - For each comment, determine: is this by a site author on their site, by a participant, by a rec? Note this is actually kind of hard to compute. Need to use participant_user_id_to_recced_site_id_map etc. to identify the \"role\" appropriate for the current context."
   ]
  },
  {
   "cell_type": "code",
   "execution_count": 31,
   "metadata": {},
   "outputs": [
    {
     "data": {
      "text/plain": [
       "(79, 94, 526, 960)"
      ]
     },
     "execution_count": 31,
     "metadata": {},
     "output_type": "execute_result"
    }
   ],
   "source": [
    "participant_user_ids = set(rec_df.user_id)\n",
    "recced_site_ids = set(rec_df.site_id)\n",
    "\n",
    "participant_site_ids = set(journal_df[journal_df.user_id.isin(participant_user_ids)].site_id)\n",
    "recced_user_ids = set(journal_df[journal_df.site_id.isin(recced_site_ids)].user_id)\n",
    "\n",
    "len(participant_user_ids), len(participant_site_ids), len(recced_site_ids), len(recced_user_ids)"
   ]
  },
  {
   "cell_type": "code",
   "execution_count": 32,
   "metadata": {},
   "outputs": [
    {
     "data": {
      "text/plain": [
       "(79, 526)"
      ]
     },
     "execution_count": 32,
     "metadata": {},
     "output_type": "execute_result"
    }
   ],
   "source": [
    "from collections import defaultdict\n",
    "participant_user_id_to_recced_site_id_map = defaultdict(set)\n",
    "recced_site_id_to_participant_user_id_map = defaultdict(set)\n",
    "for row in rec_df.itertuples():\n",
    "    participant_user_id_to_recced_site_id_map[row.user_id].add(row.site_id)\n",
    "    recced_site_id_to_participant_user_id_map[row.site_id].add(row.user_id)\n",
    "len(participant_user_id_to_recced_site_id_map), len(recced_site_id_to_participant_user_id_map)"
   ]
  },
  {
   "cell_type": "code",
   "execution_count": null,
   "metadata": {},
   "outputs": [],
   "source": []
  },
  {
   "cell_type": "code",
   "execution_count": 33,
   "metadata": {},
   "outputs": [
    {
     "data": {
      "text/plain": [
       "5"
      ]
     },
     "execution_count": 33,
     "metadata": {},
     "output_type": "execute_result"
    }
   ],
   "source": [
    "# there are a small number of users who were recced during the study\n",
    "len(participant_user_ids & recced_user_ids)"
   ]
  },
  {
   "cell_type": "code",
   "execution_count": 34,
   "metadata": {},
   "outputs": [
    {
     "data": {
      "text/plain": [
       "(4190, 4190)"
      ]
     },
     "execution_count": 34,
     "metadata": {},
     "output_type": "execute_result"
    }
   ],
   "source": [
    "source_user_to_recced_site_tuples = set(zip(rec_df.user_id, rec_df.site_id))\n",
    "len(source_user_to_recced_site_tuples), len(rec_df)"
   ]
  },
  {
   "cell_type": "code",
   "execution_count": 33,
   "metadata": {},
   "outputs": [],
   "source": [
    "# deprecated/no longer used\n",
    "#journal_author_map = {row.journal_oid: row.user_id for row in journal_df.itertuples()}\n",
    "#len(journal_author_map)"
   ]
  },
  {
   "cell_type": "code",
   "execution_count": 35,
   "metadata": {},
   "outputs": [
    {
     "data": {
      "text/plain": [
       "79"
      ]
     },
     "execution_count": 35,
     "metadata": {},
     "output_type": "execute_result"
    }
   ],
   "source": [
    "participant_user_id_to_site_id_map = journal_df[journal_df.user_id.isin(participant_user_ids)].groupby('user_id').agg({'site_id': set}).site_id.to_dict()\n",
    "len(participant_user_id_to_site_id_map)"
   ]
  },
  {
   "cell_type": "code",
   "execution_count": 36,
   "metadata": {},
   "outputs": [
    {
     "data": {
      "text/plain": [
       "94"
      ]
     },
     "execution_count": 36,
     "metadata": {},
     "output_type": "execute_result"
    }
   ],
   "source": [
    "participant_site_id_to_user_id_map = journal_df[journal_df.user_id.isin(participant_user_ids)].groupby('site_id').agg({'user_id': set}).user_id.to_dict()\n",
    "len(participant_site_id_to_user_id_map)"
   ]
  },
  {
   "cell_type": "code",
   "execution_count": 37,
   "metadata": {},
   "outputs": [
    {
     "data": {
      "text/plain": [
       "960"
      ]
     },
     "execution_count": 37,
     "metadata": {},
     "output_type": "execute_result"
    }
   ],
   "source": [
    "recced_user_id_to_site_id_map = journal_df[journal_df.user_id.isin(recced_user_ids)].groupby('user_id').agg({'site_id': set}).site_id.to_dict()\n",
    "len(recced_user_id_to_site_id_map)"
   ]
  },
  {
   "cell_type": "code",
   "execution_count": 38,
   "metadata": {},
   "outputs": [
    {
     "data": {
      "text/plain": [
       "526"
      ]
     },
     "execution_count": 38,
     "metadata": {},
     "output_type": "execute_result"
    }
   ],
   "source": [
    "recced_site_id_to_user_id_map = journal_df[journal_df.site_id.isin(recced_site_ids)].groupby('site_id').agg({'user_id': set}).user_id.to_dict()\n",
    "len(recced_site_id_to_user_id_map)"
   ]
  },
  {
   "cell_type": "code",
   "execution_count": null,
   "metadata": {},
   "outputs": [],
   "source": []
  },
  {
   "cell_type": "code",
   "execution_count": 39,
   "metadata": {},
   "outputs": [],
   "source": [
    "def get_comment_data(comment):\n",
    "    if 'body' in comment:\n",
    "        comment_text = comment['body']\n",
    "    else:\n",
    "        comment_text = \"\"\n",
    "        \n",
    "    comment_oid = comment['_id']['$oid']\n",
    "    parent_type = comment['parentType']  # either 'journal' or 'comment'\n",
    "    parent_oid = comment['parentId']\n",
    "    ancestor_type = comment['ancestorType']\n",
    "    ancestor_oid = comment['ancestorId']\n",
    "    created_at = cbcore.data.dates.get_date_from_json_value(comment['createdAt'])\n",
    "    site_id = extract_long(comment['siteId'])\n",
    "    user_id = extract_long(comment['userId'])\n",
    "    \n",
    "    return {\n",
    "        'comment_oid': comment_oid,\n",
    "        'user_id': user_id,\n",
    "        'site_id': site_id,\n",
    "        'parent_type': parent_type,\n",
    "        'parent_oid': parent_oid,\n",
    "        'ancestor_type': ancestor_type,\n",
    "        'ancestor_oid': ancestor_oid,\n",
    "        'created_at': created_at,\n",
    "        'comment_text': comment_text,\n",
    "    }"
   ]
  },
  {
   "cell_type": "code",
   "execution_count": 40,
   "metadata": {},
   "outputs": [],
   "source": [
    "class DyadTracker:\n",
    "    def __init__(self):\n",
    "        self.dyad_id_counter = 0\n",
    "        self.dyad_id_map = {}  # map of (user_id, site_id) -> dyad_id\n",
    "        self.ancestor_oid_dyad_id_map = defaultdict(set)  # map of ancestor_oid -> set(dyad_id)\n",
    "        self.ancestor_oid_type_map = {}\n",
    "        \n",
    "    def register_ancestor_activity_with_dyad(self, ancestor_oid, participant_user_id, recced_site_id, ancestor_type=None):\n",
    "        # verify!\n",
    "        assert participant_user_id in participant_user_ids\n",
    "        assert recced_site_id in recced_site_ids\n",
    "        assert recced_site_id in participant_user_id_to_recced_site_id_map[participant_user_id]\n",
    "        \n",
    "        key = (participant_user_id, recced_site_id)\n",
    "        if key not in self.dyad_id_map:\n",
    "            self.dyad_id_map[key] = self.dyad_id_counter\n",
    "            self.dyad_id_counter += 1\n",
    "        dyad_id = self.dyad_id_map[key]\n",
    "        self.ancestor_oid_dyad_id_map[ancestor_oid].add(dyad_id)\n",
    "        self.ancestor_oid_type_map[ancestor_oid] = ancestor_type\n",
    "        \n",
    "    def get_inverse_dyad_id_map(self):\n",
    "        return {value: key for key, value in self.dyad_id_map.items()}\n",
    "\n",
    "dyad_tracker = DyadTracker()"
   ]
  },
  {
   "cell_type": "code",
   "execution_count": 41,
   "metadata": {},
   "outputs": [
    {
     "name": "stderr",
     "output_type": "stream",
     "text": [
      "344902it [00:12, 26661.01it/s]\n"
     ]
    },
    {
     "data": {
      "text/plain": [
       "211"
      ]
     },
     "execution_count": 41,
     "metadata": {},
     "output_type": "execute_result"
    }
   ],
   "source": [
    "activity_dir = os.path.join(cbcore.data.paths.projects_data_filepath, 'recsys-peer-match', 'activity')\n",
    "input_filepath = os.path.join(activity_dir, f'comment.ndjson')\n",
    "\n",
    "ancestor_oids_with_activity = set()\n",
    "\n",
    "with open(input_filepath, 'r') as infile:\n",
    "    for line in tqdm(infile):\n",
    "        comment = json.loads(line)\n",
    "        comment_oid = comment['_id']['$oid']        \n",
    "        user_id = extract_long(comment['userId'])\n",
    "        journal_site_id = extract_long(comment['siteId'])\n",
    "                \n",
    "        ancestor_type = comment['ancestorType']\n",
    "        ancestor_oid = comment['ancestorId']\n",
    "        # recced user comments\n",
    "        if user_id in recced_user_ids and journal_site_id in participant_site_id_to_user_id_map:\n",
    "            # recced user comment on a participant site...\n",
    "            # ...but it might not be someone we actually recced to that participant\n",
    "            eligible_participant_user_ids = participant_site_id_to_user_id_map[journal_site_id]\n",
    "            assert len(eligible_participant_user_ids) == 1\n",
    "            participant_user_id = list(eligible_participant_user_ids)[0]\n",
    "            # verify: was the recced user a specific target of this participant?\n",
    "            participant_recced_site_ids = participant_user_id_to_recced_site_id_map[participant_user_id]  \n",
    "            recced_commenter_sites = recced_user_id_to_site_id_map[user_id]\n",
    "            if len(recced_commenter_sites & participant_recced_site_ids) > 0:\n",
    "                assert len(recced_commenter_sites & participant_recced_site_ids) == 1\n",
    "                recced_site_id = list(recced_commenter_sites & participant_recced_site_ids)[0]\n",
    "                # commenter is a recced user, journal is on a participant site, and...\n",
    "                # ...commenter was author on a site recced by this participant\n",
    "                ancestor_oids_with_activity.add(ancestor_oid)\n",
    "                dyad_tracker.register_ancestor_activity_with_dyad(ancestor_oid, participant_user_id, recced_site_id, ancestor_type=ancestor_type)\n",
    "                assert ancestor_type == 'journal'\n",
    "        # participant comments\n",
    "        if user_id in participant_user_ids and journal_site_id in recced_site_ids and user_id in participant_user_id_to_recced_site_id_map and journal_site_id in participant_user_id_to_recced_site_id_map[user_id]:\n",
    "            # commenter is a participant, journal is on a recced site, and this site was recced to this participant\n",
    "            assert ancestor_type == 'journal'\n",
    "            ancestor_oids_with_activity.add(ancestor_oid)\n",
    "            dyad_tracker.register_ancestor_activity_with_dyad(ancestor_oid, user_id, journal_site_id, ancestor_type=ancestor_type)\n",
    "len(ancestor_oids_with_activity)"
   ]
  },
  {
   "cell_type": "code",
   "execution_count": 42,
   "metadata": {},
   "outputs": [
    {
     "data": {
      "text/plain": [
       "(20, 211)"
      ]
     },
     "execution_count": 42,
     "metadata": {},
     "output_type": "execute_result"
    }
   ],
   "source": [
    "len(dyad_tracker.dyad_id_map), len(dyad_tracker.ancestor_oid_dyad_id_map)"
   ]
  },
  {
   "cell_type": "code",
   "execution_count": 43,
   "metadata": {},
   "outputs": [
    {
     "data": {
      "text/plain": [
       "(0, 211)"
      ]
     },
     "execution_count": 43,
     "metadata": {},
     "output_type": "execute_result"
    }
   ],
   "source": [
    "sum(len(s) > 1 for s in dyad_tracker.ancestor_oid_dyad_id_map.values()), sum(len(s) == 1 for s in dyad_tracker.ancestor_oid_dyad_id_map.values())"
   ]
  },
  {
   "cell_type": "code",
   "execution_count": 44,
   "metadata": {},
   "outputs": [
    {
     "name": "stderr",
     "output_type": "stream",
     "text": [
      "100%|██████████| 344902/344902 [00:09<00:00, 37531.05it/s]\n"
     ]
    },
    {
     "data": {
      "text/plain": [
       "2057"
      ]
     },
     "execution_count": 44,
     "metadata": {},
     "output_type": "execute_result"
    }
   ],
   "source": [
    "activity_dir = os.path.join(cbcore.data.paths.projects_data_filepath, 'recsys-peer-match', 'activity')\n",
    "input_filepath = os.path.join(activity_dir, f'comment.ndjson')\n",
    "\n",
    "comments = []\n",
    "with open(input_filepath, 'r') as infile:    \n",
    "    for line in tqdm(infile, total=344902):\n",
    "        comment = json.loads(line)\n",
    "        ancestor_oid = comment['ancestorId']\n",
    "        if ancestor_oid in ancestor_oids_with_activity:\n",
    "            dyad_ids = dyad_tracker.ancestor_oid_dyad_id_map[ancestor_oid]\n",
    "            comment_data = get_comment_data(comment)\n",
    "            comment_data['dyad_ids'] = dyad_ids\n",
    "            comments.append(comment_data)\n",
    "len(comments)"
   ]
  },
  {
   "cell_type": "code",
   "execution_count": null,
   "metadata": {},
   "outputs": [],
   "source": [
    "comment_df = pd.DataFrame(comments)\n",
    "comment_df.sample(n=3)"
   ]
  },
  {
   "cell_type": "code",
   "execution_count": 46,
   "metadata": {},
   "outputs": [
    {
     "data": {
      "text/plain": [
       "journal    2057\n",
       "Name: ancestor_type, dtype: int64"
      ]
     },
     "execution_count": 46,
     "metadata": {},
     "output_type": "execute_result"
    }
   ],
   "source": [
    "comment_df.ancestor_type.value_counts()  # only journal comments; no photo comments"
   ]
  },
  {
   "cell_type": "code",
   "execution_count": null,
   "metadata": {},
   "outputs": [],
   "source": [
    "journal_sdf = journal_df[journal_df.journal_oid.isin(comment_df[comment_df.ancestor_type == 'journal'].ancestor_oid)].copy()\n",
    "print(len(journal_sdf))\n",
    "journal_sdf.sample(n=3)"
   ]
  },
  {
   "cell_type": "code",
   "execution_count": 48,
   "metadata": {},
   "outputs": [],
   "source": [
    "# retrieve journal data\n",
    "config = cbrec.genconfig.Config()\n",
    "td = cbrec.text.textdb.TextDatabase(config)\n",
    "text_db = td.get_text_db()\n",
    "journal_texts = []\n",
    "try:\n",
    "    for journal_oid in journal_sdf.journal_oid:\n",
    "        try:\n",
    "            raw_title, raw_body = td.get_raw_journal_text_from_db(text_db, journal_oid)\n",
    "            journal_text = cbrec.text.textdb.clean_journal(raw_title, raw_body)\n",
    "        except:\n",
    "            journal_text = \"NOT IN DB\"\n",
    "        journal_texts.append(journal_text)\n",
    "    journal_sdf['journal_text'] = journal_texts\n",
    "finally:\n",
    "    text_db.close()"
   ]
  },
  {
   "cell_type": "code",
   "execution_count": 49,
   "metadata": {},
   "outputs": [
    {
     "data": {
      "text/plain": [
       "0"
      ]
     },
     "execution_count": 49,
     "metadata": {},
     "output_type": "execute_result"
    }
   ],
   "source": [
    "np.sum(journal_sdf.journal_text == 'NOT IN DB')"
   ]
  },
  {
   "cell_type": "code",
   "execution_count": 50,
   "metadata": {},
   "outputs": [
    {
     "name": "stderr",
     "output_type": "stream",
     "text": [
      "65215it [00:01, 48956.27it/s]\n"
     ]
    },
    {
     "data": {
      "text/plain": [
       "2"
      ]
     },
     "execution_count": 50,
     "metadata": {},
     "output_type": "execute_result"
    }
   ],
   "source": [
    "# retrieve guestbook data\n",
    "activity_dir = os.path.join(cbcore.data.paths.projects_data_filepath, 'recsys-peer-match', 'activity')\n",
    "input_filepath = os.path.join(activity_dir, f'guestbook.ndjson')\n",
    "\n",
    "def get_gb(gb):\n",
    "    gb_oid = gb['_id']['$oid']\n",
    "    gb_site_id = extract_long(gb['siteId'])\n",
    "    user_id = extract_long(gb['userId'])\n",
    "    created_at = cbcore.data.dates.get_date_from_json_value(gb['createdAt']) if 'createdAt' in gb else 0\n",
    "    guestbook_text = gb['body']\n",
    "    return {\n",
    "        'gb_oid': gb_oid,\n",
    "        'site_id': gb_site_id,\n",
    "        'user_id': user_id,\n",
    "        'created_at': created_at,\n",
    "        'guestbook_text': guestbook_text,\n",
    "    }\n",
    "\n",
    "guestbooks = []\n",
    "with open(input_filepath, 'r') as infile:    \n",
    "    for line in tqdm(infile):\n",
    "        gb = json.loads(line)\n",
    "        if 'body' not in gb:\n",
    "            continue\n",
    "        \n",
    "        ancestor_oid = gb['_id']['$oid']\n",
    "        gb_site_id = extract_long(gb['siteId'])\n",
    "        user_id = extract_long(gb['userId'])\n",
    "        \n",
    "        # recced user writes guestbook\n",
    "        if user_id in recced_user_ids and gb_site_id in participant_site_id_to_user_id_map:\n",
    "            # recced user guestbook on a participant site...\n",
    "            # ...but it might not be someone we actually recced to that participant\n",
    "            eligible_participant_user_ids = participant_site_id_to_user_id_map[gb_site_id]\n",
    "            assert len(eligible_participant_user_ids) == 1\n",
    "            participant_user_id = list(eligible_participant_user_ids)[0]\n",
    "            # verify: was the recced user a specific target of this participant?\n",
    "            participant_recced_site_ids = participant_user_id_to_recced_site_id_map[participant_user_id]  \n",
    "            recced_commenter_sites = recced_user_id_to_site_id_map[user_id]\n",
    "            if len(recced_commenter_sites & participant_recced_site_ids) > 0:\n",
    "                assert len(recced_commenter_sites & participant_recced_site_ids) == 1\n",
    "                recced_site_id = list(recced_commenter_sites & participant_recced_site_ids)[0]\n",
    "                # commenter is a recced user, journal is on a participant site, and...\n",
    "                # ...commenter was author on a site recced by this participant\n",
    "                ancestor_oids_with_activity.add(ancestor_oid)\n",
    "                dyad_tracker.register_ancestor_activity_with_dyad(ancestor_oid, participant_user_id, recced_site_id, ancestor_type='guestbook')\n",
    "                guestbooks.append(get_gb(gb))\n",
    "        # participant comments\n",
    "        if user_id in participant_user_ids and gb_site_id in recced_site_ids and user_id in participant_user_id_to_recced_site_id_map and gb_site_id in participant_user_id_to_recced_site_id_map[user_id]:\n",
    "            # commenter is a participant, journal is on a recced site, and this site was recced to this participant\n",
    "            ancestor_oids_with_activity.add(ancestor_oid)\n",
    "            dyad_tracker.register_ancestor_activity_with_dyad(ancestor_oid, user_id, gb_site_id, ancestor_type='guestbook')\n",
    "            guestbooks.append(get_gb(gb))\n",
    "len(guestbooks)"
   ]
  },
  {
   "cell_type": "code",
   "execution_count": 51,
   "metadata": {},
   "outputs": [
    {
     "data": {
      "text/plain": [
       "(2057, 2, 211)"
      ]
     },
     "execution_count": 51,
     "metadata": {},
     "output_type": "execute_result"
    }
   ],
   "source": [
    "len(comment_df), len(guestbooks), len(journal_sdf)"
   ]
  },
  {
   "cell_type": "code",
   "execution_count": 52,
   "metadata": {},
   "outputs": [
    {
     "name": "stdout",
     "output_type": "stream",
     "text": [
      "2\n",
      "2\n"
     ]
    },
    {
     "data": {
      "text/plain": [
       "2"
      ]
     },
     "execution_count": 52,
     "metadata": {},
     "output_type": "execute_result"
    }
   ],
   "source": [
    "guestbook_df = pd.DataFrame(guestbooks)\n",
    "print(len(guestbook_df))\n",
    "guestbook_df = guestbook_df.drop_duplicates()\n",
    "print(len(guestbook_df))\n",
    "guestbook_map = guestbook_df.set_index('gb_oid').to_dict('index')\n",
    "len(guestbook_map)"
   ]
  },
  {
   "cell_type": "code",
   "execution_count": 53,
   "metadata": {},
   "outputs": [
    {
     "data": {
      "text/plain": [
       "211"
      ]
     },
     "execution_count": 53,
     "metadata": {},
     "output_type": "execute_result"
    }
   ],
   "source": [
    "journal_map = journal_sdf.set_index('journal_oid').to_dict('index')  #.to_dict(orient='records')\n",
    "len(journal_map)"
   ]
  },
  {
   "cell_type": "code",
   "execution_count": 54,
   "metadata": {},
   "outputs": [
    {
     "data": {
      "text/plain": [
       "211"
      ]
     },
     "execution_count": 54,
     "metadata": {},
     "output_type": "execute_result"
    }
   ],
   "source": [
    "comment_map = {key: group.to_dict('records') for key, group in comment_df.groupby('ancestor_oid')}\n",
    "len(comment_map)"
   ]
  },
  {
   "cell_type": "code",
   "execution_count": 55,
   "metadata": {},
   "outputs": [
    {
     "data": {
      "text/plain": [
       "26"
      ]
     },
     "execution_count": 55,
     "metadata": {},
     "output_type": "execute_result"
    }
   ],
   "source": [
    "user_id_to_authored_site_ids = {key: set(group.site_id) for key, group in journal_sdf.groupby('user_id')}\n",
    "len(user_id_to_authored_site_ids)"
   ]
  },
  {
   "cell_type": "code",
   "execution_count": 56,
   "metadata": {},
   "outputs": [],
   "source": [
    "dyads_to_users_map = dyad_tracker.get_inverse_dyad_id_map()\n",
    "dyad_activity_map = {dyad_id: [] for dyad_id in dyads_to_users_map.keys()}\n",
    "\n",
    "def get_site_type(site_id):\n",
    "    if site_id in participant_site_ids:\n",
    "        site_type = 'Participant'\n",
    "    elif site_id in recced_site_ids:\n",
    "        site_type = 'Recced'\n",
    "    else:\n",
    "        site_type = 'Other'\n",
    "        raise ValueError(\"not participant or rec site\")\n",
    "    return site_type\n",
    "\n",
    "def get_user_type(user_id, site_id):\n",
    "    if user_id in user_id_to_authored_site_ids and site_id in user_id_to_authored_site_ids[user_id]:\n",
    "        # user is an author on this site\n",
    "        user_type = 'Author'\n",
    "    else:\n",
    "        user_type = 'Visitor'\n",
    "    if user_id in recced_user_ids and user_id in participant_user_ids:\n",
    "        # user was both recced and a participant\n",
    "        # in what role are they active on this site?\n",
    "        participant_recced_site_ids = participant_user_id_to_recced_site_id_map[user_id]\n",
    "        if site_id in participant_recced_site_ids or site_id in user_id_to_authored_site_ids[user_id]:\n",
    "            # participant visiting a site that was recced to them\n",
    "            # OR visiting a site they author\n",
    "            # in both cases, they are a participant here\n",
    "            user_type += ' (Participant)'\n",
    "        else:\n",
    "            # this user was a participant who was recced\n",
    "            user_type += ' (Recced)'\n",
    "    elif user_id in recced_user_ids:\n",
    "        user_type += ' (Recced)'\n",
    "    elif user_id in participant_user_ids:\n",
    "        user_type += ' (Participant)'\n",
    "    return user_type\n",
    "    \n",
    "def sort_comments(comments):\n",
    "    parent_comments = []\n",
    "    comment_reply_map = defaultdict(list)\n",
    "    for comment in comments:\n",
    "        if comment['parent_type'] == 'comment':\n",
    "            comment_reply_map[comment['parent_oid']].append(comment)\n",
    "        else:\n",
    "            parent_comments.append(comment)\n",
    "    parent_comments.sort(key=lambda comment: comment['created_at'])\n",
    "    for i in range(len(parent_comments)-1, -1, -1):\n",
    "        comment = parent_comments[i]\n",
    "        if comment['comment_oid'] in comment_reply_map:\n",
    "            replies = comment_reply_map[comment['comment_oid']]\n",
    "            replies.sort(key=lambda comment: comment['created_at'])\n",
    "            for reply in replies[::-1]:\n",
    "                parent_comments.insert(i+1, reply)\n",
    "    return parent_comments\n",
    "\n",
    "for ancestor_oid, ancestor_type in dyad_tracker.ancestor_oid_type_map.items():\n",
    "    dyad_ids = dyad_tracker.ancestor_oid_dyad_id_map[ancestor_oid]\n",
    "    \n",
    "    ancestor = {}\n",
    "    if ancestor_type == 'photo':\n",
    "        raise ValueError(\"not yet implemented\")\n",
    "    elif ancestor_type == 'guestbook':\n",
    "        guestbook_data = guestbook_map[ancestor_oid]\n",
    "        ancestor = deepcopy(guestbook_data)\n",
    "        ancestor['text'] = ancestor['guestbook_text']\n",
    "    elif ancestor_type == 'journal':\n",
    "        journal_data = journal_map[ancestor_oid]\n",
    "        ancestor = deepcopy(journal_data)\n",
    "        ancestor['text'] = ancestor['journal_text']\n",
    "        # attach extracted comments\n",
    "        ancestor['comments'] = deepcopy(comment_map[ancestor_oid])\n",
    "        for comment in ancestor['comments']:\n",
    "            comment['user_type'] = get_user_type(comment['user_id'], ancestor['site_id'])\n",
    "            comment['datetime'] = datetime.utcfromtimestamp(comment['created_at'] / 1000).strftime(\"%Y-%m-%d %H:%M\")\n",
    "        ancestor['comments'] = sort_comments(ancestor['comments'])\n",
    "    else:\n",
    "        raise ValueError(\"unknown type\")\n",
    "    \n",
    "    ancestor['oid'] = ancestor_oid\n",
    "    ancestor['ancestor_type'] = ancestor_type\n",
    "    ancestor['user_type'] = get_user_type(ancestor['user_id'], ancestor['site_id'])\n",
    "    ancestor['site_type'] = get_site_type(ancestor['site_id'])\n",
    "    ancestor['datetime'] = datetime.utcfromtimestamp(ancestor['created_at'] / 1000).strftime(\"%Y-%m-%d %H:%M\")\n",
    "    ancestor['in_other_dyad?'] = len(dyad_ids) > 1\n",
    "    \n",
    "    for dyad_id in dyad_ids:\n",
    "        dyad_activity_map[dyad_id].append(ancestor)"
   ]
  },
  {
   "cell_type": "code",
   "execution_count": null,
   "metadata": {},
   "outputs": [],
   "source": []
  },
  {
   "cell_type": "code",
   "execution_count": 57,
   "metadata": {},
   "outputs": [
    {
     "data": {
      "image/png": "[encoded data removed]",
      "text/plain": [
       "<Figure size 720x480 with 1 Axes>"
      ]
     },
     "metadata": {
      "needs_background": "light"
     },
     "output_type": "display_data"
    },
    {
     "data": {
      "text/plain": [
       "1     5\n",
       "2     4\n",
       "29    1\n",
       "60    1\n",
       "3     1\n",
       "18    1\n",
       "13    1\n",
       "11    1\n",
       "10    1\n",
       "8     1\n",
       "7     1\n",
       "6     1\n",
       "35    1\n",
       "dtype: int64"
      ]
     },
     "execution_count": 57,
     "metadata": {},
     "output_type": "execute_result"
    }
   ],
   "source": [
    "x = [len(values) for values in dyad_activity_map.values()]\n",
    "plt.hist(x)\n",
    "plt.title(f\"Distribution of number of ancestors for {len(dyad_activity_map)} dyads\")\n",
    "plt.show()\n",
    "pd.Series(x).value_counts()"
   ]
  },
  {
   "cell_type": "code",
   "execution_count": null,
   "metadata": {},
   "outputs": [],
   "source": []
  },
  {
   "cell_type": "code",
   "execution_count": null,
   "metadata": {},
   "outputs": [],
   "source": []
  },
  {
   "cell_type": "code",
   "execution_count": null,
   "metadata": {},
   "outputs": [],
   "source": [
    "class NiceNameCounter:\n",
    "    def __init__(self, participant_id_set, recced_author_set):\n",
    "        self.participant_id_set = participant_id_set\n",
    "        self.recced_author_set = recced_author_set\n",
    "        \n",
    "        self.nice_name_map = {\n",
    "            'Participant': {},\n",
    "            'Recced_author': {},\n",
    "            'Visitor': {},\n",
    "            'Site': {},\n",
    "        }\n",
    "        self.nice_name_counter = {\n",
    "            'Participant': 1,\n",
    "            'Recced_author': 1,\n",
    "            'Visitor': 1,\n",
    "            'Site': 1,\n",
    "        }\n",
    "        \n",
    "    def get_nice_name(self, user_id):\n",
    "        if user_id in self.participant_id_set:\n",
    "            user_type = 'Participant'\n",
    "        elif user_id in self.recced_author_set:\n",
    "            user_type = 'Recced_author'\n",
    "        else:\n",
    "            user_type = 'Visitor'\n",
    "        \n",
    "        if user_id not in self.nice_name_map[user_type]:\n",
    "            self.nice_name_map[user_type][user_id] = self.nice_name_counter[user_type]\n",
    "            self.nice_name_counter[user_type] += 1\n",
    "        nice_name = f\"{user_type[0]}{self.nice_name_map[user_type][user_id]}\"\n",
    "        return nice_name\n",
    "    \n",
    "    def get_nice_site_name(self, site_id):\n",
    "        user_type = 'Site'\n",
    "        if site_id not in self.nice_name_map[user_type]:\n",
    "            self.nice_name_map[user_type][site_id] = self.nice_name_counter[user_type]\n",
    "            self.nice_name_counter[user_type] += 1\n",
    "        nice_name = f\"{user_type[0]}{self.nice_name_map[user_type][site_id]}\"\n",
    "        return nice_name\n",
    "    \n",
    "nn = NiceNameCounter(participant_user_ids, recced_user_ids)\n",
    "\n",
    "# identify sort order for dyads\n",
    "dyad_list = []\n",
    "for dyad_id, ancestors in dyad_activity_map.items():\n",
    "    participant_user_id, recced_site_id = dyads_to_users_map[dyad_id]\n",
    "    n_ancestors = len(ancestors)\n",
    "    tup = (participant_user_id, n_ancestors, dyad_id)\n",
    "    dyad_list.append(tup)\n",
    "dyad_list.sort(reverse=True)\n",
    "dyad_id_list = [dyad[2] for dyad in dyad_list]\n",
    "print(dyad_list)\n",
    "\n",
    "with open('dyad_activity.csv', 'w', newline='') as outfile:\n",
    "    csvwriter = csv.writer(outfile)\n",
    "    csvwriter.writerow([\n",
    "        'who?',\n",
    "        'datetime',\n",
    "        'activity type',\n",
    "        'user',\n",
    "        'user role',\n",
    "        'site',\n",
    "        'site type',\n",
    "        'text',\n",
    "        'OID',\n",
    "    ])\n",
    "    \n",
    "    for dyad_id in dyad_id_list:\n",
    "        ancestors = dyad_activity_map[dyad_id]\n",
    "        \n",
    "        participant_user_id, recced_site_id = dyads_to_users_map[dyad_id]\n",
    "        \n",
    "        rec_info = rec_df[(rec_df.participant_id == participant_user_id)&(rec_df.site_id == recced_site_id)].iloc[0]\n",
    "        \n",
    "        csvwriter.writerow([\n",
    "            f\"Dyad {dyad_id}: {nn.get_nice_name(participant_user_id)} to {nn.get_nice_site_name(recced_site_id)}\", \n",
    "            datetime.utcfromtimestamp(rec_info.sse_sent_timestamp / 1000).strftime(\"%Y-%m-%d %H:%M\"),\n",
    "            \"Dyad\",\n",
    "            nn.get_nice_name(participant_user_id), \n",
    "            rec_info.first_name,\n",
    "            nn.get_nice_site_name(recced_site_id),\n",
    "            rec_info.site_name,\n",
    "            rec_info.site_title,\n",
    "            f\"{len(ancestors)} journals/guestbooks\"\n",
    "        ])\n",
    "        \n",
    "        from_participant_str = f\"By participant {nn.get_nice_name(participant_user_id)}\"\n",
    "        from_rec_author_str = f\"By author of recced site {nn.get_nice_site_name(recced_site_id)}\"\n",
    "        def get_status(user_id):\n",
    "            is_from_participant = user_id == participant_user_id\n",
    "            is_from_rec_author = user_id in recced_site_id_to_user_id_map[recced_site_id]\n",
    "            if is_from_participant:\n",
    "                return from_participant_str\n",
    "            elif is_from_rec_author:\n",
    "                return from_rec_author_str\n",
    "            else:\n",
    "                return \"By other user\"\n",
    "\n",
    "        \n",
    "        ancestors.sort(key=lambda ancestor: ancestor['created_at'])\n",
    "        for ancestor in ancestors:\n",
    "            is_from_participant = ancestor['user_id'] == participant_user_id\n",
    "            is_from_rec_author = ancestor['user_id'] in recced_site_id_to_user_id_map[recced_site_id]\n",
    "            \n",
    "            csvwriter.writerow([\n",
    "                get_status(ancestor['user_id']),\n",
    "                ancestor['datetime'],\n",
    "                ancestor['ancestor_type'],\n",
    "                nn.get_nice_name(ancestor['user_id']), \n",
    "                ancestor['user_type'],\n",
    "                nn.get_nice_site_name(ancestor['site_id']), \n",
    "                ancestor['site_type'],\n",
    "                ancestor['text'],\n",
    "                ancestor['oid'],\n",
    "            ])\n",
    "            if 'comments' in ancestor:\n",
    "                for comment in ancestor['comments']:\n",
    "                    \n",
    "                    row = [\n",
    "                        get_status(comment['user_id']), \n",
    "                        comment['datetime'],\n",
    "                        \"reply\" if comment['parent_type'] == 'comment' else \"comment\",\n",
    "                        nn.get_nice_name(comment['user_id']),\n",
    "                        comment['user_type'],\n",
    "                        \"\",\n",
    "                        \"    Reply\" if comment['parent_type'] == 'comment' else \"Comment\",\n",
    "                        comment['comment_text'],\n",
    "                        comment['comment_oid'],\n",
    "                    ]\n",
    "                    csvwriter.writerow(row)\n",
    "            csvwriter.writerow([])\n",
    "        csvwriter.writerow([f\"End of dyad {dyad_id}\"])\n",
    "        csvwriter.writerow([])"
   ]
  },
  {
   "cell_type": "code",
   "execution_count": null,
   "metadata": {},
   "outputs": [],
   "source": []
  },
  {
   "cell_type": "code",
   "execution_count": null,
   "metadata": {},
   "outputs": [],
   "source": []
  },
  {
   "cell_type": "code",
   "execution_count": null,
   "metadata": {},
   "outputs": [],
   "source": []
  },
  {
   "cell_type": "code",
   "execution_count": null,
   "metadata": {},
   "outputs": [],
   "source": []
  },
  {
   "cell_type": "code",
   "execution_count": null,
   "metadata": {},
   "outputs": [],
   "source": []
  },
  {
   "cell_type": "code",
   "execution_count": null,
   "metadata": {},
   "outputs": [],
   "source": []
  },
  {
   "cell_type": "code",
   "execution_count": 118,
   "metadata": {},
   "outputs": [
    {
     "data": {
      "text/plain": [
       "437"
      ]
     },
     "execution_count": 118,
     "metadata": {},
     "output_type": "execute_result"
    }
   ],
   "source": [
    "activity_df = pd.DataFrame(activity_rows, columns=comment_column_names)\n",
    "len(activity_df)"
   ]
  },
  {
   "cell_type": "code",
   "execution_count": null,
   "metadata": {},
   "outputs": [],
   "source": [
    "activity_df.sample(n=3)"
   ]
  },
  {
   "cell_type": "code",
   "execution_count": 120,
   "metadata": {},
   "outputs": [
    {
     "data": {
      "text/plain": [
       "participant_comment    380\n",
       "rec_comment             47\n",
       "participant_reply        6\n",
       "rec_reply                4\n",
       "Name: comment_type, dtype: int64"
      ]
     },
     "execution_count": 120,
     "metadata": {},
     "output_type": "execute_result"
    }
   ],
   "source": [
    "activity_df.comment_type.value_counts()"
   ]
  },
  {
   "cell_type": "code",
   "execution_count": 121,
   "metadata": {},
   "outputs": [
    {
     "data": {
      "text/plain": [
       "1"
      ]
     },
     "execution_count": 121,
     "metadata": {},
     "output_type": "execute_result"
    }
   ],
   "source": [
    "# how many journals did we fail to retrieve text data for?\n",
    "np.sum(activity_df.context_journal == 'NOT IN DB')"
   ]
  },
  {
   "cell_type": "code",
   "execution_count": 122,
   "metadata": {},
   "outputs": [
    {
     "data": {
      "text/plain": [
       "    437\n",
       "Name: note, dtype: int64"
      ]
     },
     "execution_count": 122,
     "metadata": {},
     "output_type": "execute_result"
    }
   ],
   "source": [
    "activity_df.note.value_counts()"
   ]
  },
  {
   "cell_type": "code",
   "execution_count": 123,
   "metadata": {},
   "outputs": [
    {
     "data": {
      "text/plain": [
       "(380, 26)"
      ]
     },
     "execution_count": 123,
     "metadata": {},
     "output_type": "execute_result"
    }
   ],
   "source": [
    "participant_comments = activity_df[activity_df.comment_type == 'participant_comment'].sort_values(by='created_at') \n",
    "participant_initiations = participant_comments.drop_duplicates(subset=['source_user_id', 'target_site_id'])\n",
    "len(participant_comments), len(participant_initiations)"
   ]
  },
  {
   "cell_type": "code",
   "execution_count": 124,
   "metadata": {},
   "outputs": [],
   "source": [
    "registered_tokens = ()\n",
    "i = 0\n",
    "dyad_id_map = {}\n",
    "dyad_ids = []\n",
    "for row in activity_df.itertuples():\n",
    "    key = (row.source_user_id, row.target_user_id)\n",
    "    key2 = (row.target_user_id, row.source_user_id)\n",
    "    if key not in dyad_id_map:\n",
    "        dyad_id_map[key] = i\n",
    "        dyad_id_map[key2] = i\n",
    "        i += 1\n",
    "    dyad_ids.append(dyad_id_map[key])\n",
    "activity_df['dyad_id'] = dyad_ids"
   ]
  },
  {
   "cell_type": "code",
   "execution_count": 125,
   "metadata": {},
   "outputs": [
    {
     "data": {
      "image/png": "[encoded data removed]",
      "text/plain": [
       "<Figure size 720x480 with 1 Axes>"
      ]
     },
     "metadata": {
      "needs_background": "light"
     },
     "output_type": "display_data"
    }
   ],
   "source": [
    "fig, ax = plt.subplots()\n",
    "n_comments = activity_df.dyad_id.value_counts()\n",
    "ax.bar(range(len(n_comments)), n_comments)\n",
    "ax.set_title(f\"{len(set(activity_df.dyad_id))} unique dyads\")\n",
    "ax.set_ylabel(\"Number of comments in dyad\")\n",
    "ax.set_xlabel(\"Dyad rank/id\")\n",
    "plt.show()"
   ]
  },
  {
   "cell_type": "code",
   "execution_count": null,
   "metadata": {},
   "outputs": [],
   "source": [
    "# how many dyads is each participant in?\n",
    "# TODO"
   ]
  },
  {
   "cell_type": "code",
   "execution_count": 144,
   "metadata": {},
   "outputs": [
    {
     "data": {
      "text/html": [
       "<div>\n",
       "<style scoped>\n",
       "    .dataframe tbody tr th:only-of-type {\n",
       "        vertical-align: middle;\n",
       "    }\n",
       "\n",
       "    .dataframe tbody tr th {\n",
       "        vertical-align: top;\n",
       "    }\n",
       "\n",
       "    .dataframe thead th {\n",
       "        text-align: right;\n",
       "    }\n",
       "</style>\n",
       "<table border=\"1\" class=\"dataframe\">\n",
       "  <thead>\n",
       "    <tr style=\"text-align: right;\">\n",
       "      <th></th>\n",
       "      <th>n_comments</th>\n",
       "      <th>comment_type</th>\n",
       "    </tr>\n",
       "    <tr>\n",
       "      <th>dyad_id</th>\n",
       "      <th></th>\n",
       "      <th></th>\n",
       "    </tr>\n",
       "  </thead>\n",
       "  <tbody>\n",
       "    <tr>\n",
       "      <th>3</th>\n",
       "      <td>78</td>\n",
       "      <td>{'participant_comment': 78}</td>\n",
       "    </tr>\n",
       "    <tr>\n",
       "      <th>2</th>\n",
       "      <td>74</td>\n",
       "      <td>{'participant_comment': 59, 'participant_reply...</td>\n",
       "    </tr>\n",
       "    <tr>\n",
       "      <th>27</th>\n",
       "      <td>46</td>\n",
       "      <td>{'participant_comment': 46}</td>\n",
       "    </tr>\n",
       "    <tr>\n",
       "      <th>0</th>\n",
       "      <td>36</td>\n",
       "      <td>{'participant_comment': 36}</td>\n",
       "    </tr>\n",
       "    <tr>\n",
       "      <th>13</th>\n",
       "      <td>29</td>\n",
       "      <td>{'participant_comment': 29}</td>\n",
       "    </tr>\n",
       "    <tr>\n",
       "      <th>1</th>\n",
       "      <td>19</td>\n",
       "      <td>{'rec_comment': 19}</td>\n",
       "    </tr>\n",
       "    <tr>\n",
       "      <th>28</th>\n",
       "      <td>18</td>\n",
       "      <td>{'rec_comment': 15, 'participant_comment': 3}</td>\n",
       "    </tr>\n",
       "    <tr>\n",
       "      <th>10</th>\n",
       "      <td>16</td>\n",
       "      <td>{'participant_comment': 16}</td>\n",
       "    </tr>\n",
       "    <tr>\n",
       "      <th>6</th>\n",
       "      <td>16</td>\n",
       "      <td>{'participant_comment': 16}</td>\n",
       "    </tr>\n",
       "    <tr>\n",
       "      <th>9</th>\n",
       "      <td>14</td>\n",
       "      <td>{'participant_comment': 14}</td>\n",
       "    </tr>\n",
       "    <tr>\n",
       "      <th>16</th>\n",
       "      <td>13</td>\n",
       "      <td>{'participant_comment': 13}</td>\n",
       "    </tr>\n",
       "    <tr>\n",
       "      <th>31</th>\n",
       "      <td>11</td>\n",
       "      <td>{'participant_comment': 11}</td>\n",
       "    </tr>\n",
       "    <tr>\n",
       "      <th>34</th>\n",
       "      <td>11</td>\n",
       "      <td>{'participant_comment': 11}</td>\n",
       "    </tr>\n",
       "    <tr>\n",
       "      <th>14</th>\n",
       "      <td>7</td>\n",
       "      <td>{'participant_comment': 7}</td>\n",
       "    </tr>\n",
       "    <tr>\n",
       "      <th>8</th>\n",
       "      <td>6</td>\n",
       "      <td>{'rec_comment': 6}</td>\n",
       "    </tr>\n",
       "    <tr>\n",
       "      <th>5</th>\n",
       "      <td>6</td>\n",
       "      <td>{'participant_comment': 6}</td>\n",
       "    </tr>\n",
       "    <tr>\n",
       "      <th>25</th>\n",
       "      <td>5</td>\n",
       "      <td>{'participant_comment': 5}</td>\n",
       "    </tr>\n",
       "    <tr>\n",
       "      <th>19</th>\n",
       "      <td>4</td>\n",
       "      <td>{'participant_comment': 4}</td>\n",
       "    </tr>\n",
       "    <tr>\n",
       "      <th>15</th>\n",
       "      <td>3</td>\n",
       "      <td>{'participant_comment': 3}</td>\n",
       "    </tr>\n",
       "    <tr>\n",
       "      <th>22</th>\n",
       "      <td>2</td>\n",
       "      <td>{'participant_comment': 2}</td>\n",
       "    </tr>\n",
       "    <tr>\n",
       "      <th>26</th>\n",
       "      <td>2</td>\n",
       "      <td>{'participant_comment': 2}</td>\n",
       "    </tr>\n",
       "    <tr>\n",
       "      <th>18</th>\n",
       "      <td>2</td>\n",
       "      <td>{'participant_comment': 2}</td>\n",
       "    </tr>\n",
       "    <tr>\n",
       "      <th>20</th>\n",
       "      <td>2</td>\n",
       "      <td>{'participant_comment': 2}</td>\n",
       "    </tr>\n",
       "    <tr>\n",
       "      <th>17</th>\n",
       "      <td>2</td>\n",
       "      <td>{'participant_comment': 2}</td>\n",
       "    </tr>\n",
       "    <tr>\n",
       "      <th>7</th>\n",
       "      <td>2</td>\n",
       "      <td>{'participant_comment': 2}</td>\n",
       "    </tr>\n",
       "    <tr>\n",
       "      <th>4</th>\n",
       "      <td>2</td>\n",
       "      <td>{'participant_comment': 1, 'rec_reply': 1}</td>\n",
       "    </tr>\n",
       "    <tr>\n",
       "      <th>35</th>\n",
       "      <td>2</td>\n",
       "      <td>{'participant_comment': 2}</td>\n",
       "    </tr>\n",
       "    <tr>\n",
       "      <th>21</th>\n",
       "      <td>1</td>\n",
       "      <td>{'participant_comment': 1}</td>\n",
       "    </tr>\n",
       "    <tr>\n",
       "      <th>23</th>\n",
       "      <td>1</td>\n",
       "      <td>{'participant_comment': 1}</td>\n",
       "    </tr>\n",
       "    <tr>\n",
       "      <th>24</th>\n",
       "      <td>1</td>\n",
       "      <td>{'participant_comment': 1}</td>\n",
       "    </tr>\n",
       "    <tr>\n",
       "      <th>12</th>\n",
       "      <td>1</td>\n",
       "      <td>{'rec_comment': 1}</td>\n",
       "    </tr>\n",
       "    <tr>\n",
       "      <th>11</th>\n",
       "      <td>1</td>\n",
       "      <td>{'participant_comment': 1}</td>\n",
       "    </tr>\n",
       "    <tr>\n",
       "      <th>29</th>\n",
       "      <td>1</td>\n",
       "      <td>{'participant_comment': 1}</td>\n",
       "    </tr>\n",
       "    <tr>\n",
       "      <th>30</th>\n",
       "      <td>1</td>\n",
       "      <td>{'participant_comment': 1}</td>\n",
       "    </tr>\n",
       "    <tr>\n",
       "      <th>32</th>\n",
       "      <td>1</td>\n",
       "      <td>{'participant_comment': 1}</td>\n",
       "    </tr>\n",
       "    <tr>\n",
       "      <th>33</th>\n",
       "      <td>1</td>\n",
       "      <td>{'participant_comment': 1}</td>\n",
       "    </tr>\n",
       "  </tbody>\n",
       "</table>\n",
       "</div>"
      ],
      "text/plain": [
       "         n_comments                                       comment_type\n",
       "dyad_id                                                               \n",
       "3                78                        {'participant_comment': 78}\n",
       "2                74  {'participant_comment': 59, 'participant_reply...\n",
       "27               46                        {'participant_comment': 46}\n",
       "0                36                        {'participant_comment': 36}\n",
       "13               29                        {'participant_comment': 29}\n",
       "1                19                                {'rec_comment': 19}\n",
       "28               18      {'rec_comment': 15, 'participant_comment': 3}\n",
       "10               16                        {'participant_comment': 16}\n",
       "6                16                        {'participant_comment': 16}\n",
       "9                14                        {'participant_comment': 14}\n",
       "16               13                        {'participant_comment': 13}\n",
       "31               11                        {'participant_comment': 11}\n",
       "34               11                        {'participant_comment': 11}\n",
       "14                7                         {'participant_comment': 7}\n",
       "8                 6                                 {'rec_comment': 6}\n",
       "5                 6                         {'participant_comment': 6}\n",
       "25                5                         {'participant_comment': 5}\n",
       "19                4                         {'participant_comment': 4}\n",
       "15                3                         {'participant_comment': 3}\n",
       "22                2                         {'participant_comment': 2}\n",
       "26                2                         {'participant_comment': 2}\n",
       "18                2                         {'participant_comment': 2}\n",
       "20                2                         {'participant_comment': 2}\n",
       "17                2                         {'participant_comment': 2}\n",
       "7                 2                         {'participant_comment': 2}\n",
       "4                 2         {'participant_comment': 1, 'rec_reply': 1}\n",
       "35                2                         {'participant_comment': 2}\n",
       "21                1                         {'participant_comment': 1}\n",
       "23                1                         {'participant_comment': 1}\n",
       "24                1                         {'participant_comment': 1}\n",
       "12                1                                 {'rec_comment': 1}\n",
       "11                1                         {'participant_comment': 1}\n",
       "29                1                         {'participant_comment': 1}\n",
       "30                1                         {'participant_comment': 1}\n",
       "32                1                         {'participant_comment': 1}\n",
       "33                1                         {'participant_comment': 1}"
      ]
     },
     "execution_count": 144,
     "metadata": {},
     "output_type": "execute_result"
    }
   ],
   "source": [
    "activity_df.groupby('dyad_id')\\\n",
    "    .agg({'comment_oid': lambda co: co.nunique(), 'comment_type': lambda ct: ct.value_counts().to_dict()})\\\n",
    "    .rename(columns={'comment_oid': 'n_comments'})\\\n",
    "    .sort_values(by='n_comments', ascending=False)"
   ]
  },
  {
   "cell_type": "code",
   "execution_count": null,
   "metadata": {},
   "outputs": [],
   "source": []
  },
  {
   "cell_type": "code",
   "execution_count": null,
   "metadata": {},
   "outputs": [],
   "source": [
    "activity_df = activity_df.sort_values(by=['dyad_id', 'created_at'])\n",
    "activity_df.head()"
   ]
  },
  {
   "cell_type": "code",
   "execution_count": 127,
   "metadata": {},
   "outputs": [],
   "source": [
    "activity_df['comment_time']  = activity_df.created_at.map(lambda ca: datetime.utcfromtimestamp(ca / 1000).strftime(\"%Y-%m-%d %H:%M\"))"
   ]
  },
  {
   "cell_type": "code",
   "execution_count": 128,
   "metadata": {},
   "outputs": [],
   "source": [
    "activity_df.to_csv('comment_activity.csv', index=False)"
   ]
  },
  {
   "cell_type": "code",
   "execution_count": 147,
   "metadata": {},
   "outputs": [
    {
     "data": {
      "text/plain": [
       "26"
      ]
     },
     "execution_count": 147,
     "metadata": {},
     "output_type": "execute_result"
    }
   ],
   "source": [
    "participant_comments = activity_df[activity_df.comment_type.str.startswith('participant_')].sort_values(by='created_at') \n",
    "participant_initiations = participant_comments.drop_duplicates(subset=['source_user_id', 'target_site_id'])\n",
    "participant_initiations.to_csv('participant_comment_initiations.csv', index=False)\n",
    "len(participant_initiations)"
   ]
  },
  {
   "cell_type": "code",
   "execution_count": 111,
   "metadata": {},
   "outputs": [],
   "source": [
    "#output_filepath = os.path.join(activity_dir, 'comment_activity.csv')\n"
   ]
  },
  {
   "cell_type": "code",
   "execution_count": null,
   "metadata": {},
   "outputs": [],
   "source": []
  },
  {
   "cell_type": "markdown",
   "metadata": {
    "tags": []
   },
   "source": [
    "## Survey data"
   ]
  },
  {
   "cell_type": "code",
   "execution_count": null,
   "metadata": {},
   "outputs": [],
   "source": []
  },
  {
   "cell_type": "code",
   "execution_count": null,
   "metadata": {},
   "outputs": [],
   "source": []
  },
  {
   "cell_type": "markdown",
   "metadata": {},
   "source": [
    "### Visits and Follows\n",
    "\n",
    "From the site_profile diffs, look for:\n",
    " - Visits to the site\n",
    " - Follows of the site\n",
    " - Role changes (specifically to \"Removed\", but anything involving Organizer's is interesting too)"
   ]
  },
  {
   "cell_type": "code",
   "execution_count": 22,
   "metadata": {},
   "outputs": [
    {
     "name": "stderr",
     "output_type": "stream",
     "text": [
      "Processing documents: 83881536it [2:14:53, 10363.54it/s]                                \n"
     ]
    },
    {
     "data": {
      "text/plain": [
       "836"
      ]
     },
     "execution_count": 22,
     "metadata": {},
     "output_type": "execute_result"
    }
   ],
   "source": [
    "from cbcore.script.computeCollectionCounts import iterate_collection\n",
    "# identify site_profiles for participants\n",
    "site_profiles = []\n",
    "input_filepath = os.path.join(cbcore.data.paths.raw_data_filepath, 'site_profile.bson.gz')\n",
    "for doc in tqdm(iterate_collection(input_filepath), desc='Processing documents', total=83000000):\n",
    "    user_id = int(doc['userId']) if 'userId' in doc else -1\n",
    "    if user_id in participant_user_ids:\n",
    "        site_profiles.append(doc)\n",
    "len(site_profiles)"
   ]
  },
  {
   "cell_type": "code",
   "execution_count": 23,
   "metadata": {},
   "outputs": [],
   "source": [
    "# save the processed site_profiles to pickle\n",
    "output_dir = os.path.join(cbcore.data.paths.projects_data_dir, 'recsys-peer-match', 'participant')\n",
    "os.makedirs(output_dir, exist_ok=True)\n",
    "with open(os.path.join(output_dir, 'site_profile.pkl'), 'wb') as outfile:\n",
    "    pickle.dump(site_profiles, outfile)"
   ]
  },
  {
   "cell_type": "code",
   "execution_count": null,
   "metadata": {},
   "outputs": [],
   "source": [
    "# load the site profiles\n",
    "with open(os.path.join(participant_data_dir, 'site_profile.pkl'), 'rb') as infile:\n",
    "    site_profiles = pickle.load(infile)\n",
    "print(len(site_profiles))\n",
    "\n",
    "# create a dataframe from the site profile entires\n",
    "ds = []\n",
    "for sp in site_profiles:\n",
    "    user_id = int(sp['userId'])\n",
    "    site_id = int(sp['siteId']) if 'siteId' in sp else -1\n",
    "    # not capturing: n, nl\n",
    "    d = {\n",
    "        'user_id': user_id,\n",
    "        'site_id': site_id,\n",
    "        'is_creator': sp['isCreator'] if 'isCreator' in sp else None,\n",
    "        'is_primary': sp['isPrimary'] if 'isPrimary' in sp else None,\n",
    "        'role': sp['role'],\n",
    "        'is_profile_deleted': sp['isProfileDeleted'] if 'isProfileDeleted' in sp else None,\n",
    "        'is_site_deleted': sp['isSiteDeleted'] if 'isSiteDeleted' in sp else None,\n",
    "        'is_stub': sp['isStub'] if 'isStub' in sp else None,\n",
    "        'created_at': sp['createdAt'].timestamp() * 1000 if 'createdAt' in sp else 0,\n",
    "        'updated_at': sp['updatedAt'].timestamp() * 1000 if 'updatedAt' in sp else 0,\n",
    "        'n': dict(sp['n']) if 'n' in sp and sp['n'] is not None else {},\n",
    "    }\n",
    "    ds.append(d)\n",
    "\n",
    "ssite_profile_df = pd.DataFrame(ds)\n",
    "ssite_profile_df.sample(n=10, random_state=0)"
   ]
  },
  {
   "cell_type": "code",
   "execution_count": null,
   "metadata": {},
   "outputs": [],
   "source": [
    "dict(site_profiles[0])"
   ]
  },
  {
   "cell_type": "code",
   "execution_count": 58,
   "metadata": {},
   "outputs": [
    {
     "data": {
      "text/plain": [
       "189"
      ]
     },
     "execution_count": 58,
     "metadata": {},
     "output_type": "execute_result"
    }
   ],
   "source": [
    "rsite_profile_df = ssite_profile_df.set_index(['user_id', 'site_id']).sort_index()\n",
    "rsite_profile_df = rsite_profile_df.loc[rsite_profile_df.index.intersection(recced_usps)].reset_index()\n",
    "len(rsite_profile_df)"
   ]
  },
  {
   "cell_type": "code",
   "execution_count": null,
   "metadata": {},
   "outputs": [],
   "source": [
    "rsite_profile_df.head()"
   ]
  },
  {
   "cell_type": "code",
   "execution_count": null,
   "metadata": {},
   "outputs": [],
   "source": []
  },
  {
   "cell_type": "markdown",
   "metadata": {},
   "source": [
    "## First clicks analysis"
   ]
  },
  {
   "cell_type": "code",
   "execution_count": 60,
   "metadata": {},
   "outputs": [
    {
     "name": "stdout",
     "output_type": "stream",
     "text": [
      "0:00:03.344280\n"
     ]
    },
    {
     "data": {
      "text/plain": [
       "1195834"
      ]
     },
     "execution_count": 60,
     "metadata": {},
     "output_type": "execute_result"
    }
   ],
   "source": [
    "# load the site metadata dataframe\n",
    "# this is created in caringbridge_core from the new data\n",
    "site_metadata_working_dir = \"/home/lana/shared/caringbridge/data/derived/site_metadata\"\n",
    "s = datetime.now()\n",
    "site_metadata_filepath = os.path.join(site_metadata_working_dir, \"site_metadata.feather\")\n",
    "site_info_df = pd.read_feather(site_metadata_filepath)\n",
    "assert np.sum(site_info_df.site_id.value_counts() > 1) == 0, \"Site ids are not globally unique.\"\n",
    "print(datetime.now() - s)\n",
    "len(site_info_df)"
   ]
  },
  {
   "cell_type": "code",
   "execution_count": 61,
   "metadata": {},
   "outputs": [
    {
     "name": "stdout",
     "output_type": "stream",
     "text": [
      "166 (0.01% duplicate site URL names.\n"
     ]
    }
   ],
   "source": [
    "n_duplicate_names = np.sum(site_info_df.name.value_counts() > 1)\n",
    "print(f\"{n_duplicate_names} ({n_duplicate_names / len(site_info_df):.2%} duplicate site URL names.\")"
   ]
  },
  {
   "cell_type": "code",
   "execution_count": 62,
   "metadata": {},
   "outputs": [
    {
     "name": "stdout",
     "output_type": "stream",
     "text": [
      "1195834\n",
      "1195665\n"
     ]
    }
   ],
   "source": [
    "# remove duplicate site names from the site_info_df\n",
    "# keeping the most recent by created_at date\n",
    "print(len(site_info_df))\n",
    "site_info_df = site_info_df.sort_values(by='created_at').drop_duplicates(subset='name', keep='last', ignore_index=True)\n",
    "print(len(site_info_df))"
   ]
  },
  {
   "cell_type": "code",
   "execution_count": 63,
   "metadata": {},
   "outputs": [
    {
     "data": {
      "text/plain": [
       "231"
      ]
     },
     "execution_count": 63,
     "metadata": {},
     "output_type": "execute_result"
    }
   ],
   "source": [
    "# add site_id to the cloudfront data\n",
    "scf_df = pd.merge(scf_df, site_info_df[['site_id', 'name']], how='left', left_on='site_name', right_on='name', validate='many_to_one')\n",
    "len(scf_df)"
   ]
  },
  {
   "cell_type": "code",
   "execution_count": 64,
   "metadata": {},
   "outputs": [
    {
     "data": {
      "text/plain": [
       "196"
      ]
     },
     "execution_count": 64,
     "metadata": {},
     "output_type": "execute_result"
    }
   ],
   "source": [
    "first_clicks = scf_df.sort_values(by='timestamp').drop_duplicates(subset=['user_id', 'site_id'], keep='first')\n",
    "len(first_clicks)"
   ]
  },
  {
   "cell_type": "code",
   "execution_count": 65,
   "metadata": {},
   "outputs": [
    {
     "data": {
      "text/plain": [
       "(196, 189)"
      ]
     },
     "execution_count": 65,
     "metadata": {},
     "output_type": "execute_result"
    }
   ],
   "source": [
    "first_clicks_map = {(row.user_id, row.site_id): row.timestamp for row in first_clicks.itertuples()}\n",
    "first_visits_map = {(row.user_id, row.site_id): row.created_at / 1000 for row in rsite_profile_df.itertuples()}\n",
    "len(first_clicks_map), len(first_visits_map)"
   ]
  },
  {
   "cell_type": "code",
   "execution_count": 66,
   "metadata": {},
   "outputs": [
    {
     "data": {
      "text/plain": [
       "False"
      ]
     },
     "execution_count": 66,
     "metadata": {},
     "output_type": "execute_result"
    }
   ],
   "source": [
    "# clicks & logged-in visits are not the same...\n",
    "set(first_clicks_map.keys()) == set(first_visits_map.keys())"
   ]
  },
  {
   "cell_type": "code",
   "execution_count": 67,
   "metadata": {},
   "outputs": [
    {
     "data": {
      "text/plain": [
       "218"
      ]
     },
     "execution_count": 67,
     "metadata": {},
     "output_type": "execute_result"
    }
   ],
   "source": [
    "all_first_click_or_visit_pairs = set(first_clicks_map.keys()) | set(first_visits_map.keys())\n",
    "len(all_first_click_or_visit_pairs)"
   ]
  },
  {
   "cell_type": "code",
   "execution_count": 68,
   "metadata": {},
   "outputs": [
    {
     "data": {
      "text/plain": [
       "79"
      ]
     },
     "execution_count": 68,
     "metadata": {},
     "output_type": "execute_result"
    }
   ],
   "source": [
    "participant_rec_map = {}\n",
    "for user_id, group in batch_df.groupby('participant_id'):\n",
    "    participant_rec_map[user_id] = []\n",
    "    for sse in group.itertuples():\n",
    "        for site in sse.sse_site_list:\n",
    "            participant_rec_map[user_id].append(site['site_id'])\n",
    "len(participant_rec_map)"
   ]
  },
  {
   "cell_type": "code",
   "execution_count": 69,
   "metadata": {},
   "outputs": [
    {
     "data": {
      "text/plain": [
       "79"
      ]
     },
     "execution_count": 69,
     "metadata": {},
     "output_type": "execute_result"
    }
   ],
   "source": [
    "participant_rec_time_map = {}\n",
    "for user_id, group in batch_df.groupby('participant_id'):\n",
    "    participant_rec_time_map[user_id] = {}\n",
    "    for sse in group.itertuples():\n",
    "        for site in sse.sse_site_list:\n",
    "            participant_rec_time_map[user_id][site['site_id']] = sse.sse_sent_timestamp\n",
    "len(participant_rec_time_map)"
   ]
  },
  {
   "cell_type": "code",
   "execution_count": 70,
   "metadata": {},
   "outputs": [
    {
     "name": "stdout",
     "output_type": "stream",
     "text": [
      "2021-09-02T19:57:26\n",
      "2021-09-02T19:57:26\n",
      "2021-09-02T19:57:26\n",
      "2021-09-17T22:24:33.098000\n",
      "2021-09-02T19:57:26\n",
      "2021-09-24T16:39:56.622000\n",
      "2021-09-02T19:57:26\n",
      "2021-11-02T21:24:16.874000\n",
      "2021-09-02T19:57:26\n",
      "2021-09-02T19:57:26\n",
      "2021-09-24T16:39:55.448000\n",
      "2021-11-17T18:02:58.614000\n",
      "2021-09-02T19:57:26\n",
      "2021-11-17T18:02:58.614000\n",
      "2021-09-02T19:57:26\n",
      "2021-09-02T19:57:26\n",
      "2021-11-02T21:23:22.643000\n",
      "2021-09-02T19:57:26\n",
      "2021-09-02T19:57:26\n",
      "2021-09-17T22:24:18.791000\n",
      "2021-09-02T19:57:26\n",
      "2021-11-02T21:23:22.643000\n"
     ]
    },
    {
     "data": {
      "text/plain": [
       "(218, 22, 29, 167, 0, 0)"
      ]
     },
     "execution_count": 70,
     "metadata": {},
     "output_type": "execute_result"
    }
   ],
   "source": [
    "n_total = 0\n",
    "n_visit_only = 0\n",
    "n_click_only = 0\n",
    "n_both = 0\n",
    "n_visit_unrelated_to_rec = 0\n",
    "n_visit_pre_rec = 0\n",
    "rec_to_visit_time_diffs = []\n",
    "click_to_visit_time_diffs = []\n",
    "\n",
    "for usp in all_first_click_or_visit_pairs:\n",
    "    if usp in first_clicks_map:\n",
    "        first_click_ts = first_clicks_map[usp]\n",
    "    else:\n",
    "        first_click_ts = None\n",
    "    if usp in first_visits_map:\n",
    "        first_visit_ts = first_visits_map[usp]\n",
    "    else:\n",
    "        first_visit_ts = None\n",
    "    \n",
    "    n_total += 1\n",
    "    if first_visit_ts and first_click_ts:\n",
    "        n_both += 1\n",
    "        click_to_visit_time_diffs.append(first_visit_ts - first_click_ts)\n",
    "    elif first_visit_ts and not first_click_ts:\n",
    "        # didn't register click OR visited pre-study\n",
    "        n_visit_only += 1\n",
    "        \n",
    "        user_id, site_id = usp\n",
    "        # was this site actually recommended?\n",
    "        was_recced = site_id in participant_rec_map[user_id]\n",
    "        if not was_recced:\n",
    "            n_visit_unrelated_to_rec += 1\n",
    "            continue\n",
    "        # did this visit occur before the associated recommendation?\n",
    "        recced_time = participant_rec_time_map[user_id][site_id] / 1000\n",
    "        rec_to_visit_time_diffs.append(first_visit_ts - recced_time)\n",
    "        if first_visit_ts < recced_time:\n",
    "            n_visit_pre_rec += 1\n",
    "        print(datetime.utcfromtimestamp(recced_time).isoformat())\n",
    "        \n",
    "    elif not first_visit_ts and first_click_ts:\n",
    "        # visit while not logged in\n",
    "        n_click_only += 1\n",
    "    elif not first_visit_ts and not first_click_ts:\n",
    "        raise ValueError(\"what?\")\n",
    "    else:\n",
    "        raise ValueError(\"big what.\")\n",
    "n_total, n_visit_only, n_click_only, n_both, n_visit_unrelated_to_rec, n_visit_pre_rec"
   ]
  },
  {
   "cell_type": "code",
   "execution_count": 71,
   "metadata": {},
   "outputs": [
    {
     "data": {
      "text/plain": [
       "0.09523809523809523"
      ]
     },
     "execution_count": 71,
     "metadata": {},
     "output_type": "execute_result"
    }
   ],
   "source": [
    "22 / len(scf_df)"
   ]
  },
  {
   "cell_type": "code",
   "execution_count": 72,
   "metadata": {},
   "outputs": [
    {
     "data": {
      "text/plain": [
       "array([ 0.25611111,  0.31527778,  1.44333333, 63.44163944,  0.29611111,\n",
       "       41.54427167,  0.33805556,  2.81614611,  1.44611111,  1.43527778,\n",
       "        7.14070889,  2.857885  ,  1.44861111,  2.89149611,  0.27916667,\n",
       "       14.60166667, 11.7684325 ,  0.31388889, 14.6275    , 26.14255806,\n",
       "       14.61916667, 11.70398806])"
      ]
     },
     "execution_count": 72,
     "metadata": {},
     "output_type": "execute_result"
    }
   ],
   "source": [
    "# time in hours between rec email sent time and the visit\n",
    "# no obvious patterns... seems to approximately mirror the distribution of time_to_click\n",
    "np.array(rec_to_visit_time_diffs) / 60 / 60"
   ]
  },
  {
   "cell_type": "code",
   "execution_count": 73,
   "metadata": {},
   "outputs": [
    {
     "data": {
      "text/plain": [
       "167"
      ]
     },
     "execution_count": 73,
     "metadata": {},
     "output_type": "execute_result"
    }
   ],
   "source": [
    "click_to_visit_time_diffs = np.array(click_to_visit_time_diffs)\n",
    "len(click_to_visit_time_diffs)"
   ]
  },
  {
   "cell_type": "code",
   "execution_count": 74,
   "metadata": {},
   "outputs": [
    {
     "data": {
      "image/png": "[encoded data removed]",
      "text/plain": [
       "<Figure size 720x480 with 1 Axes>"
      ]
     },
     "metadata": {
      "needs_background": "light"
     },
     "output_type": "display_data"
    }
   ],
   "source": [
    "plt.hist(click_to_visit_time_diffs, log=True, bins=50)\n",
    "plt.axvline(np.mean(click_to_visit_time_diffs), label=f\"mean={np.mean(click_to_visit_time_diffs):.2f}s\", color='black', linestyle='--')\n",
    "plt.legend()\n",
    "plt.title(\"Distribution of time between Cloudfront click and site_profile visit\")\n",
    "plt.xlabel(\"Time difference in seconds\")\n",
    "plt.ylabel(\"Number of first clicks\")\n",
    "plt.show()"
   ]
  },
  {
   "cell_type": "code",
   "execution_count": 75,
   "metadata": {},
   "outputs": [
    {
     "data": {
      "text/plain": [
       "218"
      ]
     },
     "execution_count": 75,
     "metadata": {},
     "output_type": "execute_result"
    }
   ],
   "source": [
    "first_clicks = scf_df.sort_values(by='timestamp').drop_duplicates(subset=['user_id', 'site_id'], keep='first')\n",
    "first_click_map = {(row.user_id, row.site_id): row.timestamp for row in first_clicks.itertuples()}\n",
    "for row in rsite_profile_df.itertuples():\n",
    "    usp = (row.user_id, row.site_id)\n",
    "    if usp not in first_click_map:\n",
    "        first_click_map[usp] = int(row.created_at / 1000)\n",
    "len(first_click_map)"
   ]
  },
  {
   "cell_type": "code",
   "execution_count": 76,
   "metadata": {},
   "outputs": [
    {
     "data": {
      "text/plain": [
       "False    3972\n",
       "True      218\n",
       "Name: was_clicked, dtype: int64"
      ]
     },
     "execution_count": 76,
     "metadata": {},
     "output_type": "execute_result"
    }
   ],
   "source": [
    "first_click_timestamps = []\n",
    "for row in rec_df.itertuples():\n",
    "    usp = (row.user_id, row.site_id)\n",
    "    if usp in first_click_map:\n",
    "        first_click_timestamp = first_click_map[usp]\n",
    "    else:\n",
    "        first_click_timestamp = -1\n",
    "    first_click_timestamps.append(first_click_timestamp)\n",
    "# convert to milliseconds\n",
    "rec_df['first_click_timestamp'] = np.array(first_click_timestamps) * 1000\n",
    "rec_df['was_clicked'] = rec_df.first_click_timestamp >= 0\n",
    "rec_df.was_clicked.value_counts()"
   ]
  },
  {
   "cell_type": "code",
   "execution_count": 77,
   "metadata": {},
   "outputs": [
    {
     "data": {
      "text/plain": [
       "'5.20% of site recommendations were clicked'"
      ]
     },
     "execution_count": 77,
     "metadata": {},
     "output_type": "execute_result"
    }
   ],
   "source": [
    "f\"{np.sum(rec_df.was_clicked) / len(rec_df):.2%} of site recommendations were clicked\""
   ]
  },
  {
   "cell_type": "code",
   "execution_count": null,
   "metadata": {},
   "outputs": [],
   "source": [
    "sdf = rec_df[rec_df.was_clicked]\n",
    "#assert np.all(sdf.first_click_timestamp > sdf.sse_sent_timestamp)\n",
    "plt.hist((sdf.first_click_timestamp - sdf.sse_sent_timestamp) / 1000 / 60 / 60, bins=np.arange(-5, 100))\n",
    "plt.xlabel(\"Time to click (hours)\")\n",
    "plt.ylabel(\"Distribution of time-to-click\")\n",
    "plt.show()\n",
    "sdf[(sdf.first_click_timestamp - sdf.sse_sent_timestamp) < 0]"
   ]
  },
  {
   "cell_type": "code",
   "execution_count": 79,
   "metadata": {},
   "outputs": [],
   "source": [
    "first_click_df = rec_df[rec_df.was_clicked]"
   ]
  },
  {
   "cell_type": "code",
   "execution_count": 80,
   "metadata": {},
   "outputs": [
    {
     "data": {
      "image/png": "[encoded data removed]",
      "text/plain": [
       "<Figure size 720x480 with 1 Axes>"
      ]
     },
     "metadata": {
      "needs_background": "light"
     },
     "output_type": "display_data"
    }
   ],
   "source": [
    "ys = first_click_df.user_id.value_counts()\n",
    "xs = range(len(ys))\n",
    "plt.bar(xs, ys)\n",
    "plt.title(\"Number of clicks by participant\")\n",
    "plt.xlabel(\"Participant rank by number of clicks\")\n",
    "plt.ylabel(\"Number of unique clicks\")\n",
    "plt.show()"
   ]
  },
  {
   "cell_type": "code",
   "execution_count": 81,
   "metadata": {},
   "outputs": [
    {
     "data": {
      "text/plain": [
       "0    756\n",
       "1     32\n",
       "5     19\n",
       "2     12\n",
       "4     10\n",
       "3      9\n",
       "Name: n_batch_clicks, dtype: int64"
      ]
     },
     "execution_count": 81,
     "metadata": {},
     "output_type": "execute_result"
    }
   ],
   "source": [
    "# compute number of clicks at the batch level\n",
    "batch_clicked_map = {}\n",
    "for sse, group in rec_df.groupby(['participant_id', 'batch_id']):\n",
    "    n_clicked = np.sum(group.was_clicked)\n",
    "    batch_clicked_map[sse] = n_clicked\n",
    "n_batch_clicks_list = []\n",
    "for row in batch_df.itertuples():\n",
    "    n_batch_clicks = batch_clicked_map[(row.participant_id, row.batch_id)]\n",
    "    n_batch_clicks_list.append(n_batch_clicks)\n",
    "batch_df['n_batch_clicks'] = n_batch_clicks_list\n",
    "batch_df.n_batch_clicks.value_counts()"
   ]
  },
  {
   "cell_type": "code",
   "execution_count": 82,
   "metadata": {},
   "outputs": [
    {
     "data": {
      "image/png": "[encoded data removed]",
      "text/plain": [
       "<Figure size 720x480 with 1 Axes>"
      ]
     },
     "metadata": {
      "needs_background": "light"
     },
     "output_type": "display_data"
    }
   ],
   "source": [
    "counts, _ = np.histogram(batch_df.n_batch_clicks, bins = np.arange(0, 7))\n",
    "#plt.hist(batch_df.n_batch_clicks, , log=True)\n",
    "plt.bar(range(len(counts)), counts)\n",
    "plt.yscale('log')\n",
    "for i, count in enumerate(counts):\n",
    "    plt.text(i, count, f\"{count}\", ha='center', va='bottom')\n",
    "plt.xlabel(\"Number of clicks\")\n",
    "plt.ylabel(\"Number of batches\")\n",
    "plt.title(\"Distribution of clicks per batch\")\n",
    "plt.show()"
   ]
  },
  {
   "cell_type": "code",
   "execution_count": null,
   "metadata": {},
   "outputs": [],
   "source": [
    "# six participants clicked every link in an email\n",
    "batch_df[batch_df.n_batch_clicks == 5].participant_id.value_counts()"
   ]
  },
  {
   "cell_type": "markdown",
   "metadata": {},
   "source": [
    "#### v1 annotations\n",
    "\n",
    "Every annotation in a batch that was clicked at least once (but not 5 times)."
   ]
  },
  {
   "cell_type": "code",
   "execution_count": 84,
   "metadata": {},
   "outputs": [
    {
     "data": {
      "text/plain": [
       "63"
      ]
     },
     "execution_count": 84,
     "metadata": {},
     "output_type": "execute_result"
    }
   ],
   "source": [
    "eligible_batches = [(row.participant_id, row.batch_id) for row in batch_df[(batch_df.n_batch_clicks > 0)&(batch_df.n_batch_clicks < 5)].itertuples()]\n",
    "len(eligible_batches)"
   ]
  },
  {
   "cell_type": "code",
   "execution_count": 185,
   "metadata": {},
   "outputs": [
    {
     "data": {
      "text/plain": [
       "(242, 73)"
      ]
     },
     "execution_count": 185,
     "metadata": {},
     "output_type": "execute_result"
    }
   ],
   "source": [
    "header = ['site_id','journal_oid','site_title','cleaned_journal_title','cleaned_journal_body',\n",
    "          'NOT what/how patient is doing?','good news?','bad news?','EOA/gratitude?','author visible?','expressive writing?']\n",
    "clicked_batch_sse_annotation_filepath = os.path.join(participant_data_dir, 'clicked_batch_sse_annotation_v1.tsv')\n",
    "\n",
    "duplicate_avoided = 0\n",
    "lines_written = 0\n",
    "written_journal_oids = set()\n",
    "with open(clicked_batch_sse_annotation_filepath, 'w') as outfile:\n",
    "    outfile.write('\\t'.join(header) + '\\n')\n",
    "    for row in rec_df.sample(frac=1).itertuples():\n",
    "        if (row.participant_id, row.batch_id) in eligible_batches:\n",
    "            if row.journal_oid in written_journal_oids:\n",
    "                duplicate_avoided += 1\n",
    "                continue\n",
    "            written_journal_oids.add(row.journal_oid)\n",
    "            cleaned_journal_title = row.cleaned_journal_title.replace('\\t', '    ').replace('\\n', ' NEWLINE ').replace('\"', '\\\\\"')\n",
    "            cleaned_journal_body = row.cleaned_journal_body.replace('\\t', '    ').replace('\\n', ' NEWLINE ').replace('\"', '\\\\\"')\n",
    "            line = f\"{row.site_id}\\t{row.journal_oid}\\t{row.site_title}\\t\\\"{cleaned_journal_title}\\\"\\t\\\"{cleaned_journal_body}\\\"\\t\\t\\t\\t\\t\\t\\n\"\n",
    "            assert '\\n' not in line[:-1]\n",
    "            outfile.write(line)\n",
    "            lines_written += 1\n",
    "lines_written, duplicate_avoided"
   ]
  },
  {
   "cell_type": "code",
   "execution_count": 186,
   "metadata": {},
   "outputs": [],
   "source": [
    "with open(clicked_batch_sse_annotation_filepath, 'r') as infile:\n",
    "    for line in infile:\n",
    "        tokens = line.split(\"\\t\")\n",
    "        assert len(tokens) == 11, line"
   ]
  },
  {
   "cell_type": "code",
   "execution_count": 187,
   "metadata": {},
   "outputs": [
    {
     "data": {
      "text/plain": [
       "242"
      ]
     },
     "execution_count": 187,
     "metadata": {},
     "output_type": "execute_result"
    }
   ],
   "source": [
    "len(pd.read_csv(clicked_batch_sse_annotation_filepath, sep='\\t', header=0))"
   ]
  },
  {
   "cell_type": "markdown",
   "metadata": {},
   "source": [
    "#### v2 annotations\n",
    "\n",
    "Every batch from a participant that clicked at least once."
   ]
  },
  {
   "cell_type": "code",
   "execution_count": 87,
   "metadata": {},
   "outputs": [
    {
     "data": {
      "text/plain": [
       "242"
      ]
     },
     "execution_count": 87,
     "metadata": {},
     "output_type": "execute_result"
    }
   ],
   "source": [
    "v1_clicked_batch_sse_annotation_filepath = os.path.join(participant_data_dir, 'clicked_batch_sse_annotation_v1.tsv')\n",
    "v1_journal_oids = set(pd.read_csv(v1_clicked_batch_sse_annotation_filepath, sep='\\t', header=0).journal_oid)\n",
    "len(v1_journal_oids)"
   ]
  },
  {
   "cell_type": "code",
   "execution_count": 89,
   "metadata": {},
   "outputs": [
    {
     "data": {
      "text/plain": [
       "255"
      ]
     },
     "execution_count": 89,
     "metadata": {},
     "output_type": "execute_result"
    }
   ],
   "source": [
    "# identify every participant who clicked at least once\n",
    "eligible_participants = set([row.participant_id for row in batch_df[batch_df.n_batch_clicks > 0].itertuples()])\n",
    "# identify all batches already present in the v1 annotations\n",
    "v1_eligible_batches = [(row.participant_id, row.batch_id) for row in batch_df[(batch_df.n_batch_clicks > 0)&(batch_df.n_batch_clicks < 5)].itertuples()]\n",
    "# identify all batches NOT in v1 but that are\n",
    "eligible_batches = [(row.participant_id, row.batch_id) for row in batch_df[batch_df.participant_id.isin(eligible_participants)].itertuples()\n",
    "                   if (row.participant_id, row.batch_id) not in v1_eligible_batches]\n",
    "len(eligible_batches)"
   ]
  },
  {
   "cell_type": "code",
   "execution_count": 90,
   "metadata": {},
   "outputs": [
    {
     "data": {
      "text/plain": [
       "(376, 899)"
      ]
     },
     "execution_count": 90,
     "metadata": {},
     "output_type": "execute_result"
    }
   ],
   "source": [
    "header = ['site_id','journal_oid','site_title','cleaned_journal_title','cleaned_journal_body',\n",
    "          'NOT what/how patient is doing?','good news?','bad news?','EOA/gratitude?','author visible?','expressive writing?']\n",
    "clicked_batch_sse_annotation_filepath = os.path.join(participant_data_dir, 'clicked_batch_sse_annotation_v2.tsv')\n",
    "\n",
    "duplicate_avoided = 0\n",
    "lines_written = 0\n",
    "written_journal_oids = set()\n",
    "with open(clicked_batch_sse_annotation_filepath, 'w') as outfile:\n",
    "    outfile.write('\\t'.join(header) + '\\n')\n",
    "    for row in rec_df.sample(frac=1).itertuples():\n",
    "        if (row.participant_id, row.batch_id) in eligible_batches:\n",
    "            if row.journal_oid in written_journal_oids or row.journal_oid in v1_journal_oids:\n",
    "                duplicate_avoided += 1\n",
    "                continue\n",
    "            written_journal_oids.add(row.journal_oid)\n",
    "            cleaned_journal_title = row.cleaned_journal_title.replace('\\t', '    ').replace('\\n', ' NEWLINE ').replace('\"', '\\\\\"')\n",
    "            cleaned_journal_body = row.cleaned_journal_body.replace('\\t', '    ').replace('\\n', ' NEWLINE ').replace('\"', '\\\\\"')\n",
    "            line = f\"{row.site_id}\\t{row.journal_oid}\\t{row.site_title}\\t\\\"{cleaned_journal_title}\\\"\\t\\\"{cleaned_journal_body}\\\"\\t\\t\\t\\t\\t\\t\\n\"\n",
    "            assert '\\n' not in line[:-1]\n",
    "            outfile.write(line)\n",
    "            lines_written += 1\n",
    "lines_written, duplicate_avoided"
   ]
  },
  {
   "cell_type": "code",
   "execution_count": 91,
   "metadata": {},
   "outputs": [
    {
     "data": {
      "text/plain": [
       "376"
      ]
     },
     "execution_count": 91,
     "metadata": {},
     "output_type": "execute_result"
    }
   ],
   "source": [
    "len(pd.read_csv(clicked_batch_sse_annotation_filepath, sep='\\t', header=0))"
   ]
  },
  {
   "cell_type": "markdown",
   "metadata": {},
   "source": [
    "#### v3 annotations\n",
    "\n",
    "Random sample of some kind. Sensible options:\n",
    " - Random sample of batches (able to answer \"what % of batches contained good news?\")\n",
    " - Random sample of recommended journals (able to answer: \"what % of recommendations contained good news?\")\n",
    " - Random sample of journals, weighted by occurrence (able to answer: \"what % of the recommendations viewed by participants contained good news?\")"
   ]
  },
  {
   "cell_type": "code",
   "execution_count": 94,
   "metadata": {},
   "outputs": [
    {
     "data": {
      "text/plain": [
       "318"
      ]
     },
     "execution_count": 94,
     "metadata": {},
     "output_type": "execute_result"
    }
   ],
   "source": [
    "# identify every participant who clicked at least once\n",
    "eligible_participants = set([row.participant_id for row in batch_df[batch_df.n_batch_clicks > 0].itertuples()])\n",
    "# identify all batches captured in v1 and v2\n",
    "v1_v2_eligible_batches = [(row.participant_id, row.batch_id) for row in batch_df[batch_df.participant_id.isin(eligible_participants)].itertuples()]\n",
    "len(v1_v2_eligible_batches)"
   ]
  },
  {
   "cell_type": "code",
   "execution_count": 98,
   "metadata": {},
   "outputs": [
    {
     "data": {
      "text/plain": [
       "4190"
      ]
     },
     "execution_count": 98,
     "metadata": {},
     "output_type": "execute_result"
    }
   ],
   "source": [
    "# TODO figure out how we want to random sample\n",
    "# keep track of which updates are present in v1_v2_eligible_batches and make sure we don't multiply annotate them...\n",
    "# this will be somewhat complicated code I think, probably need to change how we sample the rec_df\n",
    "len(rec_df)"
   ]
  },
  {
   "cell_type": "markdown",
   "metadata": {},
   "source": [
    "#### Utility bash for copying and transferring files\n",
    "\n"
   ]
  },
  {
   "cell_type": "code",
   "execution_count": 92,
   "metadata": {},
   "outputs": [
    {
     "name": "stdout",
     "output_type": "stream",
     "text": [
      "/panfs/roc/groups/1/lana/levon003/repos/recsys-peer-match/notebook/survey\n",
      "./clicked_batch_sse_annotation_v2.tsv\n"
     ]
    }
   ],
   "source": [
    "!cp {clicked_batch_sse_annotation_filepath} .\n",
    "!pwd\n",
    "!ls ./*.tsv"
   ]
  },
  {
   "cell_type": "code",
   "execution_count": null,
   "metadata": {},
   "outputs": [],
   "source": []
  },
  {
   "cell_type": "code",
   "execution_count": null,
   "metadata": {},
   "outputs": [],
   "source": []
  },
  {
   "cell_type": "code",
   "execution_count": null,
   "metadata": {},
   "outputs": [],
   "source": []
  },
  {
   "cell_type": "code",
   "execution_count": null,
   "metadata": {},
   "outputs": [],
   "source": [
    "# load the site profile diff\n",
    "s = datetime.now()\n",
    "site_profile_diff_filepath = os.path.join(cbcore.data.paths.projects_data_dir, 'caringbridge_core', 'site_profile_diff', 'site_profile_diff.tsv')\n",
    "site_profile_diff_df = pd.read_csv(site_profile_diff_filepath, sep='\\t', header=0)\n",
    "print(f\"Read {len(site_profile_diff_df)} rows in {datetime.now() - s}.\")\n",
    "site_profile_diff_df.head()"
   ]
  },
  {
   "cell_type": "code",
   "execution_count": 41,
   "metadata": {},
   "outputs": [
    {
     "data": {
      "image/png": "[encoded data removed]",
      "text/plain": [
       "<Figure size 1440x360 with 1 Axes>"
      ]
     },
     "metadata": {
      "needs_background": "light"
     },
     "output_type": "display_data"
    },
    {
     "data": {
      "text/plain": [
       "182890.0"
      ]
     },
     "execution_count": 41,
     "metadata": {},
     "output_type": "execute_result"
    }
   ],
   "source": [
    "daily_counts = site_profile_diff_df.snapshot_date.value_counts().sort_index()\n",
    "\n",
    "fig, ax = plt.subplots(1, 1, figsize=(12, 3))\n",
    "\n",
    "xs = np.arange(len(daily_counts))\n",
    "ax.plot(xs, daily_counts)\n",
    "nl = '\\n'\n",
    "for x, count in zip(xs, daily_counts):\n",
    "    ax.text(x, count, f\"{count / 1000:,.0f}K\", ha='center', va='bottom' if x % 2 == 0 else 'top')  # {nl if x % 2 == 0 else ''}\n",
    "\n",
    "ax.set_xticks(xs)\n",
    "ax.set_xticklabels([f\"{str(i)[4:6]}\\n{str(i)[6:]}\" for i in daily_counts.index])\n",
    "\n",
    "ax.set_title(\"Daily updates to the site_profile collection, captured via snapshot\")\n",
    "ax.set_xlabel(\"Snapshot date\")\n",
    "ax.set_ylabel(\"Number of updates\")\n",
    "\n",
    "plt.tight_layout()\n",
    "plt.show()\n",
    "\n",
    "np.median(daily_counts)"
   ]
  },
  {
   "cell_type": "code",
   "execution_count": 42,
   "metadata": {},
   "outputs": [
    {
     "data": {
      "text/plain": [
       "updatedAt    16834928\n",
       "role           225536\n",
       "n              213113\n",
       "Name: key, dtype: int64"
      ]
     },
     "execution_count": 42,
     "metadata": {},
     "output_type": "execute_result"
    }
   ],
   "source": [
    "site_profile_diff_df.key.value_counts()"
   ]
  },
  {
   "cell_type": "code",
   "execution_count": 43,
   "metadata": {},
   "outputs": [
    {
     "data": {
      "text/plain": [
       "265"
      ]
     },
     "execution_count": 43,
     "metadata": {},
     "output_type": "execute_result"
    }
   ],
   "source": [
    "rsite_profile_diff_df = site_profile_diff_df.set_index(['user_id', 'site_id']).sort_index()\n",
    "rsite_profile_diff_df = rsite_profile_diff_df.loc[rsite_profile_diff_df.index.intersection(recced_usps)].reset_index()\n",
    "len(rsite_profile_diff_df)"
   ]
  },
  {
   "cell_type": "code",
   "execution_count": null,
   "metadata": {},
   "outputs": [],
   "source": [
    "rsite_profile_diff_df.head()"
   ]
  },
  {
   "cell_type": "code",
   "execution_count": 45,
   "metadata": {},
   "outputs": [
    {
     "data": {
      "text/plain": [
       "65"
      ]
     },
     "execution_count": 45,
     "metadata": {},
     "output_type": "execute_result"
    }
   ],
   "source": [
    "# how many unique user->site updates did we observe?\n",
    "rsite_profile_diff_df.groupby(['user_id', 'site_id']).ngroups"
   ]
  },
  {
   "cell_type": "code",
   "execution_count": 46,
   "metadata": {},
   "outputs": [
    {
     "data": {
      "text/plain": [
       "357"
      ]
     },
     "execution_count": 46,
     "metadata": {},
     "output_type": "execute_result"
    }
   ],
   "source": [
    "sp_df = rsite_profile_diff_df.merge(rsite_profile_df, how='outer', on=['user_id', 'site_id'])\n",
    "len(sp_df)"
   ]
  },
  {
   "cell_type": "code",
   "execution_count": null,
   "metadata": {},
   "outputs": [],
   "source": [
    "sp_df.head()"
   ]
  },
  {
   "cell_type": "code",
   "execution_count": 48,
   "metadata": {},
   "outputs": [
    {
     "data": {
      "text/plain": [
       "updatedAt    209\n",
       "role          49\n",
       "n              7\n",
       "Name: key, dtype: int64"
      ]
     },
     "execution_count": 48,
     "metadata": {},
     "output_type": "execute_result"
    }
   ],
   "source": [
    "sp_df.key.value_counts()"
   ]
  },
  {
   "cell_type": "code",
   "execution_count": 49,
   "metadata": {},
   "outputs": [
    {
     "data": {
      "text/plain": [
       "157"
      ]
     },
     "execution_count": 49,
     "metadata": {},
     "output_type": "execute_result"
    }
   ],
   "source": [
    "# visit actions\n",
    "#sdf = sp_df[sp_df.key == 'updatedAt']\n",
    "ds = []\n",
    "for usp, group in sp_df.groupby(['user_id', 'site_id']):\n",
    "    n_potential_missed_visits = 0\n",
    "    prev_visit_timestamp = int(group.iloc[0].created_at)\n",
    "    visit_timestamps = [prev_visit_timestamp,]\n",
    "    for row in group[group.key == 'updatedAt'].sort_values(by='new_value').itertuples():\n",
    "        new_value = int(row.new_value) * 1000\n",
    "        old_value = int(row.old_value) * 1000\n",
    "        assert new_value > old_value\n",
    "        assert new_value > prev_visit_timestamp, f\"{new_value} {prev_visit_timestamp}\"\n",
    "        if old_value != prev_visit_timestamp:\n",
    "            assert old_value > prev_visit_timestamp\n",
    "            n_potential_missed_visits += 1\n",
    "            visit_timestamps.append(old_value)\n",
    "        visit_timestamps.append(new_value)\n",
    "        prev_visit_timestamp = new_value\n",
    "    n_visits = len(visit_timestamps)\n",
    "    ds.append({\n",
    "        'user_id': usp[0],\n",
    "        'site_id': usp[1],\n",
    "        'n_visits': n_visits,\n",
    "        'n_potential_missed_visits': n_potential_missed_visits,\n",
    "        'visit_timestamps': visit_timestamps,\n",
    "    })\n",
    "visit_df = pd.DataFrame(ds)\n",
    "len(visit_df)"
   ]
  },
  {
   "cell_type": "code",
   "execution_count": null,
   "metadata": {},
   "outputs": [],
   "source": [
    "visit_df.sort_values(by='n_visits', ascending=False).head(10)"
   ]
  },
  {
   "cell_type": "code",
   "execution_count": null,
   "metadata": {},
   "outputs": [],
   "source": [
    "visit_df.groupby('user_id').n_visits.sum().sort_values(ascending=False)"
   ]
  },
  {
   "cell_type": "code",
   "execution_count": 52,
   "metadata": {},
   "outputs": [
    {
     "data": {
      "text/plain": [
       "410"
      ]
     },
     "execution_count": 52,
     "metadata": {},
     "output_type": "execute_result"
    }
   ],
   "source": [
    "visit_df.groupby('user_id').n_visits.sum().sum()"
   ]
  },
  {
   "cell_type": "code",
   "execution_count": 54,
   "metadata": {},
   "outputs": [
    {
     "data": {
      "text/plain": [
       "0     113\n",
       "1      23\n",
       "3       4\n",
       "4       3\n",
       "16      2\n",
       "14      2\n",
       "7       2\n",
       "5       2\n",
       "2       2\n",
       "24      1\n",
       "23      1\n",
       "20      1\n",
       "8       1\n",
       "Name: n_return_visits, dtype: int64"
      ]
     },
     "execution_count": 54,
     "metadata": {},
     "output_type": "execute_result"
    }
   ],
   "source": [
    "# how many \"return visits\" are there?\n",
    "def count_return_visits(visit_timestamps):\n",
    "    if len(visit_timestamps) <= 1:\n",
    "        return 0\n",
    "    return_visit_threshold = 1000 * 60 * 60 * 6  # 6 hours\n",
    "    \n",
    "    n_return_visits = 0\n",
    "    first_timestamp = visit_timestamps[0]\n",
    "    for timestamp in visit_timestamps[1:]:\n",
    "        if timestamp > first_timestamp + return_visit_threshold:\n",
    "            n_return_visits += 1\n",
    "    return n_return_visits\n",
    "visit_df['n_return_visits'] = visit_df.visit_timestamps.map(count_return_visits)\n",
    "visit_df.n_return_visits.value_counts()"
   ]
  },
  {
   "cell_type": "code",
   "execution_count": 57,
   "metadata": {},
   "outputs": [
    {
     "data": {
      "text/plain": [
       "(210, 44)"
      ]
     },
     "execution_count": 57,
     "metadata": {},
     "output_type": "execute_result"
    }
   ],
   "source": [
    "visit_df.n_return_visits.sum(), np.sum(visit_df.n_return_visits > 0)"
   ]
  },
  {
   "cell_type": "code",
   "execution_count": 60,
   "metadata": {},
   "outputs": [
    {
     "data": {
      "text/plain": [
       "28"
      ]
     },
     "execution_count": 60,
     "metadata": {},
     "output_type": "execute_result"
    }
   ],
   "source": [
    "len(visit_df.groupby('user_id').n_return_visits.count())"
   ]
  },
  {
   "cell_type": "code",
   "execution_count": null,
   "metadata": {},
   "outputs": [],
   "source": [
    "# TODO create a visit_df with all of the participants visits, and then compute pre/post comparison?"
   ]
  },
  {
   "cell_type": "code",
   "execution_count": null,
   "metadata": {},
   "outputs": [],
   "source": []
  },
  {
   "cell_type": "code",
   "execution_count": null,
   "metadata": {},
   "outputs": [],
   "source": [
    "# follow actions\n",
    "sp_df[sp_df.key == 'n']"
   ]
  },
  {
   "cell_type": "code",
   "execution_count": null,
   "metadata": {},
   "outputs": [],
   "source": [
    "# currently, this is a reasonable estimate of number of follow actions\n",
    "sp_df[sp_df.n.map(lambda n: len(n) > 0)].groupby(['user_id', 'site_id']).updated_at.nunique()"
   ]
  },
  {
   "cell_type": "code",
   "execution_count": 137,
   "metadata": {},
   "outputs": [
    {
     "data": {
      "text/plain": [
       "0    180\n",
       "1    117\n",
       "4     30\n",
       "2     30\n",
       "Name: n, dtype: int64"
      ]
     },
     "execution_count": 137,
     "metadata": {},
     "output_type": "execute_result"
    }
   ],
   "source": [
    "sp_df.n.map(lambda n: len(n)).value_counts()"
   ]
  },
  {
   "cell_type": "code",
   "execution_count": 139,
   "metadata": {},
   "outputs": [
    {
     "data": {
      "text/html": [
       "<div>\n",
       "<style scoped>\n",
       "    .dataframe tbody tr th:only-of-type {\n",
       "        vertical-align: middle;\n",
       "    }\n",
       "\n",
       "    .dataframe tbody tr th {\n",
       "        vertical-align: top;\n",
       "    }\n",
       "\n",
       "    .dataframe thead th {\n",
       "        text-align: right;\n",
       "    }\n",
       "</style>\n",
       "<table border=\"1\" class=\"dataframe\">\n",
       "  <thead>\n",
       "    <tr style=\"text-align: right;\">\n",
       "      <th>n</th>\n",
       "      <th>0</th>\n",
       "      <th>1</th>\n",
       "      <th>2</th>\n",
       "      <th>4</th>\n",
       "    </tr>\n",
       "    <tr>\n",
       "      <th>key</th>\n",
       "      <th></th>\n",
       "      <th></th>\n",
       "      <th></th>\n",
       "      <th></th>\n",
       "    </tr>\n",
       "  </thead>\n",
       "  <tbody>\n",
       "    <tr>\n",
       "      <th>n</th>\n",
       "      <td>0</td>\n",
       "      <td>6</td>\n",
       "      <td>1</td>\n",
       "      <td>0</td>\n",
       "    </tr>\n",
       "    <tr>\n",
       "      <th>role</th>\n",
       "      <td>47</td>\n",
       "      <td>1</td>\n",
       "      <td>1</td>\n",
       "      <td>0</td>\n",
       "    </tr>\n",
       "    <tr>\n",
       "      <th>updatedAt</th>\n",
       "      <td>41</td>\n",
       "      <td>110</td>\n",
       "      <td>28</td>\n",
       "      <td>30</td>\n",
       "    </tr>\n",
       "  </tbody>\n",
       "</table>\n",
       "</div>"
      ],
      "text/plain": [
       "n           0    1   2   4\n",
       "key                       \n",
       "n           0    6   1   0\n",
       "role       47    1   1   0\n",
       "updatedAt  41  110  28  30"
      ]
     },
     "execution_count": 139,
     "metadata": {},
     "output_type": "execute_result"
    }
   ],
   "source": [
    "pd.crosstab(sp_df.key, sp_df.n.map(lambda n: len(n)), dropna=False)"
   ]
  },
  {
   "cell_type": "code",
   "execution_count": null,
   "metadata": {},
   "outputs": [],
   "source": []
  },
  {
   "cell_type": "code",
   "execution_count": null,
   "metadata": {},
   "outputs": [],
   "source": []
  },
  {
   "cell_type": "markdown",
   "metadata": {},
   "source": [
    "## Interactions and journals"
   ]
  },
  {
   "cell_type": "code",
   "execution_count": 25,
   "metadata": {},
   "outputs": [
    {
     "name": "stdout",
     "output_type": "stream",
     "text": [
      "0:00:16.162211\n"
     ]
    },
    {
     "data": {
      "text/plain": [
       "20666627"
      ]
     },
     "execution_count": 25,
     "metadata": {},
     "output_type": "execute_result"
    }
   ],
   "source": [
    "# load the journal dataframe with the index\n",
    "s = datetime.now()\n",
    "journal_metadata_dir = \"/home/lana/shared/caringbridge/data/derived/journal_metadata\"\n",
    "journal_metadata_filepath = os.path.join(journal_metadata_dir, \"journal_metadata.feather\")\n",
    "journal_df = pd.read_feather(journal_metadata_filepath)\n",
    "print(datetime.now() - s)\n",
    "len(journal_df)"
   ]
  },
  {
   "cell_type": "code",
   "execution_count": null,
   "metadata": {},
   "outputs": [],
   "source": [
    "# read interactions dataframe\n",
    "s = datetime.now()\n",
    "model_data_dir = '/home/lana/shared/caringbridge/data/projects/recsys-peer-match/model_data'\n",
    "ints_df = pd.read_feather(os.path.join(model_data_dir, 'ints_df.feather'))\n",
    "print(f\"Read {len(ints_df)} rows ({len(set(ints_df.user_id))} unique users) in {datetime.now() - s}.\")\n",
    "ints_df.head()"
   ]
  },
  {
   "cell_type": "code",
   "execution_count": 27,
   "metadata": {},
   "outputs": [
    {
     "data": {
      "text/plain": [
       "79"
      ]
     },
     "execution_count": 27,
     "metadata": {},
     "output_type": "execute_result"
    }
   ],
   "source": [
    "participant_user_ids = set(participant_df[participant_df.n_total_recs > 0].user_id)\n",
    "len(participant_user_ids)"
   ]
  },
  {
   "cell_type": "code",
   "execution_count": null,
   "metadata": {},
   "outputs": [],
   "source": [
    "participant_ints_df = ints_df[ints_df.user_id.isin(participant_user_ids)]\n",
    "participant_ints_df = participant_ints_df.set_index(['user_id', 'site_id']).sort_index()\n",
    "print(len(participant_ints_df))\n",
    "participant_ints_df.head()"
   ]
  },
  {
   "cell_type": "code",
   "execution_count": 49,
   "metadata": {},
   "outputs": [
    {
     "data": {
      "image/png": "[encoded data removed]",
      "text/plain": [
       "<Figure size 720x480 with 1 Axes>"
      ]
     },
     "metadata": {
      "needs_background": "light"
     },
     "output_type": "display_data"
    }
   ],
   "source": [
    "total_int_count = participant_ints_df.groupby('user_id').created_at.count().rename('total_int_count').sort_values(ascending=False)\n",
    "plt.plot(range(len(total_int_count)), total_int_count)\n",
    "plt.ylabel(\"Total number of interactions\")\n",
    "plt.xlabel(\"Participant rank\")\n",
    "plt.show()"
   ]
  },
  {
   "cell_type": "code",
   "execution_count": 32,
   "metadata": {},
   "outputs": [
    {
     "data": {
      "text/plain": [
       "455"
      ]
     },
     "execution_count": 32,
     "metadata": {},
     "output_type": "execute_result"
    }
   ],
   "source": [
    "rec_ints_df = participant_ints_df.loc[participant_ints_df.index.intersection(recced_usps)].reset_index()\n",
    "len(rec_ints_df)"
   ]
  },
  {
   "cell_type": "code",
   "execution_count": null,
   "metadata": {},
   "outputs": [],
   "source": [
    "rec_ints_df.groupby('user_id').site_id.count().sort_values(ascending=False)"
   ]
  },
  {
   "cell_type": "code",
   "execution_count": null,
   "metadata": {},
   "outputs": [],
   "source": [
    "pd.crosstab(rec_ints_df.user_id, rec_ints_df.interaction_type)"
   ]
  },
  {
   "cell_type": "code",
   "execution_count": null,
   "metadata": {},
   "outputs": [],
   "source": [
    "participant_df.head()"
   ]
  },
  {
   "cell_type": "code",
   "execution_count": 63,
   "metadata": {},
   "outputs": [
    {
     "data": {
      "text/plain": [
       "78"
      ]
     },
     "execution_count": 63,
     "metadata": {},
     "output_type": "execute_result"
    }
   ],
   "source": [
    "days30 = 1000 * 60 * 60 * 24 * 30\n",
    "first_sse_timestamp_map = participant_df.set_index('user_id').first_sse_timestamp.to_dict()\n",
    "\n",
    "ds = []\n",
    "for user_id, group in participant_ints_df.groupby('user_id'):\n",
    "    if user_id not in first_sse_timestamp_map:\n",
    "        print(\"PANIC\")\n",
    "        continue\n",
    "    first_sse_timestamp = first_sse_timestamp_map[user_id]\n",
    "    if first_sse_timestamp == -1:\n",
    "        continue\n",
    "    n_total = len(group)\n",
    "    n_post = np.sum(group.created_at >= first_sse_timestamp)\n",
    "    n_pre = n_total - n_post\n",
    "    \n",
    "    \n",
    "    n_post_30 = np.sum((group.created_at >= first_sse_timestamp)&(group.created_at <= first_sse_timestamp + days30))\n",
    "    n_pre_30 = np.sum((group.created_at <= first_sse_timestamp)&(group.created_at >= first_sse_timestamp - days30))\n",
    "    d = {\n",
    "        'user_id': user_id,\n",
    "        'n_pre_30': n_pre_30, \n",
    "        'n_post_30': n_post_30,\n",
    "    }\n",
    "    ds.append(d)\n",
    "    \n",
    "int_count_df = pd.DataFrame(ds)\n",
    "len(int_count_df)"
   ]
  },
  {
   "cell_type": "code",
   "execution_count": 71,
   "metadata": {},
   "outputs": [
    {
     "name": "stdout",
     "output_type": "stream",
     "text": [
      "28.21% greater, 17.95% equal, 53.85% less interactions, when comparing 30 days post-study-start and 30 days pre-study-start\n"
     ]
    },
    {
     "data": {
      "image/png": "[encoded data removed]",
      "text/plain": [
       "<Figure size 720x480 with 1 Axes>"
      ]
     },
     "metadata": {
      "needs_background": "light"
     },
     "output_type": "display_data"
    }
   ],
   "source": [
    "xs = int_count_df.n_post_30 - int_count_df.n_pre_30\n",
    "print(f\"{np.sum(xs > 0) / len(xs):.2%} greater, {np.sum(xs == 0) / len(xs):.2%} equal, {np.sum(xs < 0) / len(xs):.2%} less interactions, when comparing 30 days post-study-start and 30 days pre-study-start\")\n",
    "plt.hist(xs, bins=20)\n",
    "plt.title(\"Difference in number of interactions post vs pre study\")\n",
    "plt.show()"
   ]
  },
  {
   "cell_type": "code",
   "execution_count": null,
   "metadata": {},
   "outputs": [],
   "source": []
  },
  {
   "cell_type": "code",
   "execution_count": null,
   "metadata": {},
   "outputs": [],
   "source": []
  },
  {
   "cell_type": "code",
   "execution_count": null,
   "metadata": {},
   "outputs": [],
   "source": []
  }
 ],
 "metadata": {
  "kernelspec": {
   "display_name": "Python 3 (ipykernel)",
   "language": "python",
   "name": "python3"
  },
  "language_info": {
   "codemirror_mode": {
    "name": "ipython",
    "version": 3
   },
   "file_extension": ".py",
   "mimetype": "text/x-python",
   "name": "python",
   "nbconvert_exporter": "python",
   "pygments_lexer": "ipython3",
   "version": "3.9.7"
  }
 },
 "nbformat": 4,
 "nbformat_minor": 4
}
