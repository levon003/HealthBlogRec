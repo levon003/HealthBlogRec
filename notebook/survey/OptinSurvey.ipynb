{
 "cells": [
  {
   "cell_type": "markdown",
   "metadata": {},
   "source": [
    "Opt-in Survey\n",
    "===\n",
    "\n",
    "Opt-in survey analysis.\n",
    "\n",
    "Includes:\n",
    " - Summary of responses by question\n",
    " - Generating the list of participant emails\n",
    "\n",
    "A note on the Universal Banner:\n",
    "\n",
    "Slack message exchange with Beth Betcher.\n",
    "\n",
    ">**Zachary Levonian 12:06 PM  August 25th, 2021**\n",
    ">Hey Beth, question about the Universal Banner when targeted to authors only: what exactly are the conditions when this banner will appear?  Is \"it will show up for a logged-in user when they visit the home page of a site (e.g. https://www.caringbridge.org/visit/ellensmith3) for which they are an author or co-author (e.g. I am the creator of ellensmith3)\" correct, or are there other conditions e.g. can it show up on top of other sites, or on the journal page, etc.?  Just checking for posterity and documentation purposes...  Also am I correct that it won't appear for app users?\n",
    "\n",
    ">**Beth Betcher  12:07 PM  August 25th, 2021**\n",
    ">Yes both are correct \n"
   ]
  },
  {
   "cell_type": "code",
   "execution_count": null,
   "metadata": {},
   "outputs": [],
   "source": [
    "import numpy as np\n",
    "import pandas as pd\n",
    "import matplotlib.pyplot as plt\n",
    "import matplotlib\n",
    "matplotlib.rcParams['figure.dpi'] = 120\n",
    "matplotlib.rcParams['font.family'] = \"serif\""
   ]
  },
  {
   "cell_type": "code",
   "execution_count": null,
   "metadata": {},
   "outputs": [],
   "source": [
    "import os\n",
    "from glob import glob\n",
    "import re\n",
    "from IPython.core.display import display, HTML\n",
    "\n",
    "from datetime import datetime\n",
    "import pytz\n",
    "from dateutil.relativedelta import relativedelta"
   ]
  },
  {
   "cell_type": "code",
   "execution_count": null,
   "metadata": {},
   "outputs": [],
   "source": [
    "git_root_dir = !git rev-parse --show-toplevel\n",
    "git_root_dir = git_root_dir[0]\n",
    "git_root_dir"
   ]
  },
  {
   "cell_type": "code",
   "execution_count": null,
   "metadata": {},
   "outputs": [],
   "source": [
    "figures_dir = os.path.join(git_root_dir, 'figures')\n",
    "assert os.path.exists(figures_dir)"
   ]
  },
  {
   "cell_type": "code",
   "execution_count": null,
   "metadata": {},
   "outputs": [],
   "source": [
    "data_dir = os.path.join(git_root_dir, 'data', 'survey')\n",
    "assert os.path.exists(data_dir), f\"Expected directory '{data_dir}' to exist.\""
   ]
  },
  {
   "cell_type": "code",
   "execution_count": null,
   "metadata": {},
   "outputs": [],
   "source": [
    "survey_files = glob(data_dir + \"/CaringBridge Author Recommendations Opt-In_*.tsv\")\n",
    "if len(survey_files) > 1:\n",
    "    #assert len(survey_files) == 1, f\"Expected exactly one survey file in data dir, found {len(survey_files)} instead.\"\n",
    "    survey_files.sort(key = lambda fname: int(fname.split(\",\")[0][-2:].strip()))\n",
    "    survey_filepath = survey_files[-1]\n",
    "else:\n",
    "    survey_filepath = survey_files[0]\n",
    "survey_filepath"
   ]
  },
  {
   "cell_type": "code",
   "execution_count": null,
   "metadata": {},
   "outputs": [],
   "source": [
    "df = pd.read_csv(survey_filepath, sep='\\t', encoding='utf-16')\n",
    "len(df)"
   ]
  },
  {
   "cell_type": "code",
   "execution_count": null,
   "metadata": {},
   "outputs": [],
   "source": [
    "# Columns\n",
    "print(\", \".join(list(df.columns)))"
   ]
  },
  {
   "cell_type": "code",
   "execution_count": null,
   "metadata": {},
   "outputs": [],
   "source": [
    "# save the question texts as a dictionary\n",
    "q_texts = df.iloc[0].to_dict()\n",
    "q_texts['hasPreviousVisit']"
   ]
  },
  {
   "cell_type": "code",
   "execution_count": null,
   "metadata": {},
   "outputs": [],
   "source": [
    "for column in df.columns:\n",
    "    q_text = q_texts[column] if len(q_texts[column]) <= 100 else q_texts[column][:20] + \"...\" + q_texts[column][-80:]\n",
    "    print(f\"{column:>20} {q_text}\")"
   ]
  },
  {
   "cell_type": "code",
   "execution_count": null,
   "metadata": {},
   "outputs": [],
   "source": [
    "# need to trim off the 2 header lines\n",
    "df = df.iloc[2:]\n",
    "len(df)"
   ]
  },
  {
   "cell_type": "code",
   "execution_count": null,
   "metadata": {},
   "outputs": [],
   "source": [
    "# how many finished?\n",
    "np.sum(df.Finished == 'True'), np.sum(df.Finished == 'True') / len(df)"
   ]
  },
  {
   "cell_type": "code",
   "execution_count": null,
   "metadata": {},
   "outputs": [],
   "source": [
    "emails = []\n",
    "for cb_email, backup_email in zip(df.caringbridge_email_1_TEXT, df.caringbridge_email_2_TEXT):\n",
    "    email = cb_email\n",
    "    if pd.isna(email):\n",
    "        email = backup_email\n",
    "    if pd.isna(email):\n",
    "        email = \"\"\n",
    "    if email == \"zwlevonian@gmail.com\" or email.endswith(\"@caringbridge.org\"):\n",
    "        email = \"\"\n",
    "    emails.append(email)\n",
    "df['email'] = emails\n",
    "(df.email != '').rename('valid_email').value_counts()"
   ]
  },
  {
   "cell_type": "code",
   "execution_count": null,
   "metadata": {},
   "outputs": [],
   "source": [
    "df.loc[df.email == '', ['caringbridge_email_1_TEXT', 'caringbridge_email_2_TEXT', 'email']]"
   ]
  },
  {
   "cell_type": "code",
   "execution_count": null,
   "metadata": {},
   "outputs": [],
   "source": [
    "fdf = df[df.email != ''].copy()\n",
    "len(fdf)"
   ]
  },
  {
   "cell_type": "code",
   "execution_count": null,
   "metadata": {},
   "outputs": [],
   "source": [
    "# compute end dates from response strings\n",
    "central_time = pytz.timezone('US/Central')\n",
    "fdf['end_date'] = fdf.EndDate.map(lambda dt_str: datetime.strptime(dt_str, '%Y-%m-%d %H:%M:%S').astimezone(central_time))\n",
    "print(f\"Responses from {fdf.end_date.min()} to {fdf.end_date.max()}\")"
   ]
  },
  {
   "cell_type": "code",
   "execution_count": null,
   "metadata": {},
   "outputs": [],
   "source": [
    "# consolidate duplicates\n",
    "fdf = fdf.sort_values(by='end_date').drop_duplicates(subset=['email',], keep='last')\n",
    "len(fdf)"
   ]
  },
  {
   "cell_type": "code",
   "execution_count": null,
   "metadata": {},
   "outputs": [],
   "source": [
    "central_time = pytz.timezone('US/Central')\n",
    "[(r, str(d)) for r, d in zip(fdf.EndDate, fdf.EndDate.map(lambda dt_str: datetime.strptime(dt_str, '%Y-%m-%d %H:%M:%S').astimezone(central_time)))]  #.astimezone(central_time)) #.timestamp() * 1000)"
   ]
  },
  {
   "cell_type": "code",
   "execution_count": null,
   "metadata": {},
   "outputs": [],
   "source": [
    "end_dates = fdf.EndDate.map(lambda dt_str: datetime.strptime(dt_str, '%Y-%m-%d %H:%M:%S').astimezone(central_time))\n",
    "start_dates = fdf.StartDate.map(lambda dt_str: datetime.strptime(dt_str, '%Y-%m-%d %H:%M:%S').astimezone(central_time))\n",
    "times = end_dates - start_dates\n",
    "\n",
    "fig, ax = plt.subplots(1, 1, figsize=(3,3))\n",
    "\n",
    "ax.hist(times.astype('timedelta64[s]') / 60, log=False, bins=np.arange(20))\n",
    "ax.set_xlabel(\"Survey time in minutes\")\n",
    "ax.set_ylabel(\"Number of respondents\")\n",
    "ax.set_title(\"Survey completion times\")\n",
    "\n",
    "plt.tight_layout()\n",
    "plt.show()"
   ]
  },
  {
   "cell_type": "code",
   "execution_count": null,
   "metadata": {},
   "outputs": [],
   "source": [
    "dates = fdf.EndDate.map(lambda dt_str: datetime.strptime(dt_str, '%Y-%m-%d %H:%M:%S').astimezone(central_time))\n",
    "\n",
    "fig, ax = plt.subplots(1, 1, figsize=(12, 4))\n",
    "\n",
    "banner_live_time = datetime.fromisoformat('2021-08-02 12:11:00').astimezone(central_time)\n",
    "#ax.axvline(banner_live_time, linestyle='dotted', color='black')\n",
    "ax.annotate(\"Launched\\n@ noon\", xy=(banner_live_time, 0), xytext=(banner_live_time, 1), \n",
    "            arrowprops=dict(arrowstyle=\"->\"), ha='center', va='center',\n",
    "            fontsize=8)\n",
    "\n",
    "\n",
    "start_date = datetime.fromisoformat('2021-08-02').astimezone(central_time)\n",
    "end_date = datetime.fromisoformat('2021-08-24').replace(tzinfo=pytz.UTC)\n",
    "curr_date = start_date\n",
    "bins = []\n",
    "while curr_date < end_date:\n",
    "    bins.append(curr_date)\n",
    "    curr_date += relativedelta(hours=1)\n",
    "bins.append(curr_date)\n",
    "\n",
    "curr_date = start_date\n",
    "day_bins = []\n",
    "while curr_date < end_date:\n",
    "    day_bins.append(curr_date)\n",
    "    curr_date += relativedelta(days=1)\n",
    "day_bins.append(curr_date)\n",
    "\n",
    "counts, bin_edges = np.histogram(dates, bins=bins)\n",
    "#ax.bar(bin_edges[:-1], counts, width=bins[1] - bins[0])\n",
    "ax.scatter(bin_edges[:-1][counts > 0], counts[counts > 0])\n",
    "hour_counts = counts\n",
    "ax.set_ylim(0, np.max(hour_counts) + 1.1)\n",
    "\n",
    "# print daily counts as text\n",
    "counts, bin_edges = np.histogram(dates, bins=day_bins)\n",
    "for bin_edge, count in zip(bin_edges[:-1], counts):\n",
    "    ax.text(bin_edge + relativedelta(days=0.5), np.max(hour_counts) + 1, f\"{count} new\\non\\n{bin_edge.strftime('%h %d').replace('Aug 0', 'Aug ')}\", ha='center', va='top')\n",
    "for bin_edge in bin_edges:\n",
    "    ax.axvline(bin_edge, linestyle='--', color='black', alpha=0.5)\n",
    "\n",
    "ax.set_xlabel(\"Recruitment date\")\n",
    "ax.set_ylabel(\"New participants per hour\")\n",
    "\n",
    "ax.set_title(f\"Recruited {len(dates)} participants between {np.min(dates).strftime('%h %d %I:%M %p CT')} and {np.max(dates).strftime('%h %d %I:%M %p CT')}\")\n",
    "    \n",
    "plt.tight_layout()\n",
    "plt.show()"
   ]
  },
  {
   "cell_type": "code",
   "execution_count": null,
   "metadata": {},
   "outputs": [],
   "source": [
    "dates = fdf.EndDate.map(lambda dt_str: datetime.strptime(dt_str, '%Y-%m-%d %H:%M:%S').astimezone(central_time))\n",
    "\n",
    "fig, ax = plt.subplots(1, 1, figsize=(5.47807, 2))\n",
    "\n",
    "banner_live_time = datetime.fromisoformat('2021-08-02 12:11:00').astimezone(central_time)\n",
    "#ax.axvline(banner_live_time, linestyle='dotted', color='black')\n",
    "ax.annotate(\"Launched\\n@ noon\", xy=(banner_live_time, 0), xytext=(banner_live_time, 3), \n",
    "            arrowprops=dict(arrowstyle=\"->\"), ha='center', va='center',\n",
    "            fontsize=8)\n",
    "\n",
    "\n",
    "start_date = datetime.fromisoformat('2021-08-02').astimezone(central_time)\n",
    "end_date = datetime.fromisoformat('2021-08-24').astimezone(central_time)\n",
    "curr_date = start_date\n",
    "bins = []\n",
    "while curr_date < end_date:\n",
    "    bins.append(curr_date)\n",
    "    curr_date += relativedelta(hours=1)\n",
    "bins.append(curr_date)\n",
    "\n",
    "curr_date = start_date\n",
    "day_bins = []\n",
    "while curr_date < end_date:\n",
    "    day_bins.append(curr_date)\n",
    "    curr_date += relativedelta(days=1)\n",
    "day_bins.append(curr_date)\n",
    "\n",
    "#counts, bin_edges = np.histogram(dates, bins=bins)\n",
    "#ax.scatter(bin_edges[:-1][counts > 0], counts[counts > 0])\n",
    "#hour_counts = counts\n",
    "#ax.set_ylim(0, np.max(hour_counts) + 1.1)\n",
    "\n",
    "counts, bin_edges = np.histogram(dates, bins=day_bins)\n",
    "#lines = ax.plot(bin_edges[:-1], counts)\n",
    "lines = ax.plot(bin_edges, list(counts) + [counts[-1],])\n",
    "line = lines[0]\n",
    "ax.set_ylim(0, np.max(counts) + 1)\n",
    "\n",
    "# we can use the line data to interpolate the height at a given x value\n",
    "# x = np.array([d.timestamp() for d in line.get_xdata()])\n",
    "# y = line.get_ydata()\n",
    "# heights = [np.interp(d.timestamp(), x, y) for d in dates]\n",
    "heights = [0.1 for d in dates] \n",
    "ax.scatter(dates, heights, marker='^', color='darkgray', alpha=0.2)\n",
    "ax.scatter(dates, heights, marker='|', color='black', alpha=0.5)\n",
    "\n",
    "# print daily counts as text\n",
    "#counts, bin_edges = np.histogram(dates, bins=day_bins)\n",
    "#for bin_edge, count in zip(bin_edges[:-1], counts):\n",
    "#    ax.text(bin_edge + relativedelta(days=0.5), np.max(hour_counts) + 1, f\"{count} new\\non\\n{bin_edge.strftime('%h %d').replace('Aug 0', 'Aug ')}\", ha='center', va='top')\n",
    "#for bin_edge in bin_edges:\n",
    "    #ax.axvline(bin_edge, linestyle='--', color='black', alpha=0.5)\n",
    "\n",
    "ax.set_xlabel(\"Recruitment date in August 2021\")\n",
    "ax.set_ylabel(\"Opt-ins / day\")\n",
    "\n",
    "title = f\"Recruited {len(dates)} participants between {np.min(dates).strftime('%h %d %I:%M %p CT')} and {np.max(dates).strftime('%h %d %I:%M %p CT')}\"\n",
    "#ax.set_title(title)\n",
    "print(title)\n",
    "\n",
    "ax.set_yticks([0, 2, 4, 6, 8, 10])\n",
    "\n",
    "ax.set_xticks(day_bins[::2])\n",
    "#ax.xaxis.set_major_formatter(matplotlib.ticker.FuncFormatter(lambda x, y: x.strftime('%Y') ))\n",
    "ax.xaxis.set_major_formatter(matplotlib.dates.DateFormatter('%a\\n%d'))\n",
    "#ax.tick_params(axis='x', labelsize=7)\n",
    "    \n",
    "plt.tight_layout()\n",
    "plt.show()"
   ]
  },
  {
   "cell_type": "code",
   "execution_count": null,
   "metadata": {},
   "outputs": [],
   "source": [
    "manual_additions = [\n",
    "    'test@example.com',  # partial survey response\n",
    "]\n",
    "with open(os.path.join(data_dir, 'participant_emails.txt'), 'w') as outfile:\n",
    "    n_written = 0\n",
    "    for email in fdf.email:\n",
    "        if email.strip() != '':\n",
    "            outfile.write(f\"{email.strip().replace(' ', '')}\\n\")\n",
    "            n_written += 1\n",
    "    for email in manual_additions:\n",
    "        outfile.write(f\"{email.strip()}\\n\")\n",
    "        n_written += 1\n",
    "n_written"
   ]
  },
  {
   "cell_type": "code",
   "execution_count": null,
   "metadata": {},
   "outputs": [],
   "source": [
    "motivations_text_map = {\n",
    "    'To learn from the journeys of other CaringBridge authors.': 'motivations_learn',\n",
    "    'To communicate with a peer who understands.': 'motivations_peer',\n",
    "    'To receive advice or support from more experienced authors.': 'motivations_experience',\n",
    "    'To help mentor or support newer CaringBridge authors.': 'motivations_mentor',\n",
    "    'I’m not interested in visiting other authors’ CaringBridge sites right now, but I would have wanted to in the past.': 'motivations_past',\n",
    "    'I’m not interested in visiting other authors’ CaringBridge sites right now, but I might want to in the future.': 'motivations_future',\n",
    "    'I’m never interested in visiting other authors’ CaringBridge sites.': 'motivations_never',\n",
    "    'Something else:': 'motivations_other',\n",
    "}\n",
    "\n",
    "characteristics_text_map = {\n",
    "    'High-quality writing or photos': 'characteristics_quality',\n",
    "    'Similar diagnosis or symptoms to you or the loved one you care for': 'characteristics_diagnosis',\n",
    "    'Similar treatments to you or the loved one you care for': 'characteristics_treatment',\n",
    "    'Lives near me': 'characteristics_location',\n",
    "    'Similar cultural background to you or the loved one you care for': 'characteristics_culture',\n",
    "    'For caregivers: Sharing the same relationship (e.g. spouse, child) to the person they care for': 'characteristics_cg',\n",
    "    'Something else:': 'characteristics_other',\n",
    "}"
   ]
  },
  {
   "cell_type": "code",
   "execution_count": null,
   "metadata": {},
   "outputs": [],
   "source": [
    "for col_name in motivations_text_map.values():\n",
    "    fdf[col_name] = -1\n",
    "for col_name in characteristics_text_map.values():\n",
    "    fdf[col_name] = -1\n",
    "    \n",
    "for row in fdf.itertuples():\n",
    "    motivations = row.motivations\n",
    "    if not pd.isna(motivations):\n",
    "        for text, col_name in motivations_text_map.items():\n",
    "            if text in motivations:\n",
    "                fdf.at[row.Index, col_name] = 1\n",
    "            else:\n",
    "                fdf.at[row.Index, col_name] = 0\n",
    "                \n",
    "    characteristics = row.characteristics\n",
    "    if not pd.isna(characteristics):\n",
    "        for text, col_name in characteristics_text_map.items():\n",
    "            if text in characteristics:\n",
    "                fdf.at[row.Index, col_name] = 1\n",
    "            else:\n",
    "                fdf.at[row.Index, col_name] = 0\n",
    "fdf.loc[(fdf.motivations.notna())|(fdf.characteristics.notna()), [col for col in fdf.columns if (col.startswith(\"characteristics_\") or col.startswith(\"motivations_\")) and 'TEXT' not in col]].T"
   ]
  },
  {
   "cell_type": "code",
   "execution_count": null,
   "metadata": {},
   "outputs": [],
   "source": [
    "for col in motivations_text_map.values():\n",
    "    vals = fdf[col]\n",
    "    vals = vals[vals != -1]\n",
    "    print(f\"{col:>25} {np.sum(vals)} ({np.sum(vals) / len(vals) * 100:.1f}%) {len(vals)}\")\n",
    "    \n",
    "for col in characteristics_text_map.values():\n",
    "    vals = fdf[col]\n",
    "    vals = vals[vals != -1]\n",
    "    print(f\"{col:>25} {np.sum(vals)} ({np.sum(vals) / len(vals) * 100:.1f}%) {len(vals)}\")"
   ]
  },
  {
   "cell_type": "code",
   "execution_count": null,
   "metadata": {},
   "outputs": [],
   "source": [
    "fig, ax = plt.subplots(1, 1, figsize=(5, 5))\n",
    "cmap = matplotlib.cm.viridis\n",
    "\n",
    "yes = np.sum(fdf.hasPreviousVisit.str.startswith(\"Yes\"))\n",
    "no = np.sum(fdf.hasPreviousVisit.str.startswith(\"No\"))\n",
    "no_answer = np.sum(fdf.hasPreviousVisit.isna())\n",
    "ax.bar([0, 1, 2], [yes, no, no_answer], color=[cmap(0.2), cmap(0.4), 'gray'])\n",
    "ax.set_xticks([0, 1, 2])\n",
    "ax.set_xticklabels([\"Yes\", \"No\", \"Skipped\"])\n",
    "ax.set_ylabel(\"Number of respondents\")\n",
    "\n",
    "plt.tight_layout()\n",
    "plt.show()\n",
    "fdf.hasPreviousVisit.value_counts(dropna=False) / np.sum(fdf.hasPreviousVisit.notna())"
   ]
  },
  {
   "cell_type": "code",
   "execution_count": null,
   "metadata": {},
   "outputs": [],
   "source": [
    "fig, ax = plt.subplots(1, 1, figsize=(2, 3))\n",
    "cmap = matplotlib.cm.viridis\n",
    "\n",
    "yes = np.sum(fdf.hasPreviousVisit.str.startswith(\"Yes\"))\n",
    "no = np.sum(fdf.hasPreviousVisit.str.startswith(\"No\"))\n",
    "no_answer = np.sum(fdf.hasPreviousVisit.isna())\n",
    "total = yes + no\n",
    "ax.bar([0, 1, 2], [yes, no, no_answer], color=[cmap(0.2), cmap(0.4), 'gray'])\n",
    "ax.set_xticks([0, 1, 2])\n",
    "ax.set_xticklabels([\"Yes\", \"No\", \"Skipped\"])\n",
    "ax.tick_params(axis='both', which='major', labelsize=8)\n",
    "ax.set_ylabel(\"Response count\", fontsize=8)\n",
    "\n",
    "ax.text(0, yes, f\"{yes/total:.1%}\", ha='center', va='bottom', fontsize=8)\n",
    "ax.text(1, no, f\"{no/total:.1%}\", ha='center', va='bottom', fontsize=8)\n",
    "\n",
    "ax.set_ylim(0, 70)\n",
    "ax.text(0.5, 0.99, \"Has visited a\\nstranger's site?\", transform=ax.transAxes, ha='center', va='top', fontsize=9)\n",
    "\n",
    "fig.tight_layout()\n",
    "image_shortfilename = f\"survey_stranger_visits.pdf\"\n",
    "image_filename = os.path.join(figures_dir, image_shortfilename)\n",
    "fig.savefig(image_filename, format='pdf', dpi=200, pad_inches=0.01, bbox_inches='tight')\n",
    "\n",
    "plt.show()"
   ]
  },
  {
   "cell_type": "code",
   "execution_count": null,
   "metadata": {},
   "outputs": [],
   "source": []
  },
  {
   "cell_type": "code",
   "execution_count": null,
   "metadata": {},
   "outputs": [],
   "source": [
    "qs = [\n",
    "    'wantsStudyResults',\n",
    "    'hasPreviousVisit',\n",
    "]\n",
    "qs.extend(motivations_text_map.values())\n",
    "qs.extend(characteristics_text_map.values())\n",
    "len(qs)"
   ]
  },
  {
   "cell_type": "code",
   "execution_count": null,
   "metadata": {},
   "outputs": [],
   "source": [
    "motivations_text_map_r = {v: k for k, v in motivations_text_map.items()}\n",
    "characteristics_text_map_r = {v: k for k, v in characteristics_text_map.items()}\n",
    "for q in qs:\n",
    "    value_counts = pd.DataFrame(fdf[q].value_counts(dropna=False)).sort_index()\n",
    "    if q in q_texts:\n",
    "        label = q_texts[q]\n",
    "    elif q.startswith(\"motivations_\"):\n",
    "        label = '(Optional) Which of the following might motivate you to visit a fellow author’s CaringBridge site, even if you didn’t personally know them?: ' + motivations_text_map_r[q]\n",
    "    elif q.startswith(\"characteristics_\"):\n",
    "        label = '(Optional) What characteristics of an author or their site would make you want to read & engage with that person’s CaringBridge site?: ' + characteristics_text_map_r[q]\n",
    "    else:\n",
    "        assert False\n",
    "    display(HTML(label), value_counts)"
   ]
  },
  {
   "cell_type": "code",
   "execution_count": null,
   "metadata": {},
   "outputs": [],
   "source": [
    "for text in fdf.loc[fdf.motivations_11_TEXT.notna(), 'motivations_11_TEXT']:\n",
    "    print(text + \"\\n\")"
   ]
  },
  {
   "cell_type": "code",
   "execution_count": null,
   "metadata": {},
   "outputs": [],
   "source": [
    "for text in fdf.loc[fdf.characteristics_11_TEXT.notna(), 'characteristics_11_TEXT']:\n",
    "    print(text + \"\\n\")"
   ]
  },
  {
   "cell_type": "code",
   "execution_count": null,
   "metadata": {},
   "outputs": [],
   "source": [
    "for text in fdf.loc[fdf.free_response.notna(), 'free_response']:\n",
    "    print(text + \"\\n\")"
   ]
  },
  {
   "cell_type": "code",
   "execution_count": null,
   "metadata": {},
   "outputs": [],
   "source": []
  }
 ],
 "metadata": {
  "kernelspec": {
   "display_name": "Python 3 (ipykernel)",
   "language": "python",
   "name": "python3"
  },
  "language_info": {
   "codemirror_mode": {
    "name": "ipython",
    "version": 3
   },
   "file_extension": ".py",
   "mimetype": "text/x-python",
   "name": "python",
   "nbconvert_exporter": "python",
   "pygments_lexer": "ipython3",
   "version": "3.9.7"
  }
 },
 "nbformat": 4,
 "nbformat_minor": 4
}
