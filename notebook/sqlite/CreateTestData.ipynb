{
 "cells": [
  {
   "cell_type": "markdown",
   "metadata": {},
   "source": [
    "Create Test Data\n",
    "===\n",
    "\n",
    "Create test databases with fake data but matching the schema of the full databases on MSI.\n",
    "\n",
    "Databases to mock:\n",
    " - Sites\n",
    " - Journal Metadata\n",
    " - Journal Text\n",
    " - Amps\n",
    " - Comments\n",
    " - Guestbooks\n",
    " \n",
    "The only part of this notebook that requires being run on MSI is the copying of the schema directly from each prod database.  While this step could be skipped if we find ourselves generating new test data often, it has the benefit of ensuring that the dev/test database schema matches the prod database schema."
   ]
  },
  {
   "cell_type": "code",
   "execution_count": 1,
   "metadata": {},
   "outputs": [],
   "source": [
    "import os\n",
    "import sqlite3\n",
    "from datetime import datetime"
   ]
  },
  {
   "cell_type": "code",
   "execution_count": 2,
   "metadata": {},
   "outputs": [],
   "source": [
    "SITE_DB = '/home/lana/shared/caringbridge/data/derived/site_metadata/site.sqlite'\n",
    "JOURNAL_METADATA_DB = \"/home/lana/shared/caringbridge/data/projects/recsys-peer-match/sqlite/journal_metadata.sqlite\"\n",
    "JOURNAL_TEXT_DB = '/home/lana/shared/caringbridge/data/projects/caringbridge_core/journal.sqlite'\n",
    "COMMENTS_DB = '/home/lana/shared/caringbridge/data/projects/caringbridge_core/updated_comments.sqlite'\n",
    "GUESTBOOK_DB = '/home/lana/shared/caringbridge/data/projects/caringbridge_core/guestbook.sqlite'\n",
    "AMPS_DB = '/home/lana/shared/caringbridge/data/projects/recsys-peer-match/sqlite/amps.sqlite'"
   ]
  },
  {
   "cell_type": "code",
   "execution_count": 3,
   "metadata": {},
   "outputs": [
    {
     "data": {
      "text/plain": [
       "PosixPath('/panfs/roc/groups/1/lana/levon003/repos/recsys-peer-match')"
      ]
     },
     "execution_count": 3,
     "metadata": {},
     "output_type": "execute_result"
    }
   ],
   "source": [
    "from pathlib import Path\n",
    "git_root_dir = !git rev-parse --show-toplevel\n",
    "git_root_dir = Path(git_root_dir[0].strip())\n",
    "git_root_dir"
   ]
  },
  {
   "cell_type": "code",
   "execution_count": 4,
   "metadata": {},
   "outputs": [
    {
     "data": {
      "text/plain": [
       "['/panfs/roc/groups/1/lana/levon003/repos/recsys-peer-match/cb_web_app/flask_api/test/data/site.sqlite',\n",
       " '/panfs/roc/groups/1/lana/levon003/repos/recsys-peer-match/cb_web_app/flask_api/test/data/journal_metadata.sqlite',\n",
       " '/panfs/roc/groups/1/lana/levon003/repos/recsys-peer-match/cb_web_app/flask_api/test/data/journal.sqlite',\n",
       " '/panfs/roc/groups/1/lana/levon003/repos/recsys-peer-match/cb_web_app/flask_api/test/data/updated_comments.sqlite',\n",
       " '/panfs/roc/groups/1/lana/levon003/repos/recsys-peer-match/cb_web_app/flask_api/test/data/guestbook.sqlite',\n",
       " '/panfs/roc/groups/1/lana/levon003/repos/recsys-peer-match/cb_web_app/flask_api/test/data/amps.sqlite']"
      ]
     },
     "execution_count": 4,
     "metadata": {},
     "output_type": "execute_result"
    }
   ],
   "source": [
    "prod_db_paths = [SITE_DB, JOURNAL_METADATA_DB, JOURNAL_TEXT_DB, COMMENTS_DB, GUESTBOOK_DB, AMPS_DB]\n",
    "test_db_dir = os.path.join(git_root_dir, 'cb_web_app', 'flask_api', 'test', 'data')\n",
    "assert os.path.exists(test_db_dir)\n",
    "test_db_paths = [os.path.join(test_db_dir, os.path.basename(path)) for path in prod_db_paths]\n",
    "test_db_paths"
   ]
  },
  {
   "cell_type": "code",
   "execution_count": 5,
   "metadata": {},
   "outputs": [
    {
     "name": "stdout",
     "output_type": "stream",
     "text": [
      "Existing test databases deleted.\n"
     ]
    }
   ],
   "source": [
    "for test_db_path in test_db_paths:\n",
    "    if os.path.exists(test_db_path):\n",
    "        os.remove(test_db_path)\n",
    "print(\"Existing test databases deleted.\")"
   ]
  },
  {
   "cell_type": "code",
   "execution_count": 6,
   "metadata": {},
   "outputs": [],
   "source": [
    "for prod_db_path, test_db_path in zip(prod_db_paths, test_db_paths):\n",
    "    os.system(f\"sqlite3 {prod_db_path} '.schema' | sqlite3 {test_db_path}\")\n",
    "    assert os.path.exists(test_db_path)"
   ]
  },
  {
   "cell_type": "code",
   "execution_count": 7,
   "metadata": {},
   "outputs": [
    {
     "name": "stdout",
     "output_type": "stream",
     "text": [
      "64K\t/panfs/roc/groups/1/lana/levon003/repos/recsys-peer-match/cb_web_app/flask_api/test/data/amps.sqlite\n",
      "64K\t/panfs/roc/groups/1/lana/levon003/repos/recsys-peer-match/cb_web_app/flask_api/test/data/guestbook.sqlite\n",
      "64K\t/panfs/roc/groups/1/lana/levon003/repos/recsys-peer-match/cb_web_app/flask_api/test/data/journal_metadata.sqlite\n",
      "64K\t/panfs/roc/groups/1/lana/levon003/repos/recsys-peer-match/cb_web_app/flask_api/test/data/journal.sqlite\n",
      "32K\t/panfs/roc/groups/1/lana/levon003/repos/recsys-peer-match/cb_web_app/flask_api/test/data/site.sqlite\n",
      "96K\t/panfs/roc/groups/1/lana/levon003/repos/recsys-peer-match/cb_web_app/flask_api/test/data/updated_comments.sqlite\n"
     ]
    }
   ],
   "source": [
    "!du -h {test_db_dir}/*.sqlite"
   ]
  },
  {
   "cell_type": "code",
   "execution_count": null,
   "metadata": {},
   "outputs": [],
   "source": []
  },
  {
   "cell_type": "markdown",
   "metadata": {},
   "source": [
    "### Create helper functions for mock data generation"
   ]
  },
  {
   "cell_type": "code",
   "execution_count": 8,
   "metadata": {},
   "outputs": [],
   "source": [
    "def get_db(db_filename):\n",
    "    db = sqlite3.connect(\n",
    "            db_filename,\n",
    "            detect_types=sqlite3.PARSE_DECLTYPES\n",
    "        )\n",
    "    db.row_factory = sqlite3.Row\n",
    "    return db"
   ]
  },
  {
   "cell_type": "code",
   "execution_count": 9,
   "metadata": {},
   "outputs": [],
   "source": [
    "def insert_mock_site(db, site_id, title, description, healthCondition_category, visits, publish_date=None):\n",
    "    if publish_date is None:\n",
    "        publish_date = int(datetime.now().timestamp()) * 1000\n",
    "    created_at = publish_date\n",
    "    updated_at = publish_date\n",
    "    \n",
    "    db.execute('INSERT INTO site (site_id, title, description, healthCondition_category, age, ip, created_at, updated_at, publish_date) VALUES (?, ?, ?, ?, ?, ?, ?, ?, ?)',\n",
    "                (site_id, title, description, healthCondition_category, \"adult\", \"127.0.0.1\", created_at, updated_at, publish_date)\n",
    "                )"
   ]
  },
  {
   "cell_type": "code",
   "execution_count": 10,
   "metadata": {},
   "outputs": [],
   "source": [
    "def insert_mock_journal(db_meta, db_text, journal_oid, user_id, title, body, \n",
    "                        created_at=None, amp_count=0, photos_count=0, videos_count=0, platform=\"\", lastEdit=0.0, is_nontrivial=True):\n",
    "    site_id, site_index = journal_oid.split('-')\n",
    "    site_id, site_index = int(site_id), int(site_index)\n",
    "    if created_at is None:\n",
    "        created_at = int(datetime.now().timestamp()) * 1000\n",
    "    updated_at = created_at\n",
    "    published_at = created_at\n",
    "    \n",
    "    db_meta.execute('INSERT INTO journal (site_id, journal_oid, user_id, created_at, updated_at, published_at, amp_count, photos_count, videos_count, platform, lastEdit, site_index, is_nontrivial) VALUES (?, ?, ?, ?, ?, ?, ?, ?, ?, ?, ?, ?, ?)',\n",
    "            (site_id, journal_oid, user_id, created_at, updated_at, published_at, amp_count, photos_count, videos_count, platform, lastEdit, site_index, is_nontrivial)\n",
    "    )\n",
    "    db_text.execute('INSERT INTO journalText (site_id, journal_oid, title, body) VALUES (?, ?, ?, ?)',\n",
    "            (site_id, journal_oid, title, body)\n",
    "    )\n",
    "    "
   ]
  },
  {
   "cell_type": "code",
   "execution_count": 11,
   "metadata": {},
   "outputs": [],
   "source": [
    "def insert_mock_comment(db, site_id, journal_oid, user_id, body_text, created_at=None):\n",
    "    max_id = db.execute('SELECT MAX(CAST(comment_oid as integer)) as max_id FROM comments').fetchall()[0]['max_id']\n",
    "    comment_oid = '0' if max_id is None else str(int(max_id) + 1)\n",
    "    \n",
    "    if created_at is None:\n",
    "        created_at = int(datetime.now().timestamp()) * 1000\n",
    "    updated_at = created_at\n",
    "    \n",
    "    db.execute('INSERT INTO comments (comment_oid, site_id, user_id, ancestor_id, ancestor_type, parent_id, parent_type, platform, isDeleted, body, signature, created_at, updated_at, lastEdit, amps_count, amps) VALUES (?, ?, ?, ?, ?, ?, ?, ?, ?, ?, ?, ?, ?, ?, ?, ?)',\n",
    "                (comment_oid, site_id, user_id, journal_oid, 'journal', journal_oid, 'journal', \"\", 0, body_text, \"\", created_at, updated_at, \"\", 0, \"\")\n",
    "                )"
   ]
  },
  {
   "cell_type": "code",
   "execution_count": 12,
   "metadata": {},
   "outputs": [],
   "source": [
    "def insert_mock_guestbook(db, site_id, user_id, body_text, created_at=None,\n",
    "                         platform=\"\", isDeleted=\"\", ip=\"127.0.0.1\", fromTribute=\"\", amps_count=0, amps=\"\"):\n",
    "    max_id = db.execute('SELECT MAX(CAST(gb_oid as integer)) as max_id FROM guestbook').fetchall()[0]['max_id']\n",
    "    gb_oid = '0' if max_id is None else str(int(max_id) + 1)\n",
    "    \n",
    "    if created_at is None:\n",
    "        created_at = int(datetime.now().timestamp()) * 1000\n",
    "    updated_at = created_at\n",
    "    \n",
    "    db.execute('INSERT INTO guestbook (gb_oid, site_id, user_id, created_at, updated_at, body, platform, isDeleted, ip, fromTribute, amps_count, amps) VALUES (?, ?, ?, ?, ?, ?, ?, ?, ?, ?, ?, ?)',\n",
    "                (gb_oid, site_id, user_id, created_at, updated_at, body_text, platform, isDeleted, ip, fromTribute, amps_count, amps)\n",
    "                )"
   ]
  },
  {
   "cell_type": "code",
   "execution_count": 13,
   "metadata": {},
   "outputs": [],
   "source": [
    "def insert_mock_amp(db, site_id, journal_oid, user_id, \n",
    "                    created_at=None, journal_user_id=0):    \n",
    "    if created_at is None:\n",
    "        created_at = int(datetime.now().timestamp()) * 1000\n",
    "    updated_at = created_at\n",
    "    \n",
    "    db.execute('INSERT INTO amps (user_id, site_id, journal_oid, journal_user_id, created_at, updated_at) VALUES (?, ?, ?, ?, ?, ?)',\n",
    "                (user_id, site_id, journal_oid, journal_user_id, created_at, updated_at)\n",
    "                )"
   ]
  },
  {
   "cell_type": "markdown",
   "metadata": {},
   "source": [
    "### Create Mock Data"
   ]
  },
  {
   "cell_type": "code",
   "execution_count": 14,
   "metadata": {},
   "outputs": [],
   "source": [
    "# Create mock sites data\n",
    "db = get_db(test_db_paths[0])\n",
    "try:\n",
    "    insert_mock_site(db, 1, 'Alisha Smith', 'Test site 1 description.', 'Cancer', 100)\n",
    "    insert_mock_site(db, 2, 'Ben Smith', \n",
    "                     'Test site 2 description. About the length of a paragraph. Not too long, but probably long enough to need to be hidden behind a \"Read more\" fucntion. Does contain an emoji: 👀 The eyes emoji is a pair of eyes looking slightly to the side in most renditions of the emoji. However, when Google released the eyes emoji, their version only featured one eye. The eyes emoji was added as part of Unicode 6.0 in 2010 and added to Emoji 1.0 in 2015.',\n",
    "                     'Condition Unknown', 2000)\n",
    "    insert_mock_site(db, 3, 'Carla Smith', \n",
    "                     'Test site 3 description. Long.\\n\\nLorem ipsum dolor sit amet, consectetur adipiscing elit. Sed sollicitudin lacus eu fringilla fermentum. Nulla facilisi. Donec condimentum leo quis augue varius, sit amet imperdiet nibh consequat. Suspendisse ac ligula a urna tempor tincidunt eget eu massa. Sed vel placerat augue. Morbi a ultrices nulla. Quisque vulputate consequat aliquam. Nam sed ligula id urna varius ultrices. Donec consequat ex sed tortor mattis, eget tincidunt risus mattis.\\n\\nVivamus in blandit sem, congue rutrum lacus. Mauris eget ipsum dui. Mauris volutpat scelerisque viverra. Morbi non elit sit amet augue pretium lobortis eu at tortor. Quisque vitae eros nec diam tempus accumsan non in velit. Etiam vehicula pulvinar nisi vitae vehicula. Sed tincidunt eu libero sit amet pellentesque. Pellentesque habitant morbi tristique senectus et netus et malesuada fames ac turpis egestas. Nam eu justo dictum, accumsan nibh volutpat, varius nisi. Aliquam cursus ex vitae pretium eleifend. Nullam enim enim, iaculis ut blandit in, bibendum a diam.\\n\\nPraesent facilisis ex volutpat, egestas ante a, volutpat ipsum. Morbi aliquam dolor a sodales ultricies. Quisque scelerisque venenatis auctor. Praesent felis leo, cursus non velit vel, efficitur sollicitudin massa. Cras lobortis sollicitudin egestas. Phasellus quam odio, elementum a volutpat nec, rhoncus at nisl. Proin sed hendrerit nulla. Sed fringilla metus vel dolor euismod rhoncus. Ut non venenatis odio.\\n\\nEtiam metus eros, pellentesque laoreet magna et, tincidunt iaculis justo. Nam cursus et sapien eget aliquet. In diam nibh, faucibus imperdiet felis et, vehicula tincidunt leo. Mauris sodales, arcu in mollis pulvinar, tortor tellus dictum diam, id ullamcorper mauris ex id diam. Nam finibus justo id urna tristique, quis vulputate urna euismod. Morbi finibus laoreet viverra. Maecenas dictum fringilla erat, vitae auctor ligula fermentum eu. Cras sit amet urna enim. Sed feugiat ante nec neque ornare suscipit. Nam pretium eget urna nec molestie. In nec pretium enim. Aliquam est dolor, bibendum at tempor ut, volutpat a lectus. Duis ullamcorper diam bibendum lorem maximus, eget lacinia justo feugiat. Aenean sit amet velit et quam consequat interdum euismod ac erat. Ut ut dolor eu orci tincidunt venenatis. Duis turpis felis, venenatis quis efficitur a, tempor ut dolor.\\n\\nQuisque cursus leo sit amet hendrerit feugiat. Aliquam erat volutpat. Aliquam egestas semper nulla sit amet mollis. Nunc sit amet augue a nisl vestibulum ultrices eu ut turpis. Proin cursus, lorem quis porta scelerisque, ante sem vehicula tellus, in pharetra nulla eros ac dolor. Interdum et malesuada fames ac ante ipsum primis in faucibus. Nullam id convallis diam. Nulla mauris lectus, bibendum in orci quis, blandit tempor erat. Fusce vitae lorem elit.', \n",
    "                     'Cancer', 30000)\n",
    "    db.commit()\n",
    "finally:\n",
    "    db.close()"
   ]
  },
  {
   "cell_type": "code",
   "execution_count": 15,
   "metadata": {},
   "outputs": [],
   "source": [
    "# Create mock sites data\n",
    "db_meta = get_db(test_db_paths[1])\n",
    "db_text = get_db(test_db_paths[2])\n",
    "try:\n",
    "    insert_mock_journal(db_meta, db_text, '1-1', 1, \n",
    "                        \"First update\",\n",
    "                        \"Short first update.\")\n",
    "    insert_mock_journal(db_meta, db_text, '1-2', 1, \n",
    "                        \"\",\n",
    "                        \"No title second update. Two sentences, but still very, very short.\")\n",
    "    insert_mock_journal(db_meta, db_text, '1-3', 1, \n",
    "                        \"This title is on the longer side (2020-03-01)\",\n",
    "                        \"This post contains HTML line-breaks.<br /><br />Lorem ipsum dolor sit amet, consectetur adipiscing elit. Integer consequat placerat ullamcorper. Duis porttitor erat non odio ultricies, quis interdum neque porta. Mauris id enim dictum, egestas dui a, pellentesque arcu. Pellentesque habitant morbi tristique senectus et netus et malesuada fames ac turpis egestas. Maecenas non sollicitudin quam. In imperdiet, magna eu volutpat congue, metus sapien vehicula felis, luctus faucibus mauris urna vitae nulla. Pellentesque ac nisl eget ipsum blandit euismod. Pellentesque ex augue, finibus vel varius sit amet, finibus ac tortor. Curabitur auctor molestie odio sit amet convallis. Morbi vel vestibulum lacus, non pretium est. Suspendisse eget commodo magna. Aenean non varius dui, ut placerat est. Maecenas semper enim eu turpis tristique, in pretium massa bibendum. Fusce in sapien neque. Fusce suscipit feugiat purus, sit amet aliquet quam egestas eget.<br /><br />Mauris scelerisque ante id enim molestie, molestie convallis erat dictum. Etiam eu pellentesque ipsum. Interdum et malesuada fames ac ante ipsum primis in faucibus. Donec a vehicula quam, quis consectetur libero. Aliquam erat volutpat. Integer at porttitor felis, vitae molestie augue. In efficitur orci vitae accumsan sagittis. Pellentesque hendrerit est tellus, aliquam malesuada turpis feugiat ut. Vivamus at lacus eget diam mattis consectetur in eget sapien.<br /><br />Maecenas gravida condimentum semper. Aliquam sed commodo augue. Fusce nec odio mi. Suspendisse aliquet quis arcu et mollis. Mauris id odio finibus, ultrices lorem sit amet, ullamcorper urna. Donec imperdiet sit amet nisl eget vestibulum. Donec ultricies interdum metus, id pretium magna dictum id. Aenean eu turpis ex. Donec in sollicitudin eros.<br /><br />Nulla scelerisque laoreet sem, vel vulputate ex feugiat vel. Vestibulum consequat ante ultrices feugiat varius. Aliquam eleifend metus ac dolor facilisis rhoncus. Sed lacus magna, pulvinar non facilisis vitae, elementum eget purus. Curabitur sollicitudin quam orci. Proin ut luctus sapien, varius volutpat metus. Nulla pretium feugiat lectus vitae maximus. Duis fermentum diam ipsum. Etiam at purus urna. Suspendisse at felis vitae sapien tristique vestibulum a non leo. Sed id eleifend augue. Aenean vitae lorem quam. Phasellus ac justo eu ipsum volutpat rhoncus vitae eu risus.<br /><br />Cras cursus rhoncus elementum. Phasellus ornare venenatis libero, vel malesuada ante tempus id. In hac habitasse platea dictumst. Fusce non leo nisi. Sed malesuada, velit id dapibus euismod, felis nisl sodales tellus, non accumsan libero dui et ligula. Morbi nulla libero, cursus non porta nec, iaculis et nisl. Morbi a condimentum justo. In ac suscipit dolor. Nam magna massa, blandit quis dictum in, suscipit eget erat. Fusce tempus mollis mauris non porttitor.\")\n",
    "    insert_mock_journal(db_meta, db_text, '2-1', 2, \n",
    "                        \"Long update with title\",\n",
    "                        \"This long update contains HTML.<br />Mauris a turpis vel felis elementum fermentum non nec felis. Sed ac porttitor metus. Quisque vel erat vel ligula gravida ultrices ac nec ligula. Pellentesque in placerat mauris. In vitae odio fermentum, malesuada risus id, lacinia nisl. Ut rhoncus augue in risus ornare commodo. Lorem ipsum dolor sit amet, consectetur adipiscing elit. Integer eu erat scelerisque, tincidunt mauris vitae, imperdiet neque. Nulla id rhoncus urna, vel accumsan arcu.<br />In consequat dolor et dictum pulvinar. Morbi ultricies accumsan dolor, in dictum quam vehicula id. Integer ultricies mattis ligula, eget gravida risus sollicitudin a. Duis tristique velit eu diam pellentesque, tincidunt dapibus ex lobortis. Suspendisse venenatis justo laoreet tincidunt semper. Quisque tempor vulputate congue. Aliquam erat volutpat. Morbi diam augue, luctus in nisl in, efficitur suscipit eros. Nulla facilisi. Nunc quis pellentesque lectus, id gravida augue.<br /><br />Quisque eu risus sit amet nulla lobortis dictum sed vitae tellus. Phasellus sit amet lobortis justo, auctor pulvinar nulla. Etiam bibendum semper lorem in ultricies. Quisque congue metus eu enim pharetra, eu lacinia sem cursus. Maecenas posuere, lectus vitae pharetra ornare, neque metus sodales mi, sit amet suscipit leo mi ac tortor. Aenean sollicitudin accumsan nulla. Proin ut eros nec ligula blandit interdum vel quis turpis.<br />Phasellus nec tellus fringilla, vulputate eros vel, mattis mauris. Donec tincidunt commodo porttitor. Mauris fringilla, augue in semper cursus, turpis mauris eleifend mauris, non maximus elit nulla congue risus. Sed ultricies mauris quis justo porttitor vulputate. Ut lacus justo, commodo ut massa sit amet, luctus dapibus lacus. Maecenas eu suscipit tellus. Aenean ultrices metus dignissim augue tempus, non consequat neque congue. Morbi laoreet eget velit at commodo. Integer at viverra neque.<br /><br />Signature.\")\n",
    "    insert_mock_journal(db_meta, db_text, '2-2', 2, \n",
    "                        \"\",\n",
    "                        \"Very short update, no title.\")\n",
    "    insert_mock_journal(db_meta, db_text, '2-3', 2, \n",
    "                        \"Long update, with a title that's on the longer side.\",\n",
    "                        \"Lorem ipsum dolor sit amet, consectetur adipiscing elit. Pellentesque commodo, elit id suscipit tristique, orci arcu dictum tortor, suscipit iaculis lorem nisl in lectus. Quisque lobortis vel urna et sollicitudin. Proin nisl nisl, dignissim a varius quis, ornare eget erat. Ut aliquam elit ac tortor rhoncus mollis. Ut sed urna magna. Suspendisse id risus sed nibh porttitor porttitor vestibulum quis ligula. Maecenas sem augue, hendrerit ac erat sodales, varius tempor arcu. Aliquam quis urna fermentum dolor hendrerit varius sed nec est. Donec pharetra ullamcorper mi a convallis.<br /><br />Praesent tempus eros vitae libero bibendum interdum. Praesent ac malesuada arcu. Integer convallis euismod mi. Praesent sagittis mauris quis pretium interdum. Pellentesque feugiat imperdiet dui quis eleifend. Nullam imperdiet tempus rhoncus. Fusce tincidunt elit ligula, eget gravida justo interdum consectetur. Mauris non eros nec lacus rhoncus pharetra. Interdum et malesuada fames ac ante ipsum primis in faucibus. Maecenas semper erat at imperdiet rhoncus. Etiam eu lacus at nunc lobortis pellentesque quis sed enim. Vestibulum sed tincidunt felis.<br /><br />Donec vitae consectetur urna, vel iaculis diam. Aliquam eleifend ex risus, sit amet pulvinar libero hendrerit a. Ut viverra purus nec quam maximus, eget hendrerit erat egestas. Vestibulum condimentum malesuada bibendum. Nullam eleifend tempus tellus a fermentum. Fusce sollicitudin, risus a imperdiet interdum, justo lectus placerat neque, ac aliquam mauris turpis nec magna. Cras iaculis massa ut interdum suscipit. Nunc eleifend odio leo, quis efficitur elit condimentum eu. Donec non tincidunt erat. Curabitur auctor cursus nibh eu sodales. In at nisl nulla.<br />Cras pellentesque gravida turpis, eu aliquet urna vulputate sit amet. Integer molestie nibh a volutpat lobortis. Integer eget ultrices nulla, at viverra mauris. Sed ultricies, ligula quis scelerisque sodales, augue nisl lobortis leo, a mollis nisi sem sit amet turpis. Cras dictum enim nec dui vulputate varius. Vestibulum ante ipsum primis in faucibus orci luctus et ultrices posuere cubilia curae; Quisque sit amet velit odio. Duis convallis eleifend augue, molestie bibendum eros dignissim ut. Cras quis dui massa. Nullam id congue sem. Nulla volutpat turpis non lobortis tempus.<br />Fusce sollicitudin eleifend lectus sit amet vulputate. Vestibulum et vestibulum leo. Vestibulum euismod lobortis libero quis malesuada. Sed tellus nulla, placerat tempor condimentum vitae, malesuada non nunc. Curabitur lacinia, mi in dictum porta, quam turpis facilisis turpis, id fermentum lacus ex ut sapien. Proin condimentum quam sagittis, consequat purus id, tempus augue. Duis iaculis finibus scelerisque. Cras ut vehicula neque. Nunc ultricies volutpat nunc id rhoncus. Curabitur nisi est, pretium venenatis gravida vitae, tincidunt ac dui. Ut sollicitudin commodo scelerisque. Nam scelerisque varius sollicitudin.\")\n",
    "    # site 3\n",
    "    insert_mock_journal(db_meta, db_text, f'3-0', 4, \n",
    "                    f\"Update #0 - guest post\",\n",
    "                    \"This is a short initial journal update from a different user than the rest of the site.\")\n",
    "    for i in range(1, 200):\n",
    "        insert_mock_journal(db_meta, db_text, f'3-{i}', 3, \n",
    "                        f\"Update #{i}\",\n",
    "                        \"Journal update on a site with many updates. Lorem ipsum dolor sit amet, consectetur adipiscing elit.\")\n",
    "    db_meta.commit()\n",
    "    db_text.commit()\n",
    "finally:\n",
    "    db_meta.close()\n",
    "    db_text.close()\n",
    "\n"
   ]
  },
  {
   "cell_type": "code",
   "execution_count": 16,
   "metadata": {},
   "outputs": [],
   "source": [
    "# Create mock comments data\n",
    "db = get_db(test_db_paths[3])\n",
    "try:\n",
    "    insert_mock_comment(db, 1, '1-1', 2, \"Test comment from user 2.\")\n",
    "    insert_mock_comment(db, 1, '1-1', 3, \"Test comment from user 3.\")\n",
    "    insert_mock_comment(db, 1, '1-2', 3, \"Test comment from user 3, a bit longer.  Lorem ipsum dolor sit amet, consectetur adipiscing elit. Duis venenatis purus id diam aliquam, et volutpat metus euismod. Cras non neque ut orci vestibulum tristique. Praesent non congue enim. Vivamus et nulla non purus accumsan lobortis finibus in felis. Aliquam molestie tellus quis mauris imperdiet commodo. Vivamus malesuada feugiat dolor, vel ullamcorper erat condimentum vitae. Phasellus laoreet dapibus accumsan. Aliquam vestibulum tempus elit, a suscipit purus. Praesent sodales sapien id metus volutpat, a ornare odio dapibus. Donec iaculis posuere elit, ac vestibulum lectus molestie a. Vivamus vitae augue vitae lorem tempus molestie.\")\n",
    "    insert_mock_comment(db, 1, '1-3', 100, \"Test comment from a visitor, very long.  Vivamus dapibus turpis orci, eu imperdiet ante dapibus quis. Vivamus sed ligula nec massa sollicitudin consectetur. Morbi pretium felis odio, cursus interdum dui fermentum eget. Nam a elit et augue pellentesque aliquam. Sed fringilla, magna vel fringilla interdum, ante nibh sagittis sem, in malesuada est enim et sapien. Suspendisse vulputate in orci et mollis. In in mi leo. Duis bibendum lacus ac elit gravida, et sagittis tellus pharetra. Suspendisse hendrerit erat eu tempor sagittis. Donec lacinia in justo nec tempus. Phasellus eget placerat urna, eu bibendum sapien. Quisque pulvinar magna erat. Nunc fringilla id odio ut ornare. Sed convallis eros a metus pretium posuere. Mauris sollicitudin felis turpis, vitae venenatis lorem malesuada ut. Integer ac efficitur felis.\\nPellentesque ut nibh laoreet, pretium nunc a, posuere nisl. Nullam lorem dolor, vestibulum nec congue luctus, lobortis a libero. Donec ornare euismod ornare. Cras quis semper ipsum. Integer id velit ut augue rutrum commodo. Nam a quam et ante pulvinar bibendum. Cras et nisi semper leo sagittis molestie et in urna. In hac habitasse platea dictumst. Donec eget rhoncus leo, facilisis ultrices purus. Donec varius, nibh sed viverra tincidunt, justo arcu semper neque, et molestie nibh sem id magna. In id ex nec ipsum pretium viverra at sit amet nisl.\\nUt ultricies nec leo et consectetur. Etiam tincidunt risus sed dapibus malesuada. Nunc molestie cursus venenatis. Vivamus libero urna, venenatis pellentesque semper id, blandit non ante. Vivamus ornare lectus mollis purus mollis finibus. Sed viverra egestas metus, a luctus quam feugiat nec. Sed sit amet metus lobortis leo varius sollicitudin a feugiat nibh. Mauris condimentum bibendum metus quis sodales. Donec massa nisi, cursus eget aliquet eget, auctor vel lectus. Nulla nec lectus faucibus, rutrum magna in, posuere nulla. Pellentesque semper tempus scelerisque. Ut non pharetra purus, nec condimentum massa. Donec posuere aliquet fringilla.\\nPhasellus vitae est sed odio feugiat finibus. Ut eget ipsum rutrum, facilisis felis id, vehicula ligula. Vivamus malesuada massa dui. Nulla at lacus at augue vestibulum sagittis eget id nisl. Vestibulum ante ipsum primis in faucibus orci luctus et ultrices posuere cubilia curae; Quisque ullamcorper dolor a nibh porttitor, nec tempor orci tincidunt. Curabitur rhoncus odio sed eros molestie elementum. Pellentesque habitant morbi tristique senectus et netus et malesuada fames ac turpis egestas. Curabitur blandit risus eget massa dictum fermentum. Mauris auctor laoreet consectetur. Fusce blandit scelerisque lacus, ac pulvinar magna ullamcorper a. Aliquam erat volutpat. Etiam pellentesque fermentum lorem, eu facilisis odio pulvinar quis. Vestibulum rutrum nunc augue, in malesuada quam lacinia sed. Duis bibendum viverra ligula, a malesuada diam rhoncus nec. Donec sem leo, consequat et nisi eget, ultrices sodales velit.\")\n",
    "    db.commit()\n",
    "finally:\n",
    "    db.close()"
   ]
  },
  {
   "cell_type": "code",
   "execution_count": 17,
   "metadata": {},
   "outputs": [],
   "source": [
    "# Create mock guestbook data\n",
    "db = get_db(test_db_paths[4])\n",
    "try:\n",
    "    insert_mock_guestbook(db, 1, 2, \"Guestbook entry from user 2 on site 1.\")\n",
    "    insert_mock_guestbook(db, 1, 3, \"Guestbook entry from user 3 on site 1.\")\n",
    "    insert_mock_guestbook(db, 1, 1, \"Guestbook entry from user 1 on site 1.\")\n",
    "    insert_mock_guestbook(db, 2, 1, \"Guestbook entry from user 1 on site 2.\")\n",
    "    insert_mock_guestbook(db, 3, 1, \"Guestbook entry from user 1 on site 3.\")\n",
    "    insert_mock_guestbook(db, 3, 1, \"Second guestbook entry from user 1 on site 3.\")\n",
    "    insert_mock_guestbook(db, 2, 100, 'Guestbook entry from user 100 on site 2.')\n",
    "    insert_mock_guestbook(db, 3, 101, 'Guestbook entry from user 101 on site 2.')\n",
    "    db.commit()\n",
    "finally:\n",
    "    db.close()"
   ]
  },
  {
   "cell_type": "code",
   "execution_count": 18,
   "metadata": {},
   "outputs": [],
   "source": [
    "# Create mock amps data\n",
    "db = get_db(test_db_paths[5])\n",
    "try:\n",
    "    insert_mock_amp(db, 1, '1-1', 2)\n",
    "    insert_mock_amp(db, 1, '1-1', 100)\n",
    "    insert_mock_amp(db, 1, '1-1', 101)\n",
    "    insert_mock_amp(db, 1, '1-3', 101)\n",
    "    db.commit()\n",
    "finally:\n",
    "    db.close()"
   ]
  },
  {
   "cell_type": "code",
   "execution_count": 19,
   "metadata": {},
   "outputs": [
    {
     "name": "stdout",
     "output_type": "stream",
     "text": [
      "64K\t/panfs/roc/groups/1/lana/levon003/repos/recsys-peer-match/cb_web_app/flask_api/test/data/amps.sqlite\n",
      "64K\t/panfs/roc/groups/1/lana/levon003/repos/recsys-peer-match/cb_web_app/flask_api/test/data/guestbook.sqlite\n",
      "96K\t/panfs/roc/groups/1/lana/levon003/repos/recsys-peer-match/cb_web_app/flask_api/test/data/journal_metadata.sqlite\n",
      "160K\t/panfs/roc/groups/1/lana/levon003/repos/recsys-peer-match/cb_web_app/flask_api/test/data/journal.sqlite\n",
      "32K\t/panfs/roc/groups/1/lana/levon003/repos/recsys-peer-match/cb_web_app/flask_api/test/data/site.sqlite\n",
      "96K\t/panfs/roc/groups/1/lana/levon003/repos/recsys-peer-match/cb_web_app/flask_api/test/data/updated_comments.sqlite\n"
     ]
    }
   ],
   "source": [
    "!du -h {test_db_dir}/*.sqlite"
   ]
  },
  {
   "cell_type": "code",
   "execution_count": null,
   "metadata": {},
   "outputs": [],
   "source": []
  },
  {
   "cell_type": "code",
   "execution_count": null,
   "metadata": {},
   "outputs": [],
   "source": []
  }
 ],
 "metadata": {
  "kernelspec": {
   "display_name": "Python 3 (ipykernel)",
   "language": "python",
   "name": "python3"
  },
  "language_info": {
   "codemirror_mode": {
    "name": "ipython",
    "version": 3
   },
   "file_extension": ".py",
   "mimetype": "text/x-python",
   "name": "python",
   "nbconvert_exporter": "python",
   "pygments_lexer": "ipython3",
   "version": "3.9.7"
  }
 },
 "nbformat": 4,
 "nbformat_minor": 4
}
