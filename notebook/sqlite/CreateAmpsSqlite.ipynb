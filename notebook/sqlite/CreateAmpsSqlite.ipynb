{
 "cells": [
  {
   "cell_type": "markdown",
   "metadata": {},
   "source": [
    "Create Amps Sqlite\n",
    "===\n",
    "\n",
    "Creates sqlite file from the amps data.\n",
    "\n",
    "Note: no unique identifier is created for each amp in the resulting database (other than the rowid).\n",
    "\n",
    "See original usage of the raw amps data in `sna-social-support/data_pulling/FilterAndMergeExtractedInteractions.ipynb`."
   ]
  },
  {
   "cell_type": "code",
   "execution_count": 6,
   "metadata": {},
   "outputs": [],
   "source": [
    "import numpy as np\n",
    "import pandas as pd\n",
    "\n",
    "import os\n",
    "import sqlite3\n",
    "from datetime import datetime"
   ]
  },
  {
   "cell_type": "code",
   "execution_count": 3,
   "metadata": {},
   "outputs": [],
   "source": [
    "input_filepath = \"/home/lana/shared/caringbridge/data/projects/sna-social-support/csv_data/new_amps_metadata_raw.csv\"\n",
    "output_filepath = \"/home/lana/shared/caringbridge/data/projects/recsys-peer-match/sqlite/amps.sqlite\""
   ]
  },
  {
   "cell_type": "code",
   "execution_count": 4,
   "metadata": {},
   "outputs": [
    {
     "name": "stdout",
     "output_type": "stream",
     "text": [
      "5.0G\t/home/lana/shared/caringbridge/data/projects/sna-social-support/csv_data/new_amps_metadata_raw.csv\n"
     ]
    }
   ],
   "source": [
    "!du -h {input_filepath}"
   ]
  },
  {
   "cell_type": "code",
   "execution_count": 12,
   "metadata": {},
   "outputs": [
    {
     "name": "stdout",
     "output_type": "stream",
     "text": [
      "0:00:40.143970\n"
     ]
    },
    {
     "data": {
      "text/plain": [
       "63314738"
      ]
     },
     "execution_count": 12,
     "metadata": {},
     "output_type": "execute_result"
    }
   ],
   "source": [
    "amps_cols = ['user_id','site_id','journal_oid','journal_user_id','created_at','updated_at']\n",
    "dtypes = {\n",
    "    'user_id': int,\n",
    "    'site_id': int,\n",
    "    'journal_oid': str,\n",
    "    'journal_user_id': float,\n",
    "    'created_at': float,\n",
    "    'updated_at': int\n",
    "}\n",
    "s = datetime.now()\n",
    "amps_df = pd.read_csv(input_filepath, header=None, names=amps_cols,\n",
    "                     dtype=dtypes,\n",
    "                     na_values=['', 'None'])\n",
    "print(datetime.now() - s)\n",
    "len(amps_df)"
   ]
  },
  {
   "cell_type": "code",
   "execution_count": 14,
   "metadata": {},
   "outputs": [
    {
     "data": {
      "text/plain": [
       "user_id                 0\n",
       "site_id                 0\n",
       "journal_oid             0\n",
       "journal_user_id    541278\n",
       "created_at              2\n",
       "updated_at              0\n",
       "dtype: int64"
      ]
     },
     "execution_count": 14,
     "metadata": {},
     "output_type": "execute_result"
    }
   ],
   "source": [
    "# NA values in two of the columns\n",
    "amps_df.isna().sum()"
   ]
  },
  {
   "cell_type": "code",
   "execution_count": 16,
   "metadata": {},
   "outputs": [
    {
     "data": {
      "text/plain": [
       "63314738"
      ]
     },
     "execution_count": 16,
     "metadata": {},
     "output_type": "execute_result"
    }
   ],
   "source": [
    "# map the NA values to defaults\n",
    "# and convert to the correct datatype\n",
    "amps_df = amps_df.fillna({'journal_user_id': -1, 'created_at': 0}).astype({\n",
    "    'user_id': int,\n",
    "    'site_id': int,\n",
    "    'journal_oid': str,\n",
    "    'journal_user_id': int,\n",
    "    'created_at': int,\n",
    "    'updated_at': int\n",
    "})\n",
    "len(amps_df)"
   ]
  },
  {
   "cell_type": "code",
   "execution_count": 18,
   "metadata": {},
   "outputs": [
    {
     "data": {
      "text/plain": [
       "user_id             int64\n",
       "site_id             int64\n",
       "journal_oid        object\n",
       "journal_user_id     int64\n",
       "created_at          int64\n",
       "updated_at          int64\n",
       "dtype: object"
      ]
     },
     "execution_count": 18,
     "metadata": {},
     "output_type": "execute_result"
    }
   ],
   "source": [
    "amps_df.dtypes"
   ]
  },
  {
   "cell_type": "code",
   "execution_count": 19,
   "metadata": {},
   "outputs": [
    {
     "name": "stdout",
     "output_type": "stream",
     "text": [
      "0:01:47.172553\n"
     ]
    }
   ],
   "source": [
    "def get_db(db_filename):\n",
    "    db = sqlite3.connect(\n",
    "            db_filename,\n",
    "            detect_types=sqlite3.PARSE_DECLTYPES\n",
    "        )\n",
    "    db.row_factory = sqlite3.Row\n",
    "    return db\n",
    "\n",
    "conn = get_db(output_filepath)\n",
    "s = datetime.now()\n",
    "amps_df.to_sql('amps', conn, index=False, chunksize=1000000)\n",
    "print(datetime.now() - s)"
   ]
  },
  {
   "cell_type": "markdown",
   "metadata": {},
   "source": [
    "I created the following indices:\n",
    "\n",
    "    CREATE INDEX amps_journalOid ON amps (journal_oid);\n",
    "    CREATE INDEX amps_siteId ON amps (site_id);\n",
    "    CREATE INDEX amps_siteId_journalOid ON amps (site_id, journal_oid);\n",
    "    CREATE INDEX amps_userId ON amps (user_id);"
   ]
  },
  {
   "cell_type": "code",
   "execution_count": null,
   "metadata": {},
   "outputs": [],
   "source": []
  }
 ],
 "metadata": {
  "kernelspec": {
   "display_name": "Python 3 (ipykernel)",
   "language": "python",
   "name": "python3"
  },
  "language_info": {
   "codemirror_mode": {
    "name": "ipython",
    "version": 3
   },
   "file_extension": ".py",
   "mimetype": "text/x-python",
   "name": "python",
   "nbconvert_exporter": "python",
   "pygments_lexer": "ipython3",
   "version": "3.9.7"
  }
 },
 "nbformat": 4,
 "nbformat_minor": 4
}
