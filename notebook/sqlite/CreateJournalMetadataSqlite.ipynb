{
 "cells": [
  {
   "cell_type": "markdown",
   "metadata": {},
   "source": [
    "Create Journal Metadata Sqlite\n",
    "===\n",
    "\n",
    "Using the most refined journal metadata, create a sqlite database.\n",
    "\n",
    "`journal_updated_metadata.df` (a feather file) is the most recent version and the last created in the notebook that does so: `caringbridge_core/raw_data_conversion/JournalMetadataExtractionUpdated.ipynb`"
   ]
  },
  {
   "cell_type": "code",
   "execution_count": 2,
   "metadata": {},
   "outputs": [],
   "source": [
    "import numpy as np\n",
    "import pandas as pd\n",
    "\n",
    "import os\n",
    "import sqlite3\n",
    "from datetime import datetime"
   ]
  },
  {
   "cell_type": "code",
   "execution_count": 11,
   "metadata": {},
   "outputs": [],
   "source": [
    "input_filepath = \"/home/srivbane/shared/caringbridge/data/derived/journal_metadata/journal_updated_metadata.df\"\n",
    "output_filepath = \"/home/lana/shared/caringbridge/data/projects/recsys-peer-match/sqlite/journal_metadata.sqlite\""
   ]
  },
  {
   "cell_type": "code",
   "execution_count": 4,
   "metadata": {},
   "outputs": [
    {
     "name": "stdout",
     "output_type": "stream",
     "text": [
      "2.6G\t/home/srivbane/shared/caringbridge/data/derived/journal_metadata/journal_updated_metadata.df\n"
     ]
    }
   ],
   "source": [
    "!du -h {input_filepath}"
   ]
  },
  {
   "cell_type": "code",
   "execution_count": 5,
   "metadata": {},
   "outputs": [
    {
     "data": {
      "text/plain": [
       "17893390"
      ]
     },
     "execution_count": 5,
     "metadata": {},
     "output_type": "execute_result"
    }
   ],
   "source": [
    "df = pd.read_feather(input_filepath)\n",
    "len(df)"
   ]
  },
  {
   "cell_type": "code",
   "execution_count": 6,
   "metadata": {},
   "outputs": [
    {
     "data": {
      "text/html": [
       "<div>\n",
       "<style scoped>\n",
       "    .dataframe tbody tr th:only-of-type {\n",
       "        vertical-align: middle;\n",
       "    }\n",
       "\n",
       "    .dataframe tbody tr th {\n",
       "        vertical-align: top;\n",
       "    }\n",
       "\n",
       "    .dataframe thead th {\n",
       "        text-align: right;\n",
       "    }\n",
       "</style>\n",
       "<table border=\"1\" class=\"dataframe\">\n",
       "  <thead>\n",
       "    <tr style=\"text-align: right;\">\n",
       "      <th></th>\n",
       "      <th>site_id</th>\n",
       "      <th>journal_oid</th>\n",
       "      <th>user_id</th>\n",
       "      <th>userId_repr</th>\n",
       "      <th>created_at</th>\n",
       "      <th>updated_at</th>\n",
       "      <th>createdAt_repr</th>\n",
       "      <th>updatedAt_repr</th>\n",
       "      <th>published_at</th>\n",
       "      <th>amp_count</th>\n",
       "      <th>photos_count</th>\n",
       "      <th>videos_count</th>\n",
       "      <th>platform</th>\n",
       "      <th>lastEdit</th>\n",
       "      <th>site_index</th>\n",
       "      <th>is_nontrivial</th>\n",
       "    </tr>\n",
       "  </thead>\n",
       "  <tbody>\n",
       "    <tr>\n",
       "      <th>4346681</th>\n",
       "      <td>102178</td>\n",
       "      <td>51be12c56ca004fb3000dd0d</td>\n",
       "      <td>4654152</td>\n",
       "      <td>4654152.0</td>\n",
       "      <td>1237671900000</td>\n",
       "      <td>1237675500000</td>\n",
       "      <td>1.237672e+12</td>\n",
       "      <td>1.237676e+12</td>\n",
       "      <td>0</td>\n",
       "      <td>0</td>\n",
       "      <td>0</td>\n",
       "      <td>0</td>\n",
       "      <td>None</td>\n",
       "      <td>NaN</td>\n",
       "      <td>60</td>\n",
       "      <td>True</td>\n",
       "    </tr>\n",
       "    <tr>\n",
       "      <th>878292</th>\n",
       "      <td>17044</td>\n",
       "      <td>51bdf7f56ca004335b00bae0</td>\n",
       "      <td>688679</td>\n",
       "      <td>688679.0</td>\n",
       "      <td>1152188220000</td>\n",
       "      <td>1152188220000</td>\n",
       "      <td>1.152188e+12</td>\n",
       "      <td>1.152188e+12</td>\n",
       "      <td>0</td>\n",
       "      <td>0</td>\n",
       "      <td>0</td>\n",
       "      <td>0</td>\n",
       "      <td>None</td>\n",
       "      <td>NaN</td>\n",
       "      <td>13</td>\n",
       "      <td>True</td>\n",
       "    </tr>\n",
       "    <tr>\n",
       "      <th>4277203</th>\n",
       "      <td>100196</td>\n",
       "      <td>51be12186ca004ed2e007e6c</td>\n",
       "      <td>4347944</td>\n",
       "      <td>4347944.0</td>\n",
       "      <td>1244301660000</td>\n",
       "      <td>0</td>\n",
       "      <td>1.244302e+12</td>\n",
       "      <td>0.000000e+00</td>\n",
       "      <td>0</td>\n",
       "      <td>0</td>\n",
       "      <td>0</td>\n",
       "      <td>0</td>\n",
       "      <td>None</td>\n",
       "      <td>NaN</td>\n",
       "      <td>20</td>\n",
       "      <td>True</td>\n",
       "    </tr>\n",
       "    <tr>\n",
       "      <th>5017547</th>\n",
       "      <td>121376</td>\n",
       "      <td>51be17ce6ca004c84000e7c0</td>\n",
       "      <td>5560119</td>\n",
       "      <td>5560119.0</td>\n",
       "      <td>1244363460000</td>\n",
       "      <td>0</td>\n",
       "      <td>1.244363e+12</td>\n",
       "      <td>0.000000e+00</td>\n",
       "      <td>0</td>\n",
       "      <td>0</td>\n",
       "      <td>0</td>\n",
       "      <td>0</td>\n",
       "      <td>None</td>\n",
       "      <td>NaN</td>\n",
       "      <td>90</td>\n",
       "      <td>True</td>\n",
       "    </tr>\n",
       "    <tr>\n",
       "      <th>3962986</th>\n",
       "      <td>90774</td>\n",
       "      <td>51be0f5e6ca004602600d24e</td>\n",
       "      <td>4126958</td>\n",
       "      <td>4126958.0</td>\n",
       "      <td>1239828240000</td>\n",
       "      <td>0</td>\n",
       "      <td>1.239828e+12</td>\n",
       "      <td>0.000000e+00</td>\n",
       "      <td>0</td>\n",
       "      <td>0</td>\n",
       "      <td>0</td>\n",
       "      <td>0</td>\n",
       "      <td>None</td>\n",
       "      <td>NaN</td>\n",
       "      <td>54</td>\n",
       "      <td>True</td>\n",
       "    </tr>\n",
       "  </tbody>\n",
       "</table>\n",
       "</div>"
      ],
      "text/plain": [
       "         site_id               journal_oid  user_id  userId_repr  \\\n",
       "4346681   102178  51be12c56ca004fb3000dd0d  4654152    4654152.0   \n",
       "878292     17044  51bdf7f56ca004335b00bae0   688679     688679.0   \n",
       "4277203   100196  51be12186ca004ed2e007e6c  4347944    4347944.0   \n",
       "5017547   121376  51be17ce6ca004c84000e7c0  5560119    5560119.0   \n",
       "3962986    90774  51be0f5e6ca004602600d24e  4126958    4126958.0   \n",
       "\n",
       "            created_at     updated_at  createdAt_repr  updatedAt_repr  \\\n",
       "4346681  1237671900000  1237675500000    1.237672e+12    1.237676e+12   \n",
       "878292   1152188220000  1152188220000    1.152188e+12    1.152188e+12   \n",
       "4277203  1244301660000              0    1.244302e+12    0.000000e+00   \n",
       "5017547  1244363460000              0    1.244363e+12    0.000000e+00   \n",
       "3962986  1239828240000              0    1.239828e+12    0.000000e+00   \n",
       "\n",
       "         published_at  amp_count  photos_count  videos_count platform  \\\n",
       "4346681             0          0             0             0     None   \n",
       "878292              0          0             0             0     None   \n",
       "4277203             0          0             0             0     None   \n",
       "5017547             0          0             0             0     None   \n",
       "3962986             0          0             0             0     None   \n",
       "\n",
       "         lastEdit  site_index  is_nontrivial  \n",
       "4346681       NaN          60           True  \n",
       "878292        NaN          13           True  \n",
       "4277203       NaN          20           True  \n",
       "5017547       NaN          90           True  \n",
       "3962986       NaN          54           True  "
      ]
     },
     "execution_count": 6,
     "metadata": {},
     "output_type": "execute_result"
    }
   ],
   "source": [
    "df.sample(n=5)"
   ]
  },
  {
   "cell_type": "code",
   "execution_count": 7,
   "metadata": {},
   "outputs": [
    {
     "data": {
      "text/plain": [
       "site_id                  0\n",
       "journal_oid              0\n",
       "user_id                  0\n",
       "userId_repr          63323\n",
       "created_at               0\n",
       "updated_at               0\n",
       "createdAt_repr          44\n",
       "updatedAt_repr          94\n",
       "published_at             0\n",
       "amp_count                0\n",
       "photos_count             0\n",
       "videos_count             0\n",
       "platform          16026882\n",
       "lastEdit          13850907\n",
       "site_index               0\n",
       "is_nontrivial            0\n",
       "dtype: int64"
      ]
     },
     "execution_count": 7,
     "metadata": {},
     "output_type": "execute_result"
    }
   ],
   "source": [
    "df.isna().sum()"
   ]
  },
  {
   "cell_type": "code",
   "execution_count": 8,
   "metadata": {},
   "outputs": [
    {
     "data": {
      "text/html": [
       "<div>\n",
       "<style scoped>\n",
       "    .dataframe tbody tr th:only-of-type {\n",
       "        vertical-align: middle;\n",
       "    }\n",
       "\n",
       "    .dataframe tbody tr th {\n",
       "        vertical-align: top;\n",
       "    }\n",
       "\n",
       "    .dataframe thead th {\n",
       "        text-align: right;\n",
       "    }\n",
       "</style>\n",
       "<table border=\"1\" class=\"dataframe\">\n",
       "  <thead>\n",
       "    <tr style=\"text-align: right;\">\n",
       "      <th></th>\n",
       "      <th>site_id</th>\n",
       "      <th>journal_oid</th>\n",
       "      <th>user_id</th>\n",
       "      <th>created_at</th>\n",
       "      <th>updated_at</th>\n",
       "      <th>published_at</th>\n",
       "      <th>amp_count</th>\n",
       "      <th>photos_count</th>\n",
       "      <th>videos_count</th>\n",
       "      <th>platform</th>\n",
       "      <th>lastEdit</th>\n",
       "      <th>site_index</th>\n",
       "      <th>is_nontrivial</th>\n",
       "    </tr>\n",
       "  </thead>\n",
       "  <tbody>\n",
       "    <tr>\n",
       "      <th>0</th>\n",
       "      <td>1</td>\n",
       "      <td>51bdf3e56ca0048f4e00ced4</td>\n",
       "      <td>1</td>\n",
       "      <td>1103856900000</td>\n",
       "      <td>1103856900000</td>\n",
       "      <td>0</td>\n",
       "      <td>1</td>\n",
       "      <td>0</td>\n",
       "      <td>0</td>\n",
       "      <td>None</td>\n",
       "      <td>NaN</td>\n",
       "      <td>0</td>\n",
       "      <td>True</td>\n",
       "    </tr>\n",
       "    <tr>\n",
       "      <th>1</th>\n",
       "      <td>1</td>\n",
       "      <td>51bdf3e56ca0048f4e00ced2</td>\n",
       "      <td>1</td>\n",
       "      <td>1103943240000</td>\n",
       "      <td>1103943240000</td>\n",
       "      <td>0</td>\n",
       "      <td>0</td>\n",
       "      <td>0</td>\n",
       "      <td>0</td>\n",
       "      <td>None</td>\n",
       "      <td>NaN</td>\n",
       "      <td>1</td>\n",
       "      <td>True</td>\n",
       "    </tr>\n",
       "    <tr>\n",
       "      <th>2</th>\n",
       "      <td>1</td>\n",
       "      <td>51bdf3e56ca0048f4e00ced0</td>\n",
       "      <td>1</td>\n",
       "      <td>1104288840000</td>\n",
       "      <td>1104288840000</td>\n",
       "      <td>0</td>\n",
       "      <td>0</td>\n",
       "      <td>0</td>\n",
       "      <td>0</td>\n",
       "      <td>None</td>\n",
       "      <td>NaN</td>\n",
       "      <td>2</td>\n",
       "      <td>True</td>\n",
       "    </tr>\n",
       "    <tr>\n",
       "      <th>3</th>\n",
       "      <td>1</td>\n",
       "      <td>51bdf3e56ca0048f4e00cece</td>\n",
       "      <td>1</td>\n",
       "      <td>1104461640000</td>\n",
       "      <td>1104461640000</td>\n",
       "      <td>0</td>\n",
       "      <td>0</td>\n",
       "      <td>0</td>\n",
       "      <td>0</td>\n",
       "      <td>None</td>\n",
       "      <td>NaN</td>\n",
       "      <td>3</td>\n",
       "      <td>True</td>\n",
       "    </tr>\n",
       "    <tr>\n",
       "      <th>4</th>\n",
       "      <td>1</td>\n",
       "      <td>51bdf3e56ca0048f4e00cecc</td>\n",
       "      <td>1</td>\n",
       "      <td>1104807180000</td>\n",
       "      <td>1104807180000</td>\n",
       "      <td>0</td>\n",
       "      <td>0</td>\n",
       "      <td>0</td>\n",
       "      <td>0</td>\n",
       "      <td>None</td>\n",
       "      <td>NaN</td>\n",
       "      <td>4</td>\n",
       "      <td>True</td>\n",
       "    </tr>\n",
       "  </tbody>\n",
       "</table>\n",
       "</div>"
      ],
      "text/plain": [
       "   site_id               journal_oid  user_id     created_at     updated_at  \\\n",
       "0        1  51bdf3e56ca0048f4e00ced4        1  1103856900000  1103856900000   \n",
       "1        1  51bdf3e56ca0048f4e00ced2        1  1103943240000  1103943240000   \n",
       "2        1  51bdf3e56ca0048f4e00ced0        1  1104288840000  1104288840000   \n",
       "3        1  51bdf3e56ca0048f4e00cece        1  1104461640000  1104461640000   \n",
       "4        1  51bdf3e56ca0048f4e00cecc        1  1104807180000  1104807180000   \n",
       "\n",
       "   published_at  amp_count  photos_count  videos_count platform  lastEdit  \\\n",
       "0             0          1             0             0     None       NaN   \n",
       "1             0          0             0             0     None       NaN   \n",
       "2             0          0             0             0     None       NaN   \n",
       "3             0          0             0             0     None       NaN   \n",
       "4             0          0             0             0     None       NaN   \n",
       "\n",
       "   site_index  is_nontrivial  \n",
       "0           0           True  \n",
       "1           1           True  \n",
       "2           2           True  \n",
       "3           3           True  \n",
       "4           4           True  "
      ]
     },
     "execution_count": 8,
     "metadata": {},
     "output_type": "execute_result"
    }
   ],
   "source": [
    "df = df[['site_id', 'journal_oid', 'user_id', 'created_at', 'updated_at', 'published_at', 'amp_count', 'photos_count', 'videos_count', 'platform', 'lastEdit', 'site_index', 'is_nontrivial']]\n",
    "df.head()"
   ]
  },
  {
   "cell_type": "code",
   "execution_count": 10,
   "metadata": {},
   "outputs": [
    {
     "data": {
      "text/plain": [
       "site_id            int64\n",
       "journal_oid       object\n",
       "user_id            int64\n",
       "created_at         int64\n",
       "updated_at         int64\n",
       "published_at       int64\n",
       "amp_count          int64\n",
       "photos_count       int64\n",
       "videos_count       int64\n",
       "platform          object\n",
       "lastEdit         float64\n",
       "site_index         int64\n",
       "is_nontrivial       bool\n",
       "dtype: object"
      ]
     },
     "execution_count": 10,
     "metadata": {},
     "output_type": "execute_result"
    }
   ],
   "source": [
    "df.dtypes"
   ]
  },
  {
   "cell_type": "code",
   "execution_count": 12,
   "metadata": {},
   "outputs": [
    {
     "name": "stdout",
     "output_type": "stream",
     "text": [
      "0:01:34.905085\n"
     ]
    }
   ],
   "source": [
    "def get_db(db_filename):\n",
    "    db = sqlite3.connect(\n",
    "            db_filename,\n",
    "            detect_types=sqlite3.PARSE_DECLTYPES\n",
    "        )\n",
    "    db.row_factory = sqlite3.Row\n",
    "    return db\n",
    "\n",
    "conn = get_db(output_filepath)\n",
    "s = datetime.now()\n",
    "df.to_sql('journal', conn, index=False, chunksize=1000000)\n",
    "print(datetime.now() - s)"
   ]
  },
  {
   "cell_type": "markdown",
   "metadata": {},
   "source": [
    "I created the following indices:\n",
    "\n",
    "    CREATE INDEX journal_journalOid ON journal (journal_oid);\n",
    "    CREATE INDEX journal_siteId ON journal (site_id);\n",
    "    CREATE INDEX journal_userId ON journal (user_id);"
   ]
  },
  {
   "cell_type": "code",
   "execution_count": null,
   "metadata": {},
   "outputs": [],
   "source": []
  },
  {
   "cell_type": "code",
   "execution_count": null,
   "metadata": {},
   "outputs": [],
   "source": []
  }
 ],
 "metadata": {
  "kernelspec": {
   "display_name": "Python (shared-conda)",
   "language": "python",
   "name": "shared-conda"
  },
  "language_info": {
   "codemirror_mode": {
    "name": "ipython",
    "version": 3
   },
   "file_extension": ".py",
   "mimetype": "text/x-python",
   "name": "python",
   "nbconvert_exporter": "python",
   "pygments_lexer": "ipython3",
   "version": "3.8.5"
  }
 },
 "nbformat": 4,
 "nbformat_minor": 4
}
