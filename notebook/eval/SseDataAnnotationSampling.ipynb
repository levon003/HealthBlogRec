{
 "cells": [
  {
   "cell_type": "markdown",
   "id": "c06f1013",
   "metadata": {},
   "source": [
    "SSE Data Annotation\n",
    "===\n"
   ]
  },
  {
   "cell_type": "code",
   "execution_count": null,
   "id": "633cf1e2",
   "metadata": {},
   "outputs": [],
   "source": [
    "%reload_ext autoreload\n",
    "%autoreload 2\n",
    "%matplotlib inline"
   ]
  },
  {
   "cell_type": "code",
   "execution_count": null,
   "id": "10d5997e",
   "metadata": {},
   "outputs": [],
   "source": [
    "import numpy as np\n",
    "import pandas as pd\n",
    "import matplotlib\n",
    "import matplotlib.pyplot as plt"
   ]
  },
  {
   "cell_type": "code",
   "execution_count": null,
   "id": "168364f1",
   "metadata": {},
   "outputs": [],
   "source": [
    "import os\n",
    "import re\n",
    "import json\n",
    "import sys\n",
    "import pickle\n",
    "from tqdm import tqdm\n",
    "\n",
    "import sklearn\n",
    "import sklearn.linear_model\n",
    "import sklearn.preprocessing\n",
    "from sklearn.pipeline import Pipeline\n",
    "\n",
    "import dateutil.parser\n",
    "from dateutil.relativedelta import relativedelta\n",
    "from datetime import datetime, timedelta\n",
    "import pytz"
   ]
  },
  {
   "cell_type": "code",
   "execution_count": null,
   "id": "8c87f348",
   "metadata": {},
   "outputs": [],
   "source": [
    "# evaluation\n",
    "from scipy.stats import rankdata"
   ]
  },
  {
   "cell_type": "code",
   "execution_count": null,
   "id": "7552e078",
   "metadata": {},
   "outputs": [],
   "source": [
    "from pathlib import Path\n",
    "git_root_dir = !git rev-parse --show-toplevel\n",
    "git_root_dir = Path(git_root_dir[0].strip())\n",
    "git_root_dir"
   ]
  },
  {
   "cell_type": "code",
   "execution_count": null,
   "id": "fade820f",
   "metadata": {},
   "outputs": [],
   "source": [
    "import sys\n",
    "sys.path.append(os.path.join(git_root_dir, 'src'))\n",
    "import cbrec.genconfig"
   ]
  },
  {
   "cell_type": "code",
   "execution_count": null,
   "id": "d12fe4c5",
   "metadata": {},
   "outputs": [],
   "source": [
    "config = cbrec.genconfig.Config()\n",
    "#config.metadata_filepath += \"_old\"\n",
    "#config.feature_db_filepath += \"_old\""
   ]
  },
  {
   "cell_type": "code",
   "execution_count": null,
   "id": "204c5ce7",
   "metadata": {},
   "outputs": [],
   "source": [
    "import cbrec.featuredb\n",
    "import cbrec.utils\n",
    "import cbrec.data\n",
    "import cbrec.reccontext\n",
    "import cbrec.evaluation\n",
    "import cbrec.torchmodel\n",
    "import cbrec.text.embeddingdb\n",
    "import cbrec.text.journalid"
   ]
  },
  {
   "cell_type": "code",
   "execution_count": null,
   "id": "f68ef69f",
   "metadata": {},
   "outputs": [],
   "source": [
    "import cbrec.logutils\n",
    "cbrec.logutils.set_up_logging()"
   ]
  },
  {
   "cell_type": "code",
   "execution_count": null,
   "id": "b0b6452d",
   "metadata": {},
   "outputs": [],
   "source": [
    "# turn off matplotlib logging\n",
    "import logging\n",
    "logging.getLogger('matplotlib').setLevel(logging.WARNING)"
   ]
  },
  {
   "cell_type": "code",
   "execution_count": null,
   "id": "854cbffa",
   "metadata": {},
   "outputs": [],
   "source": [
    "import sys\n",
    "caringbridge_core_path = \"/home/lana/levon003/repos/caringbridge_core\"\n",
    "sys.path.append(caringbridge_core_path)\n",
    "import cbcore.data.paths"
   ]
  },
  {
   "cell_type": "code",
   "execution_count": null,
   "id": "8114ae86",
   "metadata": {},
   "outputs": [],
   "source": []
  },
  {
   "cell_type": "code",
   "execution_count": null,
   "id": "e443c771",
   "metadata": {},
   "outputs": [],
   "source": [
    "# load in recommendations from previous rounds\n",
    "participant_data_dir = os.path.join(cbcore.data.paths.projects_data_dir, 'recsys-peer-match', 'participant')\n",
    "\n",
    "d = []\n",
    "for batch_id in [0, 1, 2, 3]:\n",
    "    participant_data_filepath = os.path.join(participant_data_dir, f'participant_rec_data_b{batch_id}.ndjson')\n",
    "    with open(participant_data_filepath, 'r') as infile:\n",
    "        for line in infile:\n",
    "            participant = json.loads(line)\n",
    "            del participant['site_scores']\n",
    "            participant['batch_id'] = batch_id\n",
    "            d.append(participant)\n",
    "\n",
    "batch_df = pd.DataFrame(d)\n",
    "\n",
    "participant_recced_site_map = {}\n",
    "for participant_id, group in batch_df.groupby('participant_id'):\n",
    "    recced_site_ids = []\n",
    "    for sse_site_list in group.sse_site_list:\n",
    "        recced_site_ids.extend([site['site_id'] for site in sse_site_list])\n",
    "    assert len(recced_site_ids) == len(set(recced_site_ids)), \"Duplicate rec was given.\"\n",
    "    recced_site_ids = list(set(recced_site_ids))\n",
    "    participant_recced_site_map[participant_id] = recced_site_ids\n",
    "#participant_recced_site_map = {row.participant_id: [site['site_id'] for site in row.sse_site_list] for row in batch_df.itertuples()}\n",
    "len(participant_recced_site_map)"
   ]
  },
  {
   "cell_type": "code",
   "execution_count": null,
   "id": "b56b8d6e",
   "metadata": {},
   "outputs": [],
   "source": [
    "batch_df.sample(n=10)"
   ]
  },
  {
   "cell_type": "code",
   "execution_count": null,
   "id": "8326e5bd",
   "metadata": {},
   "outputs": [],
   "source": [
    "batch_df.batch_id.value_counts().sort_index()"
   ]
  },
  {
   "cell_type": "code",
   "execution_count": null,
   "id": "6044d321",
   "metadata": {},
   "outputs": [],
   "source": [
    "sdf = batch_df[batch_df.batch_id == 0]\n",
    "len(sdf)"
   ]
  },
  {
   "cell_type": "code",
   "execution_count": null,
   "id": "ee38864d",
   "metadata": {},
   "outputs": [],
   "source": []
  },
  {
   "cell_type": "code",
   "execution_count": null,
   "id": "7a3e5a8a",
   "metadata": {},
   "outputs": [],
   "source": [
    "participant_data_dir = os.path.join(cbcore.data.paths.projects_data_dir, 'recsys-peer-match', 'participant')\n",
    "b0_annotation_filepath = os.path.join(participant_data_dir, 'b0_sse_annotations.tsv')\n",
    "b0_annotation_filepath"
   ]
  },
  {
   "cell_type": "code",
   "execution_count": null,
   "id": "463a6f4e",
   "metadata": {},
   "outputs": [],
   "source": [
    "with open(b0_annotation_filepath, 'w') as outfile:\n",
    "    outfile.write('batch_id\\tparticipant_ids\\trecced_count\\tsite_id\\tsite_title\\tjournal_oid\\tjournal_date\\tjournal_title\\tjournal_body\\n')\n",
    "    ds = []\n",
    "    journal_oid_set = set()\n",
    "    for row in sdf.itertuples():\n",
    "        for sse_site in row.sse_site_list:\n",
    "            journal_date = datetime.utcfromtimestamp(sse_site['journal_timestamp'] / 1000).isoformat()\n",
    "            journal_oid = sse_site['journal_oid']\n",
    "            if journal_oid in journal_oid_set:\n",
    "                match_found = False\n",
    "                for d in ds:\n",
    "                    if d['journal_oid'] == journal_oid:\n",
    "                        d['participant_ids'].append(row.participant_id)\n",
    "                        match_found = True\n",
    "                assert match_found\n",
    "                continue\n",
    "            else:\n",
    "                journal_oid_set.add(journal_oid)\n",
    "            d = {\n",
    "                'batch_id': row.batch_id,\n",
    "                'participant_ids': [row.participant_id,],\n",
    "                'site_id': sse_site['site_id'], \n",
    "                'site_title': sse_site['site_title'],\n",
    "                'journal_oid': sse_site['journal_oid'],\n",
    "                'journal_date': journal_date,\n",
    "                'journal_title': sse_site['cleaned_journal_title'],\n",
    "                'journal_body': sse_site['cleaned_journal_body'],\n",
    "            }\n",
    "            ds.append(d)\n",
    "    for d in ds:\n",
    "        #outfile.write(f\"{row.batch_id}\\t{row.participant_id}\\t{sse_site['site_id']}\\t{sse_site['site_title']}\\t{sse_site['journal_oid']}\\t{journal_date}\\t\\\"{sse_site['cleaned_journal_title']}\\\"\\t\\\"{sse_site['cleaned_journal_body']}\\\"\\n\")\n",
    "        outfile.write(f\"{d['batch_id']}\\t{', '.join([str(pid) for pid in d['participant_ids']])}\\t{len(d['participant_ids'])}\\t{d['site_id']}\\t{d['site_title']}\\t{d['journal_oid']}\\t{d['journal_date']}\\t\\\"{d['journal_title']}\\\"\\t\\\"{d['journal_body']}\\\"\\n\")\n",
    "len(ds)"
   ]
  },
  {
   "cell_type": "code",
   "execution_count": null,
   "id": "052948aa",
   "metadata": {},
   "outputs": [],
   "source": [
    "!head b0_sse_annotations.tsv"
   ]
  },
  {
   "cell_type": "code",
   "execution_count": null,
   "id": "ffc870e8",
   "metadata": {},
   "outputs": [],
   "source": [
    "sse_site"
   ]
  },
  {
   "cell_type": "code",
   "execution_count": null,
   "id": "05b89c29",
   "metadata": {},
   "outputs": [],
   "source": []
  }
 ],
 "metadata": {
  "kernelspec": {
   "display_name": "pytorch-cpuonly",
   "language": "python",
   "name": "pytorch-cpuonly"
  },
  "language_info": {
   "codemirror_mode": {
    "name": "ipython",
    "version": 3
   },
   "file_extension": ".py",
   "mimetype": "text/x-python",
   "name": "python",
   "nbconvert_exporter": "python",
   "pygments_lexer": "ipython3",
   "version": "3.9.4"
  }
 },
 "nbformat": 4,
 "nbformat_minor": 5
}
