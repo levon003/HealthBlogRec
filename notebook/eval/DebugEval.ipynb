{
 "cells": [
  {
   "cell_type": "markdown",
   "id": "ceramic-final",
   "metadata": {},
   "source": [
    "Debug Eval\n",
    "===\n"
   ]
  },
  {
   "cell_type": "code",
   "execution_count": null,
   "id": "religious-trail",
   "metadata": {},
   "outputs": [],
   "source": [
    "%reload_ext autoreload\n",
    "%autoreload 2\n",
    "%matplotlib inline"
   ]
  },
  {
   "cell_type": "code",
   "execution_count": null,
   "id": "stylish-leave",
   "metadata": {},
   "outputs": [],
   "source": [
    "import numpy as np\n",
    "import pandas as pd\n",
    "import matplotlib\n",
    "import matplotlib.pyplot as plt"
   ]
  },
  {
   "cell_type": "code",
   "execution_count": null,
   "id": "spatial-offering",
   "metadata": {},
   "outputs": [],
   "source": [
    "import os\n",
    "import json\n",
    "import sys\n",
    "from tqdm import tqdm\n",
    "\n",
    "import dateutil.parser\n",
    "from dateutil.relativedelta import relativedelta\n",
    "from datetime import datetime, timedelta\n",
    "import pytz"
   ]
  },
  {
   "cell_type": "code",
   "execution_count": null,
   "id": "parliamentary-dependence",
   "metadata": {},
   "outputs": [],
   "source": [
    "from pathlib import Path\n",
    "git_root_dir = !git rev-parse --show-toplevel\n",
    "git_root_dir = Path(git_root_dir[0].strip())\n",
    "git_root_dir"
   ]
  },
  {
   "cell_type": "code",
   "execution_count": null,
   "id": "noble-pilot",
   "metadata": {},
   "outputs": [],
   "source": [
    "import sys\n",
    "sys.path.append(os.path.join(git_root_dir, 'src'))\n",
    "import cbrec.genconfig"
   ]
  },
  {
   "cell_type": "code",
   "execution_count": null,
   "id": "recent-charter",
   "metadata": {},
   "outputs": [],
   "source": [
    "config = cbrec.genconfig.TestConfig()"
   ]
  },
  {
   "cell_type": "code",
   "execution_count": null,
   "id": "attended-editor",
   "metadata": {},
   "outputs": [],
   "source": [
    "md_list = []\n",
    "test_md_list = []\n",
    "with open(config.metadata_filepath, 'r') as infile:\n",
    "    for line in tqdm(infile):\n",
    "        md = json.loads(line)\n",
    "        md_list.append(md)\n",
    "        \n",
    "        if md['is_test_period'] and md['is_initiation_eligible']:\n",
    "            test_md_list.append(md)\n",
    "len(md_list), len(test_md_list)"
   ]
  },
  {
   "cell_type": "code",
   "execution_count": null,
   "id": "ideal-district",
   "metadata": {},
   "outputs": [],
   "source": [
    "list(md_list[5458].keys())"
   ]
  },
  {
   "cell_type": "code",
   "execution_count": null,
   "id": "facial-institution",
   "metadata": {},
   "outputs": [],
   "source": [
    "df = pd.DataFrame(md_list, columns=['metadata_id', \n",
    "                                     'timestamp',\n",
    "                                     'source_user_id',\n",
    "                                     'target_site_id',\n",
    "                                     'is_test_period',\n",
    "                                     'n_source_sites',\n",
    "                                     'n_target_users',\n",
    "                                     'source_user_is_existing',\n",
    "                                     'n_existing_users_on_target_site',\n",
    "                                     'source_user_is_eligible',\n",
    "                                     'target_site_has_eligible_user',\n",
    "                                     'is_self_initiation',\n",
    "                                     'is_initiation_eligible',  \n",
    "                                     # and the features that come with being initiation eligible...\n",
    "                                     'n_eligible_users',\n",
    "                                     'n_source_usps',\n",
    "                                     'n_active_user_ids',\n",
    "                                     'source_user_is_active',\n",
    "                                     'n_active_target_users',\n",
    "                                     'n_target_usps',\n",
    "                                     'n_eligible_inactive_users',\n",
    "                                     'n_existing_initiations_from_source_user_id',\n",
    "                                     'n_candidate_user_ids',\n",
    "                                     'n_candidate_usps',\n",
    "                                     # test-only features\n",
    "                                     'test_target_usp_adjustment',\n",
    "                                   ]\n",
    ")\n",
    "print(len(df))\n",
    "df.head()"
   ]
  },
  {
   "cell_type": "code",
   "execution_count": null,
   "id": "competent-windows",
   "metadata": {},
   "outputs": [],
   "source": [
    "pd.crosstab(df.source_user_is_eligible, [df.target_site_has_eligible_user,  df.is_self_initiation])"
   ]
  },
  {
   "cell_type": "code",
   "execution_count": null,
   "id": "random-chapter",
   "metadata": {},
   "outputs": [],
   "source": [
    "pd.crosstab((df.n_existing_users_on_target_site > 0).rename(\"At least one existing user on site?\"), (df.n_target_users > 0).rename(\"At least one eligible user on site?\"))"
   ]
  },
  {
   "cell_type": "code",
   "execution_count": null,
   "id": "coated-english",
   "metadata": {},
   "outputs": [],
   "source": [
    "sdf = df[df.is_initiation_eligible]\n",
    "len(sdf), np.sum(sdf.is_test_period)"
   ]
  },
  {
   "cell_type": "code",
   "execution_count": null,
   "id": "suited-australian",
   "metadata": {},
   "outputs": [],
   "source": [
    "# take a quick look at the generated triples\n",
    "sdf[~sdf.is_test_period].sample(n=5)"
   ]
  },
  {
   "cell_type": "code",
   "execution_count": null,
   "id": "federal-start",
   "metadata": {},
   "outputs": [],
   "source": [
    "pd.crosstab((sdf.n_source_sites > 1).rename('multiple_source_sites'), (sdf.n_target_users > 1).rename('multiple_target_users'))"
   ]
  },
  {
   "cell_type": "code",
   "execution_count": null,
   "id": "qualified-delay",
   "metadata": {},
   "outputs": [],
   "source": [
    "fig, ax = plt.subplots(1, 1, figsize=(8,8))\n",
    "ax.set_title(\"Distribution of number of target USPs\")\n",
    "ax.set_xlabel(\"# of Target USPs for Initiation\")\n",
    "ax.set_ylabel(\"Initiation Count\")\n",
    "\n",
    "ax.hist(sdf.n_target_usps, bins=np.arange(1, 10), log=True)\n",
    "\n",
    "plt.show()"
   ]
  },
  {
   "cell_type": "code",
   "execution_count": null,
   "id": "quarterly-morrison",
   "metadata": {},
   "outputs": [],
   "source": [
    "fig, ax = plt.subplots(1, 1, figsize=(8,8))\n",
    "ax.set_title(\"Distribution of number of candidate USPs\")\n",
    "ax.set_xlabel(\"# of Candidate USPs for Initiation\")\n",
    "ax.set_ylabel(\"Initiation Count\")\n",
    "\n",
    "ax.hist(sdf.n_candidate_usps, bins=20)\n",
    "\n",
    "plt.show()"
   ]
  },
  {
   "cell_type": "code",
   "execution_count": null,
   "id": "practical-genome",
   "metadata": {},
   "outputs": [],
   "source": [
    "fig, ax = plt.subplots(1, 1, figsize=(8,8))\n",
    "ax.set_title(\"Distribution of total candidate USPs - total candidate users i.e. basically the number of multi-site authors\")\n",
    "ax.set_xlabel(\"# of extra USPs generated from user candidates\")\n",
    "ax.set_ylabel(\"Initiation Count\")\n",
    "\n",
    "diff = sdf.n_candidate_usps - sdf.n_candidate_user_ids\n",
    "ax.hist(diff, bins=20, log=True, align='right')\n",
    "\n",
    "ax.axvline(np.median(diff), color='black', linestyle='--', alpha=0.8, label=f'Median ({np.median(diff)})')\n",
    "ax.legend()\n",
    "\n",
    "plt.show()"
   ]
  },
  {
   "cell_type": "code",
   "execution_count": null,
   "id": "cheap-bride",
   "metadata": {},
   "outputs": [],
   "source": [
    "fig, ax = plt.subplots(1, 1, figsize=(8,8))\n",
    "cmap = matplotlib.cm.viridis\n",
    "ax.set_title(\"Distribution of number of candidate USPs\")\n",
    "ax.set_xlabel(\"# of Candidate USPs for Initiation\")\n",
    "ax.set_ylabel(\"Initiation Count\")\n",
    "\n",
    "end_time = dateutil.parser.parse(\"2019-01-01\").replace(tzinfo=pytz.UTC)\n",
    "start_time = dateutil.parser.parse(\"2014-01-01\").replace(tzinfo=pytz.UTC)\n",
    "#total_time = end_time - start_time\n",
    "#total_days = total_time.days\n",
    "bins = [ timestamp\n",
    "    for timestamp in np.linspace(start_time.timestamp() * 1000, end_time.timestamp() * 1000)\n",
    "]\n",
    "\n",
    "xticks = [(start_time + relativedelta(years=year)).timestamp() * 1000 for year in range(6)]\n",
    "xticklabels = [datetime.utcfromtimestamp(xtick / 1000).replace(tzinfo=pytz.UTC).strftime(\"%Y\") for xtick in xticks]\n",
    "ax.set_xticks(xticks)\n",
    "ax.set_xticklabels(xticklabels)\n",
    "\n",
    "ax.hist(sdf.timestamp, bins=bins)\n",
    "\n",
    "ax.axvline(config.generation_start_timestamp, color=cmap(0), linestyle='--', alpha=0.8, label='Start of Training Period')\n",
    "ax.axvline(config.generation_stop_timestamp, color=cmap(0.5), linestyle='--', alpha=0.8, label='End of Data')\n",
    "ax.axvline(config.test_generation_start_timestamp, color='black', linestyle='--', alpha=0.8, label='Start of Test Period')\n",
    "ax.legend()\n",
    "\n",
    "plt.show()"
   ]
  },
  {
   "cell_type": "code",
   "execution_count": null,
   "id": "leading-withdrawal",
   "metadata": {},
   "outputs": [],
   "source": []
  },
  {
   "cell_type": "code",
   "execution_count": null,
   "id": "moving-inquiry",
   "metadata": {},
   "outputs": [],
   "source": []
  },
  {
   "cell_type": "markdown",
   "id": "dental-detroit",
   "metadata": {},
   "source": [
    "## Test initiation analysis"
   ]
  },
  {
   "cell_type": "code",
   "execution_count": null,
   "id": "sixth-musician",
   "metadata": {},
   "outputs": [],
   "source": [
    "test_df =  df[(df.is_initiation_eligible)&(df.is_test_period)]\n",
    "len(test_df)"
   ]
  },
  {
   "cell_type": "code",
   "execution_count": null,
   "id": "hourly-framework",
   "metadata": {},
   "outputs": [],
   "source": [
    "test_df.head()"
   ]
  },
  {
   "cell_type": "code",
   "execution_count": null,
   "id": "treated-function",
   "metadata": {},
   "outputs": [],
   "source": [
    "pd.DataFrame(test_df.test_target_usp_adjustment.value_counts().rename(\"Were test targets forced into candidates due to inactivity? (test_target_usp_adjustment)\"))"
   ]
  },
  {
   "cell_type": "code",
   "execution_count": null,
   "id": "secondary-preservation",
   "metadata": {},
   "outputs": [],
   "source": [
    "\n",
    "fig, ax = plt.subplots(1, 1, figsize=(8,8))\n",
    "ax.set_title(\"Distribution of previous initiation counts\")\n",
    "ax.set_xlabel(\"# of existing initiations\")\n",
    "ax.set_ylabel(\"Initiation Count\")\n",
    "\n",
    "ax.hist(sdf.n_existing_initiations_from_source_user_id, bins=np.arange(0,15), log=True)\n",
    "\n",
    "plt.show()"
   ]
  },
  {
   "cell_type": "code",
   "execution_count": null,
   "id": "proof-investigation",
   "metadata": {},
   "outputs": [],
   "source": [
    "pd.crosstab(test_df.source_user_is_active.rename(\"Source is active\"), (test_df.n_active_target_users > 0).rename(\"At least one target is active\"), margins=True)"
   ]
  },
  {
   "cell_type": "code",
   "execution_count": null,
   "id": "sunrise-array",
   "metadata": {},
   "outputs": [],
   "source": []
  },
  {
   "cell_type": "code",
   "execution_count": null,
   "id": "moral-atmosphere",
   "metadata": {},
   "outputs": [],
   "source": [
    "# Confusion matrix of median candidate users, for active + eligible axes\n",
    "pd.DataFrame([[np.nan, np.median(test_df.n_active_user_ids - test_df.n_candidate_user_ids - test_df.n_existing_initiations_from_source_user_id)], \n",
    "              [np.median(test_df.n_eligible_inactive_users), np.median(test_df.n_candidate_user_ids + test_df.n_existing_initiations_from_source_user_id)]], \n",
    "             index=['Non-eligible', 'Eligible'], columns=['Inactive', 'Active'])"
   ]
  },
  {
   "cell_type": "code",
   "execution_count": null,
   "id": "middle-longitude",
   "metadata": {},
   "outputs": [],
   "source": [
    "fig, ax = plt.subplots(1, 1, figsize=(8,8))\n",
    "ax.set_title(\"Distribution of candidate users (for test initiations)\")\n",
    "ax.set_xlabel(\"# of candidate user ids\")\n",
    "ax.set_ylabel(\"Initiation Count\")\n",
    "\n",
    "ax.hist(sdf.n_candidate_user_ids, bins=20, log=True)\n",
    "\n",
    "plt.show()"
   ]
  },
  {
   "cell_type": "markdown",
   "id": "gothic-wireless",
   "metadata": {},
   "source": [
    "### Baselines"
   ]
  },
  {
   "cell_type": "code",
   "execution_count": null,
   "id": "dried-scoop",
   "metadata": {},
   "outputs": [],
   "source": [
    "test_md_list[0]['baseline_metrics']['NaiveNetwork']"
   ]
  },
  {
   "cell_type": "code",
   "execution_count": null,
   "id": "incomplete-worker",
   "metadata": {},
   "outputs": [],
   "source": [
    "baselines = test_md_list[0]['baseline_metrics'].keys()\n",
    "baselines"
   ]
  },
  {
   "cell_type": "code",
   "execution_count": null,
   "id": "consolidated-assist",
   "metadata": {},
   "outputs": [],
   "source": [
    "baselines = test_md_list[0]['baseline_metrics'].keys()\n",
    "print(baselines)\n",
    "baseline_df_dict = {}\n",
    "for baseline in tqdm(baselines):\n",
    "    metrics_list = []\n",
    "    for md in test_md_list:\n",
    "        metrics = md['baseline_metrics'][baseline]\n",
    "        metrics['metadata_id'] = md['metadata_id']\n",
    "        metrics_list.append(metrics)\n",
    "    bdf = pd.DataFrame(metrics_list)\n",
    "    baseline_df_dict[baseline] = bdf\n",
    "    print(baseline, len(bdf))\n",
    "len(baseline_df_dict)"
   ]
  },
  {
   "cell_type": "code",
   "execution_count": null,
   "id": "quick-steal",
   "metadata": {},
   "outputs": [],
   "source": [
    "for baseline in baselines:\n",
    "    bdf = baseline_df_dict[baseline]\n",
    "    print(f\"{baseline:>25} {np.min(bdf.target_raw_score):10.2f} {np.median(bdf.target_raw_score):10.2f} {np.max(bdf.target_raw_score):10.2f}\")"
   ]
  },
  {
   "cell_type": "code",
   "execution_count": null,
   "id": "atmospheric-nomination",
   "metadata": {},
   "outputs": [],
   "source": [
    "baseline_df_dict['MostJournalsRecently']"
   ]
  },
  {
   "cell_type": "code",
   "execution_count": null,
   "id": "illegal-parker",
   "metadata": {},
   "outputs": [],
   "source": [
    "fig, axes = plt.subplots(3, 3, figsize=(14, 16))\n",
    "\n",
    "for baseline, ax in zip(baselines, axes.reshape(-1, 1)[:,0]):\n",
    "    ax.set_title(baseline)\n",
    "    ax.set_xlabel(\"Raw Score\")\n",
    "    bdf = baseline_df_dict[baseline]\n",
    "    x = bdf.target_raw_score\n",
    "    ax.hist(x, bins=20)\n",
    "    ax.axvline(np.median(x), label=f'Median ({np.median(x):.1f})', color='black', linestyle='--', alpha=0.9)\n",
    "    ax.legend()\n",
    "    \n",
    "plt.show()"
   ]
  },
  {
   "cell_type": "code",
   "execution_count": null,
   "id": "dressed-november",
   "metadata": {},
   "outputs": [],
   "source": [
    "fig, axes = plt.subplots(3, 3, figsize=(14, 16))\n",
    "\n",
    "for baseline, ax in zip(baselines, axes.reshape(-1, 1)[:,0]):\n",
    "    ax.set_title(baseline)\n",
    "    bdf = baseline_df_dict[baseline]\n",
    "    x = bdf.target_rank\n",
    "    ax.hist(x, bins=20)\n",
    "    ax.axvline(np.median(x), label=f'Median ({np.median(x):.1f})', color='black', linestyle='--', alpha=0.9)\n",
    "    ax.legend()\n",
    "    \n",
    "plt.show()"
   ]
  },
  {
   "cell_type": "code",
   "execution_count": null,
   "id": "regulation-arlington",
   "metadata": {},
   "outputs": [],
   "source": [
    "fig, axes = plt.subplots(3, 3, figsize=(14, 16))\n",
    "\n",
    "for baseline, ax in zip(baselines, axes.reshape(-1, 1)[:,0]):\n",
    "    ax.set_title(baseline)\n",
    "    bdf = baseline_df_dict[baseline]\n",
    "    x = bdf.reciprocal_rank\n",
    "    ax.hist(x, bins=np.linspace(0,1,num=20), log=True)\n",
    "    ax.axvline(np.mean(x), label=f'MRR ({np.mean(x):.3f})', color='black', linestyle='--', alpha=0.9)\n",
    "    ax.legend()\n",
    "    \n",
    "plt.show()"
   ]
  },
  {
   "cell_type": "code",
   "execution_count": null,
   "id": "abroad-handling",
   "metadata": {},
   "outputs": [],
   "source": [
    "fig, axes = plt.subplots(3, 3, figsize=(14, 16))\n",
    "cmap = matplotlib.cm.Set1\n",
    "\n",
    "for baseline, ax in zip(baselines, axes.reshape(-1, 1)[:,0]):\n",
    "    ax.set_title(baseline)\n",
    "    bdf = baseline_df_dict[baseline]\n",
    "    bins = np.linspace(0,1,num=20)\n",
    "    for i, k in enumerate([1, 5, 10, 50]):\n",
    "        x = bdf[f'ndcg_{k}']\n",
    "        ax.hist(x, bins=bins, log=True, alpha=0.9, color=cmap(i))\n",
    "        ax.axvline(np.mean(x), label=f'NDCG@{k} ({np.mean(x):.3f})', color=cmap(i), linestyle='--', alpha=0.9)\n",
    "    ax.legend()\n",
    "    \n",
    "plt.show()"
   ]
  },
  {
   "cell_type": "code",
   "execution_count": null,
   "id": "solar-directory",
   "metadata": {},
   "outputs": [],
   "source": [
    "fig, axes = plt.subplots(3, 3, figsize=(14, 16))\n",
    "\n",
    "for baseline, ax in zip(baselines, axes.reshape(-1, 1)[:,0]):\n",
    "    bdf = baseline_df_dict[baseline]\n",
    "    #print(baseline, np.abs(np.quantile(bdf.target_raw_score, 0.1) / np.median(bdf.target_raw_score)))\n",
    "    if np.abs(np.quantile(bdf.target_raw_score, 0.1) / np.median(bdf.target_raw_score)) > 4:\n",
    "        is_clipped = True\n",
    "        x = np.maximum(bdf.target_raw_score, np.quantile(bdf.target_raw_score, 0.1))\n",
    "    else:\n",
    "        is_clipped = False\n",
    "        x = bdf.target_raw_score\n",
    "    y = bdf.target_rank\n",
    "    ax.hexbin(x, y, gridsize=15, bins='log')\n",
    "    ax.set_title(baseline if not is_clipped else baseline + \" (low end clipped)\")\n",
    "    ax.set_xlabel(\"Score\")\n",
    "    ax.set_ylabel(\"Rank\")\n",
    "    #ax.axvline(np.median(x), label=f'Median ({np.median(x):.1f})', color='black', linestyle='--', alpha=0.9)\n",
    "    #ax.legend()\n",
    "    \n",
    "plt.show()"
   ]
  },
  {
   "cell_type": "code",
   "execution_count": null,
   "id": "elect-indianapolis",
   "metadata": {},
   "outputs": [],
   "source": []
  }
 ],
 "metadata": {
  "kernelspec": {
   "display_name": "Python 3",
   "language": "python",
   "name": "python3"
  },
  "language_info": {
   "codemirror_mode": {
    "name": "ipython",
    "version": 3
   },
   "file_extension": ".py",
   "mimetype": "text/x-python",
   "name": "python",
   "nbconvert_exporter": "python",
   "pygments_lexer": "ipython3",
   "version": "3.7.10"
  }
 },
 "nbformat": 4,
 "nbformat_minor": 5
}
