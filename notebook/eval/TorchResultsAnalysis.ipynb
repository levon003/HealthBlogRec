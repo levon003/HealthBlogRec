{
 "cells": [
  {
   "cell_type": "markdown",
   "id": "dabb316e",
   "metadata": {},
   "source": [
    "Torch Results Analysis\n",
    "===\n",
    "\n",
    "Somewhat temporary notebook for investigating models training via script."
   ]
  },
  {
   "cell_type": "code",
   "execution_count": null,
   "id": "7a3d68e7",
   "metadata": {},
   "outputs": [],
   "source": [
    "%reload_ext autoreload\n",
    "%autoreload 2\n",
    "%matplotlib inline"
   ]
  },
  {
   "cell_type": "code",
   "execution_count": null,
   "id": "f8338be5",
   "metadata": {},
   "outputs": [],
   "source": [
    "import numpy as np\n",
    "import pandas as pd\n",
    "import matplotlib\n",
    "import matplotlib.pyplot as plt"
   ]
  },
  {
   "cell_type": "code",
   "execution_count": null,
   "id": "f36116c4",
   "metadata": {},
   "outputs": [],
   "source": [
    "import os\n",
    "import re\n",
    "import json\n",
    "import sys\n",
    "import pickle\n",
    "from tqdm import tqdm\n",
    "\n",
    "import sklearn\n",
    "import sklearn.linear_model\n",
    "import sklearn.preprocessing\n",
    "from sklearn.pipeline import Pipeline\n",
    "\n",
    "import dateutil.parser\n",
    "from dateutil.relativedelta import relativedelta\n",
    "from datetime import datetime, timedelta\n",
    "import pytz"
   ]
  },
  {
   "cell_type": "code",
   "execution_count": null,
   "id": "d690c8cc",
   "metadata": {},
   "outputs": [],
   "source": [
    "# HuggingFace packages\n",
    "import transformers\n",
    "import tokenizers\n",
    "import torch\n",
    "\n",
    "# more torch imports\n",
    "import torchvision\n",
    "import torchvision.transforms\n",
    "import torch.optim as optim\n",
    "import torch.nn as nn\n",
    "import torch.nn.functional as F"
   ]
  },
  {
   "cell_type": "code",
   "execution_count": null,
   "id": "fc6b59db",
   "metadata": {},
   "outputs": [],
   "source": [
    "# evaluation\n",
    "from scipy.stats import rankdata"
   ]
  },
  {
   "cell_type": "code",
   "execution_count": null,
   "id": "c7e52792",
   "metadata": {},
   "outputs": [],
   "source": [
    "from pathlib import Path\n",
    "git_root_dir = !git rev-parse --show-toplevel\n",
    "git_root_dir = Path(git_root_dir[0].strip())\n",
    "git_root_dir"
   ]
  },
  {
   "cell_type": "code",
   "execution_count": null,
   "id": "82488892",
   "metadata": {},
   "outputs": [],
   "source": [
    "import sys\n",
    "sys.path.append(os.path.join(git_root_dir, 'src'))\n",
    "import cbrec.genconfig"
   ]
  },
  {
   "cell_type": "code",
   "execution_count": null,
   "id": "cea29fe6",
   "metadata": {},
   "outputs": [],
   "source": [
    "config = cbrec.genconfig.Config()\n",
    "#config.metadata_filepath += \"_old\"\n",
    "#config.feature_db_filepath += \"_old\""
   ]
  },
  {
   "cell_type": "code",
   "execution_count": null,
   "id": "3f7cb6f1",
   "metadata": {},
   "outputs": [],
   "source": [
    "import cbrec.featuredb\n",
    "import cbrec.utils\n",
    "import cbrec.data\n",
    "import cbrec.reccontext\n",
    "import cbrec.evaluation\n",
    "import cbrec.torchmodel\n",
    "import cbrec.text.embeddingdb\n",
    "import cbrec.text.journalid"
   ]
  },
  {
   "cell_type": "code",
   "execution_count": null,
   "id": "0cd4fe17",
   "metadata": {},
   "outputs": [],
   "source": [
    "import cbrec.logutils\n",
    "cbrec.logutils.set_up_logging()"
   ]
  },
  {
   "cell_type": "code",
   "execution_count": null,
   "id": "50960556",
   "metadata": {},
   "outputs": [],
   "source": [
    "# turn off matplotlib logging\n",
    "import logging\n",
    "logging.getLogger('matplotlib').setLevel(logging.WARNING)"
   ]
  },
  {
   "cell_type": "code",
   "execution_count": null,
   "id": "618d7e6a",
   "metadata": {},
   "outputs": [],
   "source": [
    "import sys\n",
    "caringbridge_core_path = \"/home/lana/levon003/repos/caringbridge_core\"\n",
    "sys.path.append(caringbridge_core_path)\n",
    "import cbcore.data.paths"
   ]
  },
  {
   "cell_type": "code",
   "execution_count": null,
   "id": "7d3cf05c",
   "metadata": {},
   "outputs": [],
   "source": [
    "import cbrec.modeling.modelconfig\n",
    "import cbrec.modeling.scorer\n",
    "import cbrec.modeling.manager"
   ]
  },
  {
   "cell_type": "code",
   "execution_count": null,
   "id": "11a3f848",
   "metadata": {},
   "outputs": [],
   "source": []
  },
  {
   "cell_type": "code",
   "execution_count": null,
   "id": "ca51f13e",
   "metadata": {},
   "outputs": [],
   "source": []
  },
  {
   "cell_type": "code",
   "execution_count": null,
   "id": "904c37b2",
   "metadata": {},
   "outputs": [],
   "source": [
    "# load train features\n",
    "feature_cache_dir = os.path.join(cbcore.data.paths.projects_data_dir, 'recsys-peer-match', 'torch_experiments', 'feature_cache')\n",
    "filenames = [\n",
    "    ('X_train_raw.pkl', 'y_train_raw.pkl'),\n",
    "    ('X_test2train_raw.pkl', 'y_test2train_raw.pkl'),\n",
    "]\n",
    "Xs = []\n",
    "ys = []\n",
    "for x_filename, y_filename in filenames:\n",
    "    with open(os.path.join(feature_cache_dir, x_filename), 'rb') as infile:\n",
    "        X = pickle.load(infile)\n",
    "        Xs.append(X)\n",
    "    with open(os.path.join(feature_cache_dir, y_filename), 'rb') as infile:\n",
    "        y = pickle.load(infile)\n",
    "        ys.append(y)\n"
   ]
  },
  {
   "cell_type": "code",
   "execution_count": null,
   "id": "b661da67",
   "metadata": {},
   "outputs": [],
   "source": [
    "X = np.concatenate(Xs, axis=0)\n",
    "y_true = np.concatenate(ys, axis=0)\n",
    "X.shape, y_true.shape"
   ]
  },
  {
   "cell_type": "code",
   "execution_count": null,
   "id": "dcc3c976",
   "metadata": {},
   "outputs": [],
   "source": [
    "# shuffle the data\n",
    "inds = np.arange(len(X))\n",
    "np.random.shuffle(inds)\n",
    "X = X[inds]\n",
    "y_true = y_true[inds]"
   ]
  },
  {
   "cell_type": "code",
   "execution_count": null,
   "id": "6db5b98a",
   "metadata": {},
   "outputs": [],
   "source": []
  },
  {
   "cell_type": "code",
   "execution_count": null,
   "id": "612bd652",
   "metadata": {},
   "outputs": [],
   "source": [
    "model_config = cbrec.modeling.modelconfig.ModelConfig()\n",
    "model_config.train_n_epochs = 21\n",
    "model_config"
   ]
  },
  {
   "cell_type": "code",
   "execution_count": null,
   "id": "0345642a",
   "metadata": {},
   "outputs": [],
   "source": [
    "model_manager = cbrec.modeling.manager.ModelManager(model_config, config=config)\n",
    "model_manager.model_config.output_basename"
   ]
  },
  {
   "cell_type": "code",
   "execution_count": null,
   "id": "06eb2e33",
   "metadata": {},
   "outputs": [],
   "source": [
    "model_manager.train_model(X, y_true)"
   ]
  },
  {
   "cell_type": "code",
   "execution_count": null,
   "id": "1b9f9f12",
   "metadata": {},
   "outputs": [],
   "source": [
    "model_manager.save_model()"
   ]
  },
  {
   "cell_type": "code",
   "execution_count": null,
   "id": "76175117",
   "metadata": {},
   "outputs": [],
   "source": []
  },
  {
   "cell_type": "code",
   "execution_count": null,
   "id": "35bbfbbf",
   "metadata": {},
   "outputs": [],
   "source": []
  },
  {
   "cell_type": "code",
   "execution_count": null,
   "id": "5d765cc9",
   "metadata": {},
   "outputs": [],
   "source": [
    "model_manager = cbrec.modeling.manager.ModelManager.load_from_model_name('LinearNet', 'wd')\n",
    "model_manager.load_model(load_training_metrics=True)"
   ]
  },
  {
   "cell_type": "code",
   "execution_count": null,
   "id": "066253ec",
   "metadata": {},
   "outputs": [],
   "source": [
    "# now that we've loaded the saved model data, we can \n",
    "train_metrics, test_metrics = model_manager.model_trainer.get_train_metrics()\n",
    "\n",
    "fig, ax = plt.subplots(1, 1, figsize=(6, 6))\n",
    "\n",
    "xs = test_metrics.T[:,0]\n",
    "ys = test_metrics.T[:,1]\n",
    "ax.plot(xs, ys, label='Test')\n",
    "\n",
    "i = np.argmin(ys)\n",
    "plt.scatter(xs[i], ys[i], color='black', zorder=10, label='Best validation loss')\n",
    "\n",
    "xs = train_metrics.T[:,0]\n",
    "ys = train_metrics.T[:,1]\n",
    "ax.plot(xs, ys, label='Train')\n",
    "\n",
    "ax.set_ylim((0, 1))\n",
    "\n",
    "ax.legend()\n",
    "\n",
    "plt.show()"
   ]
  },
  {
   "cell_type": "code",
   "execution_count": null,
   "id": "6b2d75ff",
   "metadata": {},
   "outputs": [],
   "source": [
    "model_manager = cbrec.modeling.manager.ModelManager.load_from_model_name('LinearNet', 'wd2')\n",
    "model_manager.load_model(load_training_metrics=True)"
   ]
  },
  {
   "cell_type": "code",
   "execution_count": null,
   "id": "325ae3cc",
   "metadata": {},
   "outputs": [],
   "source": [
    "# now that we've loaded the saved model data, we can \n",
    "train_metrics, test_metrics = model_manager.model_trainer.get_train_metrics()\n",
    "\n",
    "fig, ax = plt.subplots(1, 1, figsize=(6, 6))\n",
    "\n",
    "xs = test_metrics.T[:,0]\n",
    "ys = test_metrics.T[:,1]\n",
    "ax.plot(xs, ys, label='Test')\n",
    "\n",
    "i = np.argmin(ys)\n",
    "plt.scatter(xs[i], ys[i], color='black', zorder=10, label=f'Best validation loss ({ys[i]:.3f})')\n",
    "\n",
    "xs = train_metrics.T[:,0]\n",
    "ys = train_metrics.T[:,1]\n",
    "ax.plot(xs, ys, label='Train')\n",
    "\n",
    "ax.set_ylim((0, 1))\n",
    "\n",
    "ax.legend()\n",
    "\n",
    "plt.show()"
   ]
  },
  {
   "cell_type": "code",
   "execution_count": null,
   "id": "b6d09961",
   "metadata": {},
   "outputs": [],
   "source": [
    "model_manager = cbrec.modeling.manager.ModelManager.load_from_model_name('LinearNet', 'wd3')\n",
    "model_manager.load_model(load_training_metrics=True)\n",
    "\n",
    "train_metrics, test_metrics = model_manager.model_trainer.get_train_metrics()\n",
    "\n",
    "fig, ax = plt.subplots(1, 1, figsize=(6, 6))\n",
    "\n",
    "xs = test_metrics.T[:,0]\n",
    "ys = test_metrics.T[:,1]\n",
    "ax.plot(xs, ys, label='Test')\n",
    "\n",
    "i = np.argmin(ys)\n",
    "plt.scatter(xs[i], ys[i], color='black', zorder=10, label=f'Best validation loss ({ys[i]:.3f})')\n",
    "\n",
    "xs = train_metrics.T[:,0]\n",
    "ys = train_metrics.T[:,1]\n",
    "ax.plot(xs, ys, label='Train')\n",
    "\n",
    "ax.set_ylim((0, 1))\n",
    "\n",
    "ax.legend()\n",
    "\n",
    "plt.show()"
   ]
  },
  {
   "cell_type": "code",
   "execution_count": null,
   "id": "0c19efcc",
   "metadata": {},
   "outputs": [],
   "source": [
    "model_manager = cbrec.modeling.manager.ModelManager.load_from_model_name('LinearNet', 'wd4')\n",
    "model_manager.load_model(load_training_metrics=True)\n",
    "\n",
    "train_metrics, test_metrics = model_manager.model_trainer.get_train_metrics()\n",
    "\n",
    "fig, ax = plt.subplots(1, 1, figsize=(6, 6))\n",
    "\n",
    "xs = test_metrics.T[:,0]\n",
    "ys = test_metrics.T[:,1]\n",
    "ax.plot(xs, ys, label='Test')\n",
    "\n",
    "i = np.argmin(ys)\n",
    "plt.scatter(xs[i], ys[i], color='black', zorder=10, label=f'Best validation loss ({ys[i]:.3f})')\n",
    "\n",
    "xs = train_metrics.T[:,0]\n",
    "ys = train_metrics.T[:,1]\n",
    "ax.plot(xs, ys, label='Train')\n",
    "\n",
    "ax.set_ylim((0, 1))\n",
    "\n",
    "ax.legend()\n",
    "\n",
    "plt.show()"
   ]
  },
  {
   "cell_type": "code",
   "execution_count": null,
   "id": "5fb024e2",
   "metadata": {},
   "outputs": [],
   "source": [
    "model_manager = cbrec.modeling.manager.ModelManager.load_from_model_name('LinearNet', 'do1')\n",
    "model_manager.load_model(load_training_metrics=True)\n",
    "\n",
    "train_metrics, test_metrics = model_manager.model_trainer.get_train_metrics()\n",
    "\n",
    "fig, ax = plt.subplots(1, 1, figsize=(6, 6))\n",
    "\n",
    "xs = test_metrics.T[:,0]\n",
    "ys = test_metrics.T[:,1]\n",
    "ax.plot(xs, ys, label='Test')\n",
    "\n",
    "i = np.argmin(ys)\n",
    "plt.scatter(xs[i], ys[i], color='black', zorder=10, label=f'Best validation loss ({ys[i]:.3f})')\n",
    "\n",
    "xs = train_metrics.T[:,0]\n",
    "ys = train_metrics.T[:,1]\n",
    "ax.plot(xs, ys, label='Train')\n",
    "\n",
    "ax.set_ylim((0, 1))\n",
    "\n",
    "ax.legend()\n",
    "\n",
    "plt.show()"
   ]
  },
  {
   "cell_type": "code",
   "execution_count": null,
   "id": "114238b2",
   "metadata": {},
   "outputs": [],
   "source": [
    "model_manager = cbrec.modeling.manager.ModelManager.load_from_model_name('LinearNet', 'do2')\n",
    "model_manager.load_model(load_training_metrics=True)\n",
    "\n",
    "train_metrics, test_metrics = model_manager.model_trainer.get_train_metrics()\n",
    "\n",
    "fig, ax = plt.subplots(1, 1, figsize=(6, 6))\n",
    "\n",
    "xs = test_metrics.T[:,0]\n",
    "ys = test_metrics.T[:,1]\n",
    "ax.plot(xs, ys, label='Test')\n",
    "\n",
    "i = np.argmin(ys)\n",
    "plt.scatter(xs[i], ys[i], color='black', zorder=10, label=f'Best validation loss ({ys[i]:.3f})')\n",
    "\n",
    "xs = train_metrics.T[:,0]\n",
    "ys = train_metrics.T[:,1]\n",
    "ax.plot(xs, ys, label='Train')\n",
    "\n",
    "ax.set_ylim((0, 1))\n",
    "\n",
    "ax.legend()\n",
    "\n",
    "plt.show()"
   ]
  },
  {
   "cell_type": "code",
   "execution_count": null,
   "id": "77794a4a",
   "metadata": {},
   "outputs": [],
   "source": []
  },
  {
   "cell_type": "code",
   "execution_count": null,
   "id": "097ef68c",
   "metadata": {},
   "outputs": [],
   "source": []
  }
 ],
 "metadata": {
  "kernelspec": {
   "display_name": "pytorch-cpuonly",
   "language": "python",
   "name": "pytorch-cpuonly"
  },
  "language_info": {
   "codemirror_mode": {
    "name": "ipython",
    "version": 3
   },
   "file_extension": ".py",
   "mimetype": "text/x-python",
   "name": "python",
   "nbconvert_exporter": "python",
   "pygments_lexer": "ipython3",
   "version": "3.9.4"
  }
 },
 "nbformat": 4,
 "nbformat_minor": 5
}
