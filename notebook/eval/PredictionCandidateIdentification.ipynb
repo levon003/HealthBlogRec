{
 "cells": [
  {
   "cell_type": "markdown",
   "id": "7cbf2bda",
   "metadata": {},
   "source": [
    "Prediction Candidate Identification\n",
    "===\n",
    "\n"
   ]
  },
  {
   "cell_type": "code",
   "execution_count": null,
   "id": "93ed81fe",
   "metadata": {},
   "outputs": [],
   "source": [
    "%reload_ext autoreload\n",
    "%autoreload 2\n",
    "%matplotlib inline"
   ]
  },
  {
   "cell_type": "code",
   "execution_count": null,
   "id": "c398e3e0",
   "metadata": {},
   "outputs": [],
   "source": [
    "import numpy as np\n",
    "import pandas as pd\n",
    "import matplotlib\n",
    "import matplotlib.pyplot as plt"
   ]
  },
  {
   "cell_type": "code",
   "execution_count": null,
   "id": "38211321",
   "metadata": {},
   "outputs": [],
   "source": [
    "import os\n",
    "import json\n",
    "import sys\n",
    "import pickle\n",
    "from tqdm import tqdm\n",
    "\n",
    "import sklearn\n",
    "import sklearn.linear_model\n",
    "import sklearn.preprocessing\n",
    "from sklearn.pipeline import Pipeline\n",
    "\n",
    "import dateutil.parser\n",
    "from dateutil.relativedelta import relativedelta\n",
    "from datetime import datetime, timedelta\n",
    "import pytz"
   ]
  },
  {
   "cell_type": "code",
   "execution_count": null,
   "id": "96e60308",
   "metadata": {},
   "outputs": [],
   "source": [
    "# HuggingFace packages\n",
    "import transformers\n",
    "import tokenizers\n",
    "import torch\n",
    "\n",
    "# more torch imports\n",
    "import torchvision\n",
    "import torchvision.transforms\n",
    "import torch.optim as optim\n",
    "import torch.nn as nn\n",
    "import torch.nn.functional as F"
   ]
  },
  {
   "cell_type": "code",
   "execution_count": null,
   "id": "bf247d98",
   "metadata": {},
   "outputs": [],
   "source": [
    "from pathlib import Path\n",
    "git_root_dir = !git rev-parse --show-toplevel\n",
    "git_root_dir = Path(git_root_dir[0].strip())\n",
    "git_root_dir"
   ]
  },
  {
   "cell_type": "code",
   "execution_count": null,
   "id": "a59c46d4",
   "metadata": {},
   "outputs": [],
   "source": [
    "import sys\n",
    "sys.path.append(os.path.join(git_root_dir, 'src'))\n",
    "import cbrec.genconfig"
   ]
  },
  {
   "cell_type": "code",
   "execution_count": null,
   "id": "9af5526e",
   "metadata": {},
   "outputs": [],
   "source": [
    "config = cbrec.genconfig.Config()\n",
    "#config.metadata_filepath += \"_old\"\n",
    "#config.feature_db_filepath += \"_old\""
   ]
  },
  {
   "cell_type": "code",
   "execution_count": null,
   "id": "9e07e603",
   "metadata": {},
   "outputs": [],
   "source": [
    "import cbrec.featuredb\n",
    "import cbrec.utils\n",
    "import cbrec.data\n",
    "import cbrec.reccontext\n",
    "import cbrec.evaluation\n",
    "import cbrec.torchmodel\n",
    "import cbrec.text.embeddingdb\n",
    "import cbrec.text.journalid"
   ]
  },
  {
   "cell_type": "code",
   "execution_count": null,
   "id": "8ea68d90",
   "metadata": {},
   "outputs": [],
   "source": [
    "import cbrec.logutils\n",
    "cbrec.logutils.set_up_logging()"
   ]
  },
  {
   "cell_type": "code",
   "execution_count": null,
   "id": "3a7438c3",
   "metadata": {},
   "outputs": [],
   "source": []
  },
  {
   "cell_type": "markdown",
   "id": "e927065b",
   "metadata": {},
   "source": [
    "### Extracting from the RecDataGenerator instance"
   ]
  },
  {
   "cell_type": "markdown",
   "id": "0761efa2",
   "metadata": {},
   "source": [
    "In the interactive mode...\n",
    "\n",
    "```\n",
    "# get the time from which to retrieve journals\n",
    "next(iter(rdg.journal_dict.od)) - 1\n",
    "```"
   ]
  },
  {
   "cell_type": "markdown",
   "id": "a58d33af",
   "metadata": {},
   "source": [
    "Could use the checkpoint at the end of the list to generate this. However, this file is now generated as a standard part of the predict.py script.\n",
    "\n",
    "```\n",
    "In [2]: active_user_ids = rdg.activity_manager.get_active_user_ids()                                                                     \n",
    "                                                                                                                                         \n",
    "In [3]: len(active_user_ids)                                                                                                             \n",
    "Out[3]: 14169                                                                                                                            \n",
    "                                                                                                                                         \n",
    "In [4]: eligible_user_ids = rdg.eligibility_manager.get_eligible_user_ids().copy()                                                       \n",
    "                                                                                                                                         \n",
    "In [5]: len(eligible_user_ids)                                                                                                           \n",
    "Out[5]: 473365                                                                                                                           \n",
    "                                                                                                                                         \n",
    "In [6]: eligible_active_user_ids = active_user_ids & eligible_user_ids                                                                   \n",
    "                                                                                                                                         \n",
    "In [7]: len(eligible_active_user_ids)                                                                                                    \n",
    "Out[7]: 12713\n",
    "\n",
    "...\n",
    "\n",
    "In [18]: candidate_usps = []                                                                                                             \n",
    "                                                                                                                                         \n",
    "In [19]: for candidate_user_id in eligible_active_user_ids:                                                                              \n",
    "    ...:     for site_id in rdg.eligibility_manager.get_eligible_sites_from_user(candidate_user_id):                                     \n",
    "    ...:         candidate_usps.append((candidate_user_id, site_id))                                                                     \n",
    "    ...:                                                                                                                                 \n",
    "                                                                                                                                         \n",
    "In [20]: len(candidate_usps)\n",
    "Out[20]: 13703\n",
    "\n",
    "In [21]: with open(\"prediction_usps.tsv\", 'w') as outfile:\n",
    "    ...:     for candidate_usp in candidate_usps:\n",
    "    ...:         outfile.write(f\"{candidate_usp[0]}\\t{candidate_usp[1]}\\n\")\n",
    "    ...:\n",
    "\n",
    "```"
   ]
  },
  {
   "cell_type": "code",
   "execution_count": null,
   "id": "c0bd9a75",
   "metadata": {},
   "outputs": [],
   "source": []
  },
  {
   "cell_type": "code",
   "execution_count": null,
   "id": "b37f359c",
   "metadata": {},
   "outputs": [],
   "source": []
  },
  {
   "cell_type": "code",
   "execution_count": null,
   "id": "8f9b4983",
   "metadata": {},
   "outputs": [],
   "source": [
    "dm = cbrec.data.DataManager(config, load_ints=False, load_journals=True)"
   ]
  },
  {
   "cell_type": "code",
   "execution_count": null,
   "id": "2f1e56ea",
   "metadata": {},
   "outputs": [],
   "source": [
    "journal_df = dm.get_filtered_journals()\n",
    "len(journal_df)"
   ]
  },
  {
   "cell_type": "code",
   "execution_count": null,
   "id": "22b6c1b4",
   "metadata": {},
   "outputs": [],
   "source": [
    "jil = cbrec.text.journalid.JournalIdLookup(config, dm)"
   ]
  },
  {
   "cell_type": "code",
   "execution_count": null,
   "id": "87c0a8e4",
   "metadata": {},
   "outputs": [],
   "source": [
    "# this filepath essentially comes straight from the predict.py output\n",
    "# e.g. 2021-09-15 23:40:03,033 - cbrec.prediction.main - INFO - Wrote 5965 candidate USPs to '/home/lana/shared/caringbridge/data/projects/recsys-peer-match/feature_data/checkpoints/rdg_36028292_734622_prediction_usps.tsv'.                                                          \n",
    "candidate_usps = []\n",
    "candidate_usp_filepath = os.path.join(config.checkpoint_dir, f\"rdg_36261144_851080_prediction_usps.tsv\")\n",
    "with open(candidate_usp_filepath, 'r') as infile:\n",
    "    for line in infile:\n",
    "        line = line.strip()\n",
    "        if line != '':\n",
    "            user_id, site_id = line.split(\"\\t\")\n",
    "            user_id, site_id = int(user_id), int(site_id)\n",
    "            candidate_usps.append((user_id, site_id))\n",
    "len(candidate_usps)"
   ]
  },
  {
   "cell_type": "code",
   "execution_count": null,
   "id": "15bf9ea7",
   "metadata": {},
   "outputs": [],
   "source": [
    "# this should be whatever timestamp is used with predict.py (inferred or not)\n",
    "timestamp = 1633029219763"
   ]
  },
  {
   "cell_type": "code",
   "execution_count": null,
   "id": "29f46c21",
   "metadata": {},
   "outputs": [],
   "source": [
    "journal_oids = []\n",
    "n_not_enough = 0\n",
    "for candidate_usp in candidate_usps:\n",
    "    journal_updates_before = jil.get_journal_updates_before(candidate_usp, timestamp + 1)\n",
    "    if len(journal_updates_before) < 3:\n",
    "        n_not_enough += 1\n",
    "    else:\n",
    "        journal_oids.extend(journal_updates_before)\n",
    "        \n",
    "len(journal_oids), n_not_enough"
   ]
  },
  {
   "cell_type": "code",
   "execution_count": null,
   "id": "1857f524",
   "metadata": {},
   "outputs": [],
   "source": [
    "journal_oids = set(journal_oids)\n",
    "len(journal_oids)"
   ]
  },
  {
   "cell_type": "code",
   "execution_count": null,
   "id": "f07617c5",
   "metadata": {},
   "outputs": [],
   "source": [
    "with open(os.path.join(config.model_data_dir, 'predict_candidate_journal_oids.txt'), 'w') as outfile:\n",
    "    for journal_oid in journal_oids:\n",
    "        outfile.write(journal_oid + \"\\n\")"
   ]
  },
  {
   "cell_type": "code",
   "execution_count": null,
   "id": "2ecd3136",
   "metadata": {},
   "outputs": [],
   "source": []
  },
  {
   "cell_type": "code",
   "execution_count": null,
   "id": "2e1087c6",
   "metadata": {},
   "outputs": [],
   "source": []
  },
  {
   "cell_type": "code",
   "execution_count": null,
   "id": "7150ab7b",
   "metadata": {},
   "outputs": [],
   "source": []
  }
 ],
 "metadata": {
  "kernelspec": {
   "display_name": "Python 3 (ipykernel)",
   "language": "python",
   "name": "python3"
  },
  "language_info": {
   "codemirror_mode": {
    "name": "ipython",
    "version": 3
   },
   "file_extension": ".py",
   "mimetype": "text/x-python",
   "name": "python",
   "nbconvert_exporter": "python",
   "pygments_lexer": "ipython3",
   "version": "3.9.7"
  }
 },
 "nbformat": 4,
 "nbformat_minor": 5
}
