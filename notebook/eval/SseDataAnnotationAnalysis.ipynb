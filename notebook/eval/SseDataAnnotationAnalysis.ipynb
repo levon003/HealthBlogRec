{
 "cells": [
  {
   "cell_type": "markdown",
   "id": "35eb5bf3",
   "metadata": {},
   "source": [
    "SSE Data Annotation\n",
    "===\n"
   ]
  },
  {
   "cell_type": "code",
   "execution_count": null,
   "id": "8f2a4ce8",
   "metadata": {},
   "outputs": [],
   "source": [
    "%reload_ext autoreload\n",
    "%autoreload 2\n",
    "%matplotlib inline"
   ]
  },
  {
   "cell_type": "code",
   "execution_count": null,
   "id": "8f978f0a",
   "metadata": {},
   "outputs": [],
   "source": [
    "import numpy as np\n",
    "import pandas as pd\n",
    "import matplotlib\n",
    "import matplotlib.pyplot as plt"
   ]
  },
  {
   "cell_type": "code",
   "execution_count": null,
   "id": "38bb6512",
   "metadata": {},
   "outputs": [],
   "source": [
    "import os\n",
    "import re\n",
    "import json\n",
    "import sys\n",
    "import pickle\n",
    "from tqdm import tqdm\n",
    "\n",
    "import sklearn\n",
    "import sklearn.linear_model\n",
    "import sklearn.preprocessing\n",
    "from sklearn.pipeline import Pipeline\n",
    "\n",
    "import dateutil.parser\n",
    "from dateutil.relativedelta import relativedelta\n",
    "from datetime import datetime, timedelta\n",
    "import pytz"
   ]
  },
  {
   "cell_type": "code",
   "execution_count": null,
   "id": "98180eb2",
   "metadata": {},
   "outputs": [],
   "source": [
    "# evaluation\n",
    "from scipy.stats import rankdata"
   ]
  },
  {
   "cell_type": "code",
   "execution_count": null,
   "id": "23e891b0",
   "metadata": {},
   "outputs": [],
   "source": [
    "from pathlib import Path\n",
    "git_root_dir = !git rev-parse --show-toplevel\n",
    "git_root_dir = Path(git_root_dir[0].strip())\n",
    "git_root_dir"
   ]
  },
  {
   "cell_type": "code",
   "execution_count": null,
   "id": "8e52d43f",
   "metadata": {},
   "outputs": [],
   "source": [
    "import sys\n",
    "sys.path.append(os.path.join(git_root_dir, 'src'))\n",
    "import cbrec.genconfig"
   ]
  },
  {
   "cell_type": "code",
   "execution_count": null,
   "id": "cc37e6ef",
   "metadata": {},
   "outputs": [],
   "source": [
    "config = cbrec.genconfig.Config()\n",
    "#config.metadata_filepath += \"_old\"\n",
    "#config.feature_db_filepath += \"_old\""
   ]
  },
  {
   "cell_type": "code",
   "execution_count": null,
   "id": "186c1346",
   "metadata": {},
   "outputs": [],
   "source": [
    "import cbrec.logutils\n",
    "cbrec.logutils.set_up_logging()"
   ]
  },
  {
   "cell_type": "code",
   "execution_count": null,
   "id": "ad2d1441",
   "metadata": {},
   "outputs": [],
   "source": [
    "annotation_data_dir = os.path.join(git_root_dir, 'data', 'annotation')\n",
    "assert os.path.exists(annotation_data_dir)"
   ]
  },
  {
   "cell_type": "code",
   "execution_count": null,
   "id": "ac8deb0e",
   "metadata": {},
   "outputs": [],
   "source": [
    "dfs = []\n",
    "for annotator_name in ['Matthew', 'Zach']:\n",
    "    sdf = pd.read_csv(os.path.join(annotation_data_dir, f'b0_sse_annotation - {annotator_name}.tsv'), sep='\\t')\n",
    "    sdf['annotator_name'] = annotator_name\n",
    "    dfs.append(sdf)\n",
    "len(dfs)"
   ]
  },
  {
   "cell_type": "code",
   "execution_count": null,
   "id": "17e465e7",
   "metadata": {},
   "outputs": [],
   "source": []
  },
  {
   "cell_type": "code",
   "execution_count": null,
   "id": "e99ea9ef",
   "metadata": {},
   "outputs": [],
   "source": [
    "df = pd.concat(dfs, axis=0, ignore_index=True)\n",
    "len(df)"
   ]
  },
  {
   "cell_type": "code",
   "execution_count": null,
   "id": "52d82c5e",
   "metadata": {},
   "outputs": [],
   "source": [
    "df.head()"
   ]
  },
  {
   "cell_type": "code",
   "execution_count": null,
   "id": "85083251",
   "metadata": {},
   "outputs": [],
   "source": [
    "all_codes = []\n",
    "for row in df[df.codes.notna()].itertuples():\n",
    "    codes = row.codes\n",
    "    codes = codes.split(\";\")\n",
    "    codes = [code.strip() for code in codes if code.strip() != '']\n",
    "    codes = [f\"{code} ({row.annotator_name[0]} {str(row.site_id)[-2:]}b{row.batch_id})\" for code in codes]\n",
    "    for code in codes:\n",
    "        print(code)\n",
    "    all_codes.extend(codes)\n",
    "len(all_codes)"
   ]
  },
  {
   "cell_type": "code",
   "execution_count": null,
   "id": "1cbff2f2",
   "metadata": {},
   "outputs": [],
   "source": [
    "with open(os.path.join(annotation_data_dir, 'b0_sse_annotation_codes.csv'), 'w') as outfile:\n",
    "    for code in all_codes:\n",
    "        #code = code.replace('\"', '\\\\\"')\n",
    "        #outfile.write(f'\"{code}\"\\n')\n",
    "        assert '\\n' not in code\n",
    "        outfile.write(f'{code}\\n')"
   ]
  },
  {
   "cell_type": "code",
   "execution_count": null,
   "id": "62fbe20b",
   "metadata": {},
   "outputs": [],
   "source": []
  }
 ],
 "metadata": {
  "kernelspec": {
   "display_name": "pytorch-cpuonly",
   "language": "python",
   "name": "pytorch-cpuonly"
  },
  "language_info": {
   "codemirror_mode": {
    "name": "ipython",
    "version": 3
   },
   "file_extension": ".py",
   "mimetype": "text/x-python",
   "name": "python",
   "nbconvert_exporter": "python",
   "pygments_lexer": "ipython3",
   "version": "3.9.4"
  }
 },
 "nbformat": 4,
 "nbformat_minor": 5
}
