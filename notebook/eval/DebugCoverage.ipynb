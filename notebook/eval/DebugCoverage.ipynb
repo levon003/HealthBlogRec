{
 "cells": [
  {
   "cell_type": "markdown",
   "id": "educational-citizenship",
   "metadata": {},
   "source": [
    "Debug Coverage\n",
    "===\n"
   ]
  },
  {
   "cell_type": "code",
   "execution_count": null,
   "id": "living-cocktail",
   "metadata": {},
   "outputs": [],
   "source": [
    "%reload_ext autoreload\n",
    "%autoreload 2\n",
    "%matplotlib inline"
   ]
  },
  {
   "cell_type": "code",
   "execution_count": null,
   "id": "clinical-survival",
   "metadata": {},
   "outputs": [],
   "source": [
    "import numpy as np\n",
    "import pandas as pd\n",
    "import matplotlib\n",
    "import matplotlib.pyplot as plt"
   ]
  },
  {
   "cell_type": "code",
   "execution_count": null,
   "id": "numeric-penguin",
   "metadata": {},
   "outputs": [],
   "source": [
    "import os\n",
    "import json\n",
    "import sys\n",
    "import pickle\n",
    "from tqdm import tqdm\n",
    "\n",
    "import dateutil.parser\n",
    "from dateutil.relativedelta import relativedelta\n",
    "from datetime import datetime, timedelta\n",
    "import pytz"
   ]
  },
  {
   "cell_type": "code",
   "execution_count": null,
   "id": "christian-judgment",
   "metadata": {},
   "outputs": [],
   "source": [
    "from pathlib import Path\n",
    "git_root_dir = !git rev-parse --show-toplevel\n",
    "git_root_dir = Path(git_root_dir[0].strip())\n",
    "git_root_dir"
   ]
  },
  {
   "cell_type": "code",
   "execution_count": null,
   "id": "thirty-drawing",
   "metadata": {},
   "outputs": [],
   "source": [
    "import sys\n",
    "sys.path.append(os.path.join(git_root_dir, 'src'))\n",
    "import cbrec.genconfig"
   ]
  },
  {
   "cell_type": "code",
   "execution_count": null,
   "id": "accurate-ensemble",
   "metadata": {},
   "outputs": [],
   "source": [
    "config = cbrec.genconfig.TestConfig()"
   ]
  },
  {
   "cell_type": "code",
   "execution_count": null,
   "id": "liberal-provincial",
   "metadata": {},
   "outputs": [],
   "source": [
    "with open(os.path.join(config.coverage_stats_dir, 'baseline_predict.pkl'), 'rb') as infile:\n",
    "    site_id_stat_maps = pickle.load(infile)\n",
    "len(site_id_stat_maps)"
   ]
  },
  {
   "cell_type": "code",
   "execution_count": null,
   "id": "advisory-infrared",
   "metadata": {},
   "outputs": [],
   "source": [
    "baselines = site_id_stat_maps.keys()\n",
    "baseline_df_dict = {}\n",
    "for baseline in tqdm(baselines):\n",
    "    stats_list = []\n",
    "    for site_id, stat_map in site_id_stat_maps[baseline].items():\n",
    "        stat_map['site_id'] = site_id\n",
    "        stats_list.append(stat_map)\n",
    "    bdf = pd.DataFrame(stats_list)\n",
    "    baseline_df_dict[baseline] = bdf\n",
    "    print(baseline, len(bdf))\n",
    "len(baseline_df_dict)"
   ]
  },
  {
   "cell_type": "code",
   "execution_count": null,
   "id": "requested-virtue",
   "metadata": {},
   "outputs": [],
   "source": [
    "baseline_df_dict['CosineSimilarity'].head()"
   ]
  },
  {
   "cell_type": "code",
   "execution_count": null,
   "id": "toxic-foster",
   "metadata": {},
   "outputs": [],
   "source": [
    "baseline_df_dict['ClosestToStart'].head()"
   ]
  },
  {
   "cell_type": "code",
   "execution_count": null,
   "id": "lucky-saturn",
   "metadata": {},
   "outputs": [],
   "source": [
    "fig, axes = plt.subplots(3, 3, figsize=(14, 16))\n",
    "\n",
    "for baseline, ax in zip(baselines, axes.ravel()):\n",
    "    ax.set_title(baseline)\n",
    "    ax.set_xlabel(\"Total Times Scored in Test Period\")\n",
    "    bdf = baseline_df_dict[baseline]\n",
    "    x = bdf.n\n",
    "    ax.hist(x, bins=20)\n",
    "    ax.axvline(np.median(x), label=f'Median ({np.median(x):.1f})', color='black', linestyle='--', alpha=0.9)\n",
    "    ax.legend()\n",
    "    \n",
    "plt.show()"
   ]
  },
  {
   "cell_type": "code",
   "execution_count": null,
   "id": "useful-vietnam",
   "metadata": {},
   "outputs": [],
   "source": [
    "fig, axes = plt.subplots(3, 3, figsize=(14, 16))\n",
    "\n",
    "for baseline, ax in zip(baselines, axes.ravel()):\n",
    "    ax.set_title(baseline)\n",
    "    ax.set_xlabel(\"Mean Rank\")\n",
    "    bdf = baseline_df_dict[baseline]\n",
    "    x = bdf['mean']\n",
    "    ax.hist(x, bins=20)\n",
    "    ax.axvline(np.median(x), label=f'Median ({np.median(x):.1f})', color='black', linestyle='--', alpha=0.9)\n",
    "    ax.legend()\n",
    "    \n",
    "plt.show()"
   ]
  },
  {
   "cell_type": "code",
   "execution_count": null,
   "id": "patent-richmond",
   "metadata": {},
   "outputs": [],
   "source": [
    "fig, axes = plt.subplots(3, 3, figsize=(14, 16))\n",
    "\n",
    "for baseline, ax in zip(baselines, axes.ravel()):\n",
    "    ax.set_title(baseline)\n",
    "    ax.set_xlabel(\"Rank Variance\")\n",
    "    bdf = baseline_df_dict[baseline]\n",
    "    x = bdf['var']\n",
    "    ax.hist(x, bins=20)\n",
    "    ax.axvline(np.median(x), label=f'Median ({np.median(x):.1f})', color='black', linestyle='--', alpha=0.9)\n",
    "    ax.legend()\n",
    "    \n",
    "plt.show()"
   ]
  },
  {
   "cell_type": "code",
   "execution_count": null,
   "id": "interested-environment",
   "metadata": {},
   "outputs": [],
   "source": [
    "fig, axes = plt.subplots(3, 3, figsize=(14, 16))\n",
    "\n",
    "for baseline, ax in zip(baselines, axes.ravel()):\n",
    "    ax.set_title(baseline)\n",
    "    ax.set_xlabel(\"Best Site Ranks\")\n",
    "    ax.set_ylabel(\"Site Count\")\n",
    "    bdf = baseline_df_dict[baseline]\n",
    "    \n",
    "    counts = []\n",
    "    n = np.sum(bdf.n > 0)\n",
    "    for n_val in [5, 100, 1000]:\n",
    "        count = np.sum(bdf['n_top_' + str(n_val)] > 0)\n",
    "        counts.append(count)\n",
    "    counts.append(n)\n",
    "    counts = np.array(counts)\n",
    "    xs = range(len(counts))\n",
    "    ax.bar(xs, counts)\n",
    "    ax.set_xticks(xs)\n",
    "    ax.set_xticklabels([\"Top 5\", \"Top 100\", \"Top 1K\", \"Any\"])\n",
    "    \n",
    "    for x, count in zip(xs, counts):\n",
    "        pct = count / n\n",
    "        if pct == 1.0:\n",
    "            continue\n",
    "        ax.text(x, count, f\"{pct*100:.2f}%\", va='bottom', ha='center')\n",
    "    \n",
    "    #x = bdf['n_top_5']\n",
    "    #ax.hist(x, bins=20)\n",
    "    #ax.axvline(np.median(x), label=f'Median ({np.median(x):.1f})', color='black', linestyle='--', alpha=0.9)\n",
    "    #ax.legend()\n",
    "    \n",
    "plt.show()"
   ]
  },
  {
   "cell_type": "code",
   "execution_count": null,
   "id": "turned-stone",
   "metadata": {},
   "outputs": [],
   "source": []
  },
  {
   "cell_type": "code",
   "execution_count": null,
   "id": "sapphire-burns",
   "metadata": {},
   "outputs": [],
   "source": []
  },
  {
   "cell_type": "code",
   "execution_count": null,
   "id": "clear-carol",
   "metadata": {},
   "outputs": [],
   "source": []
  },
  {
   "cell_type": "code",
   "execution_count": null,
   "id": "blocked-clearing",
   "metadata": {},
   "outputs": [],
   "source": [
    "# plot the relationship between best rank and worst rank\n",
    "fig, axes = plt.subplots(3, 3, figsize=(14, 16))\n",
    "\n",
    "for baseline, ax in zip(baselines, axes.ravel()):\n",
    "    bdf = baseline_df_dict[baseline]\n",
    "    x = bdf.best\n",
    "    y = bdf.worst\n",
    "    \n",
    "    bins = ax.hexbin(x, y, gridsize=15, bins='log', mincnt=5)\n",
    "    ax.set_title(baseline)\n",
    "    ax.set_xlabel(\"Best Rank\")\n",
    "    ax.set_ylabel(\"Worst Rank\")\n",
    "    \n",
    "    axins = ax.inset_axes([0.0, 0.0, 1.0, 0.2], alpha=0.0)\n",
    "    axins.hist(x, bins=15, color=matplotlib.cm.viridis(0.5), alpha=0.9)\n",
    "    axins.get_xaxis().set_visible(False)\n",
    "    axins.get_yaxis().set_visible(False)\n",
    "    axins.patch.set_alpha(0.5)    \n",
    "    \n",
    "plt.show()"
   ]
  },
  {
   "cell_type": "code",
   "execution_count": null,
   "id": "sustained-patient",
   "metadata": {},
   "outputs": [],
   "source": [
    "# plot the relationship between best rank and worst rank\n",
    "fig, axes = plt.subplots(3, 3, figsize=(14, 16))\n",
    "\n",
    "for baseline, ax in zip(baselines, axes.ravel()):\n",
    "    bdf = baseline_df_dict[baseline]\n",
    "    x = bdf.best\n",
    "    y = bdf.worst\n",
    "    \n",
    "    ax.hist2d(x, y, bins=15)\n",
    "    ax.set_title(baseline)\n",
    "    ax.set_xlabel(\"Best Rank\")\n",
    "    ax.set_ylabel(\"Worst Rank\")\n",
    "    \n",
    "    axins = ax.inset_axes([0.0, 0.0, 1.0, 0.2], alpha=0.5)\n",
    "    axins.hist(x, bins=15, color='black', alpha=0.5)\n",
    "    axins.get_xaxis().set_visible(False)\n",
    "    axins.get_yaxis().set_visible(False)\n",
    "    axins.patch.set_alpha(0.5)\n",
    "    \n",
    "    axins = ax.inset_axes([0.0, 0.0, 0.1, 1.0], alpha=0.5)\n",
    "    axins.hist(x, bins=15, color='black', alpha=0.5, orientation='horizontal')\n",
    "    axins.get_xaxis().set_visible(False)\n",
    "    axins.get_yaxis().set_visible(False)\n",
    "    axins.patch.set_alpha(0.5)\n",
    "    \n",
    "    \n",
    "plt.show()"
   ]
  },
  {
   "cell_type": "code",
   "execution_count": null,
   "id": "appropriate-allah",
   "metadata": {},
   "outputs": [],
   "source": []
  }
 ],
 "metadata": {
  "kernelspec": {
   "display_name": "Python 3",
   "language": "python",
   "name": "python3"
  },
  "language_info": {
   "codemirror_mode": {
    "name": "ipython",
    "version": 3
   },
   "file_extension": ".py",
   "mimetype": "text/x-python",
   "name": "python",
   "nbconvert_exporter": "python",
   "pygments_lexer": "ipython3",
   "version": "3.7.10"
  }
 },
 "nbformat": 4,
 "nbformat_minor": 5
}
