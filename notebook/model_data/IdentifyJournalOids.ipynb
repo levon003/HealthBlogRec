{
 "cells": [
  {
   "cell_type": "markdown",
   "id": "a339f1fc",
   "metadata": {},
   "source": [
    "Identify Journal Oids\n",
    "===\n",
    "\n",
    "Identify ids of journals needed for text feature analysis.\n",
    "\n",
    "Looks at the generated train and test metadata to generate a list of journal oids."
   ]
  },
  {
   "cell_type": "code",
   "execution_count": null,
   "id": "42f9217d",
   "metadata": {},
   "outputs": [],
   "source": [
    "%reload_ext autoreload\n",
    "%autoreload 2\n",
    "%matplotlib inline"
   ]
  },
  {
   "cell_type": "code",
   "execution_count": null,
   "id": "d62a6248",
   "metadata": {},
   "outputs": [],
   "source": [
    "import numpy as np\n",
    "import pandas as pd\n",
    "import matplotlib\n",
    "import matplotlib.pyplot as plt"
   ]
  },
  {
   "cell_type": "code",
   "execution_count": null,
   "id": "78b94e06",
   "metadata": {},
   "outputs": [],
   "source": [
    "import os\n",
    "import json\n",
    "import sys\n",
    "import pickle\n",
    "from tqdm import tqdm\n",
    "\n",
    "import dateutil.parser\n",
    "from dateutil.relativedelta import relativedelta\n",
    "from datetime import datetime, timedelta\n",
    "import pytz"
   ]
  },
  {
   "cell_type": "code",
   "execution_count": null,
   "id": "4355d7ed",
   "metadata": {},
   "outputs": [],
   "source": [
    "from pathlib import Path\n",
    "git_root_dir = !git rev-parse --show-toplevel\n",
    "git_root_dir = Path(git_root_dir[0].strip())\n",
    "git_root_dir"
   ]
  },
  {
   "cell_type": "code",
   "execution_count": null,
   "id": "50a5c209",
   "metadata": {},
   "outputs": [],
   "source": [
    "import sys\n",
    "sys.path.append(os.path.join(git_root_dir, 'src'))\n",
    "import cbrec.genconfig"
   ]
  },
  {
   "cell_type": "code",
   "execution_count": null,
   "id": "52fa1ab1",
   "metadata": {},
   "outputs": [],
   "source": [
    "config = cbrec.genconfig.Config()\n",
    "#config.metadata_filepath += \"_old\"\n",
    "#config.feature_db_filepath += \"_old\""
   ]
  },
  {
   "cell_type": "code",
   "execution_count": null,
   "id": "8516e6e3",
   "metadata": {},
   "outputs": [],
   "source": [
    "import cbrec.featuredb\n",
    "import cbrec.utils\n",
    "import cbrec.reccontext"
   ]
  },
  {
   "cell_type": "code",
   "execution_count": null,
   "id": "e01b00ee",
   "metadata": {},
   "outputs": [],
   "source": [
    "md_list = cbrec.utils.get_metadata_list(config.metadata_filepath)\n",
    "len(md_list)"
   ]
  },
  {
   "cell_type": "code",
   "execution_count": null,
   "id": "7f67ba05",
   "metadata": {},
   "outputs": [],
   "source": [
    "df = cbrec.utils.create_metadata_dataframe(md_list)\n",
    "len(df)"
   ]
  },
  {
   "cell_type": "code",
   "execution_count": null,
   "id": "2fd01432",
   "metadata": {},
   "outputs": [],
   "source": [
    "pd.DataFrame(df.type.value_counts().rename(\"Total metadata count by type\"))"
   ]
  },
  {
   "cell_type": "code",
   "execution_count": null,
   "id": "43890a2f",
   "metadata": {},
   "outputs": [],
   "source": [
    "# filter the md_list\n",
    "md_list = [md for md in md_list if md['type'] != 'ineligible']\n",
    "len(md_list)"
   ]
  },
  {
   "cell_type": "code",
   "execution_count": null,
   "id": "7354d3a6",
   "metadata": {},
   "outputs": [],
   "source": [
    "# put all derived data in the data_selection folder\n",
    "working_dir = \"/home/lana/shared/caringbridge/data/projects/recsys-peer-match/model_data\"\n",
    "os.makedirs(working_dir, exist_ok=True)\n",
    "working_dir"
   ]
  },
  {
   "cell_type": "code",
   "execution_count": null,
   "id": "be973cf6",
   "metadata": {},
   "outputs": [],
   "source": [
    "md_type = 'train'\n",
    "journal_oid_set = set()\n",
    "\n",
    "for md in md_list:\n",
    "    if md['type'] != md_type:\n",
    "        continue\n",
    "    for usp_type in ['source_usp', 'target_usp', 'alt_usp']:\n",
    "        journals_key = usp_type + \"_recent_journals\"\n",
    "        if journals_key in md:\n",
    "            journals = md[journals_key]\n",
    "            for usp, recent_journal_ids in journals.items():\n",
    "                for journal_oid in recent_journal_ids:\n",
    "                    journal_oid_set.add(journal_oid)\n",
    "\n",
    "journal_oids_filepath = os.path.join(working_dir, f'{md_type}_journal_oids.txt')\n",
    "with open(journal_oids_filepath, 'w') as outfile:\n",
    "    written_count = 0\n",
    "    for journal_oid in journal_oid_set:\n",
    "                        outfile.write(journal_oid + \"\\n\")\n",
    "                        written_count += 1\n",
    "written_count"
   ]
  },
  {
   "cell_type": "code",
   "execution_count": null,
   "id": "da357db8",
   "metadata": {},
   "outputs": [],
   "source": [
    "list(journal_oid_set)[:10]"
   ]
  },
  {
   "cell_type": "code",
   "execution_count": null,
   "id": "3dcabe9e",
   "metadata": {},
   "outputs": [],
   "source": []
  }
 ],
 "metadata": {
  "kernelspec": {
   "display_name": "Python (shared-conda)",
   "language": "python",
   "name": "shared-conda"
  },
  "language_info": {
   "codemirror_mode": {
    "name": "ipython",
    "version": 3
   },
   "file_extension": ".py",
   "mimetype": "text/x-python",
   "name": "python",
   "nbconvert_exporter": "python",
   "pygments_lexer": "ipython3",
   "version": "3.8.5"
  }
 },
 "nbformat": 4,
 "nbformat_minor": 5
}
